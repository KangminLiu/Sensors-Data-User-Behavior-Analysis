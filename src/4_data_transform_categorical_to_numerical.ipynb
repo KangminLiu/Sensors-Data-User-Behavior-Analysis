{
 "cells": [
  {
   "cell_type": "markdown",
   "metadata": {},
   "source": [
    "## Most of the variables are categorical, it's necessary to do the transformation before modeling"
   ]
  },
  {
   "cell_type": "code",
   "execution_count": 1,
   "metadata": {},
   "outputs": [],
   "source": [
    "## Import modules\n",
    "\n",
    "import numpy as np\n",
    "import pandas as pd\n",
    "import matplotlib.pyplot as plt\n",
    "\n",
    "# This statement allow to display plot without asking to\n",
    "%matplotlib inline\n",
    "\n",
    "# Always make it pretty.\n",
    "plt.style.use('ggplot')"
   ]
  },
  {
   "cell_type": "code",
   "execution_count": 2,
   "metadata": {},
   "outputs": [],
   "source": [
    "## show Chinese character\n",
    "## source: https://jdhao.github.io/2017/05/13/guide-on-how-to-use-chinese-with-matplotlib/\n",
    "##         https://stackoverflow.com/questions/25561009/how-do-you-i-use-mandarin-characters-in-matplotlib\n",
    "\n",
    "import matplotlib as mpl\n",
    "font_name = \"STKaiti\"\n",
    "mpl.rcParams['font.family']=font_name\n",
    "mpl.rcParams['axes.unicode_minus']=False # in case minus sign is shown as box\n",
    "\n",
    "# plt.text(0.5, 0.5, s=u'测试')\n",
    "# plt.show()"
   ]
  },
  {
   "cell_type": "code",
   "execution_count": 3,
   "metadata": {},
   "outputs": [],
   "source": [
    "# df = pd.read_csv('../data/sensors.csv', dtype='unicode')\n",
    "df = pd.read_csv('../data/sensors_cleaned_user.csv')"
   ]
  },
  {
   "cell_type": "code",
   "execution_count": 4,
   "metadata": {},
   "outputs": [],
   "source": [
    "## save a backup df\n",
    "df_backup = df.copy()"
   ]
  },
  {
   "cell_type": "code",
   "execution_count": 5,
   "metadata": {},
   "outputs": [
    {
     "name": "stdout",
     "output_type": "stream",
     "text": [
      "<class 'pandas.core.frame.DataFrame'>\n",
      "RangeIndex: 11756 entries, 0 to 11755\n",
      "Data columns (total 66 columns):\n",
      "distinct_id                11756 non-null object\n",
      "number_of_visit            11756 non-null int64\n",
      "browser                    11756 non-null object\n",
      "first_referrer             11756 non-null object\n",
      "first_referrer_host        11756 non-null object\n",
      "first_browser_language     11756 non-null object\n",
      "first_visit_time           11756 non-null object\n",
      "ip                         11756 non-null object\n",
      "is_first_day               11756 non-null bool\n",
      "is_first_time              11756 non-null bool\n",
      "latest_referrer            11756 non-null object\n",
      "latest_referrer_host       11756 non-null object\n",
      "latest_utm_campaign        11756 non-null object\n",
      "latest_utm_content         11756 non-null object\n",
      "latest_utm_medium          11756 non-null object\n",
      "latest_utm_source          11756 non-null object\n",
      "latest_utm_term            11756 non-null object\n",
      "model                      11756 non-null object\n",
      "os                         11756 non-null object\n",
      "referrer                   11756 non-null object\n",
      "referrer_host              11756 non-null object\n",
      "screen_height              11756 non-null float64\n",
      "screen_width               11756 non-null float64\n",
      "title                      11756 non-null object\n",
      "url                        11756 non-null object\n",
      "url_path                   11756 non-null object\n",
      "utm_campaign               11756 non-null object\n",
      "utm_content                11756 non-null object\n",
      "utm_medium                 11756 non-null object\n",
      "utm_source                 11756 non-null object\n",
      "utm_term                   11756 non-null object\n",
      "latest_ch                  11756 non-null object\n",
      "session_from_url           11756 non-null object\n",
      "session_referrer           11756 non-null object\n",
      "session_referrer_domain    11756 non-null object\n",
      "session_referrer_host      11756 non-null object\n",
      "ch                         11756 non-null object\n",
      "company                    11756 non-null object\n",
      "contact                    11756 non-null bool\n",
      "email                      11756 non-null bool\n",
      "from_url                   11756 non-null object\n",
      "info                       11756 non-null object\n",
      "isMsg                      11756 non-null bool\n",
      "isSuccess                  11756 non-null bool\n",
      "name                       11756 non-null bool\n",
      "page                       11756 non-null object\n",
      "pagePosition               11756 non-null object\n",
      "pageStayTime               11756 non-null float64\n",
      "pageUrl                    11756 non-null object\n",
      "project_name               11756 non-null object\n",
      "referrHostUrl              11756 non-null object\n",
      "referrerUrl                11756 non-null object\n",
      "requestBtn                 11756 non-null object\n",
      "result                     11756 non-null bool\n",
      "session_page_url           11756 non-null object\n",
      "siteUrl                    11756 non-null object\n",
      "site_url                   11756 non-null object\n",
      "verification_code          11756 non-null bool\n",
      "type                       11756 non-null object\n",
      "time                       11756 non-null int64\n",
      "time_formatted             11756 non-null object\n",
      "time_formatted_date        11756 non-null object\n",
      "day_of_week                11756 non-null int64\n",
      "hour_of_day                11756 non-null int64\n",
      "first_visit_time_date      9413 non-null object\n",
      "signup                     11756 non-null bool\n",
      "dtypes: bool(10), float64(3), int64(4), object(49)\n",
      "memory usage: 5.1+ MB\n"
     ]
    }
   ],
   "source": [
    "df.info()"
   ]
  },
  {
   "cell_type": "code",
   "execution_count": 6,
   "metadata": {},
   "outputs": [
    {
     "data": {
      "text/html": [
       "<div>\n",
       "<style scoped>\n",
       "    .dataframe tbody tr th:only-of-type {\n",
       "        vertical-align: middle;\n",
       "    }\n",
       "\n",
       "    .dataframe tbody tr th {\n",
       "        vertical-align: top;\n",
       "    }\n",
       "\n",
       "    .dataframe thead th {\n",
       "        text-align: right;\n",
       "    }\n",
       "</style>\n",
       "<table border=\"1\" class=\"dataframe\">\n",
       "  <thead>\n",
       "    <tr style=\"text-align: right;\">\n",
       "      <th></th>\n",
       "      <th>distinct_id</th>\n",
       "      <th>number_of_visit</th>\n",
       "      <th>browser</th>\n",
       "      <th>first_referrer</th>\n",
       "      <th>first_referrer_host</th>\n",
       "      <th>first_browser_language</th>\n",
       "      <th>first_visit_time</th>\n",
       "      <th>ip</th>\n",
       "      <th>is_first_day</th>\n",
       "      <th>is_first_time</th>\n",
       "      <th>...</th>\n",
       "      <th>site_url</th>\n",
       "      <th>verification_code</th>\n",
       "      <th>type</th>\n",
       "      <th>time</th>\n",
       "      <th>time_formatted</th>\n",
       "      <th>time_formatted_date</th>\n",
       "      <th>day_of_week</th>\n",
       "      <th>hour_of_day</th>\n",
       "      <th>first_visit_time_date</th>\n",
       "      <th>signup</th>\n",
       "    </tr>\n",
       "  </thead>\n",
       "  <tbody>\n",
       "    <tr>\n",
       "      <th>0</th>\n",
       "      <td>00007ef910b6c9911f1b89d01a09aa3fc862f4a9</td>\n",
       "      <td>7</td>\n",
       "      <td>qq</td>\n",
       "      <td>https://m.baidu.com/baidu.php?sc.5iTK000iX_O08...</td>\n",
       "      <td>m.baidu.com</td>\n",
       "      <td>zh</td>\n",
       "      <td>2017-03-07 13:52:16.501</td>\n",
       "      <td>36.23.47.33</td>\n",
       "      <td>False</td>\n",
       "      <td>False</td>\n",
       "      <td>...</td>\n",
       "      <td>no_site_url</td>\n",
       "      <td>True</td>\n",
       "      <td>profile_set_once</td>\n",
       "      <td>1490958308420</td>\n",
       "      <td>2017-03-31 11:05:08</td>\n",
       "      <td>2017-03-31</td>\n",
       "      <td>4</td>\n",
       "      <td>11</td>\n",
       "      <td>2017-03-07</td>\n",
       "      <td>True</td>\n",
       "    </tr>\n",
       "    <tr>\n",
       "      <th>1</th>\n",
       "      <td>000a216b72eff19bd0d5e17b9e676dd6ad9a38ac</td>\n",
       "      <td>1</td>\n",
       "      <td>chrome</td>\n",
       "      <td>no_first_referrer</td>\n",
       "      <td>no_first_referrer_host</td>\n",
       "      <td>no_first_browser_language</td>\n",
       "      <td>no_first_visit_time</td>\n",
       "      <td>111.193.183.253</td>\n",
       "      <td>True</td>\n",
       "      <td>True</td>\n",
       "      <td>...</td>\n",
       "      <td>no_site_url</td>\n",
       "      <td>False</td>\n",
       "      <td>track</td>\n",
       "      <td>1489373568278</td>\n",
       "      <td>2017-03-13 02:52:48</td>\n",
       "      <td>2017-03-13</td>\n",
       "      <td>0</td>\n",
       "      <td>2</td>\n",
       "      <td>2017-03-07</td>\n",
       "      <td>False</td>\n",
       "    </tr>\n",
       "    <tr>\n",
       "      <th>2</th>\n",
       "      <td>000c46a27ef69fa22b56d253a9c72773338a1686</td>\n",
       "      <td>23</td>\n",
       "      <td>chrome</td>\n",
       "      <td>no_first_referrer</td>\n",
       "      <td>no_first_referrer_host</td>\n",
       "      <td>en</td>\n",
       "      <td>2017-03-07 13:48:56.25</td>\n",
       "      <td>27.38.250.222</td>\n",
       "      <td>False</td>\n",
       "      <td>False</td>\n",
       "      <td>...</td>\n",
       "      <td>no_site_url</td>\n",
       "      <td>False</td>\n",
       "      <td>profile_set_once</td>\n",
       "      <td>1490958308406</td>\n",
       "      <td>2017-03-31 11:05:08</td>\n",
       "      <td>2017-03-31</td>\n",
       "      <td>4</td>\n",
       "      <td>11</td>\n",
       "      <td>2017-03-13</td>\n",
       "      <td>False</td>\n",
       "    </tr>\n",
       "    <tr>\n",
       "      <th>3</th>\n",
       "      <td>000ed1dcd942969b458c5b308937c6389c08f999</td>\n",
       "      <td>5</td>\n",
       "      <td>qq</td>\n",
       "      <td>http://class.sanjieke.cn/class.html</td>\n",
       "      <td>class.sanjieke.cn</td>\n",
       "      <td>zh</td>\n",
       "      <td>2017-03-13 11:29:36.672</td>\n",
       "      <td>116.226.32.214</td>\n",
       "      <td>False</td>\n",
       "      <td>False</td>\n",
       "      <td>...</td>\n",
       "      <td>no_site_url</td>\n",
       "      <td>False</td>\n",
       "      <td>profile_set_once</td>\n",
       "      <td>1490958376034</td>\n",
       "      <td>2017-03-31 11:06:16</td>\n",
       "      <td>2017-03-31</td>\n",
       "      <td>4</td>\n",
       "      <td>11</td>\n",
       "      <td>2017-03-09</td>\n",
       "      <td>False</td>\n",
       "    </tr>\n",
       "    <tr>\n",
       "      <th>4</th>\n",
       "      <td>00111feff544ef5280a4c7064a362a9ea59c9389</td>\n",
       "      <td>2</td>\n",
       "      <td>no_brower</td>\n",
       "      <td>no_first_referrer</td>\n",
       "      <td>no_first_referrer_host</td>\n",
       "      <td>zh</td>\n",
       "      <td>2017-03-09 19:34:34.925</td>\n",
       "      <td>117.136.38.216</td>\n",
       "      <td>False</td>\n",
       "      <td>False</td>\n",
       "      <td>...</td>\n",
       "      <td>no_site_url</td>\n",
       "      <td>False</td>\n",
       "      <td>profile_set_once</td>\n",
       "      <td>1490958337498</td>\n",
       "      <td>2017-03-31 11:05:37</td>\n",
       "      <td>2017-03-31</td>\n",
       "      <td>4</td>\n",
       "      <td>11</td>\n",
       "      <td>2017-03-09</td>\n",
       "      <td>False</td>\n",
       "    </tr>\n",
       "  </tbody>\n",
       "</table>\n",
       "<p>5 rows × 66 columns</p>\n",
       "</div>"
      ],
      "text/plain": [
       "                                distinct_id  number_of_visit    browser  \\\n",
       "0  00007ef910b6c9911f1b89d01a09aa3fc862f4a9                7         qq   \n",
       "1  000a216b72eff19bd0d5e17b9e676dd6ad9a38ac                1     chrome   \n",
       "2  000c46a27ef69fa22b56d253a9c72773338a1686               23     chrome   \n",
       "3  000ed1dcd942969b458c5b308937c6389c08f999                5         qq   \n",
       "4  00111feff544ef5280a4c7064a362a9ea59c9389                2  no_brower   \n",
       "\n",
       "                                      first_referrer     first_referrer_host  \\\n",
       "0  https://m.baidu.com/baidu.php?sc.5iTK000iX_O08...             m.baidu.com   \n",
       "1                                  no_first_referrer  no_first_referrer_host   \n",
       "2                                  no_first_referrer  no_first_referrer_host   \n",
       "3                http://class.sanjieke.cn/class.html       class.sanjieke.cn   \n",
       "4                                  no_first_referrer  no_first_referrer_host   \n",
       "\n",
       "      first_browser_language         first_visit_time               ip  \\\n",
       "0                         zh  2017-03-07 13:52:16.501      36.23.47.33   \n",
       "1  no_first_browser_language      no_first_visit_time  111.193.183.253   \n",
       "2                         en   2017-03-07 13:48:56.25    27.38.250.222   \n",
       "3                         zh  2017-03-13 11:29:36.672   116.226.32.214   \n",
       "4                         zh  2017-03-09 19:34:34.925   117.136.38.216   \n",
       "\n",
       "   is_first_day  is_first_time  ...       site_url verification_code  \\\n",
       "0         False          False  ...    no_site_url              True   \n",
       "1          True           True  ...    no_site_url             False   \n",
       "2         False          False  ...    no_site_url             False   \n",
       "3         False          False  ...    no_site_url             False   \n",
       "4         False          False  ...    no_site_url             False   \n",
       "\n",
       "               type           time       time_formatted time_formatted_date  \\\n",
       "0  profile_set_once  1490958308420  2017-03-31 11:05:08          2017-03-31   \n",
       "1             track  1489373568278  2017-03-13 02:52:48          2017-03-13   \n",
       "2  profile_set_once  1490958308406  2017-03-31 11:05:08          2017-03-31   \n",
       "3  profile_set_once  1490958376034  2017-03-31 11:06:16          2017-03-31   \n",
       "4  profile_set_once  1490958337498  2017-03-31 11:05:37          2017-03-31   \n",
       "\n",
       "  day_of_week hour_of_day first_visit_time_date signup  \n",
       "0           4          11            2017-03-07   True  \n",
       "1           0           2            2017-03-07  False  \n",
       "2           4          11            2017-03-13  False  \n",
       "3           4          11            2017-03-09  False  \n",
       "4           4          11            2017-03-09  False  \n",
       "\n",
       "[5 rows x 66 columns]"
      ]
     },
     "execution_count": 6,
     "metadata": {},
     "output_type": "execute_result"
    }
   ],
   "source": [
    "df.head()"
   ]
  },
  {
   "cell_type": "code",
   "execution_count": 7,
   "metadata": {},
   "outputs": [],
   "source": [
    "df.drop(['first_visit_time_date'], axis=1, inplace=True)"
   ]
  },
  {
   "cell_type": "code",
   "execution_count": 8,
   "metadata": {},
   "outputs": [
    {
     "data": {
      "text/plain": [
       "False    11755\n",
       "True         1\n",
       "Name: isSuccess, dtype: int64"
      ]
     },
     "execution_count": 8,
     "metadata": {},
     "output_type": "execute_result"
    }
   ],
   "source": [
    "df['isSuccess'].value_counts()"
   ]
  },
  {
   "cell_type": "markdown",
   "metadata": {},
   "source": [
    "### Converting categorical variables"
   ]
  },
  {
   "cell_type": "code",
   "execution_count": 372,
   "metadata": {},
   "outputs": [
    {
     "name": "stdout",
     "output_type": "stream",
     "text": [
      "<class 'pandas.core.frame.DataFrame'>\n",
      "RangeIndex: 11756 entries, 0 to 11755\n",
      "Data columns (total 65 columns):\n",
      "distinct_id                11756 non-null object\n",
      "number_of_visit            11756 non-null int64\n",
      "browser                    11756 non-null object\n",
      "first_referrer             11756 non-null object\n",
      "first_referrer_host        11756 non-null object\n",
      "first_browser_language     11756 non-null object\n",
      "first_visit_time           11756 non-null object\n",
      "ip                         11756 non-null object\n",
      "is_first_day               11756 non-null bool\n",
      "is_first_time              11756 non-null bool\n",
      "latest_referrer            11756 non-null object\n",
      "latest_referrer_host       11756 non-null object\n",
      "latest_utm_campaign        11756 non-null object\n",
      "latest_utm_content         11756 non-null object\n",
      "latest_utm_medium          11756 non-null object\n",
      "latest_utm_source          11756 non-null object\n",
      "latest_utm_term            11756 non-null object\n",
      "model                      11756 non-null object\n",
      "os                         11756 non-null object\n",
      "referrer                   11756 non-null object\n",
      "referrer_host              11756 non-null object\n",
      "screen_height              11756 non-null float64\n",
      "screen_width               11756 non-null float64\n",
      "title                      11756 non-null object\n",
      "url                        11756 non-null object\n",
      "url_path                   11756 non-null object\n",
      "utm_campaign               11756 non-null object\n",
      "utm_content                11756 non-null object\n",
      "utm_medium                 11756 non-null object\n",
      "utm_source                 11756 non-null object\n",
      "utm_term                   11756 non-null object\n",
      "latest_ch                  11756 non-null object\n",
      "session_from_url           11756 non-null object\n",
      "session_referrer           11756 non-null object\n",
      "session_referrer_domain    11756 non-null object\n",
      "session_referrer_host      11756 non-null object\n",
      "ch                         11756 non-null object\n",
      "company                    11756 non-null object\n",
      "contact                    11756 non-null bool\n",
      "email                      11756 non-null bool\n",
      "from_url                   11756 non-null object\n",
      "info                       11756 non-null object\n",
      "isMsg                      11756 non-null bool\n",
      "isSuccess                  11756 non-null bool\n",
      "name                       11756 non-null bool\n",
      "page                       11756 non-null object\n",
      "pagePosition               11756 non-null object\n",
      "pageStayTime               11756 non-null float64\n",
      "pageUrl                    11756 non-null object\n",
      "project_name               11756 non-null object\n",
      "referrHostUrl              11756 non-null object\n",
      "referrerUrl                11756 non-null object\n",
      "requestBtn                 11756 non-null object\n",
      "result                     11756 non-null bool\n",
      "session_page_url           11756 non-null object\n",
      "siteUrl                    11756 non-null object\n",
      "site_url                   11756 non-null object\n",
      "verification_code          11756 non-null bool\n",
      "type                       11756 non-null object\n",
      "time                       11756 non-null int64\n",
      "time_formatted             11756 non-null object\n",
      "time_formatted_date        11756 non-null object\n",
      "day_of_week                11756 non-null int64\n",
      "hour_of_day                11756 non-null int64\n",
      "signup                     11756 non-null bool\n",
      "dtypes: bool(10), float64(3), int64(4), object(48)\n",
      "memory usage: 5.0+ MB\n"
     ]
    }
   ],
   "source": [
    "df.info()"
   ]
  },
  {
   "cell_type": "markdown",
   "metadata": {},
   "source": [
    "Categorical variables:\n",
    "01. browser\n",
    "* first_referrer\n",
    "* first_referrer_host \n",
    "* first_browser_language\n",
    "* latest_referrer         \n",
    "* latest_referrer_host     \n",
    "* latest_utm_campaign     \n",
    "* latest_utm_content     \n",
    "* latest_utm_medium     \n",
    "* latest_utm_source   \n",
    "* latest_utm_term         \n",
    "* model                \n",
    "* os                       \n",
    "* referrer             \n",
    "* referrer_host            \n",
    "* title             \n",
    "* url                   \n",
    "* url_path           \n",
    "* utm_campaign          \n",
    "* utm_content               \n",
    "* utm_medium        \n",
    "* utm_source        \n",
    "* utm_term               \n",
    "* latest_ch                \n",
    "* session_from_url       \n",
    "* session_referrer      \n",
    "* session_referrer_domain   \n",
    "* session_referrer_host     \n",
    "* ch                      \n",
    "* company               \n",
    "* from_url      \n",
    "* info             \n",
    "* page       \n",
    "* pagePosition          \n",
    "* pageUrl                 \n",
    "* project_name      \n",
    "* referrHostUrl           \n",
    "* referrerUrl         \n",
    "* requestBtn              \n",
    "* result         \n",
    "* session_page_url       \n",
    "* siteUrl                   \n",
    "* site_url                  \n",
    "* type                    \n",
    "* day_of_week                 \n",
    "* hour_of_day\n",
    "* is_first_day                            bool\n",
    "* is_first_time                           bool\n",
    "* verification_code                       bool\n",
    "* contact                                 bool\n",
    "* email                                   bool\n",
    "* isMsg                                   bool\n",
    "* isSuccess                               bool\n",
    "* name                                    bool"
   ]
  },
  {
   "cell_type": "markdown",
   "metadata": {},
   "source": [
    "#### convert day_of_week and hour_of_day to categorical"
   ]
  },
  {
   "cell_type": "code",
   "execution_count": 373,
   "metadata": {},
   "outputs": [
    {
     "data": {
      "text/plain": [
       "4    9712\n",
       "1     819\n",
       "0     496\n",
       "3     287\n",
       "2     262\n",
       "6      98\n",
       "5      82\n",
       "Name: day_of_week, dtype: int64"
      ]
     },
     "execution_count": 373,
     "metadata": {},
     "output_type": "execute_result"
    }
   ],
   "source": [
    "df['day_of_week'].value_counts()"
   ]
  },
  {
   "cell_type": "code",
   "execution_count": 374,
   "metadata": {},
   "outputs": [],
   "source": [
    "df['day_of_week'] = df.day_of_week.astype('category')"
   ]
  },
  {
   "cell_type": "code",
   "execution_count": 375,
   "metadata": {},
   "outputs": [
    {
     "data": {
      "text/plain": [
       "CategoricalDtype(categories=[0, 1, 2, 3, 4, 5, 6], ordered=False)"
      ]
     },
     "execution_count": 375,
     "metadata": {},
     "output_type": "execute_result"
    }
   ],
   "source": [
    "df['day_of_week'].dtypes"
   ]
  },
  {
   "cell_type": "code",
   "execution_count": 376,
   "metadata": {},
   "outputs": [
    {
     "data": {
      "text/plain": [
       "11    9545\n",
       "9      266\n",
       "8      233\n",
       "7      227\n",
       "10     220\n",
       "6      200\n",
       "2      185\n",
       "3      166\n",
       "1      104\n",
       "5      101\n",
       "12      97\n",
       "4       77\n",
       "14      76\n",
       "13      71\n",
       "15      52\n",
       "16      42\n",
       "0       41\n",
       "17      18\n",
       "23       9\n",
       "18       9\n",
       "20       6\n",
       "19       5\n",
       "21       3\n",
       "22       3\n",
       "Name: hour_of_day, dtype: int64"
      ]
     },
     "execution_count": 376,
     "metadata": {},
     "output_type": "execute_result"
    }
   ],
   "source": [
    "df['hour_of_day'].value_counts()"
   ]
  },
  {
   "cell_type": "code",
   "execution_count": 377,
   "metadata": {},
   "outputs": [],
   "source": [
    "df['hour_of_day'] = df.hour_of_day.astype('category')"
   ]
  },
  {
   "cell_type": "code",
   "execution_count": 378,
   "metadata": {},
   "outputs": [
    {
     "data": {
      "text/plain": [
       "CategoricalDtype(categories=[ 0,  1,  2,  3,  4,  5,  6,  7,  8,  9, 10, 11, 12, 13, 14,\n",
       "                  15, 16, 17, 18, 19, 20, 21, 22, 23],\n",
       "                 ordered=False)"
      ]
     },
     "execution_count": 378,
     "metadata": {},
     "output_type": "execute_result"
    }
   ],
   "source": [
    "df['hour_of_day'].dtypes"
   ]
  },
  {
   "cell_type": "markdown",
   "metadata": {},
   "source": [
    "#### For categorical variables with too many options, keep the most a few common elements and set others to 'others'"
   ]
  },
  {
   "cell_type": "code",
   "execution_count": 379,
   "metadata": {},
   "outputs": [
    {
     "data": {
      "text/plain": [
       "chrome            6533\n",
       "no_brower          978\n",
       "safari             788\n",
       "firefox            614\n",
       "micromessenger     535\n",
       "ie                 530\n",
       "qq                 472\n",
       "sogou              440\n",
       "edge               241\n",
       "uc                 203\n",
       "mi                  73\n",
       "na                  69\n",
       "baidu               60\n",
       "maxthon             54\n",
       "webview             53\n",
       "theworld            33\n",
       "android             26\n",
       "opera               20\n",
       "liebao              16\n",
       "360                  9\n",
       "tt                   6\n",
       "coolnovo             1\n",
       "yandex               1\n",
       "ali-ap               1\n",
       "Name: browser, dtype: int64"
      ]
     },
     "execution_count": 379,
     "metadata": {},
     "output_type": "execute_result"
    }
   ],
   "source": [
    "# 1 browser\n",
    "df['browser'].value_counts()"
   ]
  },
  {
   "cell_type": "code",
   "execution_count": 380,
   "metadata": {},
   "outputs": [],
   "source": [
    "## write a function to replace the uncommon items to others\n",
    "\n",
    "def others(thresh, col):\n",
    "    threshold = thresh\n",
    "    column = col\n",
    "    counts = df[column].value_counts()\n",
    "    repl = counts[counts < threshold].index\n",
    "    df[column] = df[column].replace(repl, 'others')"
   ]
  },
  {
   "cell_type": "code",
   "execution_count": 381,
   "metadata": {},
   "outputs": [],
   "source": [
    "others(600, 'browser')"
   ]
  },
  {
   "cell_type": "code",
   "execution_count": 382,
   "metadata": {},
   "outputs": [
    {
     "data": {
      "text/plain": [
       "chrome       6533\n",
       "others       2843\n",
       "no_brower     978\n",
       "safari        788\n",
       "firefox       614\n",
       "Name: browser, dtype: int64"
      ]
     },
     "execution_count": 382,
     "metadata": {},
     "output_type": "execute_result"
    }
   ],
   "source": [
    "df['browser'].value_counts()"
   ]
  },
  {
   "cell_type": "code",
   "execution_count": 383,
   "metadata": {},
   "outputs": [
    {
     "data": {
      "text/html": [
       "<div>\n",
       "<style scoped>\n",
       "    .dataframe tbody tr th:only-of-type {\n",
       "        vertical-align: middle;\n",
       "    }\n",
       "\n",
       "    .dataframe tbody tr th {\n",
       "        vertical-align: top;\n",
       "    }\n",
       "\n",
       "    .dataframe thead th {\n",
       "        text-align: right;\n",
       "    }\n",
       "</style>\n",
       "<table border=\"1\" class=\"dataframe\">\n",
       "  <thead>\n",
       "    <tr style=\"text-align: right;\">\n",
       "      <th></th>\n",
       "      <th>distinct_id</th>\n",
       "      <th>number_of_visit</th>\n",
       "      <th>browser</th>\n",
       "      <th>first_referrer</th>\n",
       "      <th>first_referrer_host</th>\n",
       "      <th>first_browser_language</th>\n",
       "      <th>first_visit_time</th>\n",
       "      <th>ip</th>\n",
       "      <th>is_first_day</th>\n",
       "      <th>is_first_time</th>\n",
       "      <th>...</th>\n",
       "      <th>siteUrl</th>\n",
       "      <th>site_url</th>\n",
       "      <th>verification_code</th>\n",
       "      <th>type</th>\n",
       "      <th>time</th>\n",
       "      <th>time_formatted</th>\n",
       "      <th>time_formatted_date</th>\n",
       "      <th>day_of_week</th>\n",
       "      <th>hour_of_day</th>\n",
       "      <th>signup</th>\n",
       "    </tr>\n",
       "  </thead>\n",
       "  <tbody>\n",
       "    <tr>\n",
       "      <th>0</th>\n",
       "      <td>00007ef910b6c9911f1b89d01a09aa3fc862f4a9</td>\n",
       "      <td>7</td>\n",
       "      <td>others</td>\n",
       "      <td>https://m.baidu.com/baidu.php?sc.5iTK000iX_O08...</td>\n",
       "      <td>m.baidu.com</td>\n",
       "      <td>zh</td>\n",
       "      <td>2017-03-07 13:52:16.501</td>\n",
       "      <td>36.23.47.33</td>\n",
       "      <td>False</td>\n",
       "      <td>False</td>\n",
       "      <td>...</td>\n",
       "      <td>no_siteUrl</td>\n",
       "      <td>no_site_url</td>\n",
       "      <td>True</td>\n",
       "      <td>profile_set_once</td>\n",
       "      <td>1490958308420</td>\n",
       "      <td>2017-03-31 11:05:08</td>\n",
       "      <td>2017-03-31</td>\n",
       "      <td>4</td>\n",
       "      <td>11</td>\n",
       "      <td>True</td>\n",
       "    </tr>\n",
       "    <tr>\n",
       "      <th>1</th>\n",
       "      <td>000a216b72eff19bd0d5e17b9e676dd6ad9a38ac</td>\n",
       "      <td>1</td>\n",
       "      <td>chrome</td>\n",
       "      <td>no_first_referrer</td>\n",
       "      <td>no_first_referrer_host</td>\n",
       "      <td>no_first_browser_language</td>\n",
       "      <td>no_first_visit_time</td>\n",
       "      <td>111.193.183.253</td>\n",
       "      <td>True</td>\n",
       "      <td>True</td>\n",
       "      <td>...</td>\n",
       "      <td>no_siteUrl</td>\n",
       "      <td>no_site_url</td>\n",
       "      <td>False</td>\n",
       "      <td>track</td>\n",
       "      <td>1489373568278</td>\n",
       "      <td>2017-03-13 02:52:48</td>\n",
       "      <td>2017-03-13</td>\n",
       "      <td>0</td>\n",
       "      <td>2</td>\n",
       "      <td>False</td>\n",
       "    </tr>\n",
       "    <tr>\n",
       "      <th>2</th>\n",
       "      <td>000c46a27ef69fa22b56d253a9c72773338a1686</td>\n",
       "      <td>23</td>\n",
       "      <td>chrome</td>\n",
       "      <td>no_first_referrer</td>\n",
       "      <td>no_first_referrer_host</td>\n",
       "      <td>en</td>\n",
       "      <td>2017-03-07 13:48:56.25</td>\n",
       "      <td>27.38.250.222</td>\n",
       "      <td>False</td>\n",
       "      <td>False</td>\n",
       "      <td>...</td>\n",
       "      <td>no_siteUrl</td>\n",
       "      <td>no_site_url</td>\n",
       "      <td>False</td>\n",
       "      <td>profile_set_once</td>\n",
       "      <td>1490958308406</td>\n",
       "      <td>2017-03-31 11:05:08</td>\n",
       "      <td>2017-03-31</td>\n",
       "      <td>4</td>\n",
       "      <td>11</td>\n",
       "      <td>False</td>\n",
       "    </tr>\n",
       "    <tr>\n",
       "      <th>3</th>\n",
       "      <td>000ed1dcd942969b458c5b308937c6389c08f999</td>\n",
       "      <td>5</td>\n",
       "      <td>others</td>\n",
       "      <td>http://class.sanjieke.cn/class.html</td>\n",
       "      <td>class.sanjieke.cn</td>\n",
       "      <td>zh</td>\n",
       "      <td>2017-03-13 11:29:36.672</td>\n",
       "      <td>116.226.32.214</td>\n",
       "      <td>False</td>\n",
       "      <td>False</td>\n",
       "      <td>...</td>\n",
       "      <td>no_siteUrl</td>\n",
       "      <td>no_site_url</td>\n",
       "      <td>False</td>\n",
       "      <td>profile_set_once</td>\n",
       "      <td>1490958376034</td>\n",
       "      <td>2017-03-31 11:06:16</td>\n",
       "      <td>2017-03-31</td>\n",
       "      <td>4</td>\n",
       "      <td>11</td>\n",
       "      <td>False</td>\n",
       "    </tr>\n",
       "    <tr>\n",
       "      <th>4</th>\n",
       "      <td>00111feff544ef5280a4c7064a362a9ea59c9389</td>\n",
       "      <td>2</td>\n",
       "      <td>no_brower</td>\n",
       "      <td>no_first_referrer</td>\n",
       "      <td>no_first_referrer_host</td>\n",
       "      <td>zh</td>\n",
       "      <td>2017-03-09 19:34:34.925</td>\n",
       "      <td>117.136.38.216</td>\n",
       "      <td>False</td>\n",
       "      <td>False</td>\n",
       "      <td>...</td>\n",
       "      <td>no_siteUrl</td>\n",
       "      <td>no_site_url</td>\n",
       "      <td>False</td>\n",
       "      <td>profile_set_once</td>\n",
       "      <td>1490958337498</td>\n",
       "      <td>2017-03-31 11:05:37</td>\n",
       "      <td>2017-03-31</td>\n",
       "      <td>4</td>\n",
       "      <td>11</td>\n",
       "      <td>False</td>\n",
       "    </tr>\n",
       "  </tbody>\n",
       "</table>\n",
       "<p>5 rows × 65 columns</p>\n",
       "</div>"
      ],
      "text/plain": [
       "                                distinct_id  number_of_visit    browser  \\\n",
       "0  00007ef910b6c9911f1b89d01a09aa3fc862f4a9                7     others   \n",
       "1  000a216b72eff19bd0d5e17b9e676dd6ad9a38ac                1     chrome   \n",
       "2  000c46a27ef69fa22b56d253a9c72773338a1686               23     chrome   \n",
       "3  000ed1dcd942969b458c5b308937c6389c08f999                5     others   \n",
       "4  00111feff544ef5280a4c7064a362a9ea59c9389                2  no_brower   \n",
       "\n",
       "                                      first_referrer     first_referrer_host  \\\n",
       "0  https://m.baidu.com/baidu.php?sc.5iTK000iX_O08...             m.baidu.com   \n",
       "1                                  no_first_referrer  no_first_referrer_host   \n",
       "2                                  no_first_referrer  no_first_referrer_host   \n",
       "3                http://class.sanjieke.cn/class.html       class.sanjieke.cn   \n",
       "4                                  no_first_referrer  no_first_referrer_host   \n",
       "\n",
       "      first_browser_language         first_visit_time               ip  \\\n",
       "0                         zh  2017-03-07 13:52:16.501      36.23.47.33   \n",
       "1  no_first_browser_language      no_first_visit_time  111.193.183.253   \n",
       "2                         en   2017-03-07 13:48:56.25    27.38.250.222   \n",
       "3                         zh  2017-03-13 11:29:36.672   116.226.32.214   \n",
       "4                         zh  2017-03-09 19:34:34.925   117.136.38.216   \n",
       "\n",
       "   is_first_day  is_first_time  ...       siteUrl     site_url  \\\n",
       "0         False          False  ...    no_siteUrl  no_site_url   \n",
       "1          True           True  ...    no_siteUrl  no_site_url   \n",
       "2         False          False  ...    no_siteUrl  no_site_url   \n",
       "3         False          False  ...    no_siteUrl  no_site_url   \n",
       "4         False          False  ...    no_siteUrl  no_site_url   \n",
       "\n",
       "  verification_code              type           time       time_formatted  \\\n",
       "0              True  profile_set_once  1490958308420  2017-03-31 11:05:08   \n",
       "1             False             track  1489373568278  2017-03-13 02:52:48   \n",
       "2             False  profile_set_once  1490958308406  2017-03-31 11:05:08   \n",
       "3             False  profile_set_once  1490958376034  2017-03-31 11:06:16   \n",
       "4             False  profile_set_once  1490958337498  2017-03-31 11:05:37   \n",
       "\n",
       "  time_formatted_date day_of_week hour_of_day signup  \n",
       "0          2017-03-31           4          11   True  \n",
       "1          2017-03-13           0           2  False  \n",
       "2          2017-03-31           4          11  False  \n",
       "3          2017-03-31           4          11  False  \n",
       "4          2017-03-31           4          11  False  \n",
       "\n",
       "[5 rows x 65 columns]"
      ]
     },
     "execution_count": 383,
     "metadata": {},
     "output_type": "execute_result"
    }
   ],
   "source": [
    "df.head()"
   ]
  },
  {
   "cell_type": "code",
   "execution_count": 384,
   "metadata": {},
   "outputs": [
    {
     "data": {
      "text/plain": [
       "no_first_referrer                                                                                                                                                                                           5030\n",
       "https://www.baidu.com/baidu.php                                                                                                                                                                             3487\n",
       "https://www.baidu.com/link                                                                                                                                                                                   359\n",
       "https://www.baidu.com/s                                                                                                                                                                                      306\n",
       "https://www.google.com.hk/                                                                                                                                                                                    76\n",
       "http://36kr.com/                                                                                                                                                                                              58\n",
       "https://www.google.com/                                                                                                                                                                                       55\n",
       "https://www.baidu.com/                                                                                                                                                                                        38\n",
       "https://m.baidu.com/?from=844b&vit=fps                                                                                                                                                                        37\n",
       "https://m.baidu.com/?from=2001a                                                                                                                                                                               34\n",
       "https://link.zhihu.com/?target=https%3A//sensorsdata.cn/manual/data_model.html                                                                                                                                32\n",
       "https://www.sensorsdata.cn/                                                                                                                                                                                   27\n",
       "https://www.google.co.jp/                                                                                                                                                                                     19\n",
       "https://link.zhihu.com/?target=https%3A//sensorsdata.cn/                                                                                                                                                      17\n",
       "https://m.baidu.com/?from=1000953f                                                                                                                                                                            16\n",
       "http://c.tieba.baidu.com/                                                                                                                                                                                     13\n",
       "https://link.zhihu.com/?target=https%3A//www.sensorsdata.cn                                                                                                                                                   12\n",
       "http://www.woshipm.com/operate/409320.html                                                                                                                                                                    11\n",
       "http://www.woshipm.com/pmd/314444.html                                                                                                                                                                        10\n",
       "http://mp.weixinbridge.com/mp/wapredirect?url=https%3A%2F%2Fwww.sensorsdata.cn%2Fdemo.html%3Futm_source%3Dwechat                                                                                              10\n",
       "http://36kr.com/p/5066252.html                                                                                                                                                                                10\n",
       "http://36kr.com/p/532174.html                                                                                                                                                                                  9\n",
       "https://www.google.com.tw/                                                                                                                                                                                     9\n",
       "https://wapbaike.baidu.com/item/%e7%a5%9e%e7%ad%96%e6%95%b0%e6%8d%ae/19526615?adapt=1&fr=aladdin                                                                                                               9\n",
       "http://www.sanjieke.cn/                                                                                                                                                                                        8\n",
       "http://www.sensorsdata.cn/                                                                                                                                                                                     8\n",
       "https://m.baidu.com/?from=1019023c                                                                                                                                                                             8\n",
       "https://www.sensorsdata.cn/demo.html                                                                                                                                                                           7\n",
       "http://www.itjuzi.com/company/16088                                                                                                                                                                            7\n",
       "http://image.baidu.com/search/index?tn=baiduimage&ps=1&ct=201326592&lm=-1&cl=2&nc=1&ie=utf-8&word=%E7%94%A8%E6%88%B7%E7%94%BB%E5%83%8F                                                                         7\n",
       "                                                                                                                                                                                                            ... \n",
       "https://m.baidu.com/baidu.php?sc.Dz6K00jryFP_QGxCoxV5A-6UDmHdiKMdZ95YFZiCA3kLzjYES8UXeXtGF1-7dTOTJXzyX7V4Dts4L24OPX5i92yNSul_2ftgjxBa7mWMuEpdSWgYC4wQVeMj8k2REBMYFQwz5_Vt2LCL7ss-kLDSGbwzPJ8-S8BEvqcCPC6       1\n",
       "http://m.sogou.com/bill_cpc?v=1&p=WJhHUFVs11lYCzUJvvelf3b3gtoy3U5FgpaEK4YUAyuewJl$VPzZ8MK9orYFXdGymIjQlBkynZaCxcjYm$l3Vy6JJxAB6$UrjLwlO6rcjLXReGvNEHCEEEiET1OgL7BEvfqKgdpVpDs0x1DXiNge1tg$Z@7seo07KgdEQp       1\n",
       "https://m.baidu.com/baidu.php?sc.5iTK00aImyNjzsJ65UCx2LWAlUe8shbAKyHm_JfDOyZ6d1WDV2_utGj2UoUad0G6wHQ1YyVwHpQMf_qq_AE4bbM2xf_G6hdJHCmbCjmWHpABjoeLycNhy4JuB23ZUgHHpVO7KG6SE95mCGQkCqJV7W-7ACokcaUgJljV4M2       1\n",
       "https://www.so.com/s?q=%E7%A5%9E%E7%AD%96%E5%88%86%E6%9E%90&src=se_zoned                                                                                                                                       1\n",
       "https://m.baidu.com/baidu.php?sc.9aTK00aUZedEiha7BfFvMexNfE5b9pr_4CYVROvpUWSCrclPT8jJvBOHs2msj98eUzhlvI958yi5GrhXlai8-EKKzDa_sTu95EZpl764ymibVkLlqqfqGISJcs-_uZA_0eDh8r2pe4M8ZpI9ZDDKmacCId3HuvOgSRbyrm8       1\n",
       "http://cn.bing.com/search?q=%e9%a1%b5%e9%9d%a2%e5%81%9c%e7%95%99%e6%97%b6%e9%97%b4%e7%bb%9f%e8%ae%a1&FORM=QSRE1                                                                                                1\n",
       "https://zhidao.baidu.com/search?ct=17&pn=0&tn=ikaslist&rn=10&word=%E4%BA%A7%E5%93%81%E5%88%86%E6%9E%90&fr=wwwt                                                                                                 1\n",
       "http://www.sogou.com/tx?query=%E9%98%BF%E9%87%8C%E6%95%B0%E6%8D%AE%E5%88%86%E6%9E%90&ie=utf8&_ast=1489124992&_asf=null&w=01025001&hdq=sogou-site-706608cfdbcc1886-0001&duppid=1&cid=qb7.zhuye&cid=qb7.zh       1\n",
       "http://www.sogou.com/bill_cpc?v=1&p=WJhVUUCo919YBQavJnG5G$WhICZjyNeu2HX7XZyDAvtqs4uI7EnFBJ4dzQbvH4IIzTmZIicVyYIcDVw97vRvAZACUa8CwGuOcV1D$JWjG1mFT4ygTsKWMEidTDimfyOfKz41MDiq2r@MzuNU$p8mqurrzh@gl4fMsgqz       1\n",
       "http://36kr.com/p/203751.html                                                                                                                                                                                  1\n",
       "https://m.baidu.com/baidu.php?sc.Dz6K00aiDZpkmMM77L-MAjXpqU0TRxcHZJkI-5IKuHQF4jUlQI8CtA7N7R3gov3_eyGHIOrdM5kKuJKvU3_uPqXTBn_aXCUtA-bJPKfmMXamR07X9qOGHhkz7rYR7Gn96xYB3IABxFajwRltcMtbKBLhk39Tq7sHwTPNvG8       1\n",
       "http://www.baidu.com/baidu.php?sc.5z6K00jyojW_Xy5dNpczSW_PsZ7mSAqw0TPGYcvZxjYO5_jy5wk3PKMaKg3G62GkgDI_nUtOmX_-CfXjbIk0FY7lb5ud06MTmwtoX_HO8OZG0iWSGZE-fHo1Q1I_NC0S2VpImfoBEdpldLjuNmlznR25Id_CBtzlEcVcw3       1\n",
       "http://www.baidu.com/baidu.php?sc.ca6K00KNYTzueBruVDqWkSrWpr7DPkzd2srhPDPJgVyNH8IPMqf_GqHBm6MlIIPzngaYRNuolaVI8rXAq7frmNovpbNIFzSda6NR6hi364HvZm-WAEGm5A1ulRZ6e8zK9_T09tw_eUbJHPCwQbzDxJDFgt8zCTt8Jkxvpb       1\n",
       "https://www.so.com/s?ie=utf-8&src=hao_360so_a1004&shb=1&hsid=7d84d356110baef3&q=%E7%A5%9E%E7%AD%96%E6%95%B0%E6%8D%AE                                                                                           1\n",
       "https://m.baidu.com/baidu.php?sc.JaTK00ap6VTy19GwqLCENpGEow0yxOMByjEajdFDqmBYqzfzo1oISanlrQ9KX4Nx0d9n3iDPRF3ogJw6O5Vt-VaFrz-KS-ivKbg8LLEggla2qAP5gPaVnZduDxfR37NteEwUHXRx7FvocXvbLMb2wbwmodPbBcuvC3g3ZhF       1\n",
       "https://wap.sogou.com/bill_cpc?v=1&p=WJhHUFCrV99YBHzaLqmAhVvhzQJet9Um2@HeMTUmQwu23lybpdLNXbCbBRdmBhEXe7ztQpPOBzV2@64yeAYo3PbeRZAz7elryqxawWRGiW2vQQUpXsNiTo@X4S0i4HZDJb@djtENn5@ZMd2NWQO0K34i@5Eux6l@TrT       1\n",
       "http://www.baidu.com/baidu.php?sc.5iTK00KGP8R3xpeZr95iJKmfb722CJ4DbDcBgEUYDqveyplzlPVvSFhkdwMCR7E7tj-fRybxnvuJWcALfCDA-MTxA32EvYckGVQTgg8bshIYZl-TTcTdjWMickq6s32LzoJRX1sQHCRc828PczZ7ji1eFqERLvUcdefLDy       1\n",
       "http://googleads.g.doubleclick.net/pagead/ads?client=ca-pub-3012417504987015&format=728x90&output=html&h=90&slotname=4627288068&adk=4168803015&adf=2773612572&w=728&lmt=1488908706&flash=0&url=http%3A%2       1\n",
       "http://wap.sogou.com/waprdt?query=%CA%FD%BE%DD%B7%D6%CE%F6&clickid=16634ef7130373418878ae4d725c0507                                                                                                            1\n",
       "http://www.baidu.com/baidu.php?sc.7B6K00KF0uRExIQ9cKYnGaASyZFywi9ZDVT2aq_aI2Pv-CvH5HRe2SDuSLCucxbKQQaRnetCpAbG5wNmZK5Rwg-J4L5-0l_ZIDQjVzdSwO4rtYkhqhbQyOjSIXEf9mw-N4n3jwJlY458NuMmk0LJWqFqqKks8PTZlI4uJK       1\n",
       "https://m.sogou.com/bill_cpc?v=1&p=WJhHUbMa919YNBwdaCO5nzzvHb6u6GJtBAWE7E2Tx389F6V7S2xeG76mm0DmGEutLmSnje997Syne9J7xNVpSxl7@xWD2w3VxG4vi7RicXOLq7EluMMddTTs3fBLxMdQz8dXz5XvhYKT4OdBLBc72Md5X6cyMb8dbqbXr       1\n",
       "https://wap.sogou.com/bill_cpc?v=1&p=WJhHUFmw919YBsBhJPOUBl$SCWJ9lP4GBFbEXl6x3E4hxR7bTWengr35BjYgocLWg$pqA2YM1kIfkOc0yXZU4uPPYQ5vXaqkINt9bANtFpKOR552d@T@5ddgFnYfWr$ypKc9PdASPeDW0RJaHEW5iM@KW4ZFcn4f6LN       1\n",
       "https://m.baidu.com/baidu.php?sc.060000awvWtUrzip4eQWWFVdv92zA6UW_wGiwujybBK7fmGINzZFHcLaG4Lx8-VcEHhE1DO-uzoBECYXNG9MRt_81UefHIy3aLMj6pxLNa8QB7HBssHCKI4CIgdWS0IVqV-DY0PdeAOnlaoVcpycV4fEl8XtaWWkXVB5_f3       1\n",
       "http://cn.bing.com/search?q=%E7%A5%9E%E7%AD%96+%E5%AE%98%E7%BD%91&qs=n&form=QBLH&scope=web&sp=-1&pq=%E7%A5%9E%E7%AD%96+%E5%AE%98%E7%BD%91&sc=1-5&sk=&cvid=B7A2585BB82C4262A3D68E66885F4CD2                     1\n",
       "http://www.sogou.com/bill_cpc?v=1&p=WJhHUbdrV99UBsYm5LiA29ZqHrrucxlT28mTm8WEtulONAIAYe5XBmNmVd6KmNXaSN2c1vJzxFHSU5y57xpm9y1ooPzQ2mYz@ZJx19wjE$hiJJQqG@jddTTsDb1T85ZupIKuXCiWmroDmsskTzX$fVuCsXCENZFZPd@5       1\n",
       "http://class.sanjieke.cn/class/1530158.html                                                                                                                                                                    1\n",
       "http://www.sogou.com/web?query=etl&clickid=1109227167eb4cfe8878ae662774ce6c                                                                                                                                    1\n",
       "http://36kr.com/p/5044200.html                                                                                                                                                                                 1\n",
       "http://ysdss.tking.cn/dashboard/?project=production                                                                                                                                                            1\n",
       "http://wisd.sogou.com/bill_cpc?v=1&p=WJhVUFmw919YBuanJG7IGARwgPnaywraBKzSTtupkJqY$zj22r$5LWZAMD0niu311BZQQ7kPQlrzLSCQ90xI5nUUbj163NFQyA87w7E953EvQK0LW@88@ymbsZLK4DO@MZin6VGEMEs0K5VW@TviKMKBgYlW5B6M8m4       1\n",
       "Name: first_referrer, Length: 1866, dtype: int64"
      ]
     },
     "execution_count": 384,
     "metadata": {},
     "output_type": "execute_result"
    }
   ],
   "source": [
    "# 2 first_referrer\n",
    "df['first_referrer'].value_counts()"
   ]
  },
  {
   "cell_type": "code",
   "execution_count": 385,
   "metadata": {},
   "outputs": [],
   "source": [
    "others(300, 'first_referrer')"
   ]
  },
  {
   "cell_type": "code",
   "execution_count": 386,
   "metadata": {},
   "outputs": [
    {
     "data": {
      "text/plain": [
       "no_first_referrer                  5030\n",
       "https://www.baidu.com/baidu.php    3487\n",
       "others                             2574\n",
       "https://www.baidu.com/link          359\n",
       "https://www.baidu.com/s             306\n",
       "Name: first_referrer, dtype: int64"
      ]
     },
     "execution_count": 386,
     "metadata": {},
     "output_type": "execute_result"
    }
   ],
   "source": [
    "df['first_referrer'].value_counts()"
   ]
  },
  {
   "cell_type": "code",
   "execution_count": 387,
   "metadata": {},
   "outputs": [
    {
     "data": {
      "text/plain": [
       "no_first_referrer_host           5203\n",
       "www.baidu.com                    4433\n",
       "m.baidu.com                       644\n",
       "www.sogou.com                     291\n",
       "36kr.com                          191\n",
       "m.sogou.com                       121\n",
       "link.zhihu.com                     98\n",
       "www.google.com.hk                  89\n",
       "www.sensorsdata.cn                 54\n",
       "www.google.com                     49\n",
       "image.baidu.com                    45\n",
       "www.so.com                         43\n",
       "wap.sogou.com                      40\n",
       "googleads.g.doubleclick.net        39\n",
       "www.woshipm.com                    23\n",
       "www.google.co.jp                   16\n",
       "cn.bing.com                        16\n",
       "zhidao.baidu.com                   15\n",
       "wenku.baidu.com                    15\n",
       "class.sanjieke.cn                  14\n",
       "c.tieba.baidu.com                  13\n",
       "youxuan.baidu.com                  12\n",
       "cpro.baidu.com                     11\n",
       "www.sanjieke.cn                    11\n",
       "mp.weixinbridge.com                10\n",
       "www.google.com.tw                   9\n",
       "passport.36kr.com                   8\n",
       "wisd.sogou.com                      8\n",
       "sensorsdata.cn                      7\n",
       "so.m.sm.cn                          7\n",
       "                                 ... \n",
       "sensors.fqgj.net                    1\n",
       "duckduckgo.com                      1\n",
       "uxren.cn                            1\n",
       "data.corp.36kr.com                  1\n",
       "confluence.bbtree.com               1\n",
       "www.appganhuo.com                   1\n",
       "ad.bytedance.net                    1\n",
       "www.linear.vc                       1\n",
       "tieba.baidu.com                     1\n",
       "www.juudian.com                     1\n",
       "stat-sc.formaxoa.com                1\n",
       "www.xfz.cn                          1\n",
       "cache.baiducontent.com              1\n",
       "rong.36kr.com                       1\n",
       "view.yiqioffice.com                 1\n",
       "my.worktile.com                     1\n",
       "www.jiuzhilan.com                   1\n",
       "saasdemo.cloud.sensorsdata.cn       1\n",
       "wiki.sankuai.com                    1\n",
       "mail.haituncun.com                  1\n",
       "saweb.quickcan.com                  1\n",
       "hao.199it.com                       1\n",
       "qiyukf.cloud.sensorsdata.cn         1\n",
       "www.google.fr                       1\n",
       "redmine.xing-ai.net                 1\n",
       "lnkd.in                             1\n",
       "www.mulumu.com                      1\n",
       "dss.innotree.cn                     1\n",
       "tw.search.yahoo.com                 1\n",
       "www.google.co.kr                    1\n",
       "Name: first_referrer_host, Length: 137, dtype: int64"
      ]
     },
     "execution_count": 387,
     "metadata": {},
     "output_type": "execute_result"
    }
   ],
   "source": [
    "# 3 first_referrer_host\n",
    "df['first_referrer_host'].value_counts()"
   ]
  },
  {
   "cell_type": "code",
   "execution_count": 388,
   "metadata": {},
   "outputs": [],
   "source": [
    "others(500, 'first_referrer_host')"
   ]
  },
  {
   "cell_type": "code",
   "execution_count": 389,
   "metadata": {},
   "outputs": [
    {
     "data": {
      "text/plain": [
       "no_first_referrer_host    5203\n",
       "www.baidu.com             4433\n",
       "others                    1476\n",
       "m.baidu.com                644\n",
       "Name: first_referrer_host, dtype: int64"
      ]
     },
     "execution_count": 389,
     "metadata": {},
     "output_type": "execute_result"
    }
   ],
   "source": [
    "df['first_referrer_host'].value_counts()"
   ]
  },
  {
   "cell_type": "code",
   "execution_count": 390,
   "metadata": {},
   "outputs": [
    {
     "data": {
      "text/plain": [
       "zh                           8458\n",
       "no_first_browser_language    2614\n",
       "en                            642\n",
       "others                         42\n",
       "Name: first_browser_language, dtype: int64"
      ]
     },
     "execution_count": 390,
     "metadata": {},
     "output_type": "execute_result"
    }
   ],
   "source": [
    "# 4 first_browser_language\n",
    "df['first_browser_language'].value_counts()"
   ]
  },
  {
   "cell_type": "code",
   "execution_count": 391,
   "metadata": {},
   "outputs": [
    {
     "data": {
      "text/plain": [
       "https://www.baidu.com/baidu.php                                                                                                                                                                             4065\n",
       "no_latest_referrer                                                                                                                                                                                          3670\n",
       "https://www.baidu.com/link                                                                                                                                                                                   575\n",
       "https://www.baidu.com/s                                                                                                                                                                                      345\n",
       "http://36kr.com/                                                                                                                                                                                             144\n",
       "https://www.google.com.hk/                                                                                                                                                                                   120\n",
       "https://www.google.com/                                                                                                                                                                                       97\n",
       "https://www.baidu.com/                                                                                                                                                                                        46\n",
       "https://m.baidu.com/?from=844b&vit=fps                                                                                                                                                                        42\n",
       "https://link.zhihu.com/?target=https%3A//sensorsdata.cn/manual/data_model.html                                                                                                                                40\n",
       "https://www.google.co.jp/                                                                                                                                                                                     39\n",
       "https://m.baidu.com/?from=2001a                                                                                                                                                                               37\n",
       "https://link.zhihu.com/?target=https%3A//sensorsdata.cn/                                                                                                                                                      20\n",
       "http://36kr.com/p/5045281.html                                                                                                                                                                                20\n",
       "https://m.baidu.com/?from=1000953f                                                                                                                                                                            18\n",
       "https://link.zhihu.com/?target=https%3A//www.sensorsdata.cn                                                                                                                                                   16\n",
       "http://36kr.com/p/5056378.html                                                                                                                                                                                14\n",
       "http://c.tieba.baidu.com/                                                                                                                                                                                     14\n",
       "http://mp.weixinbridge.com/mp/wapredirect?url=https%3A%2F%2Fwww.sensorsdata.cn%2Fdemo.html%3Futm_source%3Dwechat                                                                                              12\n",
       "http://www.woshipm.com/pmd/314444.html                                                                                                                                                                        12\n",
       "http://www.itjuzi.com/company/16088                                                                                                                                                                           11\n",
       "http://www.woshipm.com/operate/409320.html                                                                                                                                                                    11\n",
       "http://www.sanjieke.cn/                                                                                                                                                                                       10\n",
       "https://m.baidu.com/?from=1019023c                                                                                                                                                                            10\n",
       "http://36kr.com/p/5066252.html                                                                                                                                                                                10\n",
       "https://wapbaike.baidu.com/item/%e7%a5%9e%e7%ad%96%e6%95%b0%e6%8d%ae/19526615?adapt=1&fr=aladdin                                                                                                              10\n",
       "http://36kr.com/newsflashes                                                                                                                                                                                   10\n",
       "https://www.google.com.tw/                                                                                                                                                                                    10\n",
       "http://36kr.com/p/532174.html                                                                                                                                                                                  9\n",
       "https://www.sogou.com/link?url=DSOYnZeCC_reF_V0215oSdRkvO5tusgbxcLO2TQn7Ac.&query=%E7%A5%9E%E7%AD%96%E6%95%B0%E6%8D%AE                                                                                         9\n",
       "                                                                                                                                                                                                            ... \n",
       "https://m.sogou.com/bill_cpc?v=1&p=WJhVUbds989YOYMUJ$BVhj8oQGoy3U5FMXEiKw6AGv9QxVwTVXlNghcANiKpOcbllA6aBQVRy6wk@o4je9RqlYSU65k4Uawk2ov9nOy7SNkPjUekvD@ssW@8MThf@pT1@V0MeCNZvI8BMsJouVMf28PgWXrXLqLlgEeMD       1\n",
       "http://www.sogou.com/bill_cpc?v=1&p=WJhHUtdr919UB0BJu1eqhPe9dISawwPIBXtXM17jX7vbA0tsNgBL6AhhmLOu1HFLY$7g5UXebk6AWxJV3wwU7Uqy7GWW9kF@l5p6IcwEGQOsXIePssNdE8LM2DGU2djag44XiA3@74XZNVyo5ehQ$dsTN8Yx4sEY5D$i       1\n",
       "http://www.sogou.com/bill_cpc?v=1&p=WJhHUbMa919UB0zimLFAAUcOQfUJx49s7isdGb7v7xwrVWe787X7JVO6KCeut0XsusGDS3T951xVUalv7bPpaxy9xzT936pZHrRh$k2TCmvm7EoBiXssWM@2ddcZOvT1oOFBsTh3XEudMLAhg2ddqu@WLTffRKRabLdM       1\n",
       "https://m.baidu.com/baidu.php?sc.Dz6K00ajR0fggHxKsqE-OBgmRAUEEmqB4ivL7mNBYyNaG-NS3Wwi_gxl7zABllqoyYCWe3UUQd8E95al8VJMzZ1pXlMr4D7VsoXPp6NpAFLRxWttckJShupkeZKd16LzB-rsExJl582mSIYgIMKZD2RC5MR5S0Kck3dVVHW       1\n",
       "http://www.sogou.com/bill_cpc?v=1&p=WJhVUUCr919YBIJH61hHhJe6FE69kr02En8Tv7jFWVGSaCEzhWe777PM2a2IzXmeqKlRVx41glFSuM0VkM3OUHxryvDpeRMkKfRkFH361o5nGGDD8@mM5nDEF4UFsvPgNfftmXbffB1XXhrCrWKCirCbnC7l5dIEMTgS       1\n",
       "http://www.baidu.com/baidu.php?sc.Dz6K00K7gIFCPCLIZH2YvVVF5XPmwE1Ob4Sk5BFFpP_1BWAwOnFROTjjFayay9p08jWoLdUYVvY8umDvg_srCKEqYaqND-oIvOPREGf-cs4TwRHHfCEjmNiMu30ymT00iqxYZh0SQ7VcNlTmEvm8nQIgYaqmPlp88Mi3b9       1\n",
       "http://image.baidu.com/search/wiseala?tn=wiseala&iswiseala=1&ie=utf8&wiseps=1&word=%E7%94%A8%E6%88%B7%E7%94%BB%E5%83%8F&pn=22&rpn=-1&spn=0&gsm=5a&simid=0,0&u=853026532&objurl=http%3A%2F%2Fstatic.open-       1\n",
       "http://www.3lian.com/edu/2016/04-12/1460429668288668_2.html                                                                                                                                                    1\n",
       "http://cn.bing.com/search?q=%E5%9F%8B%E7%82%B9%E7%AE%A1%E7%90%86&qs=n&form=QBRE&sp=-1&pq=%E5%9F%8B%E7%82%B9%E7%AE%A1%E7%90%86&sc=1-4&sk=&cvid=EBB57C04D7B04B628A206C49CF8A43D6                                 1\n",
       "http://www.baidu.com/baidu.php?sc.5iTK000PlPEZLJ-3z0zccNymdMuMFEAxcFyYEQ5xzEKkbMTDiP3ZGnaGsZhYVJd89-v9erzQr-xhDmOv0ioYOch-78f1YSDJl3fmGJwj-JVWA2arc3OJq4gD0-JcJw-zFhxQJaathvbIvvvUBnlfp1xAMgnFovgTTcgRob       1\n",
       "http://www.baidu.com/baidu.php?sc.7aTK00argbI9vqlkBDrwxyDt6YKlqHRob4FBlLZvPjYElKT_W0Vos3iSRe4pZdfS3i0U3E3fmjCVnsBmTLp6gulimAVe4ESZU24G0AQ3cQRUCKx_TmyopKFe7Arzr38g-jZCme6Z4-UN06gjbM6iSdABpaM9-gytKhytNs       1\n",
       "http://m.sogou.com/web/searchList.jsp?pid=sogou-mobb-d2dc6368837861b4-0007&keyword=%E7%99%BE%E5%BA%A6%E5%A4%A7%E6%95%B0%E6%8D%AE%E5%88%86%E6%9E%90%E5%B7%A5%E5%85%B7                                           1\n",
       "https://www.so.com/s?q=%E7%A5%9E%E7%AD%96%E5%88%86%E6%9E%90&src=se_zoned                                                                                                                                       1\n",
       "https://zhidao.baidu.com/search?ct=17&pn=0&tn=ikaslist&rn=10&word=%E4%BA%A7%E5%93%81%E5%88%86%E6%9E%90&fr=wwwt                                                                                                 1\n",
       "http://www.sogou.com/tx?query=%E9%98%BF%E9%87%8C%E6%95%B0%E6%8D%AE%E5%88%86%E6%9E%90&ie=utf8&_ast=1489124992&_asf=null&w=01025001&hdq=sogou-site-706608cfdbcc1886-0001&duppid=1&cid=qb7.zhuye&cid=qb7.zh       1\n",
       "http://www.sogou.com/bill_cpc?v=1&p=WJhVUUCo919YBQavJnG5G$WhICZjyNeu2HX7XZyDAvtqs4uI7EnFBJ4dzQbvH4IIzTmZIicVyYIcDVw97vRvAZACUa8CwGuOcV1D$JWjG1mFT4ygTsKWMEidTDimfyOfKz41MDiq2r@MzuNU$p8mqurrzh@gl4fMsgqz       1\n",
       "http://www.baidu.com/baidu.php?sc.5z6K00jyojW_Xy5dNpczSW_PsZ7mSAqw0TPGYcvZxjYO5_jy5wk3PKMaKg3G62GkgDI_nUtOmX_-CfXjbIk0FY7lb5ud06MTmwtoX_HO8OZG0iWSGZE-fHo1Q1I_NC0S2VpImfoBEdpldLjuNmlznR25Id_CBtzlEcVcw3       1\n",
       "http://mail.shinezone.com/cgi-bin/mail_spam?action=check_link&url=https%3A//www.sensorsdata.cn/manual/vtrack_intro.html&mailid=ZL1113-F_Y5bKvZmS_q2mkx7vkzL7f&spam=0&r=0.40589219794127407                     1\n",
       "http://www.baidu.com/baidu.php?sc.ca6K00KNYTzueBruVDqWkSrWpr7DPkzd2srhPDPJgVyNH8IPMqf_GqHBm6MlIIPzngaYRNuolaVI8rXAq7frmNovpbNIFzSda6NR6hi364HvZm-WAEGm5A1ulRZ6e8zK9_T09tw_eUbJHPCwQbzDxJDFgt8zCTt8Jkxvpb       1\n",
       "https://www.so.com/s?ie=utf-8&src=hao_360so_a1004&shb=1&hsid=7d84d356110baef3&q=%E7%A5%9E%E7%AD%96%E6%95%B0%E6%8D%AE                                                                                           1\n",
       "https://m.baidu.com/baidu.php?sc.JaTK00ap6VTy19GwqLCENpGEow0yxOMByjEajdFDqmBYqzfzo1oISanlrQ9KX4Nx0d9n3iDPRF3ogJw6O5Vt-VaFrz-KS-ivKbg8LLEggla2qAP5gPaVnZduDxfR37NteEwUHXRx7FvocXvbLMb2wbwmodPbBcuvC3g3ZhF       1\n",
       "https://wap.sogou.com/bill_cpc?v=1&p=WJhHUFCrV99YBHzaLqmAhVvhzQJet9Um2@HeMTUmQwu23lybpdLNXbCbBRdmBhEXe7ztQpPOBzV2@64yeAYo3PbeRZAz7elryqxawWRGiW2vQQUpXsNiTo@X4S0i4HZDJb@djtENn5@ZMd2NWQO0K34i@5Eux6l@TrT       1\n",
       "https://m.baidu.com/baidu.php?sc.9aTK00aUZedEiha7BfFvMexNfE5b9pr_4CYVROvpUWSCrclPT8jJvBOHs2msj98eUzhlvI958yi5GrhXlai8-EKKzDa_sTu95EZpl764ymibVkLlqqfqGISJcs-_uZA_0eDh8r2pe4M8ZpI9ZDDKmacCId3HuvOgSRbyrm8       1\n",
       "http://www.baidu.com/baidu.php?sc.5iTK00KGP8R3xpeZr95iJKmfb722CJ4DbDcBgEUYDqveyplzlPVvSFhkdwMCR7E7tj-fRybxnvuJWcALfCDA-MTxA32EvYckGVQTgg8bshIYZl-TTcTdjWMickq6s32LzoJRX1sQHCRc828PczZ7ji1eFqERLvUcdefLDy       1\n",
       "http://wap.sogou.com/waprdt?query=%CA%FD%BE%DD%B7%D6%CE%F6&clickid=16634ef7130373418878ae4d725c0507                                                                                                            1\n",
       "https://m.baidu.com/from=1000539d/bd_page_type=1/ssid=0/uid=0/pu=usm%401%2Csz%401320_2001%2Cta%40iphone_1_10.2_3_602/baiduid=58DAC1E5299B768E217EE919D6CB093A/w=0_10_/t=iphone/l=3/tc?ref=www_iphone&lid       1\n",
       "http://www.baidu.com/baidu.php?sc.7B6K00KF0uRExIQ9cKYnGaASyZFywi9ZDVT2aq_aI2Pv-CvH5HRe2SDuSLCucxbKQQaRnetCpAbG5wNmZK5Rwg-J4L5-0l_ZIDQjVzdSwO4rtYkhqhbQyOjSIXEf9mw-N4n3jwJlY458NuMmk0LJWqFqqKks8PTZlI4uJK       1\n",
       "https://m.sogou.com/bill_cpc?v=1&p=WJhHUbMa919YNBwdaCO5nzzvHb6u6GJtBAWE7E2Tx389F6V7S2xeG76mm0DmGEutLmSnje997Syne9J7xNVpSxl7@xWD2w3VxG4vi7RicXOLq7EluMMddTTs3fBLxMdQz8dXz5XvhYKT4OdBLBc72Md5X6cyMb8dbqbXr       1\n",
       "https://wap.sogou.com/bill_cpc?v=1&p=WJhHUFmw919YBsBhJPOUBl$SCWJ9lP4GBFbEXl6x3E4hxR7bTWengr35BjYgocLWg$pqA2YM1kIfkOc0yXZU4uPPYQ5vXaqkINt9bANtFpKOR552d@T@5ddgFnYfWr$ypKc9PdASPeDW0RJaHEW5iM@KW4ZFcn4f6LN       1\n",
       "http://wisd.sogou.com/bill_cpc?v=1&p=WJhVUFmw919YBuanJG7IGARwgPnaywraBKzSTtupkJqY$zj22r$5LWZAMD0niu311BZQQ7kPQlrzLSCQ90xI5nUUbj163NFQyA87w7E953EvQK0LW@88@ymbsZLK4DO@MZin6VGEMEs0K5VW@TviKMKBgYlW5B6M8m4       1\n",
       "Name: latest_referrer, Length: 2098, dtype: int64"
      ]
     },
     "execution_count": 391,
     "metadata": {},
     "output_type": "execute_result"
    }
   ],
   "source": [
    "# 5 latest_referrer\n",
    "df['latest_referrer'].value_counts()"
   ]
  },
  {
   "cell_type": "code",
   "execution_count": 392,
   "metadata": {},
   "outputs": [],
   "source": [
    "others(300, 'latest_referrer')"
   ]
  },
  {
   "cell_type": "code",
   "execution_count": 393,
   "metadata": {},
   "outputs": [
    {
     "data": {
      "text/plain": [
       "https://www.baidu.com/baidu.php    4065\n",
       "no_latest_referrer                 3670\n",
       "others                             3101\n",
       "https://www.baidu.com/link          575\n",
       "https://www.baidu.com/s             345\n",
       "Name: latest_referrer, dtype: int64"
      ]
     },
     "execution_count": 393,
     "metadata": {},
     "output_type": "execute_result"
    }
   ],
   "source": [
    "df['latest_referrer'].value_counts()"
   ]
  },
  {
   "cell_type": "code",
   "execution_count": 394,
   "metadata": {},
   "outputs": [
    {
     "data": {
      "text/plain": [
       "www.baidu.com                  5301\n",
       "no_latest_referrer_host        3799\n",
       "m.baidu.com                     710\n",
       "36kr.com                        349\n",
       "www.sogou.com                   314\n",
       "www.google.com.hk               133\n",
       "link.zhihu.com                  131\n",
       "m.sogou.com                     123\n",
       "www.google.com                   91\n",
       "www.so.com                       54\n",
       "image.baidu.com                  53\n",
       "wap.sogou.com                    50\n",
       "googleads.g.doubleclick.net      40\n",
       "www.google.co.jp                 37\n",
       "cn.bing.com                      29\n",
       "www.woshipm.com                  24\n",
       "zhidao.baidu.com                 17\n",
       "youxuan.baidu.com                16\n",
       "wenku.baidu.com                  16\n",
       "class.sanjieke.cn                15\n",
       "c.tieba.baidu.com                14\n",
       "www.sanjieke.cn                  13\n",
       "mp.weixinbridge.com              12\n",
       "cpro.baidu.com                   11\n",
       "wapbaike.baidu.com               10\n",
       "www.google.com.tw                10\n",
       "www.itjuzi.com                   10\n",
       "so.m.sm.cn                       10\n",
       "passport.36kr.com                 8\n",
       "data.corp.36kr.com                8\n",
       "                               ... \n",
       "tieba.baidu.com                   1\n",
       "mail.haituncun.com                1\n",
       "wiki.ximalaya.com                 1\n",
       "uxren.cn                          1\n",
       "www.appganhuo.com                 1\n",
       "www.jiuzhilan.com                 1\n",
       "www.3lian.com                     1\n",
       "google.gg-g.org                   1\n",
       "mail.alibaba-inc.com              1\n",
       "wiki.sankuai.com                  1\n",
       "sensorpub.pandateacher.com        1\n",
       "www.zhaosaas.com                  1\n",
       "lnkd.in                           1\n",
       "data.isoubu.com                   1\n",
       "mail.ym.163.com                   1\n",
       "www.google.fr                     1\n",
       "duckduckgo.com                    1\n",
       "ba-demo.tingyun.com               1\n",
       "mail.boohee.com                   1\n",
       "m.douban.com                      1\n",
       "www.linkedin.com                  1\n",
       "tw.search.yahoo.com               1\n",
       "dmp.dianjoy.cn                    1\n",
       "mail.shinezone.com                1\n",
       "hao.199it.com                     1\n",
       "my.worktile.com                   1\n",
       "saweb.quickcan.com                1\n",
       "geek.csdn.net                     1\n",
       "data-admin.kaiyanapp.com          1\n",
       "www.imgeek.org                    1\n",
       "Name: latest_referrer_host, Length: 186, dtype: int64"
      ]
     },
     "execution_count": 394,
     "metadata": {},
     "output_type": "execute_result"
    }
   ],
   "source": [
    "# 6 latest_referrer_host\n",
    "df['latest_referrer_host'].value_counts()"
   ]
  },
  {
   "cell_type": "code",
   "execution_count": 395,
   "metadata": {},
   "outputs": [],
   "source": [
    "others(300, 'latest_referrer_host')"
   ]
  },
  {
   "cell_type": "code",
   "execution_count": 396,
   "metadata": {},
   "outputs": [
    {
     "data": {
      "text/plain": [
       "www.baidu.com              5301\n",
       "no_latest_referrer_host    3799\n",
       "others                     1283\n",
       "m.baidu.com                 710\n",
       "36kr.com                    349\n",
       "www.sogou.com               314\n",
       "Name: latest_referrer_host, dtype: int64"
      ]
     },
     "execution_count": 396,
     "metadata": {},
     "output_type": "execute_result"
    }
   ],
   "source": [
    "df['latest_referrer_host'].value_counts()"
   ]
  },
  {
   "cell_type": "code",
   "execution_count": 397,
   "metadata": {},
   "outputs": [
    {
     "data": {
      "text/plain": [
       "no_latest_utm_campaign         5487\n",
       "通用词                            4082\n",
       "品牌词                             982\n",
       "S-通用词                           558\n",
       "神策-移动推广                         221\n",
       "首页                              194\n",
       "G-通用词                           110\n",
       "about                            20\n",
       "凤巢头条                             12\n",
       "数据分析                              9\n",
       "courses                           8\n",
       "ebizdemo                          7\n",
       "trial                             4\n",
       "caroline                          4\n",
       "皇冠子链                              4\n",
       "用户画像                              3\n",
       "用户行为                              3\n",
       "financedemo                       3\n",
       "36kr_standalone                   3\n",
       "keep-cluster                      2\n",
       "huangbaoche-standalone            2\n",
       "jumei-cluster                     2\n",
       "xingshulin_standalone             2\n",
       "ivymobi                           2\n",
       "salestest                         2\n",
       "spring                            2\n",
       "gamedemo                          2\n",
       "8win_standalone                   1\n",
       "fxiaoke-cluster                   1\n",
       "ymt-cluster                       1\n",
       "yiwu-standalone                   1\n",
       "golddemo                          1\n",
       "sagreen                           1\n",
       "vtrack                            1\n",
       "kupai-standalone                  1\n",
       "yeshen-cluster                    1\n",
       "caicheng-standalone               1\n",
       "qiyukf                            1\n",
       "qingchengfit                      1\n",
       "test_fll_gxq_zgq                  1\n",
       "zhangjunfeng                      1\n",
       "数据采集                              1\n",
       "wangba-standalone                 1\n",
       "ch                                1\n",
       "%E9%80%9A%E7%94%A8%E8%AF%8D       1\n",
       "jiedaibao-standalone              1\n",
       "李彦敏                               1\n",
       "edudemo                           1\n",
       "test-ztx-jsl-fjj                  1\n",
       "haomaiyi                          1\n",
       "bqbianli-standalone               1\n",
       "iranshao                          1\n",
       "flowerplus                        1\n",
       "Name: latest_utm_campaign, dtype: int64"
      ]
     },
     "execution_count": 397,
     "metadata": {},
     "output_type": "execute_result"
    }
   ],
   "source": [
    "# 7 latest_utm_campaign\n",
    "df['latest_utm_campaign'].value_counts()"
   ]
  },
  {
   "cell_type": "code",
   "execution_count": 398,
   "metadata": {},
   "outputs": [],
   "source": [
    "others(100, 'latest_utm_campaign')"
   ]
  },
  {
   "cell_type": "code",
   "execution_count": 399,
   "metadata": {},
   "outputs": [
    {
     "data": {
      "text/plain": [
       "no_latest_utm_campaign    5487\n",
       "通用词                       4082\n",
       "品牌词                        982\n",
       "S-通用词                      558\n",
       "神策-移动推广                    221\n",
       "首页                         194\n",
       "others                     122\n",
       "G-通用词                      110\n",
       "Name: latest_utm_campaign, dtype: int64"
      ]
     },
     "execution_count": 399,
     "metadata": {},
     "output_type": "execute_result"
    }
   ],
   "source": [
    "df['latest_utm_campaign'].value_counts()"
   ]
  },
  {
   "cell_type": "code",
   "execution_count": 400,
   "metadata": {},
   "outputs": [
    {
     "data": {
      "text/plain": [
       "no_latest_utm_content                                                        4852\n",
       "品牌-神策                                                                         995\n",
       "通用-用户画像                                                                       957\n",
       "通用-数据分析                                                                       792\n",
       "通用词-三图                                                                        528\n",
       "通用词-M                                                                         468\n",
       "通用-用户分析                                                                       230\n",
       "通用-数据分析-产品                                                                    230\n",
       "通用-APP运营                                                                      215\n",
       "通用-数据分析-行业                                                                    205\n",
       "通用-数据分析-运营                                                                    202\n",
       "通用-电商运营                                                                       191\n",
       "通用-数据处理                                                                       187\n",
       "通用-数据可视化                                                                      134\n",
       "通用-用户留存                                                                       119\n",
       "通用-用户画像-产品                                                                    116\n",
       "通用-数据统计                                                                       110\n",
       "通用-大数据-其他                                                                      94\n",
       "通用-用户行为分析                                                                      85\n",
       "通用-大数据-行业                                                                      82\n",
       "通用-用户留存-行业                                                                     62\n",
       "通用-数据系统                                                                        61\n",
       "通用-网站运营                                                                        58\n",
       "通用-用户画像-功能                                                                     56\n",
       "通用-数据运营                                                                        52\n",
       "品牌词-M                                                                          50\n",
       "通用-数据统计-产品                                                                     47\n",
       "通用-数据分析-公司                                                                     45\n",
       "通用-多维分析                                                                        41\n",
       "通用-数据分析-互联网                                                                    38\n",
       "                                                                             ... \n",
       "通用-数据指标                                                                        26\n",
       "通用-用户分析-产品                                                                     20\n",
       "品牌-神策-英文                                                                       19\n",
       "通用-数据运营-平台                                                                     16\n",
       "通用-大数据-方案                                                                      15\n",
       "通用-数据分析-电商                                                                     13\n",
       "通用-个性化营销                                                                       11\n",
       "通用-数据分析-方案                                                                     10\n",
       "通用-数据仓库                                                                        10\n",
       "通用-可视化分析                                                                        6\n",
       "通用-用户分群                                                                         6\n",
       "品牌-神策-产品词                                                                       6\n",
       "通用-增长黑客                                                                         6\n",
       "通用-大数据-产品                                                                       6\n",
       "通用-大数据-公司                                                                       5\n",
       "通用-用户留存-提升                                                                      5\n",
       "通用-访客分析                                                                         4\n",
       "通用-数据驱动                                                                         4\n",
       "通用-渠道追踪                                                                         3\n",
       "通用-用户细分                                                                         3\n",
       "通用-精准营销                                                                         3\n",
       "品牌-神策-拼音                                                                        2\n",
       "通用-用户画像-应用                                                                      2\n",
       "top                                                                             1\n",
       "通用-跨屏分析                                                                         1\n",
       "通用-用户行为分析-产品                                                                    1\n",
       "right                                                                           1\n",
       "通用-转化优化                                                                         1\n",
       "%E9%80%9A%E7%94%A8-%E7%94%A8%E6%88%B7%E8%A1%8C%E4%B8%BA%E5%88%86%E6%9E%90       1\n",
       "品牌-                                                                             1\n",
       "Name: latest_utm_content, Length: 68, dtype: int64"
      ]
     },
     "execution_count": 400,
     "metadata": {},
     "output_type": "execute_result"
    }
   ],
   "source": [
    "# 8 latest_utm_content\n",
    "df['latest_utm_content'].value_counts()"
   ]
  },
  {
   "cell_type": "code",
   "execution_count": 401,
   "metadata": {},
   "outputs": [],
   "source": [
    "others(300, 'latest_utm_content')"
   ]
  },
  {
   "cell_type": "code",
   "execution_count": 402,
   "metadata": {},
   "outputs": [
    {
     "data": {
      "text/plain": [
       "no_latest_utm_content    4852\n",
       "others                   3164\n",
       "品牌-神策                     995\n",
       "通用-用户画像                   957\n",
       "通用-数据分析                   792\n",
       "通用词-三图                    528\n",
       "通用词-M                     468\n",
       "Name: latest_utm_content, dtype: int64"
      ]
     },
     "execution_count": 402,
     "metadata": {},
     "output_type": "execute_result"
    }
   ],
   "source": [
    "df['latest_utm_content'].value_counts()"
   ]
  },
  {
   "cell_type": "code",
   "execution_count": 403,
   "metadata": {},
   "outputs": [
    {
     "data": {
      "text/plain": [
       "cpc                     5521\n",
       "no_latest_utm_medium    4517\n",
       "mcpc                    1131\n",
       "mfeed                    527\n",
       "default                   36\n",
       "production                 6\n",
       "answer                     4\n",
       "toutiao.io                 4\n",
       "customer_m                 2\n",
       "edm                        1\n",
       "hao.caibaojian.com         1\n",
       "youjian                    1\n",
       "lixinya                    1\n",
       "sidonghui                  1\n",
       "referral                   1\n",
       "sidashidai                 1\n",
       "banner                     1\n",
       "Name: latest_utm_medium, dtype: int64"
      ]
     },
     "execution_count": 403,
     "metadata": {},
     "output_type": "execute_result"
    }
   ],
   "source": [
    "# 9 latest_utm_medium\n",
    "df['latest_utm_medium'].value_counts()"
   ]
  },
  {
   "cell_type": "code",
   "execution_count": 404,
   "metadata": {},
   "outputs": [],
   "source": [
    "others(500, 'latest_utm_medium')"
   ]
  },
  {
   "cell_type": "code",
   "execution_count": 405,
   "metadata": {},
   "outputs": [
    {
     "data": {
      "text/plain": [
       "cpc                     5521\n",
       "no_latest_utm_medium    4517\n",
       "mcpc                    1131\n",
       "mfeed                    527\n",
       "others                    60\n",
       "Name: latest_utm_medium, dtype: int64"
      ]
     },
     "execution_count": 405,
     "metadata": {},
     "output_type": "execute_result"
    }
   ],
   "source": [
    "df['latest_utm_medium'].value_counts()"
   ]
  },
  {
   "cell_type": "code",
   "execution_count": 406,
   "metadata": {},
   "outputs": [
    {
     "data": {
      "text/plain": [
       "baidu                   6464\n",
       "no_latest_utm_source    4425\n",
       "sogou                    561\n",
       "google                   111\n",
       "wechat                    63\n",
       "sanjieke.cn               39\n",
       "next.36kr.com             16\n",
       "admin                     15\n",
       "sales4c                   13\n",
       "toutiao.io                 4\n",
       "zhihu                      3\n",
       "23h5                       2\n",
       "sunwenliang                2\n",
       "shenyulong                 2\n",
       "email                      2\n",
       "mulumu.com                 2\n",
       "yupan                      2\n",
       "xiuxin                     1\n",
       "xiangc                     1\n",
       "liujinbo1                  1\n",
       "zhangji                    1\n",
       "hao.caibaojian.com         1\n",
       "liyizi                     1\n",
       "hzcaibin                   1\n",
       "zhangyuejiao               1\n",
       "liquantao                  1\n",
       "diaopeng                   1\n",
       "prd_luzhaobo               1\n",
       "wangcheng                  1\n",
       "gongxinrong                1\n",
       "guohongyao                 1\n",
       "analytics_test             1\n",
       "qiye.36kr.com              1\n",
       "xueting                    1\n",
       "lul                        1\n",
       "sidashidai                 1\n",
       "wangxuelin                 1\n",
       "lingchentian               1\n",
       "liuyaozhou                 1\n",
       "admin10                    1\n",
       "fuyu                       1\n",
       "huangkan                   1\n",
       "quqianshun                 1\n",
       "dichang                    1\n",
       "jonson                     1\n",
       "Jeremy                     1\n",
       "lijiong                    1\n",
       "Name: latest_utm_source, dtype: int64"
      ]
     },
     "execution_count": 406,
     "metadata": {},
     "output_type": "execute_result"
    }
   ],
   "source": [
    "# 10 latest_utm_source\n",
    "df['latest_utm_source'].value_counts()"
   ]
  },
  {
   "cell_type": "code",
   "execution_count": 407,
   "metadata": {},
   "outputs": [],
   "source": [
    "others(100, 'latest_utm_source')"
   ]
  },
  {
   "cell_type": "code",
   "execution_count": 408,
   "metadata": {},
   "outputs": [
    {
     "data": {
      "text/plain": [
       "baidu                   6464\n",
       "no_latest_utm_source    4425\n",
       "sogou                    561\n",
       "others                   195\n",
       "google                   111\n",
       "Name: latest_utm_source, dtype: int64"
      ]
     },
     "execution_count": 408,
     "metadata": {},
     "output_type": "execute_result"
    }
   ],
   "source": [
    "df['latest_utm_source'].value_counts()"
   ]
  },
  {
   "cell_type": "code",
   "execution_count": 409,
   "metadata": {},
   "outputs": [
    {
     "data": {
      "text/plain": [
       "no_latest_utm_term    5792\n",
       "用户画像                   941\n",
       "神策                     664\n",
       "神策数据                   289\n",
       "数据分析                   282\n",
       "首页-通用词-三图-图1           194\n",
       "大数据分析                  184\n",
       "用户分析                   175\n",
       "电子商务数据                 154\n",
       "app数据                  108\n",
       "产品数据分析                 107\n",
       "聚类分析                   100\n",
       "网站数据统计                  91\n",
       "网站运营数据分析                83\n",
       "app分析                   79\n",
       "旅游大数据                   78\n",
       "用户画像分析                  70\n",
       "数据挖掘                    65\n",
       "app数据分析                 58\n",
       "客户画像                    49\n",
       "日志分析系统                  48\n",
       "数据可视化                   48\n",
       "数据分析系统                  48\n",
       "大数据应用                   46\n",
       "App运营                   44\n",
       "数据建模                    43\n",
       "数据分析软件下载                39\n",
       "数据分析平台                  39\n",
       "数据统计平台                  38\n",
       "神策分析                    38\n",
       "                      ... \n",
       "用户量分析                    1\n",
       "自助数据分析                   1\n",
       "游戏行业数据分析                 1\n",
       "金融精准营销                   1\n",
       "用户画像平台                   1\n",
       "网站用户行为分析                 1\n",
       "数据分析 app                 1\n",
       "更多                       1\n",
       "电商数据分析方案                 1\n",
       "用户日志分析                   1\n",
       "b2b用户画像                  1\n",
       "网站流量统计                   1\n",
       "视频直播类                    1\n",
       "可视化埋点                    1\n",
       "电商精细化运营                  1\n",
       "用户行为挖掘                   1\n",
       "客户行为分析系统                 1\n",
       "国内大数据分析                  1\n",
       "精益运营                     1\n",
       "大数据分析解决方案                1\n",
       "广告效果监测系统                 1\n",
       "sem分析工具                  1\n",
       "电商统计                     1\n",
       "留存分析                     1\n",
       "移动应用数据分析                 1\n",
       "访客分析                     1\n",
       "营运数据分析                   1\n",
       "移动游戏数据分析                 1\n",
       "营销个性化                    1\n",
       "电商产品分析报告                 1\n",
       "Name: latest_utm_term, Length: 285, dtype: int64"
      ]
     },
     "execution_count": 409,
     "metadata": {},
     "output_type": "execute_result"
    }
   ],
   "source": [
    "# 11 latest_utm_term\n",
    "df['latest_utm_term'].value_counts()"
   ]
  },
  {
   "cell_type": "code",
   "execution_count": 410,
   "metadata": {},
   "outputs": [],
   "source": [
    "others(300, 'latest_utm_term')"
   ]
  },
  {
   "cell_type": "code",
   "execution_count": 411,
   "metadata": {},
   "outputs": [
    {
     "data": {
      "text/plain": [
       "no_latest_utm_term    5792\n",
       "others                4359\n",
       "用户画像                   941\n",
       "神策                     664\n",
       "Name: latest_utm_term, dtype: int64"
      ]
     },
     "execution_count": 411,
     "metadata": {},
     "output_type": "execute_result"
    }
   ],
   "source": [
    "df['latest_utm_term'].value_counts()"
   ]
  },
  {
   "cell_type": "code",
   "execution_count": 412,
   "metadata": {},
   "outputs": [
    {
     "data": {
      "text/plain": [
       "pc          6384\n",
       "mac         2092\n",
       "iphone      1140\n",
       "no_model     990\n",
       "android      395\n",
       "huawei       266\n",
       "mi           102\n",
       "na            93\n",
       "meizu         74\n",
       "vivo          61\n",
       "samsung       52\n",
       "ipad          43\n",
       "nexus         30\n",
       "hongmi        13\n",
       "coolpad        8\n",
       "lenovo         7\n",
       "htc            3\n",
       "zte            1\n",
       "lg             1\n",
       "oppo           1\n",
       "Name: model, dtype: int64"
      ]
     },
     "execution_count": 412,
     "metadata": {},
     "output_type": "execute_result"
    }
   ],
   "source": [
    "# 12 model\n",
    "df['model'].value_counts()"
   ]
  },
  {
   "cell_type": "code",
   "execution_count": 413,
   "metadata": {},
   "outputs": [],
   "source": [
    "others(300, 'model')"
   ]
  },
  {
   "cell_type": "code",
   "execution_count": 414,
   "metadata": {},
   "outputs": [
    {
     "data": {
      "text/plain": [
       "pc          6384\n",
       "mac         2092\n",
       "iphone      1140\n",
       "no_model     990\n",
       "others       755\n",
       "android      395\n",
       "Name: model, dtype: int64"
      ]
     },
     "execution_count": 414,
     "metadata": {},
     "output_type": "execute_result"
    }
   ],
   "source": [
    "df['model'].value_counts()"
   ]
  },
  {
   "cell_type": "code",
   "execution_count": 415,
   "metadata": {},
   "outputs": [
    {
     "data": {
      "text/plain": [
       "windows    6384\n",
       "macosx     2092\n",
       "iOS        1183\n",
       "Android    1163\n",
       "no_os       841\n",
       "linux        80\n",
       "na           13\n",
       "Name: os, dtype: int64"
      ]
     },
     "execution_count": 415,
     "metadata": {},
     "output_type": "execute_result"
    }
   ],
   "source": [
    "# 13 os\n",
    "df['os'].value_counts()"
   ]
  },
  {
   "cell_type": "code",
   "execution_count": 416,
   "metadata": {},
   "outputs": [],
   "source": [
    "df['os'] = df['os'].replace('na', 'no_os')"
   ]
  },
  {
   "cell_type": "code",
   "execution_count": 417,
   "metadata": {},
   "outputs": [
    {
     "data": {
      "text/plain": [
       "windows    6384\n",
       "macosx     2092\n",
       "iOS        1183\n",
       "Android    1163\n",
       "no_os       854\n",
       "linux        80\n",
       "Name: os, dtype: int64"
      ]
     },
     "execution_count": 417,
     "metadata": {},
     "output_type": "execute_result"
    }
   ],
   "source": [
    "df['os'].value_counts()"
   ]
  },
  {
   "cell_type": "code",
   "execution_count": 418,
   "metadata": {},
   "outputs": [
    {
     "data": {
      "text/plain": [
       "https://www.baidu.com/baidu.php                                                                                                                                                                             3125\n",
       "no_referrer                                                                                                                                                                                                 2803\n",
       "https://www.sensorsdata.cn/                                                                                                                                                                                  978\n",
       "https://www.sensorsdata.cn/demo.html                                                                                                                                                                         268\n",
       "https://www.baidu.com/link                                                                                                                                                                                   230\n",
       "https://www.baidu.com/s                                                                                                                                                                                      220\n",
       "https://www.sensorsdata.cn/product.html                                                                                                                                                                      208\n",
       "https://sensorsdata.cn/                                                                                                                                                                                      183\n",
       "https://www.sensorsdata.cn/courses/                                                                                                                                                                          154\n",
       "https://www.sensorsdata.cn/?utm_source=baidu&utm_medium=cpc&utm_term=%E7%A5%9E%E7%AD%96&utm_content=%E5%93%81%E7%89%8C%2D%E7%A5%9E%E7%AD%96&utm_campaign=%E5%93%81%E7%89%8C%E8%AF%8D                         130\n",
       "https://sensorsdata.cn/demo.html                                                                                                                                                                              85\n",
       "https://www.sensorsdata.cn/index.html                                                                                                                                                                         84\n",
       "https://www.sensorsdata.cn/?utm_source=baidu&utm_medium=cpc&utm_term=%E7%94%A8%E6%88%B7%E7%94%BB%E5%83%8F&utm_content=%E9%80%9A%E7%94%A8%2D%E7%94%A8%E6%88%B7%E7%94%BB%E5%83%8F&utm_campaign=%E9%80%9A%E      79\n",
       "https://www.sensorsdata.cn/b-round.html                                                                                                                                                                       67\n",
       "https://www.google.com.hk/                                                                                                                                                                                    55\n",
       "https://www.sensorsdata.cn/about.html                                                                                                                                                                         47\n",
       "https://www.baidu.com/                                                                                                                                                                                        46\n",
       "https://www.google.com/                                                                                                                                                                                       45\n",
       "https://m.baidu.com/?from=844b&vit=fps                                                                                                                                                                        42\n",
       "https://www.sensorsdata.cn/?utm_source=baidu&utm_medium=cpc&utm_term=%E7%A5%9E%E7%AD%96%E6%95%B0%E6%8D%AE&utm_content=%E5%93%81%E7%89%8C%2D%E7%A5%9E%E7%AD%96&utm_campaign=%E5%93%81%E7%89%8C%E8%AF%8D        41\n",
       "https://link.zhihu.com/?target=https%3A//sensorsdata.cn/manual/data_model.html                                                                                                                                39\n",
       "https://sensorsdata.cn/courses/                                                                                                                                                                               36\n",
       "https://m.baidu.com/?from=2001a                                                                                                                                                                               36\n",
       "https://sensorsdata.cn/?ch=demo                                                                                                                                                                               35\n",
       "https://sensorsdata.cn/product.html                                                                                                                                                                           32\n",
       "https://www.sensorsdata.cn/courses/index.html                                                                                                                                                                 24\n",
       "https://sensorsdata.cn/b-round.html                                                                                                                                                                           22\n",
       "http://36kr.com/                                                                                                                                                                                              21\n",
       "https://www.google.co.jp/                                                                                                                                                                                     21\n",
       "https://www.sensorsdata.cn/manual/                                                                                                                                                                            20\n",
       "                                                                                                                                                                                                            ... \n",
       "http://image.baidu.com/search/wiseala?tn=wiseala&iswiseala=1&ie=utf8&wiseps=1&word=%E7%94%A8%E6%88%B7%E7%94%BB%E5%83%8F&pn=22&rpn=-1&spn=0&gsm=5a&simid=0,0&u=853026532&objurl=http%3A%2F%2Fstatic.open-       1\n",
       "https://m.baidu.com/baidu.php?sc.2i6K000OfeDhSEvjX-zVXC3Khu2_zwfuoLUsqgAhQzE5FG2vwVVeotE-DPECWUirYzY0LND5-bJM3MuDUZe5jN3qShw7PEz-b3GjoqHNtbvz-A_Z_Kju5iuqvY2IzhLnV07TOugIfu2xSZVJjVDmL1vq9mgFlcOguV_aQiV       1\n",
       "https://www.sensorsdata.cn/?utm_source=sogou&utm_medium=mcpc&utm_term=%e7%bd%91%e7%ab%99%e6%95%b0%e6%8d%ae%e7%bb%9f%e8%ae%a1&utm_content=%e9%80%9a%e7%94%a8-%e6%95%b0%e6%8d%ae%e7%bb%9f%e8%ae%a1&utm_cam       1\n",
       "https://m.baidu.com/baidu.php?sc.Dz6K00ajR0fggHxKsqE-OBgmRAUEEmqB4ivL7mNBYyNaG-NS3Wwi_gxl7zABllqoyYCWe3UUQd8E95al8VJMzZ1pXlMr4D7VsoXPp6NpAFLRxWttckJShupkeZKd16LzB-rsExJl582mSIYgIMKZD2RC5MR5S0Kck3dVVHW       1\n",
       "https://snaptube.cloud.sensorsdata.cn/segmentation/                                                                                                                                                            1\n",
       "http://m.sogou.com/web/searchList.jsp?uID=QFAB19-jZQS5RQyx&v=5&dp=1&pid=sogou-mobb-d2dc6368837861b4-0007&w=1278&t=1488888810392&s_t=1488889138849&s_from=result_up&keyword=ETL&pg=webSearchList&suguuid=       1\n",
       "https://m.baidu.com/baidu.php?sc.5iTK00KLHPINx0K4TaRbad5Plpt_Pb135PrUD7tVld1AGhvfzPth5d_gPHRlvGH4KrUiDN-lAtxdMbEHddGx9AxD_pnZVoWlk_ORfGFTe6EQRZvj7n9c4O42yH7u1VbozNTYyFQJ6zptkjsUl1fvkQNRD0vfDQTsyvJlx94       1\n",
       "https://m.baidu.com/from=844b/bd_page_type=1/ssid=0/uid=0/pu=sz%401320_2001%2Cta%40iphone_1_10.2_3_602%2Cusm%401/baiduid=3E19A435434E4B47D89B65F4D14A259E/w=0_10_/t=iphone/l=1/tc?ref=www_iphone&lid=103       1\n",
       "http://wap.sogou.com/waprdt?query=%B4%F3%CA%FD%BE%DD%D3%A6%D3%C3&clickid=a4280a1437541fb88878a99d045a5b7c                                                                                                      1\n",
       "http://www.sogou.com/bill_cpc?v=1&p=WJhHUFCoV99UBmcXmBH96zO6$L7nRXV87imdTNuqlhmeU74nJ7En8Hcm70MiutHVbQwGoOzvh6fe7xUajUAZUxlG$JQ3t2NYQVmB3mRnJutf3MKx2d@TTIss8Fj2LMPiHbV@fSy@KQNrWCJsbFCrNWis521lM2EredDx       1\n",
       "http://www.sogou.com/bill_cpc?v=1&p=WJhHUbdrV99UBsYmmbmJsiP3HrrucxlT2@s8NOtnrGS3xbpeAbn87EWaEw@t8nQA2ABxyvme7a9yalyr9Y71w$wAp2x3r432MlNoYf$lnis61$qhxrETKWDdssWpzNixaLr2XUmXrITWM5g61DXLLs2LdMXNdL7l5EE@       1\n",
       "http://wap.sogou.com/waprdt?query=%CA%FD%BE%DD%B7%D6%CE%F6&clickid=0ed90845cd7cb0c58878ae4d8c8472f3                                                                                                            1\n",
       "http://data.systoon.com/segmentation/?project=production                                                                                                                                                       1\n",
       "https://m.baidu.com/baidu.php?sc.7aTK000oVZZ3KirSsuhreirG9Yrx9FoyW3OeNnQDB0uNvbCbU0pYssKJWoGjx64rV8lC73s6KAudM433_iIL3VIAqNoUChJ6nHvPK4StONA1bLKo0KFuBuXmGHP1JlecUeJm63P76aHyEu_JhMeAHxvLA5OBQblg7UmswXX       1\n",
       "https://www.sensorsdata.cn/?utm_source=baidu&utm_medium=cpc&utm_term=%E7%94%A8%E6%88%B7%E8%A1%8C%E4%B8%BA%E6%95%B0%E6%8D%AE&utm_content=%E9%80%9A%E7%94%A8%2D%E7%94%A8%E6%88%B7%E8%A1%8C%E4%B8%BA%E5%88%       1\n",
       "https://m.baidu.com/from=844b/bd_page_type=1/ssid=0/uid=0/pu=usm%401%2Csz%401320_2001%2Cta%40iphone_1_10.2_3_602/baiduid=5FB6A0F571A0D2590132DEB725879C8F/w=0_10_/t=iphone/l=1/tc?ref=www_iphone&lid=116       1\n",
       "http://www.baidu.com/baidu.php?sc.Dz6K00jXHZldojWlE08N6sYGwu2lebZ4I-x-N356ifrXC_H-X6SkUtnKYvx9v2qIAoTetcQtQ8tJN5-Pt6hfWgwec22tCHx009d0_t2LuJ3kVRwn_1dMGaQrqGQwxP0ehE2VLnEiWmY25vFXGMHZluLzQjscu3kXYuUJN_       1\n",
       "http://m.sogou.com/bill_cpc?v=1&p=WJhHUbCs989tONn9JGW4Zj8oQaI9hHl1sA@4sAkv9LJlloVYQnR$M4wSmY@9OfBgVI33lvzYpwscxelagSlRAlp6G0wOjcwVVAboUk6EPaYF9Eb1@4m@d@eMOOhfjiDHOKzMkdGT8oL@5JuQODWFGdgHW1@4lRCMmKQCvn       1\n",
       "https://m.baidu.com/baidu.php?sc.2B6K00a36U0dK_E1YUfc1__0EcJIZETUc31vHAhdm2yB6cjm84Tw_-34G9JrmO0KyPn9aXesF1wvqdM24R421Ml7-0KObLtaHsvLeUFFT1a5_m-1o0aY8dGGGhpeS_khgAf2xcaq6dxTMEXIHA44RL1bEXx9AU1pAy3nAUO       1\n",
       "http://www.baidu.com/baidu.php?sc.7aTK00K5AM1eqSGSFvHBl3_XgVVqSfBmmwQJz25Cw_XmyDY4X7kjv4lffX81cxBGrT23dqIrpycrld1P3CK5MrPNrlCxPUjihwNtav-Z740qh0MP5qenBSLvQbi4JCCbuuBgBlnE9lBu3y2TSLFGOehpG9UNlPqJN-cN7O       1\n",
       "https://m.baidu.com/from=1012852s/bd_page_type=1/ssid=0/uid=0/pu=usm%401%2Csz%40320_1004%2Cta%40iphone_2_6.0_11_8.5/baiduid=C4CE795A10758B5EC2CBC5F4BB32D80F/w=0_10_/t=iphone/l=3/tc?ref=www_iphone&lid=       1\n",
       "http://www.sogou.com/sogou?query=%E4%BA%8B%E4%BB%B6%E5%88%86%E6%9E%90&pid=sogou-netb-12bcd658ef0a540c                                                                                                          1\n",
       "https://www.sensorsdata.cn/manual/dimension_dict.html                                                                                                                                                          1\n",
       "https://m.baidu.com/baidu.php?sc.9aTK00aUZedEiha7BIEyKVnvTkJfLQDCxOPC5CUPB3miutCO6TdgUkyrl7Qh0ScuV-hUVRiOu1sg82FkYW_Ds4PkX3lQArnAXBo4tq0-OHwDU6BTCbXhfmiHc5LgPHjO8igrZFr0Pen9ANfTYZ9KcBewmGqjI3cBTk9bvPf       1\n",
       "https://m.baidu.com/baidu.php?sc.JaTK000f_Pak3IFPglMwRDi0ReB51G5-bolmmXMG-qTqIiPbEfvgyyp4fynCUOnY-tII3OWGSoiZO3foujOMxgiC23Mbl3ocXUmlWh0a7BlBvE7e7vH8sR2uDJHc1jNBedZYvYJo6ZWMJbuEUTwOLbxqGrRoe4XEsjQPXWS       1\n",
       "https://m.baidu.com/baidu.php?sc.7a6K000WG0uWmUgoZV3hWHYfgrfNCpQORloMjE-FFCK0XmSUHlEIGGQoCcHeqztj2ikdwzAtPOyMQn2izm3mBFz0Rc5VRFN_Qhxlz9l41UFBnNZvqqSraIElBSJ_WiJfaxFHetoyrw5vlF8NG-p-NasS-aQmTfozH6OmpHl       1\n",
       "https://m.sogou.com/bill_cpc?v=1&p=WJhVUbds989YOYMUJ$BVhj8oQGoy3U5FMXEiKw6AGv9QxVwTVXlNghcANiKpOcbllA6aBQVRy6wk@o4je9RqlYSU65k4Uawk2ov9nOy7SNkPjUekvD@ssW@8MThf@pT1@V0MeCNZvI8BMsJouVMf28PgWXrXLqLlgEeMD       1\n",
       "https://www.sensorsdata.cn/courses/play.html?v=user_segmentation                                                                                                                                               1\n",
       "http://www.sogou.com/bill_cpc?v=1&p=WJhHUbMa919UB0zimLFAAUcOQfUJx49s7isdGb7v7xwrVWe787X7JVO6KCeut0XsusGDS3T951xVUalv7bPpaxy9xzT936pZHrRh$k2TCmvm7EoBiXssWM@2ddcZOvT1oOFBsTh3XEudMLAhg2ddqu@WLTffRKRabLdM       1\n",
       "http://wisd.sogou.com/bill_cpc?v=1&p=WJhVUFmw919YBuanJG7IGARwgPnaywraBKzSTtupkJqY$zj22r$5LWZAMD0niu311BZQQ7kPQlrzLSCQ90xI5nUUbj163NFQyA87w7E953EvQK0LW@88@ymbsZLK4DO@MZin6VGEMEs0K5VW@TviKMKBgYlW5B6M8m4       1\n",
       "Name: referrer, Length: 1979, dtype: int64"
      ]
     },
     "execution_count": 418,
     "metadata": {},
     "output_type": "execute_result"
    }
   ],
   "source": [
    "# 14 referrer\n",
    "df['referrer'].value_counts()"
   ]
  },
  {
   "cell_type": "code",
   "execution_count": 419,
   "metadata": {},
   "outputs": [],
   "source": [
    "others(300, 'referrer')"
   ]
  },
  {
   "cell_type": "code",
   "execution_count": 420,
   "metadata": {},
   "outputs": [
    {
     "data": {
      "text/plain": [
       "others                             4850\n",
       "https://www.baidu.com/baidu.php    3125\n",
       "no_referrer                        2803\n",
       "https://www.sensorsdata.cn/         978\n",
       "Name: referrer, dtype: int64"
      ]
     },
     "execution_count": 420,
     "metadata": {},
     "output_type": "execute_result"
    }
   ],
   "source": [
    "df['referrer'].value_counts()"
   ]
  },
  {
   "cell_type": "code",
   "execution_count": 421,
   "metadata": {},
   "outputs": [
    {
     "data": {
      "text/plain": [
       "no_referrer_host                   3578\n",
       "www.baidu.com                      3333\n",
       "www.sensorsdata.cn                 2596\n",
       "m.baidu.com                         650\n",
       "sensorsdata.cn                      435\n",
       "www.sogou.com                       204\n",
       "36kr.com                            138\n",
       "m.sogou.com                         116\n",
       "link.zhihu.com                       88\n",
       "www.google.com.hk                    58\n",
       "image.baidu.com                      51\n",
       "wap.sogou.com                        41\n",
       "googleads.g.doubleclick.net          39\n",
       "www.google.com                       26\n",
       "www.woshipm.com                      18\n",
       "zhidao.baidu.com                     15\n",
       "c.tieba.baidu.com                    14\n",
       "cn.bing.com                          14\n",
       "www.so.com                           13\n",
       "youxuan.baidu.com                    12\n",
       "wenku.baidu.com                      11\n",
       "mp.weixinbridge.com                  10\n",
       "cpro.baidu.com                       10\n",
       "class.sanjieke.cn                     9\n",
       "www.sanjieke.cn                       8\n",
       "sensors.ishansong.com                 7\n",
       "data.corp.36kr.com                    7\n",
       "next.36kr.com                         7\n",
       "so.m.sm.cn                            6\n",
       "a.mobi.sogou.com                      6\n",
       "                                   ... \n",
       "sensorsdata.chunyu.me                 1\n",
       "www.huodongxing.com                   1\n",
       "google.gg-g.org                       1\n",
       "www.3lian.com                         1\n",
       "www.jiuzhilan.com                     1\n",
       "www.xfz.cn                            1\n",
       "uxren.cn                              1\n",
       "jiage.cloud.sensorsdata.cn            1\n",
       "www.prnasia.com                       1\n",
       "cache.baiducontent.com                1\n",
       "dayimatest.cloud.sensorsdata.cn       1\n",
       "my.worktile.com                       1\n",
       "duckduckgo.com                        1\n",
       "geek.csdn.net                         1\n",
       "ba-demo.tingyun.com                   1\n",
       "saasdemo.cloud.sensorsdata.cn         1\n",
       "dmp.dianjoy.cn                        1\n",
       "sanjieke.cloud.sensorsdata.cn         1\n",
       "shimo.im                              1\n",
       "sawiki2.nie.netease.com               1\n",
       "www.juudian.com                       1\n",
       "qiyukf.cloud.sensorsdata.cn           1\n",
       "wiki.gf.com.cn                        1\n",
       "www.google.com.sg                     1\n",
       "ad.bytedance.net                      1\n",
       "sc.vipkid.com.cn                      1\n",
       "hao.199it.com                         1\n",
       "data-admin.kaiyanapp.com              1\n",
       "mail.yixia.com                        1\n",
       "tigerwit.cloud.sensorsdata.cn         1\n",
       "Name: referrer_host, Length: 167, dtype: int64"
      ]
     },
     "execution_count": 421,
     "metadata": {},
     "output_type": "execute_result"
    }
   ],
   "source": [
    "# 15 referrer_host\n",
    "df['referrer_host'].value_counts()"
   ]
  },
  {
   "cell_type": "code",
   "execution_count": 422,
   "metadata": {},
   "outputs": [],
   "source": [
    "others(300, 'referrer_host')"
   ]
  },
  {
   "cell_type": "code",
   "execution_count": 423,
   "metadata": {},
   "outputs": [
    {
     "data": {
      "text/plain": [
       "no_referrer_host      3578\n",
       "www.baidu.com         3333\n",
       "www.sensorsdata.cn    2596\n",
       "others                1164\n",
       "m.baidu.com            650\n",
       "sensorsdata.cn         435\n",
       "Name: referrer_host, dtype: int64"
      ]
     },
     "execution_count": 423,
     "metadata": {},
     "output_type": "execute_result"
    }
   ],
   "source": [
    "df['referrer_host'].value_counts()"
   ]
  },
  {
   "cell_type": "code",
   "execution_count": 424,
   "metadata": {},
   "outputs": [
    {
     "data": {
      "text/plain": [
       "神策数据 | Sensors Data - 国内领先的用户行为分析产品                                                                                                                                                                                                                                                                                                                                                                                                                                                                                     6859\n",
       "no_title                                                                                                                                                                                                                                                                                                                                                                                                                                                                                                                 901\n",
       "介绍 · Sensors Analytics 使用手册                                                                                                                                                                                                                                                                                                                                                                                                                                                                                              804\n",
       "神策分析|Sensors Analytics-帮你实现数据驱动－demo                                                                                                                                                                                                                                                                                                                                                                                                                                                                                     782\n",
       "神策分析|Sensors Analytics-帮你实现数据驱动－产品                                                                                                                                                                                                                                                                                                                                                                                                                                                                                       732\n",
       "神策分析|Sensors Analytics-帮你实现数据驱动－B轮融资发布会                                                                                                                                                                                                                                                                                                                                                                                                                                                                                  306\n",
       "神策分析|Sensors Analytics-帮你实现数据驱动-视频列表                                                                                                                                                                                                                                                                                                                                                                                                                                                                                     180\n",
       "神策分析|Sensors Analytics-帮你实现数据驱动－关于                                                                                                                                                                                                                                                                                                                                                                                                                                                                                       171\n",
       "神策分析|Sensors Analytics-帮你实现数据驱动－视频播放                                                                                                                                                                                                                                                                                                                                                                                                                                                                                      93\n",
       "数据模型 · Sensors Analytics 使用手册                                                                                                                                                                                                                                                                                                                                                                                                                                                                                             73\n",
       "可视化埋点 · Sensors Analytics 使用手册                                                                                                                                                                                                                                                                                                                                                                                                                                                                                            67\n",
       "JavaScript SDK · Sensors Analytics 使用手册                                                                                                                                                                                                                                                                                                                                                                                                                                                                                   56\n",
       "Android SDK · Sensors Analytics 使用手册                                                                                                                                                                                                                                                                                                                                                                                                                                                                                      52\n",
       "weixin://private/setresult/SCENE_FETCHQUEUE&eyJmdW5jIjoibG9nIiwicGFyYW1zIjp7Im1zZyI6Il9ydW5PbjNyZEFwaUxpc3QgOiBtZW51OnNoYXJlOnRpbWVsaW5lLG1lbnU6c2hhcmU6YXBwbWVzc2FnZSxvblZvaWNlUmVjb3JkRW5kLG9uVm9pY2VQbGF5QmVnaW4sb25Wb2ljZVBsYXlFbmQsb25Mb2NhbEltYWdlVXBsb2FkUHJvZ3Jlc3Msb25JbWFnZURvd25sb2FkUHJvZ3Jlc3Msb25Wb2ljZVVwbG9hZFByb2dyZXNzLG9uVm9pY2VEb3dubG9hZFByb2dyZXNzLG1lbnU6c2V0Zm9udCxtZW51OnNoYXJlOndlaWJvLG1lbnU6c2hhcmU6ZW1haWwsd3hkb3dubG9hZDpzdGF0ZV9jaGFuZ2UsaGRPbkRldmljZVN0YXRlQ2hhbmdlZCxhY3Rpdml0eTpz      41\n",
       "神策分析|Sensors Analytics-帮你实现数据驱动-网址构建工具                                                                                                                                                                                                                                                                                                                                                                                                                                                                                    35\n",
       "weixin://private/setresult/SCENE_HANDLEMSGFROMWX&eyJfX2Vycl9jb2RlIjoiY2I0MDQifQ==                                                                                                                                                                                                                                                                                                                                                                                                                                         34\n",
       "漏斗分析 · Sensors Analytics 使用手册                                                                                                                                                                                                                                                                                                                                                                                                                                                                                             28\n",
       "iOS SDK · Sensors Analytics 使用手册                                                                                                                                                                                                                                                                                                                                                                                                                                                                                          28\n",
       "事件分析 · Sensors Analytics 使用手册                                                                                                                                                                                                                                                                                                                                                                                                                                                                                             27\n",
       "数据接入 · Sensors Analytics 使用手册                                                                                                                                                                                                                                                                                                                                                                                                                                                                                             27\n",
       "留存分析 · Sensors Analytics 使用手册                                                                                                                                                                                                                                                                                                                                                                                                                                                                                             24\n",
       "Java SDK · Sensors Analytics 使用手册                                                                                                                                                                                                                                                                                                                                                                                                                                                                                         20\n",
       "查询 API · Sensors Analytics 使用手册                                                                                                                                                                                                                                                                                                                                                                                                                                                                                           20\n",
       "数据格式 · Sensors Analytics 使用手册                                                                                                                                                                                                                                                                                                                                                                                                                                                                                             20\n",
       "用户路径分析 · Sensors Analytics 使用手册                                                                                                                                                                                                                                                                                                                                                                                                                                                                                           19\n",
       "自定义查询 · Sensors Analytics 使用手册                                                                                                                                                                                                                                                                                                                                                                                                                                                                                            19\n",
       "用户分群 · Sensors Analytics 使用手册                                                                                                                                                                                                                                                                                                                                                                                                                                                                                             19\n",
       "App 渠道追踪 · Sensors Analytics 使用手册                                                                                                                                                                                                                                                                                                                                                                                                                                                                                         18\n",
       "使用文档 · Sensors Analytics 使用手册                                                                                                                                                                                                                                                                                                                                                                                                                                                                                             16\n",
       "用户行为序列 · Sensors Analytics 使用手册                                                                                                                                                                                                                                                                                                                                                                                                                                                                                           13\n",
       "                                                                                                                                                                                                                                                                                                                                                                                                                                                                                                                        ... \n",
       "多项目管理工具使用说明 · Sensors Analytics 使用手册                                                                                                                                                                                                                                                                                                                                                                                                                                                                                       4\n",
       "埋点管理 · Sensors Analytics 使用手册                                                                                                                                                                                                                                                                                                                                                                                                                                                                                              4\n",
       "Node SDK · Sensors Analytics 使用手册                                                                                                                                                                                                                                                                                                                                                                                                                                                                                          4\n",
       "使用 HTTPS 的数据接入 · Sensors Analytics 使用手册                                                                                                                                                                                                                                                                                                                                                                                                                                                                                    3\n",
       "正则表达式 · Sensors Analytics 使用手册                                                                                                                                                                                                                                                                                                                                                                                                                                                                                             3\n",
       "维度字典 · Sensors Analytics 使用手册                                                                                                                                                                                                                                                                                                                                                                                                                                                                                              3\n",
       "数据预处理模块 · Sensors Analytics 使用手册                                                                                                                                                                                                                                                                                                                                                                                                                                                                                           3\n",
       "数据接入基本原则 · Sensors Analytics 使用手册                                                                                                                                                                                                                                                                                                                                                                                                                                                                                          3\n",
       "行为分析常用名词 · Sensors Analytics 使用手册                                                                                                                                                                                                                                                                                                                                                                                                                                                                                          2\n",
       "权限管理 · Sensors Analytics 使用手册                                                                                                                                                                                                                                                                                                                                                                                                                                                                                              2\n",
       "APICloud SDK · Sensors Analytics 使用手册                                                                                                                                                                                                                                                                                                                                                                                                                                                                                      2\n",
       "Ruby SDK · Sensors Analytics 使用手册                                                                                                                                                                                                                                                                                                                                                                                                                                                                                          2\n",
       "电商类产品 · Sensors Analytics 使用手册                                                                                                                                                                                                                                                                                                                                                                                                                                                                                             2\n",
       "Java SDK Demo · Sensors Analytics 使用手册                                                                                                                                                                                                                                                                                                                                                                                                                                                                                     2\n",
       "产品更新日志 · Sensors Analytics 使用手册                                                                                                                                                                                                                                                                                                                                                                                                                                                                                            2\n",
       "企业服务类产品 · Sensors Analytics 使用手册                                                                                                                                                                                                                                                                                                                                                                                                                                                                                           2\n",
       "CustomUserSegmenter 使用说明 · Sensors Analytics 使用手册                                                                                                                                                                                                                                                                                                                                                                                                                                                                          2\n",
       "多项目 · Sensors Analytics 使用手册                                                                                                                                                                                                                                                                                                                                                                                                                                                                                               1\n",
       "数据接入 API · Sensors Analytics 使用手册                                                                                                                                                                                                                                                                                                                                                                                                                                                                                          1\n",
       "产品视频 · Sensors Analytics 使用手册                                                                                                                                                                                                                                                                                                                                                                                                                                                                                              1\n",
       "微信小程序 SDK · Sensors Analytics 使用手册                                                                                                                                                                                                                                                                                                                                                                                                                                                                                         1\n",
       "查询抽样 · Sensors Analytics 使用手册                                                                                                                                                                                                                                                                                                                                                                                                                                                                                              1\n",
       "Sensor Analytics - help you implement data drivers                                                                                                                                                                                                                                                                                                                                                                                                                                                                         1\n",
       "订阅实时数据 · Sensors Analytics 使用手册                                                                                                                                                                                                                                                                                                                                                                                                                                                                                            1\n",
       "神策分析相关名词 · Sensors Analytics 使用手册                                                                                                                                                                                                                                                                                                                                                                                                                                                                                          1\n",
       "工具导入 · Sensors Analytics 使用手册                                                                                                                                                                                                                                                                                                                                                                                                                                                                                              1\n",
       "进阶使用场景 · Sensors Analytics 使用手册                                                                                                                                                                                                                                                                                                                                                                                                                                                                                            1\n",
       "3 神策数据 | Sensors Data - 国内领先的用户行为分析产品                                                                                                                                                                                                                                                                                                                                                                                                                                                                                      1\n",
       "调试模式 · Sensors Analytics 使用手册                                                                                                                                                                                                                                                                                                                                                                                                                                                                                              1\n",
       "HdfsImporter · Sensors Analytics 使用手册                                                                                                                                                                                                                                                                                                                                                                                                                                                                                      1\n",
       "Name: title, Length: 87, dtype: int64"
      ]
     },
     "execution_count": 424,
     "metadata": {},
     "output_type": "execute_result"
    }
   ],
   "source": [
    "# 16 title\n",
    "df['title'].value_counts()"
   ]
  },
  {
   "cell_type": "code",
   "execution_count": 425,
   "metadata": {},
   "outputs": [],
   "source": [
    "others(500, 'title')"
   ]
  },
  {
   "cell_type": "code",
   "execution_count": 426,
   "metadata": {},
   "outputs": [
    {
     "data": {
      "text/plain": [
       "神策数据 | Sensors Data - 国内领先的用户行为分析产品     6859\n",
       "others                                  1678\n",
       "no_title                                 901\n",
       "介绍 · Sensors Analytics 使用手册              804\n",
       "神策分析|Sensors Analytics-帮你实现数据驱动－demo     782\n",
       "神策分析|Sensors Analytics-帮你实现数据驱动－产品       732\n",
       "Name: title, dtype: int64"
      ]
     },
     "execution_count": 426,
     "metadata": {},
     "output_type": "execute_result"
    }
   ],
   "source": [
    "df['title'].value_counts()"
   ]
  },
  {
   "cell_type": "code",
   "execution_count": 427,
   "metadata": {},
   "outputs": [
    {
     "data": {
      "text/plain": [
       "https://www.sensorsdata.cn/                                                                                                                                                                                                                                                                            1407\n",
       "https://www.sensorsdata.cn/demo.html                                                                                                                                                                                                                                                                    667\n",
       "https://www.sensorsdata.cn/?utm_source=baidu&utm_medium=cpc&utm_term=%E7%94%A8%E6%88%B7%E7%94%BB%E5%83%8F&utm_content=%E9%80%9A%E7%94%A8%2D%E7%94%A8%E6%88%B7%E7%94%BB%E5%83%8F&utm_campaign=%E9%80%9A%E7%94%A8%E8%AF%8D                                                                                601\n",
       "https://www.sensorsdata.cn/?utm_source=baidu&utm_medium=mfeed&utm_term=%E9%A6%96%E9%A1%B5-%E9%80%9A%E7%94%A8%E8%AF%8D-%E4%B8%89%E5%9B%BE-%E5%9B%BE1&utm_content=%E9%80%9A%E7%94%A8%E8%AF%8D-%E4%B8%89%E5%9B%BE&utm_campaign=%E9%A6%96%E9%A1%B5                                                          517\n",
       "https://www.sensorsdata.cn/manual/                                                                                                                                                                                                                                                                      436\n",
       "https://www.sensorsdata.cn/product.html                                                                                                                                                                                                                                                                 361\n",
       "https://www.sensorsdata.cn/?utm_source=sogou&utm_medium=mcpc&utm_term=%e6%95%b0%e6%8d%ae%e5%88%86%e6%9e%90&utm_content=%e9%80%9a%e7%94%a8-%e6%95%b0%e6%8d%ae%e5%88%86%e6%9e%90&utm_campaign=S-%e9%80%9a%e7%94%a8%e8%af%8d                                                                               261\n",
       "https://www.sensorsdata.cn/manual/index.html                                                                                                                                                                                                                                                            248\n",
       "https://sensorsdata.cn/                                                                                                                                                                                                                                                                                 212\n",
       "https://www.sensorsdata.cn/b-round.html                                                                                                                                                                                                                                                                 210\n",
       "https://www.sensorsdata.cn/index.html                                                                                                                                                                                                                                                                   185\n",
       "https://sensorsdata.cn/demo.html                                                                                                                                                                                                                                                                        178\n",
       "no_url                                                                                                                                                                                                                                                                                                  174\n",
       "https://sensorsdata.cn/b-round.html                                                                                                                                                                                                                                                                     173\n",
       "https://www.sensorsdata.cn/?utm_source=baidu&utm_medium=cpc&utm_term=%E7%94%A8%E6%88%B7%E5%88%86%E6%9E%90&utm_content=%E9%80%9A%E7%94%A8%2D%E7%94%A8%E6%88%B7%E5%88%86%E6%9E%90&utm_campaign=%E9%80%9A%E7%94%A8%E8%AF%8D                                                                                165\n",
       "https://www.sensorsdata.cn/?utm_source=baidu&utm_medium=cpc&utm_term=%E7%94%B5%E5%AD%90%E5%95%86%E5%8A%A1%E6%95%B0%E6%8D%AE&utm_content=%E9%80%9A%E7%94%A8%2D%E7%94%B5%E5%95%86%E8%BF%90%E8%90%A5&utm_campaign=%E9%80%9A%E7%94%A8%E8%AF%8D                                                              143\n",
       "https://www.sensorsdata.cn/?utm_source=baidu&utm_medium=cpc&utm_term=%E7%A5%9E%E7%AD%96&utm_content=%E5%93%81%E7%89%8C%2D%E7%A5%9E%E7%AD%96&utm_campaign=%E5%93%81%E7%89%8C%E8%AF%8D                                                                                                                    138\n",
       "https://www.sensorsdata.cn/courses/                                                                                                                                                                                                                                                                     135\n",
       "https://www.sensorsdata.cn/courses/index.html                                                                                                                                                                                                                                                           123\n",
       "https://www.sensorsdata.cn/about.html                                                                                                                                                                                                                                                                   117\n",
       "https://www.sensorsdata.cn/?utm_source=baidu&utm_medium=cpc&utm_term=%E7%A5%9E%E7%AD%96%E6%95%B0%E6%8D%AE&utm_content=%E5%93%81%E7%89%8C%2D%E7%A5%9E%E7%AD%96&utm_campaign=%E5%93%81%E7%89%8C%E8%AF%8D                                                                                                  104\n",
       "https://www.sensorsdata.cn/?utm_source=baidu&utm_medium=cpc&utm_term=%E5%A4%A7%E6%95%B0%E6%8D%AE%E5%88%86%E6%9E%90&utm_content=%E9%80%9A%E7%94%A8%2D%E6%95%B0%E6%8D%AE%E5%88%86%E6%9E%90&utm_campaign=%E9%80%9A%E7%94%A8%E8%AF%8D                                                                       103\n",
       "file:///D:/xampp/htdocs/%E5%BE%AE%E6%96%AF%E8%AF%BA%E7%A7%91%E6%8A%80%E6%9C%89%E9%99%90%E5%85%AC%E5%8F%B8%E5%AE%98%E7%BD%91/%E7%A8%8B%E5%BA%8F/data.html                                                                                                                                                 98\n",
       "https://www.sensorsdata.cn/?utm_source=baidu&utm_medium=cpc&utm_term=%E4%BA%A7%E5%93%81%E6%95%B0%E6%8D%AE%E5%88%86%E6%9E%90&utm_content=%E9%80%9A%E7%94%A8%2D%E6%95%B0%E6%8D%AE%E5%88%86%E6%9E%90&utm_campaign=%E9%80%9A%E7%94%A8%E8%AF%8D                                                               96\n",
       "https://www.sensorsdata.cn/?utm_source=baidu&utm_medium=cpc&utm_term=%E8%81%9A%E7%B1%BB%E5%88%86%E6%9E%90&utm_content=%E9%80%9A%E7%94%A8%2D%E6%95%B0%E6%8D%AE%E5%88%86%E6%9E%90&utm_campaign=%E9%80%9A%E7%94%A8%E8%AF%8D                                                                                 79\n",
       "https://www.sensorsdata.cn/?utm_source=baidu&utm_medium=mcpc&utm_campaign=%e7%a5%9e%e7%ad%96-%e7%a7%bb%e5%8a%a8%e6%8e%a8%e5%b9%bf&utm_content=%e9%80%9a%e7%94%a8%e8%af%8d-M&utm_term=%e5%a4%a7%e6%95%b0%e6%8d%ae%e5%88%86%e6%9e%90                                                                       78\n",
       "https://www.sensorsdata.cn/?utm_source=baidu&utm_medium=cpc&utm_term=%E7%BD%91%E7%AB%99%E6%95%B0%E6%8D%AE%E7%BB%9F%E8%AE%A1&utm_content=%E9%80%9A%E7%94%A8%2D%E6%95%B0%E6%8D%AE%E7%BB%9F%E8%AE%A1&utm_campaign=%E9%80%9A%E7%94%A8%E8%AF%8D                                                               76\n",
       "https://sensorsdata.cn/manual/                                                                                                                                                                                                                                                                           75\n",
       "https://www.sensorsdata.cn/?utm_source=baidu&utm_medium=cpc&utm_term=%E6%95%B0%E6%8D%AE%E5%88%86%E6%9E%90&utm_content=%E9%80%9A%E7%94%A8%2D%E6%95%B0%E6%8D%AE%E5%88%86%E6%9E%90&utm_campaign=%E9%80%9A%E7%94%A8%E8%AF%8D                                                                                 72\n",
       "https://www.sensorsdata.cn/?utm_source=baidu&utm_medium=mcpc&utm_campaign=%e7%a5%9e%e7%ad%96-%e7%a7%bb%e5%8a%a8%e6%8e%a8%e5%b9%bf&utm_content=%e9%80%9a%e7%94%a8%e8%af%8d-M&utm_term=%e7%94%a8%e6%88%b7%e7%94%bb%e5%83%8f                                                                                67\n",
       "                                                                                                                                                                                                                                                                                                       ... \n",
       "https://www.sensorsdata.cn/?utm_source=baidu&utm_medium=cpc&utm_term=%E6%95%B0%E6%8D%AE%E6%8C%96%E6%8E%98&utm_content=%E9%80%9A%E7%94%A8-%E6%95%B0%E6%8D%AE%E5%A4%84%E7%90%86&utm_campaign=%E9%80%9A%E7%94%A8%E8%AF%8D                                                                                    1\n",
       "https://www.sensorsdata.cn/manual/edu_case_core_measure.html#                                                                                                                                                                                                                                             1\n",
       "https://www.sensorsdata.cn/?utm_source=baidu&utm_medium=cpc&utm_term=app%E6%95%B0%E6%8D%AE%E5%88%86%E6%9E%90%E5%B7%A5%E5%85%B7&utm_content=%E9%80%9A%E7%94%A8-%E6%95%B0%E6%8D%AE%E5%88%86%E6%9E%90-%E8%A1%8C%E4%B8%9A&utm_campaign=%E9%80%9A%E7%94%A8%E8%AF%8D                                            1\n",
       "file:///D:/x-certificate!/Sensors%20Analytics%20%E4%BD%BF%E7%94%A8%E6%89%8B%E5%86%8C/Sensors%20Analytics%20%E4%BD%BF%E7%94%A8%E6%89%8B%E5%86%8C/custom_user_segmenter.html                                                                                                                                1\n",
       "http://sensorsdata.cn/index.html                                                                                                                                                                                                                                                                          1\n",
       "http://www.sensorsdata.cn/manual/data_import_faq.html                                                                                                                                                                                                                                                     1\n",
       "https://www.sensorsdata.cn/manual/data_schema.html?winzoom=1                                                                                                                                                                                                                                              1\n",
       "https://www.sensorsdata.cn/?utm_source=baidu&utm_medium=cpc&utm_term=%E6%95%B0%E6%8D%AE%E7%BB%9F%E8%AE%A1%E5%B9%B3%E5%8F%B0&utm_content=%E9%80%9A%E7%94%A8-%E6%95%B0%E6%8D%AE%E7%BB%9F%E8%AE%A1-%E4%BA%A7%E5%93%81&utm_campaign=%E9%80%9A%E7%94%A8%E8%AF%8D                                               1\n",
       "https://www.sensorsdata.cn/?utm_source=baidu&utm_medium=cpc&utm_term=%E5%AE%A2%E6%88%B7%E7%94%BB%E5%83%8F%E5%88%86%E6%9E%90&utm_content=%E9%80%9A%E7%94%A8-%E7%94%A8%E6%88%B7%E7%94%BB%E5%83%8F-%E5%8A%9F%E8%83%BD&utm_campaign=%E9%80%9A%E7%94%A8%E8%AF%8D                                               1\n",
       "https://www.sensorsdata.cn/?utm_source=google&utm_medium=cpc&utm_term=%E7%94%A8%E6%88%B7%E5%88%86%E7%BE%A4&utm_content=%E9%80%9A%E7%94%A8%2D%E7%94%A8%E6%88%B7%E5%88%86%E7%BE%A4&utm_campaign=G%2D%E9%80%9A%E7%94%A8%E8%AF%8D                                                                             1\n",
       "file:///D:/x-certificate!/Sensors%20Analytics%20%E4%BD%BF%E7%94%A8%E6%89%8B%E5%86%8C/Sensors%20Analytics%20%E4%BD%BF%E7%94%A8%E6%89%8B%E5%86%8C/data_import.html                                                                                                                                          1\n",
       "https://www.sensorsdata.cn/manual/java_sdk.html?winzoom=1                                                                                                                                                                                                                                                 1\n",
       "file:///R:/MyTemp/sensorsdata/sampling_query.html                                                                                                                                                                                                                                                         1\n",
       "https://www.sensorsdata.cn/?utm_source=baidu&utm_medium=cpc&utm_term=%E4%BA%92%E8%81%94%E7%BD%91%E6%95%B0%E6%8D%AE%E5%88%86%E6%9E%90&utm_content=%E9%80%9A%E7%94%A8-%E6%95%B0%E6%8D%AE%E5%88%86%E6%9E%90-%E4%BA%92%E8%81%94%E7%BD%91&utm_campaign=%E9%80%9A%E7%94%A8%E8%AF%8D                             1\n",
       "https://www.sensorsdata.cn/?utm_source=baidu&utm_medium=cpc&utm_term=%e6%95%b0%e6%8d%ae%e5%88%86%e6%9e%90%e5%b7%a5%e5%85%b7%e6%9c%89%e5%93%aa%e4%ba%9b&utm_content=%e9%80%9a%e7%94%a8-%e6%95%b0%e6%8d%ae%e5%88%86%e6%9e%90-%e5%85%b6%e4%bb%96&utm_campaign=%e9%80%9a%e7%94%a8%e8%af%8d                    1\n",
       "https://www.sensorsdata.cn/manual/app_push.html#                                                                                                                                                                                                                                                          1\n",
       "https://www.sensorsdata.cn/?utm_source=baidu&utm_medium=cpc&utm_term=%E5%B9%BF%E5%91%8A%E6%95%88%E6%9E%9C%E8%AF%84%E4%BC%B0&utm_content=%E9%80%9A%E7%94%A8-%E5%B9%BF%E5%91%8A%E4%BC%98%E5%8C%96&utm_campaign=%E9%80%9A%E7%94%A8%E8%AF%8D                                                                  1\n",
       "https://www.sensorsdata.cn/?utm_source=baidu&utm_medium=cpc&utm_term=%E8%BF%90%E8%90%A5%E5%95%86%E6%95%B0%E6%8D%AE%E5%88%86%E6%9E%90&utm_content=%E9%80%9A%E7%94%A8%2D%E6%95%B0%E6%8D%AE%E5%88%86%E6%9E%90%2D%E8%BF%90%E8%90%A5&utm_campaign=%E9%80%9A%E7%94%A8%E8%AF%8D                                  1\n",
       "https://sensorsdata.cn/manual/config_basic_target.html                                                                                                                                                                                                                                                    1\n",
       "https://www.sensorsdata.cn/?utm_source=baidu&utm_medium=cpc&utm_term=%E6%95%B0%E6%8D%AE%E7%BB%9F%E8%AE%A1%E5%88%86%E6%9E%90%E7%B3%BB%E7%BB%9F&utm_content=%E9%80%9A%E7%94%A8%2D%E6%95%B0%E6%8D%AE%E7%BB%9F%E8%AE%A1%2D%E4%BA%A7%E5%93%81&utm_campaign=%E9%80%9A%E7%94%A8%E8%AF%8D                         1\n",
       "https://www.sensorsdata.cn/manual/data_import_https.html#                                                                                                                                                                                                                                                 1\n",
       "https://www.sensorsdata.cn/courses/play.html?v=first#userconsent#                                                                                                                                                                                                                                         1\n",
       "https://www.sensorsdata.cn/manual/ext_processor.html#                                                                                                                                                                                                                                                     1\n",
       "https://www.sensorsdata.cn/?utm_source=baidu&utm_medium=cpc&utm_term=%E7%94%A8%E6%88%B7%E8%A1%8C%E4%B8%BA%E5%88%86%E6%9E%90%E5%B7%A5%E5%85%B7&utm_content=%E9%80%9A%E7%94%A8%2D%E7%94%A8%E6%88%B7%E8%A1%8C%E4%B8%BA%E5%88%86%E6%9E%90%2D%E7%B3%BB%E7%BB%9F&utm_campaign=%E9%80%9A%E7%94%A8%E8%AF%8D       1\n",
       "http://localhost/retention.html                                                                                                                                                                                                                                                                           1\n",
       "https://www.sensorsdata.cn/?utm_source=sogou&utm_medium=mcpc&utm_term=%e7%94%b5%e5%95%86%e6%95%b0%e6%8d%ae%e5%88%86%e6%9e%90%e5%b7%a5%e5%85%b7&utm_content=%e9%80%9a%e7%94%a8-%e6%95%b0%e6%8d%ae%e5%88%86%e6%9e%90-%e4%ba%a7%e5%93%81&utm_campaign=S-%e9%80%9a%e7%94%a8%e8%af%8d                          1\n",
       "https://www.sensorsdata.cn/?utm_source=baidu&utm_medium=cpc&utm_term=%E7%94%A8%E6%88%B7%E7%94%BB%E5%83%8F%E5%B9%B3%E5%8F%B0&utm_content=%E9%80%9A%E7%94%A8%2D%E7%94%A8%E6%88%B7%E7%94%BB%E5%83%8F%2D%E4%BA%A7%E5%93%81&utm_campaign=%E9%80%9A%E7%94%A8%E8%AF%8D                                           1\n",
       "https://www.sensorsdata.cn/?utm_source=baidu&utm_medium=cpc&utm_term=%E4%BA%BA%E7%BE%A4%E7%94%BB%E5%83%8F%E5%88%86%E6%9E%90%E5%B7%A5%E5%85%B7&utm_content=%E9%80%9A%E7%94%A8-%E7%94%A8%E6%88%B7%E7%94%BB%E5%83%8F-%E4%BA%A7%E5%93%81&utm_campaign=%E9%80%9A%E7%94%A8%E8%AF%8D                             1\n",
       "https://www.sensorsdata.cn/?utm_source=sogou&utm_medium=mcpc&utm_term=%e5%b9%bf%e5%91%8a%e6%8a%95%e6%94%be%e6%95%88%e6%9e%9c%e8%af%84%e4%bc%b0&utm_content=%e9%80%9a%e7%94%a8-%e5%b9%bf%e5%91%8a%e4%bc%98%e5%8c%96&utm_campaign=S-%e9%80%9a%e7%94%a8%e8%af%8d                                             1\n",
       "https://www.sensorsdata.cn/manual/data_import_rule.html#                                                                                                                                                                                                                                                  1\n",
       "Name: url, Length: 933, dtype: int64"
      ]
     },
     "execution_count": 427,
     "metadata": {},
     "output_type": "execute_result"
    }
   ],
   "source": [
    "# 17 url\n",
    "df['url'].value_counts()"
   ]
  },
  {
   "cell_type": "code",
   "execution_count": 428,
   "metadata": {},
   "outputs": [],
   "source": [
    "others(500, 'url')"
   ]
  },
  {
   "cell_type": "code",
   "execution_count": 429,
   "metadata": {},
   "outputs": [
    {
     "data": {
      "text/plain": [
       "others                                                                                                                                                                                                                                            8564\n",
       "https://www.sensorsdata.cn/                                                                                                                                                                                                                       1407\n",
       "https://www.sensorsdata.cn/demo.html                                                                                                                                                                                                               667\n",
       "https://www.sensorsdata.cn/?utm_source=baidu&utm_medium=cpc&utm_term=%E7%94%A8%E6%88%B7%E7%94%BB%E5%83%8F&utm_content=%E9%80%9A%E7%94%A8%2D%E7%94%A8%E6%88%B7%E7%94%BB%E5%83%8F&utm_campaign=%E9%80%9A%E7%94%A8%E8%AF%8D                           601\n",
       "https://www.sensorsdata.cn/?utm_source=baidu&utm_medium=mfeed&utm_term=%E9%A6%96%E9%A1%B5-%E9%80%9A%E7%94%A8%E8%AF%8D-%E4%B8%89%E5%9B%BE-%E5%9B%BE1&utm_content=%E9%80%9A%E7%94%A8%E8%AF%8D-%E4%B8%89%E5%9B%BE&utm_campaign=%E9%A6%96%E9%A1%B5     517\n",
       "Name: url, dtype: int64"
      ]
     },
     "execution_count": 429,
     "metadata": {},
     "output_type": "execute_result"
    }
   ],
   "source": [
    "df['url'].value_counts()"
   ]
  },
  {
   "cell_type": "code",
   "execution_count": 430,
   "metadata": {},
   "outputs": [
    {
     "data": {
      "text/plain": [
       "no_url_path               11659\n",
       "/tools/url_create.html       60\n",
       "/tools/code_auto/            37\n",
       "Name: url_path, dtype: int64"
      ]
     },
     "execution_count": 430,
     "metadata": {},
     "output_type": "execute_result"
    }
   ],
   "source": [
    "# 18 url_path\n",
    "df['url_path'].value_counts()"
   ]
  },
  {
   "cell_type": "code",
   "execution_count": 431,
   "metadata": {},
   "outputs": [
    {
     "data": {
      "text/plain": [
       "no_utm_compaign                7796\n",
       "通用词                            2329\n",
       "首页                              490\n",
       "S-通用词                           463\n",
       "神策-移动推广                         453\n",
       "品牌词                              95\n",
       "G-通用词                            86\n",
       "about                            15\n",
       "courses                           6\n",
       "trial                             5\n",
       "凤巢头条                              4\n",
       "皇冠子链                              2\n",
       "jumei-cluster                     2\n",
       "qiyukf                            1\n",
       "ymt-cluster                       1\n",
       "haomaiyi                          1\n",
       "36kr_standalone                   1\n",
       "数据分析                              1\n",
       "%E9%80%9A%E7%94%A8%E8%AF%8D       1\n",
       "fxiaoke-cluster                   1\n",
       "caroline                          1\n",
       "ebizdemo                          1\n",
       "ivymobi                           1\n",
       "Name: utm_campaign, dtype: int64"
      ]
     },
     "execution_count": 431,
     "metadata": {},
     "output_type": "execute_result"
    }
   ],
   "source": [
    "# 19 utm_campaign\n",
    "df['utm_campaign'].value_counts()"
   ]
  },
  {
   "cell_type": "code",
   "execution_count": 432,
   "metadata": {},
   "outputs": [],
   "source": [
    "others(300, 'utm_campaign')"
   ]
  },
  {
   "cell_type": "code",
   "execution_count": 433,
   "metadata": {},
   "outputs": [
    {
     "data": {
      "text/plain": [
       "no_utm_compaign    7796\n",
       "通用词                2329\n",
       "首页                  490\n",
       "S-通用词               463\n",
       "神策-移动推广             453\n",
       "others              225\n",
       "Name: utm_campaign, dtype: int64"
      ]
     },
     "execution_count": 433,
     "metadata": {},
     "output_type": "execute_result"
    }
   ],
   "source": [
    "df['utm_campaign'].value_counts()"
   ]
  },
  {
   "cell_type": "code",
   "execution_count": 434,
   "metadata": {},
   "outputs": [
    {
     "data": {
      "text/plain": [
       "no_utm_content                                                               7922\n",
       "通用-数据分析                                                                       508\n",
       "通用词-三图                                                                        490\n",
       "通用-用户画像                                                                       469\n",
       "通用词-M                                                                         423\n",
       "通用-用户分析                                                                       137\n",
       "通用-APP运营                                                                      135\n",
       "通用-数据分析-运营                                                                    133\n",
       "通用-电商运营                                                                       131\n",
       "通用-数据分析-产品                                                                    129\n",
       "通用-数据处理                                                                       124\n",
       "通用-数据分析-行业                                                                    109\n",
       "品牌-神策                                                                          91\n",
       "通用-用户留存                                                                        78\n",
       "通用-数据统计                                                                        73\n",
       "通用-数据可视化                                                                       70\n",
       "通用-大数据-其他                                                                      60\n",
       "通用-用户画像-产品                                                                     53\n",
       "通用-用户行为分析                                                                      49\n",
       "通用-用户留存-行业                                                                     47\n",
       "通用-网站运营                                                                        43\n",
       "通用-大数据-行业                                                                      37\n",
       "通用-数据运营                                                                        34\n",
       "品牌词-M                                                                          30\n",
       "通用-数据系统                                                                        28\n",
       "通用-用户画像-行业                                                                     25\n",
       "通用-数据分析-互联网                                                                    25\n",
       "通用-用户画像-功能                                                                     25\n",
       "通用-数据统计-产品                                                                     23\n",
       "通用-多维分析                                                                        20\n",
       "                                                                             ... \n",
       "通用-数据采集                                                                        18\n",
       "通用-广告优化                                                                        18\n",
       "通用-数据指标                                                                        16\n",
       "通用-数据分析法                                                                       14\n",
       "通用-用户行为分析-行业                                                                   13\n",
       "通用-用户行为分析-系统                                                                   12\n",
       "通用-埋点                                                                          11\n",
       "通用-大数据-方案                                                                       9\n",
       "通用-用户分析-产品                                                                      9\n",
       "通用-个性化营销                                                                        9\n",
       "通用-数据仓库                                                                         8\n",
       "通用-数据分析-电商                                                                      8\n",
       "通用-数据分析-方案                                                                      7\n",
       "通用-数据运营-平台                                                                      7\n",
       "品牌-神策-英文                                                                        4\n",
       "通用-大数据-产品                                                                       4\n",
       "通用-大数据-公司                                                                       4\n",
       "通用-可视化分析                                                                        4\n",
       "通用-用户分群                                                                         3\n",
       "通用-用户留存-提升                                                                      3\n",
       "通用-访客分析                                                                         2\n",
       "通用-用户细分                                                                         2\n",
       "通用-数据驱动                                                                         2\n",
       "通用-增长黑客                                                                         2\n",
       "通用-转化优化                                                                         1\n",
       "通用-渠道追踪                                                                         1\n",
       "通用-用户行为分析-产品                                                                    1\n",
       "%E9%80%9A%E7%94%A8-%E7%94%A8%E6%88%B7%E8%A1%8C%E4%B8%BA%E5%88%86%E6%9E%90       1\n",
       "通用-跨屏分析                                                                         1\n",
       "通用-精准营销                                                                         1\n",
       "Name: utm_content, Length: 62, dtype: int64"
      ]
     },
     "execution_count": 434,
     "metadata": {},
     "output_type": "execute_result"
    }
   ],
   "source": [
    "# 20 utm_content\n",
    "df['utm_content'].value_counts()"
   ]
  },
  {
   "cell_type": "code",
   "execution_count": 435,
   "metadata": {},
   "outputs": [],
   "source": [
    "others(300, 'utm_content')"
   ]
  },
  {
   "cell_type": "code",
   "execution_count": 436,
   "metadata": {},
   "outputs": [
    {
     "data": {
      "text/plain": [
       "no_utm_content    7922\n",
       "others            1944\n",
       "通用-数据分析            508\n",
       "通用词-三图             490\n",
       "通用-用户画像            469\n",
       "通用词-M              423\n",
       "Name: utm_content, dtype: int64"
      ]
     },
     "execution_count": 436,
     "metadata": {},
     "output_type": "execute_result"
    }
   ],
   "source": [
    "df['utm_content'].value_counts()"
   ]
  },
  {
   "cell_type": "code",
   "execution_count": 437,
   "metadata": {},
   "outputs": [
    {
     "data": {
      "text/plain": [
       "cpc              5141\n",
       "no_utm_medium    4961\n",
       "mcpc             1109\n",
       "mfeed             526\n",
       "default            15\n",
       "answer              2\n",
       "production          2\n",
       "Name: utm_medium, dtype: int64"
      ]
     },
     "execution_count": 437,
     "metadata": {},
     "output_type": "execute_result"
    }
   ],
   "source": [
    "# 21 utm_medium\n",
    "df['utm_medium'].value_counts()"
   ]
  },
  {
   "cell_type": "code",
   "execution_count": 438,
   "metadata": {},
   "outputs": [],
   "source": [
    "others(300, 'utm_medium')"
   ]
  },
  {
   "cell_type": "code",
   "execution_count": 439,
   "metadata": {},
   "outputs": [
    {
     "data": {
      "text/plain": [
       "cpc              5141\n",
       "no_utm_medium    4961\n",
       "mcpc             1109\n",
       "mfeed             526\n",
       "others             19\n",
       "Name: utm_medium, dtype: int64"
      ]
     },
     "execution_count": 439,
     "metadata": {},
     "output_type": "execute_result"
    }
   ],
   "source": [
    "df['utm_medium'].value_counts()"
   ]
  },
  {
   "cell_type": "code",
   "execution_count": 440,
   "metadata": {},
   "outputs": [
    {
     "data": {
      "text/plain": [
       "baidu            6072\n",
       "no_utm_source    4890\n",
       "sogou             561\n",
       "google            107\n",
       "wechat             54\n",
       "sanjieke.cn        36\n",
       "next.36kr.com      10\n",
       "admin               4\n",
       "23h5                2\n",
       "mulumu.com          2\n",
       "sales4c             2\n",
       "zhihu               2\n",
       "zhangyuejiao        1\n",
       "hzcaibin            1\n",
       "zhangji             1\n",
       "sunjiaqian          1\n",
       "xiangc              1\n",
       "qiye.36kr.com       1\n",
       "liquantao           1\n",
       "xiuxin              1\n",
       "lul                 1\n",
       "dichang             1\n",
       "fuyu                1\n",
       "lingchentian        1\n",
       "wangxuelin          1\n",
       "jonson              1\n",
       "Name: utm_source, dtype: int64"
      ]
     },
     "execution_count": 440,
     "metadata": {},
     "output_type": "execute_result"
    }
   ],
   "source": [
    "# 22 utm_source\n",
    "df['utm_source'].value_counts()"
   ]
  },
  {
   "cell_type": "code",
   "execution_count": 441,
   "metadata": {},
   "outputs": [],
   "source": [
    "others(100, 'utm_source')"
   ]
  },
  {
   "cell_type": "code",
   "execution_count": 442,
   "metadata": {},
   "outputs": [
    {
     "data": {
      "text/plain": [
       "baidu            6072\n",
       "no_utm_source    4890\n",
       "sogou             561\n",
       "others            126\n",
       "google            107\n",
       "Name: utm_source, dtype: int64"
      ]
     },
     "execution_count": 442,
     "metadata": {},
     "output_type": "execute_result"
    }
   ],
   "source": [
    "df['utm_source'].value_counts()"
   ]
  },
  {
   "cell_type": "code",
   "execution_count": 443,
   "metadata": {},
   "outputs": [
    {
     "data": {
      "text/plain": [
       "no_utm_term     5538\n",
       "用户画像             844\n",
       "神策               533\n",
       "首页-通用词-三图-图1     510\n",
       "数据分析             364\n",
       "大数据分析            259\n",
       "神策数据             238\n",
       "用户分析             171\n",
       "电子商务数据           161\n",
       "聚类分析             114\n",
       "产品数据分析           110\n",
       "app数据            107\n",
       "网站数据统计            91\n",
       "app分析             78\n",
       "网站运营数据分析          76\n",
       "数据挖掘              75\n",
       "旅游大数据             71\n",
       "用户画像分析            67\n",
       "大数据应用             63\n",
       "app数据分析           55\n",
       "数据可视化             50\n",
       "客户画像              49\n",
       "数据分析软件下载          48\n",
       "数据分析工具            48\n",
       "数据处理              48\n",
       "数据分析系统            44\n",
       "App运营             42\n",
       "日志分析系统            42\n",
       "数据建模              41\n",
       "数据分析公司            41\n",
       "                ... \n",
       "客户行为分析系统           1\n",
       "广告效果监测系统           1\n",
       "新媒体用户画像            1\n",
       "多维分析工具             1\n",
       "大数据分析解决方案          1\n",
       "国内大数据分析            1\n",
       "精益运营               1\n",
       "用户行为分析平台           1\n",
       "用户日志分析             1\n",
       "电商数据分析方案           1\n",
       "电商统计               1\n",
       "用户量分析              1\n",
       "访客数据分析             1\n",
       "海盗指标法              1\n",
       "数据分析法方法            1\n",
       "互联网行业数据分析          1\n",
       "用户行为数据分析           1\n",
       "分析运营数据             1\n",
       "多维度分析              1\n",
       "营运数据分析             1\n",
       "互联网人物画像            1\n",
       "用户画像标签             1\n",
       "数据分析工具有哪些          1\n",
       "访客分析               1\n",
       "移动应用数据分析           1\n",
       "在线教育用户画像           1\n",
       "提升留存               1\n",
       "大数据用户行为分析          1\n",
       "留存分析               1\n",
       "电商产品分析报告           1\n",
       "Name: utm_term, Length: 281, dtype: int64"
      ]
     },
     "execution_count": 443,
     "metadata": {},
     "output_type": "execute_result"
    }
   ],
   "source": [
    "# 23 utm_term\n",
    "df['utm_term'].value_counts()"
   ]
  },
  {
   "cell_type": "code",
   "execution_count": 444,
   "metadata": {},
   "outputs": [],
   "source": [
    "others(300, 'utm_term')"
   ]
  },
  {
   "cell_type": "code",
   "execution_count": 445,
   "metadata": {},
   "outputs": [
    {
     "data": {
      "text/plain": [
       "no_utm_term     5538\n",
       "others          3967\n",
       "用户画像             844\n",
       "神策               533\n",
       "首页-通用词-三图-图1     510\n",
       "数据分析             364\n",
       "Name: utm_term, dtype: int64"
      ]
     },
     "execution_count": 445,
     "metadata": {},
     "output_type": "execute_result"
    }
   ],
   "source": [
    "df['utm_term'].value_counts()"
   ]
  },
  {
   "cell_type": "code",
   "execution_count": 446,
   "metadata": {},
   "outputs": [
    {
     "data": {
      "text/plain": [
       "no_latest_ch     11077\n",
       "demo               599\n",
       "zhihu               50\n",
       "ebiz_demo_doc        8\n",
       "itjuzi               6\n",
       "pedaily              5\n",
       "edu_demo_doc         2\n",
       "chiyuan              2\n",
       "36kr                 2\n",
       "sangwenfeng          1\n",
       "36kr_cube            1\n",
       "sangwf               1\n",
       "lyz                  1\n",
       "caojiang             1\n",
       "Name: latest_ch, dtype: int64"
      ]
     },
     "execution_count": 446,
     "metadata": {},
     "output_type": "execute_result"
    }
   ],
   "source": [
    "# 24 latest_ch\n",
    "df['latest_ch'].value_counts()"
   ]
  },
  {
   "cell_type": "code",
   "execution_count": 447,
   "metadata": {},
   "outputs": [],
   "source": [
    "others(49, 'latest_ch')"
   ]
  },
  {
   "cell_type": "code",
   "execution_count": 448,
   "metadata": {},
   "outputs": [
    {
     "data": {
      "text/plain": [
       "no_latest_ch    11077\n",
       "demo              599\n",
       "zhihu              50\n",
       "others             30\n",
       "Name: latest_ch, dtype: int64"
      ]
     },
     "execution_count": 448,
     "metadata": {},
     "output_type": "execute_result"
    }
   ],
   "source": [
    "df['latest_ch'].value_counts()"
   ]
  },
  {
   "cell_type": "code",
   "execution_count": 449,
   "metadata": {},
   "outputs": [
    {
     "data": {
      "text/plain": [
       "no_source    11752\n",
       "demo             3\n",
       "zhihu            1\n",
       "Name: session_from_url, dtype: int64"
      ]
     },
     "execution_count": 449,
     "metadata": {},
     "output_type": "execute_result"
    }
   ],
   "source": [
    "# 25 session_from_url\n",
    "df['session_from_url'].value_counts()"
   ]
  },
  {
   "cell_type": "code",
   "execution_count": 450,
   "metadata": {},
   "outputs": [],
   "source": [
    "df.drop(['session_from_url'], axis=1, inplace=True)"
   ]
  },
  {
   "cell_type": "code",
   "execution_count": 451,
   "metadata": {},
   "outputs": [
    {
     "data": {
      "text/plain": [
       "https://www.baidu.com/baidu.php                                                                                                                                                                             4083\n",
       "no_session_referrer                                                                                                                                                                                         3790\n",
       "https://www.baidu.com/link                                                                                                                                                                                   431\n",
       "https://www.baidu.com/s                                                                                                                                                                                      355\n",
       "http://36kr.com/                                                                                                                                                                                             144\n",
       "https://www.google.com.hk/                                                                                                                                                                                    97\n",
       "https://www.google.com/                                                                                                                                                                                       85\n",
       "https://www.sensorsdata.cn/                                                                                                                                                                                   54\n",
       "https://www.baidu.com/                                                                                                                                                                                        46\n",
       "https://m.baidu.com/?from=844b&vit=fps                                                                                                                                                                        42\n",
       "https://sensorsdata.cn/                                                                                                                                                                                       40\n",
       "https://m.baidu.com/?from=2001a                                                                                                                                                                               37\n",
       "https://www.google.co.jp/                                                                                                                                                                                     32\n",
       "http://36kr.com/p/5045281.html                                                                                                                                                                                20\n",
       "https://link.zhihu.com/?target=https%3A//sensorsdata.cn/                                                                                                                                                      19\n",
       "https://m.baidu.com/?from=1000953f                                                                                                                                                                            18\n",
       "https://link.zhihu.com/?target=https%3A//www.sensorsdata.cn                                                                                                                                                   17\n",
       "https://www.sensorsdata.cn/manual/                                                                                                                                                                            17\n",
       "http://c.tieba.baidu.com/                                                                                                                                                                                     14\n",
       "http://36kr.com/p/5056378.html                                                                                                                                                                                14\n",
       "http://www.sensorsdata.cn/                                                                                                                                                                                    12\n",
       "http://www.woshipm.com/pmd/314444.html                                                                                                                                                                        12\n",
       "http://mp.weixinbridge.com/mp/wapredirect?url=https%3A%2F%2Fwww.sensorsdata.cn%2Fdemo.html%3Futm_source%3Dwechat                                                                                              11\n",
       "https://www.sensorsdata.cn/demo.html                                                                                                                                                                          11\n",
       "https://www.sensorsdata.cn/manual/use_feature_video.html                                                                                                                                                      11\n",
       "http://www.woshipm.com/operate/409320.html                                                                                                                                                                    11\n",
       "http://36kr.com/p/5066252.html                                                                                                                                                                                10\n",
       "https://wapbaike.baidu.com/item/%e7%a5%9e%e7%ad%96%e6%95%b0%e6%8d%ae/19526615?adapt=1&fr=aladdin                                                                                                              10\n",
       "https://m.baidu.com/?from=1019023c                                                                                                                                                                            10\n",
       "http://36kr.com/newsflashes                                                                                                                                                                                   10\n",
       "                                                                                                                                                                                                            ... \n",
       "http://cn.bing.com/search?q=%E7%A5%9E%E7%AD%96+%E5%AE%98%E7%BD%91&qs=n&form=QBLH&scope=web&sp=-1&pq=%E7%A5%9E%E7%AD%96+%E5%AE%98%E7%BD%91&sc=1-5&sk=&cvid=B7A2585BB82C4262A3D68E66885F4CD2                     1\n",
       "https://m.baidu.com/baidu.php?sc.Dz6K00ajR0fggHxKsqE-OBgmRAUEEmqB4ivL7mNBYyNaG-NS3Wwi_gxl7zABllqoyYCWe3UUQd8E95al8VJMzZ1pXlMr4D7VsoXPp6NpAFLRxWttckJShupkeZKd16LzB-rsExJl582mSIYgIMKZD2RC5MR5S0Kck3dVVHW       1\n",
       "http://www.baidu.com/baidu.php?sc.5z6K00jyojW_Xy5dNpczSW_PsZ7mSAqw0TPGYcvZxjYO5_jy5wk3PKMaKg3G62GkgDI_nUtOmX_-CfXjbIk0FY7lb5ud06MTmwtoX_HO8OZG0iWSGZE-fHo1Q1I_NC0S2VpImfoBEdpldLjuNmlznR25Id_CBtzlEcVcw3       1\n",
       "http://www.sogou.com/bill_cpc?v=1&p=WJhVUUCr919YBIJH61hHhJe6FE69kr02En8Tv7jFWVGSaCEzhWe777PM2a2IzXmeqKlRVx41glFSuM0VkM3OUHxryvDpeRMkKfRkFH361o5nGGDD8@mM5nDEF4UFsvPgNfftmXbffB1XXhrCrWKCirCbnC7l5dIEMTgS       1\n",
       "https://www.sensorsdata.cn/manual/user_identify.html                                                                                                                                                           1\n",
       "http://www.baidu.com/baidu.php?sc.Dz6K00K7gIFCPCLIZH2YvVVF5XPmwE1Ob4Sk5BFFpP_1BWAwOnFROTjjFayay9p08jWoLdUYVvY8umDvg_srCKEqYaqND-oIvOPREGf-cs4TwRHHfCEjmNiMu30ymT00iqxYZh0SQ7VcNlTmEvm8nQIgYaqmPlp88Mi3b9       1\n",
       "http://image.baidu.com/search/wiseala?tn=wiseala&iswiseala=1&ie=utf8&wiseps=1&word=%E7%94%A8%E6%88%B7%E7%94%BB%E5%83%8F&pn=22&rpn=-1&spn=0&gsm=5a&simid=0,0&u=853026532&objurl=http%3A%2F%2Fstatic.open-       1\n",
       "http://www.3lian.com/edu/2016/04-12/1460429668288668_2.html                                                                                                                                                    1\n",
       "http://www.baidu.com/baidu.php?sc.5iTK000PlPEZLJ-3z0zccNymdMuMFEAxcFyYEQ5xzEKkbMTDiP3ZGnaGsZhYVJd89-v9erzQr-xhDmOv0ioYOch-78f1YSDJl3fmGJwj-JVWA2arc3OJq4gD0-JcJw-zFhxQJaathvbIvvvUBnlfp1xAMgnFovgTTcgRob       1\n",
       "http://www.baidu.com/baidu.php?sc.7aTK00argbI9vqlkBDrwxyDt6YKlqHRob4FBlLZvPjYElKT_W0Vos3iSRe4pZdfS3i0U3E3fmjCVnsBmTLp6gulimAVe4ESZU24G0AQ3cQRUCKx_TmyopKFe7Arzr38g-jZCme6Z4-UN06gjbM6iSdABpaM9-gytKhytNs       1\n",
       "https://www.so.com/s?q=%E7%A5%9E%E7%AD%96%E5%88%86%E6%9E%90&src=se_zoned                                                                                                                                       1\n",
       "https://zhidao.baidu.com/search?ct=17&pn=0&tn=ikaslist&rn=10&word=%E4%BA%A7%E5%93%81%E5%88%86%E6%9E%90&fr=wwwt                                                                                                 1\n",
       "http://www.sogou.com/tx?query=%E9%98%BF%E9%87%8C%E6%95%B0%E6%8D%AE%E5%88%86%E6%9E%90&ie=utf8&_ast=1489124992&_asf=null&w=01025001&hdq=sogou-site-706608cfdbcc1886-0001&duppid=1&cid=qb7.zhuye&cid=qb7.zh       1\n",
       "http://www.sogou.com/bill_cpc?v=1&p=WJhVUUCo919YBQavJnG5G$WhICZjyNeu2HX7XZyDAvtqs4uI7EnFBJ4dzQbvH4IIzTmZIicVyYIcDVw97vRvAZACUa8CwGuOcV1D$JWjG1mFT4ygTsKWMEidTDimfyOfKz41MDiq2r@MzuNU$p8mqurrzh@gl4fMsgqz       1\n",
       "http://36kr.com/p/203751.html                                                                                                                                                                                  1\n",
       "http://www.baidu.com/baidu.php?sc.ca6K00KNYTzueBruVDqWkSrWpr7DPkzd2srhPDPJgVyNH8IPMqf_GqHBm6MlIIPzngaYRNuolaVI8rXAq7frmNovpbNIFzSda6NR6hi364HvZm-WAEGm5A1ulRZ6e8zK9_T09tw_eUbJHPCwQbzDxJDFgt8zCTt8Jkxvpb       1\n",
       "http://cn.bing.com/search?q=%E7%A5%9E%E7%AD%96+%E7%BB%9F%E8%AE%A1&qs=n&form=QBRE&sp=-1&pq=%E7%A5%9E%E7%AD%96+%E7%BB%9F%E8%AE%A1&sc=0-5&sk=&cvid=A01E573CAF9E466CAF40C2AA16F4CB91                               1\n",
       "https://www.so.com/s?ie=utf-8&src=hao_360so_a1004&shb=1&hsid=7d84d356110baef3&q=%E7%A5%9E%E7%AD%96%E6%95%B0%E6%8D%AE                                                                                           1\n",
       "http://googleads.g.doubleclick.net/pagead/ads?client=ca-pub-8366350032621519&format=336x280&output=html&h=280&slotname=7554308988&adk=3831297530&adf=1458911593&w=336&lmt=1489122199&loeid=20040077&flas       1\n",
       "https://wap.sogou.com/bill_cpc?v=1&p=WJhHUFCrV99YBHzaLqmAhVvhzQJet9Um2@HeMTUmQwu23lybpdLNXbCbBRdmBhEXe7ztQpPOBzV2@64yeAYo3PbeRZAz7elryqxawWRGiW2vQQUpXsNiTo@X4S0i4HZDJb@djtENn5@ZMd2NWQO0K34i@5Eux6l@TrT       1\n",
       "https://m.baidu.com/from=1014517c/bd_page_type=1/ssid=0/uid=0/pu=sz%401320_480%2Ccuid%40_aHTi_alBugpi2u-givY8_ueHal6OSaYlaSF8_iaSi8da-8gga-z8_uY2i_wa2fDA%2Ccua%40_a-qi4ujvfg4NE6pI5me6NI0-I_UCvhrSdNqA%       1\n",
       "https://m.baidu.com/baidu.php?sc.9aTK00aUZedEiha7BfFvMexNfE5b9pr_4CYVROvpUWSCrclPT8jJvBOHs2msj98eUzhlvI958yi5GrhXlai8-EKKzDa_sTu95EZpl764ymibVkLlqqfqGISJcs-_uZA_0eDh8r2pe4M8ZpI9ZDDKmacCId3HuvOgSRbyrm8       1\n",
       "http://www.baidu.com/baidu.php?sc.5iTK00KGP8R3xpeZr95iJKmfb722CJ4DbDcBgEUYDqveyplzlPVvSFhkdwMCR7E7tj-fRybxnvuJWcALfCDA-MTxA32EvYckGVQTgg8bshIYZl-TTcTdjWMickq6s32LzoJRX1sQHCRc828PczZ7ji1eFqERLvUcdefLDy       1\n",
       "http://wap.sogou.com/waprdt?query=%CA%FD%BE%DD%B7%D6%CE%F6&clickid=16634ef7130373418878ae4d725c0507                                                                                                            1\n",
       "https://m.baidu.com/from=1000539d/bd_page_type=1/ssid=0/uid=0/pu=usm%401%2Csz%401320_2001%2Cta%40iphone_1_10.2_3_602/baiduid=58DAC1E5299B768E217EE919D6CB093A/w=0_10_/t=iphone/l=3/tc?ref=www_iphone&lid       1\n",
       "http://www.baidu.com/baidu.php?sc.7B6K00KF0uRExIQ9cKYnGaASyZFywi9ZDVT2aq_aI2Pv-CvH5HRe2SDuSLCucxbKQQaRnetCpAbG5wNmZK5Rwg-J4L5-0l_ZIDQjVzdSwO4rtYkhqhbQyOjSIXEf9mw-N4n3jwJlY458NuMmk0LJWqFqqKks8PTZlI4uJK       1\n",
       "https://m.sogou.com/bill_cpc?v=1&p=WJhHUbMa919YNBwdaCO5nzzvHb6u6GJtBAWE7E2Tx389F6V7S2xeG76mm0DmGEutLmSnje997Syne9J7xNVpSxl7@xWD2w3VxG4vi7RicXOLq7EluMMddTTs3fBLxMdQz8dXz5XvhYKT4OdBLBc72Md5X6cyMb8dbqbXr       1\n",
       "https://wap.sogou.com/bill_cpc?v=1&p=WJhHUFmw919YBsBhJPOUBl$SCWJ9lP4GBFbEXl6x3E4hxR7bTWengr35BjYgocLWg$pqA2YM1kIfkOc0yXZU4uPPYQ5vXaqkINt9bANtFpKOR552d@T@5ddgFnYfWr$ypKc9PdASPeDW0RJaHEW5iM@KW4ZFcn4f6LN       1\n",
       "http://www.sogou.com/bill_cpc?v=1&p=WJhHUtdr919UB0BJu1eqhPe9dISawwPIBXtXM17jX7vbA0tsNgBL6AhhmLOu1HFLY$7g5UXebk6AWxJV3wwU7Uqy7GWW9kF@l5p6IcwEGQOsXIePssNdE8LM2DGU2djag44XiA3@74XZNVyo5ehQ$dsTN8Yx4sEY5D$i       1\n",
       "http://wisd.sogou.com/bill_cpc?v=1&p=WJhVUFmw919YBuanJG7IGARwgPnaywraBKzSTtupkJqY$zj22r$5LWZAMD0niu311BZQQ7kPQlrzLSCQ90xI5nUUbj163NFQyA87w7E953EvQK0LW@88@ymbsZLK4DO@MZin6VGEMEs0K5VW@TviKMKBgYlW5B6M8m4       1\n",
       "Name: session_referrer, Length: 2021, dtype: int64"
      ]
     },
     "execution_count": 451,
     "metadata": {},
     "output_type": "execute_result"
    }
   ],
   "source": [
    "# 26 session_referrer\n",
    "df['session_referrer'].value_counts()"
   ]
  },
  {
   "cell_type": "code",
   "execution_count": 452,
   "metadata": {},
   "outputs": [],
   "source": [
    "others(300, 'session_referrer')"
   ]
  },
  {
   "cell_type": "code",
   "execution_count": 453,
   "metadata": {},
   "outputs": [
    {
     "data": {
      "text/plain": [
       "https://www.baidu.com/baidu.php    4083\n",
       "no_session_referrer                3790\n",
       "others                             3097\n",
       "https://www.baidu.com/link          431\n",
       "https://www.baidu.com/s             355\n",
       "Name: session_referrer, dtype: int64"
      ]
     },
     "execution_count": 453,
     "metadata": {},
     "output_type": "execute_result"
    }
   ],
   "source": [
    "df['session_referrer'].value_counts()"
   ]
  },
  {
   "cell_type": "code",
   "execution_count": 454,
   "metadata": {},
   "outputs": [
    {
     "data": {
      "text/plain": [
       "no_session_referrer_domain       11750\n",
       "www.baidu.com                        2\n",
       "cn.bing.com                          1\n",
       "www.google.co.jp                     1\n",
       "ebizdemo.cloud.sensorsdata.cn        1\n",
       "www.google.com                       1\n",
       "Name: session_referrer_domain, dtype: int64"
      ]
     },
     "execution_count": 454,
     "metadata": {},
     "output_type": "execute_result"
    }
   ],
   "source": [
    "# 27 session_referrer_domain\n",
    "df['session_referrer_domain'].value_counts()"
   ]
  },
  {
   "cell_type": "code",
   "execution_count": 455,
   "metadata": {},
   "outputs": [],
   "source": [
    "others(300, 'session_referrer_domain')"
   ]
  },
  {
   "cell_type": "code",
   "execution_count": 456,
   "metadata": {},
   "outputs": [
    {
     "data": {
      "text/plain": [
       "no_session_referrer_domain    11750\n",
       "others                            6\n",
       "Name: session_referrer_domain, dtype: int64"
      ]
     },
     "execution_count": 456,
     "metadata": {},
     "output_type": "execute_result"
    }
   ],
   "source": [
    "df['session_referrer_domain'].value_counts()"
   ]
  },
  {
   "cell_type": "code",
   "execution_count": 457,
   "metadata": {},
   "outputs": [],
   "source": [
    "df.drop(['session_referrer_domain'], axis=1, inplace=True)"
   ]
  },
  {
   "cell_type": "code",
   "execution_count": 458,
   "metadata": {},
   "outputs": [
    {
     "data": {
      "text/plain": [
       "www.baidu.com                             5189\n",
       "no_session_referrer_host                  3800\n",
       "m.baidu.com                                694\n",
       "36kr.com                                   351\n",
       "www.sogou.com                              312\n",
       "www.sensorsdata.cn                         213\n",
       "wap.sogou.com                              131\n",
       "m.sogou.com                                122\n",
       "www.google.com.hk                          110\n",
       "www.google.com                              91\n",
       "link.zhihu.com                              72\n",
       "sensorsdata.cn                              68\n",
       "www.so.com                                  51\n",
       "image.baidu.com                             45\n",
       "googleads.g.doubleclick.net                 40\n",
       "www.google.co.jp                            31\n",
       "www.woshipm.com                             26\n",
       "cn.bing.com                                 22\n",
       "zhidao.baidu.com                            19\n",
       "youxuan.baidu.com                           19\n",
       "wenku.baidu.com                             16\n",
       "class.sanjieke.cn                           15\n",
       "c.tieba.baidu.com                           14\n",
       "www.sanjieke.cn                             13\n",
       "cpro.baidu.com                              11\n",
       "mp.weixinbridge.com                         11\n",
       "so.m.sm.cn                                  10\n",
       "wapbaike.baidu.com                          10\n",
       "wisd.sogou.com                               8\n",
       "next.36kr.com                                8\n",
       "                                          ... \n",
       "m.sp.sm.cn                                   1\n",
       "vtrack.cloud.sensorsdata.cn                  1\n",
       "zhengbangchuangyi.cloud.sensorsdata.cn       1\n",
       "www.imgeek.org                               1\n",
       "exmail.qq.com                                1\n",
       "datadang.com                                 1\n",
       "www.xfz.cn                                   1\n",
       "tieba.baidu.com                              1\n",
       "google.gg-g.org                              1\n",
       "www.3lian.com                                1\n",
       "sensors.ymt360.com                           1\n",
       "localhost                                    1\n",
       "ch.cloud.sensorsdata.cn                      1\n",
       "uxren.cn                                     1\n",
       "mail.alibaba-inc.com                         1\n",
       "cache.baiducontent.com                       1\n",
       "wiki.sankuai.com                             1\n",
       "data.corp.36kr.com                           1\n",
       "ad.bytedance.net                             1\n",
       "hao.199it.com                                1\n",
       "www.juudian.com                              1\n",
       "qiyukf.cloud.sensorsdata.cn                  1\n",
       "shimo.im                                     1\n",
       "geek.csdn.net                                1\n",
       "saasdemo.cloud.sensorsdata.cn                1\n",
       "duckduckgo.com                               1\n",
       "qiandaodao.cloud.sensorsdata.cn              1\n",
       "sensorsdata.vipkid.com.cn                    1\n",
       "wap.baidu.com                                1\n",
       "wemart.cloud.sensorsdata.cn                  1\n",
       "Name: session_referrer_host, Length: 139, dtype: int64"
      ]
     },
     "execution_count": 458,
     "metadata": {},
     "output_type": "execute_result"
    }
   ],
   "source": [
    "# 28 session_referrer_host\n",
    "df['session_referrer_host'].value_counts()"
   ]
  },
  {
   "cell_type": "code",
   "execution_count": 459,
   "metadata": {},
   "outputs": [],
   "source": [
    "others(600, 'session_referrer_host')"
   ]
  },
  {
   "cell_type": "code",
   "execution_count": 460,
   "metadata": {},
   "outputs": [
    {
     "data": {
      "text/plain": [
       "www.baidu.com               5189\n",
       "no_session_referrer_host    3800\n",
       "others                      2073\n",
       "m.baidu.com                  694\n",
       "Name: session_referrer_host, dtype: int64"
      ]
     },
     "execution_count": 460,
     "metadata": {},
     "output_type": "execute_result"
    }
   ],
   "source": [
    "df['session_referrer_host'].value_counts()"
   ]
  },
  {
   "cell_type": "code",
   "execution_count": 461,
   "metadata": {},
   "outputs": [
    {
     "data": {
      "text/plain": [
       "no_ch            11311\n",
       "demo               375\n",
       "zhihu               49\n",
       "itjuzi               6\n",
       "ebiz_demo_doc        5\n",
       "pedaily              3\n",
       "chiyuan              2\n",
       "36kr                 2\n",
       "edu_demo_doc         1\n",
       "36kr_cube            1\n",
       "lyz                  1\n",
       "Name: ch, dtype: int64"
      ]
     },
     "execution_count": 461,
     "metadata": {},
     "output_type": "execute_result"
    }
   ],
   "source": [
    "# 29 ch\n",
    "df['ch'].value_counts()"
   ]
  },
  {
   "cell_type": "code",
   "execution_count": 462,
   "metadata": {},
   "outputs": [],
   "source": [
    "others(49, 'ch')"
   ]
  },
  {
   "cell_type": "code",
   "execution_count": 463,
   "metadata": {},
   "outputs": [
    {
     "data": {
      "text/plain": [
       "no_ch     11311\n",
       "demo        375\n",
       "zhihu        49\n",
       "others       21\n",
       "Name: ch, dtype: int64"
      ]
     },
     "execution_count": 463,
     "metadata": {},
     "output_type": "execute_result"
    }
   ],
   "source": [
    "df['ch'].value_counts()"
   ]
  },
  {
   "cell_type": "code",
   "execution_count": 464,
   "metadata": {},
   "outputs": [
    {
     "data": {
      "text/plain": [
       "no_company         11292\n",
       "个*                    16\n",
       "无                     11\n",
       "公*                     7\n",
       "中***                   6\n",
       "上***********           5\n",
       "深************          5\n",
       "组*                     5\n",
       "t***                   5\n",
       "北***                   4\n",
       "上***                   4\n",
       "1**                    4\n",
       "a**                    4\n",
       "北*********             4\n",
       "a*                     3\n",
       "金**                    3\n",
       "京*                     3\n",
       "上*****                 3\n",
       "京***                   3\n",
       "新***                   3\n",
       "天*                     3\n",
       "华*                     3\n",
       "北***********           3\n",
       "四***                   3\n",
       "广*************         3\n",
       "深*************         3\n",
       "北*****                 3\n",
       "金***                   2\n",
       "广***********           2\n",
       "中*****                 2\n",
       "                   ...  \n",
       "奇**                    1\n",
       "加*********             1\n",
       "有***                   1\n",
       "雷***                   1\n",
       "游*                     1\n",
       "质***                   1\n",
       "S***                   1\n",
       "汇*                     1\n",
       "Z*                     1\n",
       "房**************        1\n",
       "宋**                    1\n",
       "天*******               1\n",
       "S*                     1\n",
       "啊*                     1\n",
       "十***                   1\n",
       "斑***                   1\n",
       "智**                    1\n",
       "广*******               1\n",
       "O*****                 1\n",
       "商*****                 1\n",
       "空******                1\n",
       "全*                     1\n",
       "家********              1\n",
       "w*                     1\n",
       "车****                  1\n",
       "x*******               1\n",
       "m*******               1\n",
       "芝*                     1\n",
       "m****                  1\n",
       "莫******                1\n",
       "Name: company, Length: 336, dtype: int64"
      ]
     },
     "execution_count": 464,
     "metadata": {},
     "output_type": "execute_result"
    }
   ],
   "source": [
    "# 30 company\n",
    "df['company'].value_counts()"
   ]
  },
  {
   "cell_type": "code",
   "execution_count": 465,
   "metadata": {},
   "outputs": [],
   "source": [
    "# convert 'company' to bool\n",
    "\n",
    "company = []\n",
    "for i in df['company']:\n",
    "    if i == 'no_company':\n",
    "        company.append(False)\n",
    "    else:\n",
    "        company.append(True)"
   ]
  },
  {
   "cell_type": "code",
   "execution_count": 466,
   "metadata": {},
   "outputs": [
    {
     "data": {
      "text/plain": [
       "11756"
      ]
     },
     "execution_count": 466,
     "metadata": {},
     "output_type": "execute_result"
    }
   ],
   "source": [
    "len(company)"
   ]
  },
  {
   "cell_type": "code",
   "execution_count": 467,
   "metadata": {},
   "outputs": [
    {
     "data": {
      "text/html": [
       "<div>\n",
       "<style scoped>\n",
       "    .dataframe tbody tr th:only-of-type {\n",
       "        vertical-align: middle;\n",
       "    }\n",
       "\n",
       "    .dataframe tbody tr th {\n",
       "        vertical-align: top;\n",
       "    }\n",
       "\n",
       "    .dataframe thead th {\n",
       "        text-align: right;\n",
       "    }\n",
       "</style>\n",
       "<table border=\"1\" class=\"dataframe\">\n",
       "  <thead>\n",
       "    <tr style=\"text-align: right;\">\n",
       "      <th></th>\n",
       "      <th>distinct_id</th>\n",
       "      <th>number_of_visit</th>\n",
       "      <th>browser</th>\n",
       "      <th>first_referrer</th>\n",
       "      <th>first_referrer_host</th>\n",
       "      <th>first_browser_language</th>\n",
       "      <th>first_visit_time</th>\n",
       "      <th>ip</th>\n",
       "      <th>is_first_day</th>\n",
       "      <th>is_first_time</th>\n",
       "      <th>...</th>\n",
       "      <th>siteUrl</th>\n",
       "      <th>site_url</th>\n",
       "      <th>verification_code</th>\n",
       "      <th>type</th>\n",
       "      <th>time</th>\n",
       "      <th>time_formatted</th>\n",
       "      <th>time_formatted_date</th>\n",
       "      <th>day_of_week</th>\n",
       "      <th>hour_of_day</th>\n",
       "      <th>signup</th>\n",
       "    </tr>\n",
       "  </thead>\n",
       "  <tbody>\n",
       "    <tr>\n",
       "      <th>0</th>\n",
       "      <td>00007ef910b6c9911f1b89d01a09aa3fc862f4a9</td>\n",
       "      <td>7</td>\n",
       "      <td>others</td>\n",
       "      <td>others</td>\n",
       "      <td>m.baidu.com</td>\n",
       "      <td>zh</td>\n",
       "      <td>2017-03-07 13:52:16.501</td>\n",
       "      <td>36.23.47.33</td>\n",
       "      <td>False</td>\n",
       "      <td>False</td>\n",
       "      <td>...</td>\n",
       "      <td>no_siteUrl</td>\n",
       "      <td>no_site_url</td>\n",
       "      <td>True</td>\n",
       "      <td>profile_set_once</td>\n",
       "      <td>1490958308420</td>\n",
       "      <td>2017-03-31 11:05:08</td>\n",
       "      <td>2017-03-31</td>\n",
       "      <td>4</td>\n",
       "      <td>11</td>\n",
       "      <td>True</td>\n",
       "    </tr>\n",
       "    <tr>\n",
       "      <th>1</th>\n",
       "      <td>000a216b72eff19bd0d5e17b9e676dd6ad9a38ac</td>\n",
       "      <td>1</td>\n",
       "      <td>chrome</td>\n",
       "      <td>no_first_referrer</td>\n",
       "      <td>no_first_referrer_host</td>\n",
       "      <td>no_first_browser_language</td>\n",
       "      <td>no_first_visit_time</td>\n",
       "      <td>111.193.183.253</td>\n",
       "      <td>True</td>\n",
       "      <td>True</td>\n",
       "      <td>...</td>\n",
       "      <td>no_siteUrl</td>\n",
       "      <td>no_site_url</td>\n",
       "      <td>False</td>\n",
       "      <td>track</td>\n",
       "      <td>1489373568278</td>\n",
       "      <td>2017-03-13 02:52:48</td>\n",
       "      <td>2017-03-13</td>\n",
       "      <td>0</td>\n",
       "      <td>2</td>\n",
       "      <td>False</td>\n",
       "    </tr>\n",
       "    <tr>\n",
       "      <th>2</th>\n",
       "      <td>000c46a27ef69fa22b56d253a9c72773338a1686</td>\n",
       "      <td>23</td>\n",
       "      <td>chrome</td>\n",
       "      <td>no_first_referrer</td>\n",
       "      <td>no_first_referrer_host</td>\n",
       "      <td>en</td>\n",
       "      <td>2017-03-07 13:48:56.25</td>\n",
       "      <td>27.38.250.222</td>\n",
       "      <td>False</td>\n",
       "      <td>False</td>\n",
       "      <td>...</td>\n",
       "      <td>no_siteUrl</td>\n",
       "      <td>no_site_url</td>\n",
       "      <td>False</td>\n",
       "      <td>profile_set_once</td>\n",
       "      <td>1490958308406</td>\n",
       "      <td>2017-03-31 11:05:08</td>\n",
       "      <td>2017-03-31</td>\n",
       "      <td>4</td>\n",
       "      <td>11</td>\n",
       "      <td>False</td>\n",
       "    </tr>\n",
       "    <tr>\n",
       "      <th>3</th>\n",
       "      <td>000ed1dcd942969b458c5b308937c6389c08f999</td>\n",
       "      <td>5</td>\n",
       "      <td>others</td>\n",
       "      <td>others</td>\n",
       "      <td>others</td>\n",
       "      <td>zh</td>\n",
       "      <td>2017-03-13 11:29:36.672</td>\n",
       "      <td>116.226.32.214</td>\n",
       "      <td>False</td>\n",
       "      <td>False</td>\n",
       "      <td>...</td>\n",
       "      <td>no_siteUrl</td>\n",
       "      <td>no_site_url</td>\n",
       "      <td>False</td>\n",
       "      <td>profile_set_once</td>\n",
       "      <td>1490958376034</td>\n",
       "      <td>2017-03-31 11:06:16</td>\n",
       "      <td>2017-03-31</td>\n",
       "      <td>4</td>\n",
       "      <td>11</td>\n",
       "      <td>False</td>\n",
       "    </tr>\n",
       "    <tr>\n",
       "      <th>4</th>\n",
       "      <td>00111feff544ef5280a4c7064a362a9ea59c9389</td>\n",
       "      <td>2</td>\n",
       "      <td>no_brower</td>\n",
       "      <td>no_first_referrer</td>\n",
       "      <td>no_first_referrer_host</td>\n",
       "      <td>zh</td>\n",
       "      <td>2017-03-09 19:34:34.925</td>\n",
       "      <td>117.136.38.216</td>\n",
       "      <td>False</td>\n",
       "      <td>False</td>\n",
       "      <td>...</td>\n",
       "      <td>no_siteUrl</td>\n",
       "      <td>no_site_url</td>\n",
       "      <td>False</td>\n",
       "      <td>profile_set_once</td>\n",
       "      <td>1490958337498</td>\n",
       "      <td>2017-03-31 11:05:37</td>\n",
       "      <td>2017-03-31</td>\n",
       "      <td>4</td>\n",
       "      <td>11</td>\n",
       "      <td>False</td>\n",
       "    </tr>\n",
       "  </tbody>\n",
       "</table>\n",
       "<p>5 rows × 63 columns</p>\n",
       "</div>"
      ],
      "text/plain": [
       "                                distinct_id  number_of_visit    browser  \\\n",
       "0  00007ef910b6c9911f1b89d01a09aa3fc862f4a9                7     others   \n",
       "1  000a216b72eff19bd0d5e17b9e676dd6ad9a38ac                1     chrome   \n",
       "2  000c46a27ef69fa22b56d253a9c72773338a1686               23     chrome   \n",
       "3  000ed1dcd942969b458c5b308937c6389c08f999                5     others   \n",
       "4  00111feff544ef5280a4c7064a362a9ea59c9389                2  no_brower   \n",
       "\n",
       "      first_referrer     first_referrer_host     first_browser_language  \\\n",
       "0             others             m.baidu.com                         zh   \n",
       "1  no_first_referrer  no_first_referrer_host  no_first_browser_language   \n",
       "2  no_first_referrer  no_first_referrer_host                         en   \n",
       "3             others                  others                         zh   \n",
       "4  no_first_referrer  no_first_referrer_host                         zh   \n",
       "\n",
       "          first_visit_time               ip  is_first_day  is_first_time  \\\n",
       "0  2017-03-07 13:52:16.501      36.23.47.33         False          False   \n",
       "1      no_first_visit_time  111.193.183.253          True           True   \n",
       "2   2017-03-07 13:48:56.25    27.38.250.222         False          False   \n",
       "3  2017-03-13 11:29:36.672   116.226.32.214         False          False   \n",
       "4  2017-03-09 19:34:34.925   117.136.38.216         False          False   \n",
       "\n",
       "   ...       siteUrl     site_url verification_code              type  \\\n",
       "0  ...    no_siteUrl  no_site_url              True  profile_set_once   \n",
       "1  ...    no_siteUrl  no_site_url             False             track   \n",
       "2  ...    no_siteUrl  no_site_url             False  profile_set_once   \n",
       "3  ...    no_siteUrl  no_site_url             False  profile_set_once   \n",
       "4  ...    no_siteUrl  no_site_url             False  profile_set_once   \n",
       "\n",
       "            time       time_formatted time_formatted_date day_of_week  \\\n",
       "0  1490958308420  2017-03-31 11:05:08          2017-03-31           4   \n",
       "1  1489373568278  2017-03-13 02:52:48          2017-03-13           0   \n",
       "2  1490958308406  2017-03-31 11:05:08          2017-03-31           4   \n",
       "3  1490958376034  2017-03-31 11:06:16          2017-03-31           4   \n",
       "4  1490958337498  2017-03-31 11:05:37          2017-03-31           4   \n",
       "\n",
       "  hour_of_day signup  \n",
       "0          11   True  \n",
       "1           2  False  \n",
       "2          11  False  \n",
       "3          11  False  \n",
       "4          11  False  \n",
       "\n",
       "[5 rows x 63 columns]"
      ]
     },
     "execution_count": 467,
     "metadata": {},
     "output_type": "execute_result"
    }
   ],
   "source": [
    "df['company'] = pd.Series(company, index=df.index)\n",
    "df.head(5)"
   ]
  },
  {
   "cell_type": "code",
   "execution_count": 468,
   "metadata": {},
   "outputs": [
    {
     "data": {
      "text/plain": [
       "False    11292\n",
       "True       464\n",
       "Name: company, dtype: int64"
      ]
     },
     "execution_count": 468,
     "metadata": {},
     "output_type": "execute_result"
    }
   ],
   "source": [
    "df['company'].value_counts()"
   ]
  },
  {
   "cell_type": "code",
   "execution_count": 469,
   "metadata": {},
   "outputs": [
    {
     "data": {
      "text/plain": [
       "no_from_url      11370\n",
       "baidu              307\n",
       "demo                51\n",
       "sogou               15\n",
       "zhihu                5\n",
       "wechat               2\n",
       "ebiz_demo_doc        2\n",
       "tianguang            1\n",
       "google               1\n",
       "sanjieke.cn          1\n",
       "sales4c              1\n",
       "Name: from_url, dtype: int64"
      ]
     },
     "execution_count": 469,
     "metadata": {},
     "output_type": "execute_result"
    }
   ],
   "source": [
    "# 31 from_url\n",
    "df['from_url'].value_counts()"
   ]
  },
  {
   "cell_type": "code",
   "execution_count": 470,
   "metadata": {},
   "outputs": [],
   "source": [
    "others(50, 'from_url')"
   ]
  },
  {
   "cell_type": "code",
   "execution_count": 471,
   "metadata": {},
   "outputs": [
    {
     "data": {
      "text/plain": [
       "no_from_url    11370\n",
       "baidu            307\n",
       "demo              51\n",
       "others            28\n",
       "Name: from_url, dtype: int64"
      ]
     },
     "execution_count": 471,
     "metadata": {},
     "output_type": "execute_result"
    }
   ],
   "source": [
    "df['from_url'].value_counts()"
   ]
  },
  {
   "cell_type": "code",
   "execution_count": 472,
   "metadata": {},
   "outputs": [
    {
     "data": {
      "text/plain": [
       "no_info          11264\n",
       "1**********        220\n",
       "4013                 2\n",
       "5779                 2\n",
       "1***********         2\n",
       "9973                 1\n",
       "8852                 1\n",
       "7018                 1\n",
       "8804                 1\n",
       "8844                 1\n",
       "3127                 1\n",
       "9875                 1\n",
       "1068                 1\n",
       "1881                 1\n",
       "2120                 1\n",
       "0346                 1\n",
       "9605                 1\n",
       "3623                 1\n",
       "9252                 1\n",
       "5410                 1\n",
       "3518                 1\n",
       "5108                 1\n",
       "1903                 1\n",
       "8211                 1\n",
       "3007                 1\n",
       "4732                 1\n",
       "9159                 1\n",
       "+************        1\n",
       "5333                 1\n",
       "7554                 1\n",
       "                 ...  \n",
       "8914                 1\n",
       "1169                 1\n",
       "1694                 1\n",
       "4239                 1\n",
       "7082                 1\n",
       "1813                 1\n",
       "6682                 1\n",
       "9873                 1\n",
       "1207                 1\n",
       "6776                 1\n",
       "3350                 1\n",
       "3511                 1\n",
       "1988                 1\n",
       "4634                 1\n",
       "6788                 1\n",
       "0599                 1\n",
       "0615                 1\n",
       "2838                 1\n",
       "3261                 1\n",
       "2915                 1\n",
       "7464                 1\n",
       "1334                 1\n",
       "8009                 1\n",
       "4502                 1\n",
       "5107                 1\n",
       "4066                 1\n",
       "9107                 1\n",
       "3266                 1\n",
       "8440                 1\n",
       "7867                 1\n",
       "Name: info, Length: 271, dtype: int64"
      ]
     },
     "execution_count": 472,
     "metadata": {},
     "output_type": "execute_result"
    }
   ],
   "source": [
    "# 32 info\n",
    "df['info'].value_counts()"
   ]
  },
  {
   "cell_type": "code",
   "execution_count": 473,
   "metadata": {},
   "outputs": [],
   "source": [
    "df.drop(['info'], axis=1, inplace=True)"
   ]
  },
  {
   "cell_type": "code",
   "execution_count": 474,
   "metadata": {},
   "outputs": [
    {
     "data": {
      "text/plain": [
       "no_page          7309\n",
       "index            3890\n",
       "demo              317\n",
       "about             122\n",
       "courses_index     118\n",
       "Name: page, dtype: int64"
      ]
     },
     "execution_count": 474,
     "metadata": {},
     "output_type": "execute_result"
    }
   ],
   "source": [
    "# 33 page\n",
    "df['page'].value_counts()"
   ]
  },
  {
   "cell_type": "code",
   "execution_count": 475,
   "metadata": {},
   "outputs": [
    {
     "data": {
      "text/plain": [
       "no_pagePosition    4401\n",
       "1.0                3803\n",
       "2.0                2470\n",
       "3.0                 555\n",
       "4.0                 527\n",
       "Name: pagePosition, dtype: int64"
      ]
     },
     "execution_count": 475,
     "metadata": {},
     "output_type": "execute_result"
    }
   ],
   "source": [
    "# 34 pagePosition\n",
    "df['pagePosition'].value_counts()"
   ]
  },
  {
   "cell_type": "code",
   "execution_count": 476,
   "metadata": {},
   "outputs": [
    {
     "data": {
      "text/plain": [
       "dtype('O')"
      ]
     },
     "execution_count": 476,
     "metadata": {},
     "output_type": "execute_result"
    }
   ],
   "source": [
    "df['pagePosition'].dtypes"
   ]
  },
  {
   "cell_type": "code",
   "execution_count": 477,
   "metadata": {},
   "outputs": [
    {
     "data": {
      "text/plain": [
       "no_pageUrl                                                                                                                                                                                                                                                                                    3894\n",
       "https://www.sensorsdata.cn/                                                                                                                                                                                                                                                                   1167\n",
       "https://www.sensorsdata.cn/?utm_source=baidu&utm_medium=cpc&utm_term=%E7%94%A8%E6%88%B7%E7%94%BB%E5%83%8F&utm_content=%E9%80%9A%E7%94%A8%2D%E7%94%A8%E6%88%B7%E7%94%BB%E5%83%8F&utm_campaign=%E9%80%9A%E7%94%A8%E8%AF%8D                                                                       735\n",
       "https://www.sensorsdata.cn/demo.html                                                                                                                                                                                                                                                           450\n",
       "https://www.sensorsdata.cn/?utm_source=baidu&utm_medium=cpc&utm_term=%E7%A5%9E%E7%AD%96&utm_content=%E5%93%81%E7%89%8C%2D%E7%A5%9E%E7%AD%96&utm_campaign=%E5%93%81%E7%89%8C%E8%AF%8D                                                                                                           319\n",
       "https://sensorsdata.cn/                                                                                                                                                                                                                                                                        267\n",
       "https://www.sensorsdata.cn/index.html                                                                                                                                                                                                                                                          251\n",
       "https://www.sensorsdata.cn/?utm_source=sogou&utm_medium=mcpc&utm_term=%e6%95%b0%e6%8d%ae%e5%88%86%e6%9e%90&utm_content=%e9%80%9a%e7%94%a8-%e6%95%b0%e6%8d%ae%e5%88%86%e6%9e%90&utm_campaign=S-%e9%80%9a%e7%94%a8%e8%af%8d                                                                      168\n",
       "https://www.sensorsdata.cn/?utm_source=baidu&utm_medium=cpc&utm_term=%E7%94%A8%E6%88%B7%E5%88%86%E6%9E%90&utm_content=%E9%80%9A%E7%94%A8%2D%E7%94%A8%E6%88%B7%E5%88%86%E6%9E%90&utm_campaign=%E9%80%9A%E7%94%A8%E8%AF%8D                                                                       160\n",
       "https://www.sensorsdata.cn/?utm_source=baidu&utm_medium=cpc&utm_term=%E7%A5%9E%E7%AD%96%E6%95%B0%E6%8D%AE&utm_content=%E5%93%81%E7%89%8C%2D%E7%A5%9E%E7%AD%96&utm_campaign=%E5%93%81%E7%89%8C%E8%AF%8D                                                                                         156\n",
       "https://www.sensorsdata.cn/about.html                                                                                                                                                                                                                                                          139\n",
       "https://www.sensorsdata.cn/?utm_source=baidu&utm_medium=cpc&utm_term=%E7%94%B5%E5%AD%90%E5%95%86%E5%8A%A1%E6%95%B0%E6%8D%AE&utm_content=%E9%80%9A%E7%94%A8%2D%E7%94%B5%E5%95%86%E8%BF%90%E8%90%A5&utm_campaign=%E9%80%9A%E7%94%A8%E8%AF%8D                                                     133\n",
       "https://sensorsdata.cn/demo.html                                                                                                                                                                                                                                                               129\n",
       "https://www.sensorsdata.cn/courses/index.html                                                                                                                                                                                                                                                  128\n",
       "https://www.sensorsdata.cn/?utm_source=baidu&utm_medium=mfeed&utm_term=%E9%A6%96%E9%A1%B5-%E9%80%9A%E7%94%A8%E8%AF%8D-%E4%B8%89%E5%9B%BE-%E5%9B%BE1&utm_content=%E9%80%9A%E7%94%A8%E8%AF%8D-%E4%B8%89%E5%9B%BE&utm_campaign=%E9%A6%96%E9%A1%B5                                                 121\n",
       "https://www.sensorsdata.cn/product.html                                                                                                                                                                                                                                                        114\n",
       "https://www.sensorsdata.cn/courses/                                                                                                                                                                                                                                                            113\n",
       "https://www.sensorsdata.cn/?utm_source=baidu&utm_medium=cpc&utm_term=%E5%A4%A7%E6%95%B0%E6%8D%AE%E5%88%86%E6%9E%90&utm_content=%E9%80%9A%E7%94%A8%2D%E6%95%B0%E6%8D%AE%E5%88%86%E6%9E%90&utm_campaign=%E9%80%9A%E7%94%A8%E8%AF%8D                                                              100\n",
       "https://sensorsdata.cn/?ch=demo                                                                                                                                                                                                                                                                 94\n",
       "https://www.sensorsdata.cn/?utm_source=baidu&utm_medium=cpc&utm_term=%E4%BA%A7%E5%93%81%E6%95%B0%E6%8D%AE%E5%88%86%E6%9E%90&utm_content=%E9%80%9A%E7%94%A8%2D%E6%95%B0%E6%8D%AE%E5%88%86%E6%9E%90&utm_campaign=%E9%80%9A%E7%94%A8%E8%AF%8D                                                      88\n",
       "https://www.sensorsdata.cn/?utm_source=baidu&utm_medium=cpc&utm_term=%E7%BD%91%E7%AB%99%E6%95%B0%E6%8D%AE%E7%BB%9F%E8%AE%A1&utm_content=%E9%80%9A%E7%94%A8%2D%E6%95%B0%E6%8D%AE%E7%BB%9F%E8%AE%A1&utm_campaign=%E9%80%9A%E7%94%A8%E8%AF%8D                                                      77\n",
       "https://www.sensorsdata.cn/?utm_source=baidu&utm_medium=cpc&utm_term=%E8%81%9A%E7%B1%BB%E5%88%86%E6%9E%90&utm_content=%E9%80%9A%E7%94%A8%2D%E6%95%B0%E6%8D%AE%E5%88%86%E6%9E%90&utm_campaign=%E9%80%9A%E7%94%A8%E8%AF%8D                                                                        77\n",
       "https://www.sensorsdata.cn/?utm_source=baidu&utm_medium=cpc&utm_term=%E6%95%B0%E6%8D%AE%E5%88%86%E6%9E%90&utm_content=%E9%80%9A%E7%94%A8%2D%E6%95%B0%E6%8D%AE%E5%88%86%E6%9E%90&utm_campaign=%E9%80%9A%E7%94%A8%E8%AF%8D                                                                        71\n",
       "https://www.sensorsdata.cn/?utm_source=baidu&utm_medium=cpc&utm_term=%E7%BD%91%E7%AB%99%E8%BF%90%E8%90%A5%E6%95%B0%E6%8D%AE%E5%88%86%E6%9E%90&utm_content=%E9%80%9A%E7%94%A8%2D%E6%95%B0%E6%8D%AE%E5%88%86%E6%9E%90%2D%E8%BF%90%E8%90%A5&utm_campaign=%E9%80%9A%E7%94%A8%E8%AF%8D               67\n",
       "https://www.sensorsdata.cn/?utm_source=baidu&utm_medium=cpc&utm_term=%E6%97%85%E6%B8%B8%E5%A4%A7%E6%95%B0%E6%8D%AE&utm_content=%E9%80%9A%E7%94%A8%2D%E5%A4%A7%E6%95%B0%E6%8D%AE%2D%E8%A1%8C%E4%B8%9A&utm_campaign=%E9%80%9A%E7%94%A8%E8%AF%8D                                                   66\n",
       "https://www.sensorsdata.cn/?utm_source=baidu&utm_medium=cpc&utm_term=app%E5%88%86%E6%9E%90&utm_content=%E9%80%9A%E7%94%A8%2DAPP%E8%BF%90%E8%90%A5&utm_campaign=%E9%80%9A%E7%94%A8%E8%AF%8D                                                                                                      63\n",
       "https://www.sensorsdata.cn/?utm_source=baidu&utm_medium=cpc&utm_term=%E7%94%A8%E6%88%B7%E7%94%BB%E5%83%8F%E5%88%86%E6%9E%90&utm_content=%E9%80%9A%E7%94%A8%2D%E7%94%A8%E6%88%B7%E7%94%BB%E5%83%8F%2D%E4%BA%A7%E5%93%81&utm_campaign=%E9%80%9A%E7%94%A8%E8%AF%8D                                 58\n",
       "https://www.sensorsdata.cn/?utm_source=baidu&utm_medium=cpc&utm_term=app%E6%95%B0%E6%8D%AE&utm_content=%E9%80%9A%E7%94%A8%2DAPP%E8%BF%90%E8%90%A5&utm_campaign=%E9%80%9A%E7%94%A8%E8%AF%8D                                                                                                      57\n",
       "https://sensorsdata.cn/index.html                                                                                                                                                                                                                                                               52\n",
       "https://sensorsdata.cn/about.html                                                                                                                                                                                                                                                               45\n",
       "                                                                                                                                                                                                                                                                                              ... \n",
       "https://www.sensorsdata.cn/?utm_source=baidu&utm_medium=cpc&utm_term=%E7%94%A8%E6%88%B7%E7%94%BB%E5%83%8F&utm_campaign=%E7%94%A8%E6%88%B7%E7%94%BB%E5%83%8F                                                                                                                                      1\n",
       "https://www.sensorsdata.cn/?utm_source=baidu&utm_medium=cpc&utm_term=%E5%A4%A7%E6%95%B0%E6%8D%AE%E5%88%86%E6%9E%90%E8%A7%A3%E5%86%B3%E6%96%B9%E6%A1%88&utm_content=%E9%80%9A%E7%94%A8%2D%E6%95%B0%E6%8D%AE%E5%88%86%E6%9E%90%2D%E6%96%B9%E6%A1%88&utm_campaign=%E9%80%9A%E7%94%A8%E8%AF%8D       1\n",
       "https://www.sensorsdata.cn/?utm_source=baidu&utm_medium=cpc&utm_term=ios%E6%B8%A0%E9%81%93%E8%BF%BD%E8%B8%AA&utm_content=%E9%80%9A%E7%94%A8%2D%E6%B8%A0%E9%81%93%E8%BF%BD%E8%B8%AA&utm_campaign=%E9%80%9A%E7%94%A8%E8%AF%8D                                                                      1\n",
       "https://www.sensorsdata.cn/?utm_source=sogou&utm_medium=mcpc&utm_term=%e6%95%b0%e6%8d%ae%e5%8c%96%e8%bf%90%e8%90%a5&utm_content=%e9%80%9a%e7%94%a8-%e6%95%b0%e6%8d%ae%e8%bf%90%e8%90%a5&utm_campaign=S-%e9%80%9a%e7%94%a8%e8%af%8d                                                               1\n",
       "https://www.sensorsdata.cn/?utm_source=baidu&utm_medium=cpc&utm_campaign=%e7%a5%9e%e7%ad%96-%e7%a7%bb%e5%8a%a8%e6%8e%a8%e5%b9%bf&utm_content=%e9%80%9a%e7%94%a8%e8%af%8d-M&utm_term=%e7%94%a8%e6%88%b7%e7%94%bb%e5%83%8f                                                                         1\n",
       "https://www.sensorsdata.cn/?utm_source=baidu&utm_medium=cpc&utm_term=%E7%A5%9E%E7%AD%96%E5%88%86%E6%9E%90%E5%B7%A5%E5%85%B7&utm_content=%E5%93%81%E7%89%8C%2D%E7%A5%9E%E7%AD%96%2D%E4%BA%A7%E5%93%81%E8%AF%8D&utm_campaign=%E5%93%81%E7%89%8C%E8%AF%8D                                           1\n",
       "https://www.sensorsdata.cn/?utm_source=sogou&utm_medium=mcpc&utm_term=AARRR&utm_content=%e9%80%9a%e7%94%a8-%e6%95%b0%e6%8d%ae%e5%88%86%e6%9e%90%e6%b3%95&utm_campaign=S-%e9%80%9a%e7%94%a8%e8%af%8d                                                                                              1\n",
       "https://www.sensorsdata.cn/?utm_source=google&utm_medium=cpc&utm_term=%E8%81%9A%E7%B1%BB%E5%88%86%E6%9E%90&utm_content=%E9%80%9A%E7%94%A8-%E6%95%B0%E6%8D%AE%E5%88%86%E6%9E%90&utm_campaign=G-%E9%80%9A%E7%94%A8%E8%AF%8D                                                                        1\n",
       "https://www.sensorsdata.cn/?utm_source=baidu&utm_medium=cpc&utm_term=app%E8%BF%90%E8%90%A5%E6%95%B0%E6%8D%AE%E5%88%86%E6%9E%90&utm_content=%E9%80%9A%E7%94%A8%2D%E6%95%B0%E6%8D%AE%E5%88%86%E6%9E%90%2D%E8%A1%8C%E4%B8%9A&utm_campaign=%E9%80%9A%E7%94%A8%E8%AF%8D                               1\n",
       "https://www.sensorsdata.cn/?utm_source=baidu&utm_medium=cpc&utm_term=%e6%95%b0%e6%8d%ae%e9%a9%b1%e5%8a%a8%e5%a2%9e%e9%95%bf&utm_content=%e9%80%9a%e7%94%a8-%e6%95%b0%e6%8d%ae%e9%a9%b1%e5%8a%a8&utm_campaign=%e9%80%9a%e7%94%a8%e8%af%8d                                                         1\n",
       "https://www.sensorsdata.cn/?utm_source=baidu&utm_medium=cpc&utm_term=%E6%B5%B7%E7%9B%97%E6%8C%87%E6%A0%87%E6%B3%95&utm_content=%E9%80%9A%E7%94%A8%2D%E6%95%B0%E6%8D%AE%E5%88%86%E6%9E%90%E6%B3%95&utm_campaign=%E9%80%9A%E7%94%A8%E8%AF%8D                                                       1\n",
       "https://www.sensorsdata.cn/?utm_source=sogou&utm_medium=mcpc&utm_term=%e6%95%b0%e6%8d%ae%e9%87%87%e9%9b%86&utm_content=%e9%80%9a%e7%94%a8-%e6%95%b0%e6%8d%ae%e9%87%87%e9%9b%86&utm_campaign=S-%e9%80%9a%e7%94%a8%e8%af%8d                                                                        1\n",
       "https://www.sensorsdata.cn/?utm_source=baidu&utm_medium=cpc&utm_term=%E6%95%B0%E6%8D%AE%E5%88%86%E6%9E%90%E6%B3%95%E6%96%B9%E6%B3%95&utm_content=%E9%80%9A%E7%94%A8%2D%E6%95%B0%E6%8D%AE%E5%88%86%E6%9E%90%2D%E6%96%B9%E6%A1%88&utm_campaign=%E9%80%9A%E7%94%A8%E8%AF%8D                         1\n",
       "https://www.sensorsdata.cn/?utm_source=baidu&utm_medium=cpc&utm_term=%E4%BA%A7%E4%B8%9A%E5%A4%A7%E6%95%B0%E6%8D%AE%E5%88%86%E6%9E%90&utm_content=%E9%80%9A%E7%94%A8%2D%E6%95%B0%E6%8D%AE%E5%88%86%E6%9E%90&utm_campaign=%E9%80%9A%E7%94%A8%E8%AF%8D                                              1\n",
       "https://www.sensorsdata.cn/?utm_source=sogou&utm_medium=mcpc&utm_term=%e4%b8%aa%e6%80%a7%e5%8c%96%e8%90%a5%e9%94%80&utm_content=%e9%80%9a%e7%94%a8-%e4%b8%aa%e6%80%a7%e5%8c%96%e8%90%a5%e9%94%80&utm_campaign=S-%e9%80%9a%e7%94%a8%e8%af%8d                                                      1\n",
       "https://www.sensorsdata.cn/?utm_source=baidu&utm_medium=cpc&utm_campaign=%e7%a5%9e%e7%ad%96-%e7%a7%bb%e5%8a%a8%e6%8e%a8%e5%b9%bf&utm_content=%e9%80%9a%e7%94%a8%e8%af%8d-M&utm_term=%e7%bd%91%e7%ab%99%e6%95%b0%e6%8d%ae%e7%bb%9f%e8%ae%a1                                                       1\n",
       "https://www.sensorsdata.cn/?utm_source=baidu&utm_medium=cpc&utm_term=sensors%20data&utm_content=%E5%93%81%E7%89%8C%2D%E7%A5%9E%E7%AD%96%2D%E8%8B%B1%E6%96%87&utm_campaign=%E5%93%81%E7%89%8C%E8%AF%8D                                                                                            1\n",
       "https://www.sensorsdata.cn/?utm_source=sogou&utm_medium=mcpc&utm_term=%e7%94%b5%e5%95%86%e6%95%b0%e6%8d%ae%e5%88%86%e6%9e%90%e5%b7%a5%e5%85%b7&utm_content=%e9%80%9a%e7%94%a8-%e6%95%b0%e6%8d%ae%e5%88%86%e6%9e%90-%e4%ba%a7%e5%93%81&utm_campaign=S-%e9%80%9a%e7%94%a8%e8%af%8d                 1\n",
       "https://www.sensorsdata.cn/?utm_source=baidu&utm_medium=cpc&utm_term=%E7%94%B5%E5%95%86%E5%A4%A7%E6%95%B0%E6%8D%AE%E5%B9%B3%E5%8F%B0&utm_content=%E9%80%9A%E7%94%A8%2D%E5%A4%A7%E6%95%B0%E6%8D%AE%2D%E4%BA%A7%E5%93%81&utm_campaign=%E9%80%9A%E7%94%A8%E8%AF%8D                                  1\n",
       "https://sensorsdata.cn/?ch=zhihu&winzoom=1                                                                                                                                                                                                                                                       1\n",
       "https://www.sensorsdata.cn/?utm_source=baidu&utm_medium=cpc&utm_term=%E8%BF%90%E8%90%A5%E5%95%86%E6%95%B0%E6%8D%AE%E5%88%86%E6%9E%90&utm_content=%E9%80%9A%E7%94%A8%2D%E6%95%B0%E6%8D%AE%E5%88%86%E6%9E%90%2D%E8%BF%90%E8%90%A5&utm_campaign=%E9%80%9A%E7%94%A8%E8%AF%8D                         1\n",
       "https://www.sensorsdata.cn/?utm_source=baidu&utm_medium=cpc&utm_term=%e6%95%b0%e6%8d%ae%e5%88%86%e6%9e%90%e5%b7%a5%e5%85%b7%e6%9c%89%e5%93%aa%e4%ba%9b&utm_content=%e9%80%9a%e7%94%a8-%e6%95%b0%e6%8d%ae%e5%88%86%e6%9e%90-%e5%85%b6%e4%bb%96&utm_campaign=%e9%80%9a%e7%94%a8%e8%af%8d           1\n",
       "https://www.sensorsdata.cn/?utm_source=baidu&utm_medium=cpc&utm_term=%E5%A4%9A%E6%95%B0%E6%8D%AE%E6%95%B4%E5%90%88&utm_content=%E9%80%9A%E7%94%A8%2D%E5%A4%9A%E7%BB%B4%E5%88%86%E6%9E%90&utm_campaign=%E9%80%9A%E7%94%A8%E8%AF%8D                                                                1\n",
       "https://www.sensorsdata.cn/?utm_source=baidu&utm_medium=cpc&utm_term=%E5%A4%9A%E7%BB%B4%E6%95%B0%E6%8D%AE%E5%88%86%E6%9E%90&utm_content=%E9%80%9A%E7%94%A8%2D%E6%95%B0%E6%8D%AE%E5%88%86%E6%9E%90&utm_campaign=%E9%80%9A%E7%94%A8%E8%AF%8D                                                       1\n",
       "https://www.sensorsdata.cn/?utm_source=baidu&utm_medium=cpc&utm_term=%E5%A4%A7%E6%95%B0%E6%8D%AE%E6%9C%8D%E5%8A%A1&utm_content=%E9%80%9A%E7%94%A8%2D%E5%A4%A7%E6%95%B0%E6%8D%AE%2D%E5%85%B6%E4%BB%96&utm_campaign=%E9%80%9A%E7%94%A8%E8%AF%8D                                                    1\n",
       "https://www.sensorsdata.cn/?utm_source=baidu&utm_medium=cpc&utm_term=%E7%BD%91%E7%AB%99%E8%BF%90%E8%90%A5%E5%88%86%E6%9E%90&utm_content=%E9%80%9A%E7%94%A8%2D%E7%BD%91%E7%AB%99%E8%BF%90%E8%90%A5&utm_campaign=%E9%80%9A%E7%94%A8%E8%AF%8D                                                       1\n",
       "https://www.sensorsdata.cn/?utm_source=baidu&utm_medium=cpc&utm_term=%E7%A7%BB%E5%8A%A8%E5%BA%94%E7%94%A8%E6%95%B0%E6%8D%AE%E5%88%86%E6%9E%90&utm_content=%E9%80%9A%E7%94%A8%2D%E6%95%B0%E6%8D%AE%E5%88%86%E6%9E%90%2D%E8%A1%8C%E4%B8%9A&utm_campaign=%E9%80%9A%E7%94%A8%E8%AF%8D                1\n",
       "https://www.sensorsdata.cn/index.html?utm_source=zhihu&utm_medium=answer&utm_campaign=caroline                                                                                                                                                                                                   1\n",
       "https://www.sensorsdata.cn/?utm_source=baidu&utm_medium=cpc&utm_term=%E7%A5%9E%E7%AD%96%E6%95%B0%E6%8D%AE&utm_content=%E5%93%81%E7%89%8C-%E7%A5%9E%E7%AD%96&utm_campaign=%E5%93%81%E7%89%8C%E8%AF%8D                                                                                             1\n",
       "https://www.sensorsdata.cn/?utm_source=sogou&utm_medium=mcpc&utm_term=%e7%94%a8%e6%88%b7%e8%a1%8c%e4%b8%ba%e5%88%86%e6%9e%90&utm_content=%e9%80%9a%e7%94%a8-%e7%94%a8%e6%88%b7%e8%a1%8c%e4%b8%ba%e5%88%86%e6%9e%90&utm_campaign=S-%e9%80%9a%e7%94%a8%e8%af%8d                                    1\n",
       "Name: pageUrl, Length: 455, dtype: int64"
      ]
     },
     "execution_count": 477,
     "metadata": {},
     "output_type": "execute_result"
    }
   ],
   "source": [
    "# 35 pageUrl\n",
    "df['pageUrl'].value_counts()"
   ]
  },
  {
   "cell_type": "code",
   "execution_count": 478,
   "metadata": {},
   "outputs": [],
   "source": [
    "others(300, 'pageUrl')"
   ]
  },
  {
   "cell_type": "code",
   "execution_count": 479,
   "metadata": {},
   "outputs": [
    {
     "data": {
      "text/plain": [
       "others                                                                                                                                                                                                                      5191\n",
       "no_pageUrl                                                                                                                                                                                                                  3894\n",
       "https://www.sensorsdata.cn/                                                                                                                                                                                                 1167\n",
       "https://www.sensorsdata.cn/?utm_source=baidu&utm_medium=cpc&utm_term=%E7%94%A8%E6%88%B7%E7%94%BB%E5%83%8F&utm_content=%E9%80%9A%E7%94%A8%2D%E7%94%A8%E6%88%B7%E7%94%BB%E5%83%8F&utm_campaign=%E9%80%9A%E7%94%A8%E8%AF%8D     735\n",
       "https://www.sensorsdata.cn/demo.html                                                                                                                                                                                         450\n",
       "https://www.sensorsdata.cn/?utm_source=baidu&utm_medium=cpc&utm_term=%E7%A5%9E%E7%AD%96&utm_content=%E5%93%81%E7%89%8C%2D%E7%A5%9E%E7%AD%96&utm_campaign=%E5%93%81%E7%89%8C%E8%AF%8D                                         319\n",
       "Name: pageUrl, dtype: int64"
      ]
     },
     "execution_count": 479,
     "metadata": {},
     "output_type": "execute_result"
    }
   ],
   "source": [
    "df['pageUrl'].value_counts()"
   ]
  },
  {
   "cell_type": "code",
   "execution_count": 480,
   "metadata": {},
   "outputs": [
    {
     "data": {
      "text/plain": [
       "no_project_name    11653\n",
       "default               93\n",
       "production             9\n",
       "hunter                 1\n",
       "Name: project_name, dtype: int64"
      ]
     },
     "execution_count": 480,
     "metadata": {},
     "output_type": "execute_result"
    }
   ],
   "source": [
    "# 36 project_name\n",
    "df['project_name'].value_counts()"
   ]
  },
  {
   "cell_type": "code",
   "execution_count": 481,
   "metadata": {},
   "outputs": [
    {
     "data": {
      "text/plain": [
       "no_referrHostUrl       11493\n",
       "www.baidu.com            213\n",
       "www.sogou.com             15\n",
       "link.zhihu.com             7\n",
       "www.so.com                 6\n",
       "m.baidu.com                4\n",
       "www.google.com.hk          2\n",
       "class.sanjieke.cn          1\n",
       "www.tisiwi.com             1\n",
       "developer.51cto.com        1\n",
       "blog.tingyun.com           1\n",
       "sc.vipkid.com.cn           1\n",
       "cn.bing.com                1\n",
       "blog.csdn.net              1\n",
       "m.sogou.com                1\n",
       "www.itjuzi.com             1\n",
       "segmentfault.com           1\n",
       "shimo.im                   1\n",
       "newseed.pedaily.cn         1\n",
       "qiye.aliyun.com            1\n",
       "youxuan.baidu.com          1\n",
       "so.m.sm.cn                 1\n",
       "www.google.com.au          1\n",
       "Name: referrHostUrl, dtype: int64"
      ]
     },
     "execution_count": 481,
     "metadata": {},
     "output_type": "execute_result"
    }
   ],
   "source": [
    "# 37 referrHostUrl\n",
    "df['referrHostUrl'].value_counts()"
   ]
  },
  {
   "cell_type": "code",
   "execution_count": 482,
   "metadata": {},
   "outputs": [],
   "source": [
    "others(10, 'referrHostUrl')"
   ]
  },
  {
   "cell_type": "code",
   "execution_count": 483,
   "metadata": {},
   "outputs": [
    {
     "data": {
      "text/plain": [
       "no_referrHostUrl    11493\n",
       "www.baidu.com         213\n",
       "others                 35\n",
       "www.sogou.com          15\n",
       "Name: referrHostUrl, dtype: int64"
      ]
     },
     "execution_count": 483,
     "metadata": {},
     "output_type": "execute_result"
    }
   ],
   "source": [
    "df['referrHostUrl'].value_counts()"
   ]
  },
  {
   "cell_type": "code",
   "execution_count": 484,
   "metadata": {},
   "outputs": [
    {
     "data": {
      "text/plain": [
       "no_referrerUrl                                                                                                                                                                                              11493\n",
       "https://www.baidu.com/baidu.php                                                                                                                                                                               170\n",
       "https://www.baidu.com/link                                                                                                                                                                                     26\n",
       "https://www.baidu.com/s                                                                                                                                                                                        12\n",
       "https://www.google.com.hk/                                                                                                                                                                                      2\n",
       "https://link.zhihu.com/?target=https%3A//www.sensorsdata.cn                                                                                                                                                     2\n",
       "http://developer.51cto.com/art/201511/496229.htm                                                                                                                                                                1\n",
       "http://blog.tingyun.com/web/article/detail/190                                                                                                                                                                  1\n",
       "http://newseed.pedaily.cn/company/41540                                                                                                                                                                         1\n",
       "https://www.so.com/s?q=%E7%A5%9E%E7%AD%96%E7%BD%91%E7%BB%9C%E7%A7%91%E6%8A%80+%E5%8C%97%E4%BA%AC+%E6%9C%89%E9%99%90%E5%85%AC%E5%8F%B8&src=srp_suggst_3.2.2&fr=se7_newtab_new&psid=63393bf4d5e6fe271da133        1\n",
       "http://www.baidu.com/baidu.php?sc.JaTK00K6qMLzQcjhGsR7b0ivdAsEP1LiLa_63UwS_egex6un4wTZFRfdseF87kDKDozZSAeMWRDJ1QpjygvyskrYUY1L12C0uXl92OW_VTmauLH7GRpqOHHIq8WSXy8Ki4o-JOJryoADZSpJv0N0tLGy-69sGzHM_FilGF        1\n",
       "http://www.sogou.com/bill_cpc?v=1&p=WJhHUUCr919YBIa1wCG@hI83W76O9Gy17isduIQlJ@Vuybec$bn87D6AMd4GJ3XCYO75LO5eRZ0MlU93sYAH3wo34kQPmgkFac3kIcwEzd2ff76BW2EXWWbOWQWYLgsoWgOLbLXMi7aukDNs8HKQXdYzRM@srZ5Dfssn        1\n",
       "https://www.so.com/s?q=%E5%A4%A7%E6%95%B0%E6%8D%AE++%E7%94%A8%E6%88%B7%E7%94%BB%E5%83%8F%E5%BB%BA%E7%AB%8B%E7%9A%84%E5%B7%A5%E5%85%B7PPT&src=srp&fr=se7_newtab_new&psid=cab2bd5ee1d8c6aff5074b8f216f749f        1\n",
       "http://youxuan.baidu.com/s?type=new&p=query%3D%CA%FD%BE%DD%B7%D6%CE%F6%C8%ED%BC%FE%26ppim%3D0%26im%3D1%26rs%3D3%26from%3Dwise_zhidao_qb%26flowsrc%3D0%26qid%3D06e6ae7c50a5d932%26cookie%3DB0626B30142CE0        1\n",
       "http://www.sogou.com/bill_cpc?v=1&p=WJhqUtHr919tBH31zzzLhnxxdISaww0b8pELayV5c6TVuitfn8HJVHO4Gin6f$Q6IqvdA4KxxT0UAMxVS3kd3lAxgGTVsfxyrZqTCucR4kSTc5HdT@NEEFRaRd4PZs3aQMKBeBTNBi5qLmfrQu2@M@GLZpM5dIiUXJK4        1\n",
       "http://www.baidu.com/baidu.php?sc.IBTK00jyNUHxgmbNsRNO9pwmCW85unoZ3RhY2LA2yYSIy_P_a2rpHF5Zfm3aK0gihACpb2uofjfdgZRsOOEuvUOyAkfOXqqepIc29omYi45Xz8W9GLtwRV3z95qkf9L8sUUhSJZy8T3JHqCw07_EkWHGsnIy6WlObvKeJa        1\n",
       "https://so.m.sm.cn/s?q=%E7%A5%9E%E7%AD%96%E5%88%86%E6%9E%90&uc_param_str=dnntnwvepffrgibijbprsvdsme&from=ucframe&uc_sm=1                                                                                        1\n",
       "https://m.baidu.com/?from=844b&vit=fps                                                                                                                                                                          1\n",
       "http://www.baidu.com/baidu.php?sc.5iTK00KyNnnuXev3v_tLr5QzIEUSyCCbxZ5Tpv0JsysxhqYbH1ffVR_GUdnVnHFIpPVAtG2ANEZD4k71uqan6whnpENR1FmyeGiPePDzKKcZV4nbfl72viGRHFs2KK4tz_ljw1bxDT7AxfHKrG1BZwJ6oqs4_3uP8tXyUS        1\n",
       "http://www.sogou.com/web?query=%C9%F1%B2%DF+%CA%FD%BE%DD%B7%D6%CE%F6&clickid=09d02a3ffeaafe278878ae4d13e70634                                                                                                   1\n",
       "http://www.sogou.com/bill_cpc?v=1&p=WJhHUtdr919UB0bI01h7hJ83XXwJxR42Epz8nEGvDjvWq5RuIQiuJdOVd6t86fb$IbSf1VG5c7QR14@lv89oooQjzldV9n$OmYkkWxw9Wh$c78bui76BM2ETsKKcTshYscNpPKX0$MKcconsF8cmqnisqLI5CTKglNEW        1\n",
       "http://www.sogou.com/bill_cpc?v=1&p=WJedUFVs989YOUdJ1eA36VXyFq6ASYk1dHTO8XNHJaok2ORYQwr0tiwFTVCfNIIjOC3fHx2G03ClajhGa2Clvxqjl7pYaPU@kaUR9mWyJPmLdaETTuNd8iYgHdpi7b0gsA$m5@sCzkZ$WfDrHtnNoeLlTTi@WqAAeht4        1\n",
       "http://www.sogou.com/bill_cpc?v=1&p=WJhHUbMa919UB0ziv8aXhFpqbJUu9Gvd8pELHZv7e9EV8mzt8GiuVd6KOiOtFuLD4DgNqQwsAoQHQlq9Sxy9OSGr$fFeael9HFOZBETtNqbnG2@EsstWTiHPfsKy71rdhKUqNuirdMpgiWbm1LBEE@fbaYlK@BkWC2hg        1\n",
       "http://www.sogou.com/bill_cpc?v=1&p=WJedUbCs989tONn1vN8hwU@oIAhSw7yCs7HdMliVY6J7wxlav@9i8oKk5PoEFYpVOjwqQxR$gDRwZOSCyykxykSqG3j$RpvlIQ3RVz6vidxrYYj8d5mddTfLTEnmWlmdXv$mg0eMMtSZdN4rYMgPcTJCEKzawtRbFMcM        1\n",
       "http://www.sogou.com/bill_cpc?v=1&p=WJhOU0LwC9lYBKbLKXbL@p9$vbg2ZAauNIJ2G6O6ZUr7qGFpiIeGBXWRinNLBu@sH445buL7aRZy9t4$7x46nx4PHajh7a4Z9nyy3d4nS0jFm@Qc3LeGc4TsKv@is0tPtEKyCfuiSiN5g01CLrT@i6SHda0QQa@dWkFZ        1\n",
       "http://www.baidu.com/baidu.php?sc.Dz6K000qtFgcYvgk6jMvmBVIHwN2dgvxkmH7aCJlrlPITbUoTi81TmOLGlr88VKRx4q1Tnauwl9Mi9iVP_Mwxp9fxWLMTTKkzfnFg-x91u6IYxC61T5EggyX0nH4Ji0ayJwQFoMvbV0SOOvX3Kp8Q-HCdK9oDED2CcQTs5        1\n",
       "https://segmentfault.com/a/1190000005083953                                                                                                                                                                     1\n",
       "http://m.sogou.com/web/searchList.jsp?pid=sogou-clse-2996962656838a97&e=1427&g_f=123&keyword=%E7%A5%9E%E7%AD%96%E6%95%B0%E6%8D%AE                                                                               1\n",
       "http://link.zhihu.com/?target=https%3A//sensorsdata.cn/manual/data_model.html                                                                                                                                   1\n",
       "https://m.baidu.com/baidu.php?sc.JaTK00aO1pI09CemLGJkbfOry90ivTHH2JkLFg_XtVjaqOjQmgeTDxk2aoutZSGUbvXv94GcUAhQz076Q9npBJ02i7oqHSJ9zGsHS0KRA4cP98rSjeW85VXno1RkGaOfxgMwQcjkCV_CyiR7iBu-3GrriH3TqKdtJx3pghB        1\n",
       "http://sc.vipkid.com.cn/login/index.html                                                                                                                                                                        1\n",
       "https://www.google.com.au/                                                                                                                                                                                      1\n",
       "http://link.zhihu.com/?target=http%3A//www.sensorsdata.cn/%3Fch%3Dzhihu                                                                                                                                         1\n",
       "http://link.zhihu.com/?target=https%3A//sensorsdata.cn/                                                                                                                                                         1\n",
       "https://shimo.im/doc/QSDUwrdYsxkhfQ9q                                                                                                                                                                           1\n",
       "http://link.zhihu.com/?target=http%3A//sensorsdata.cn/%3Fch%3Dzhihu                                                                                                                                             1\n",
       "http://blog.csdn.net/loveatm911/article/details/52312785                                                                                                                                                        1\n",
       "http://www.sogou.com/bill_cpc?v=1&p=WJhHUFC7989UOAdI6EkHyIf$uEJ9APxIE5m@yipY9x7k2IbAM4hi9E$KXAd2kzUUVI0Ypw7YQxVFV7vs6llJeGFUaxUbRj8lqwX81byb9Eb1sWdEEMOE8Ta8JXItz8fDNJ3sTsrfc523MDf0NXNTMMULZ57sgXCrn22T        1\n",
       "http://www.sogou.com/bill_cpc?v=1&p=WJhHUbds989UOIn1FSh33kMomAOaIlPe0Wdf5Th4w09P26x7aGgXtiwFmr71NIIjVCofVjb951RV6xqCkjED96AqywUJGvqjYuSAk$6vifnPF98chNdETTH5T@nFheHoqj8sgOTkAisbRDK8HWT4HtbnXNC2kaDDW@L$        1\n",
       "https://www.so.com/s?ie=utf-8&src=dlm&shb=1&hsid=f2119892d6997a79&ls=n2f4c62819a&q=%E7%A5%9E%E7%AD%96%E6%95%B0%E6%8D%AE                                                                                         1\n",
       "https://www.so.com/s?q=%E7%A5%9E%E7%AD%96%E6%95%B0%E6%8D%AE&src=srp&fr=se7_newtab_new&psid=ec33891fa2b8087bdd1b1ca420bac828                                                                                     1\n",
       "https://www.so.com/s?q=%E7%A5%9E%E7%AD%96%E5%88%86%E6%9E%90&src=srp&fr=hao_360so_a&psid=f7a4ba40d38438a7de8d281610d0efe1                                                                                        1\n",
       "http://www.itjuzi.com/company/16088                                                                                                                                                                             1\n",
       "http://www.sogou.com/bill_cpc?v=1&p=WJhHUFLw919UB0bJgF3Xwknjr9Lzy9x8uUOuKhqkJgY$N0bXEnZ6QQSTtiX2iNFusa5SvHFWwcqkJNr9yAZD9FZZBzo9enYf7Nw$c9EmcOOBny5KMEET4HMbX@Zddj3FTECMQIhd@@4BJVNDGjAQXL8Hbk9DMacT8HkE        1\n",
       "http://www.baidu.com/baidu.php?sc.7aTK000CsN4Tg5PoJD2RkwGeLKw1QQX_gsd5_9wivon8TF7uPKdUs4_3FnTw1N47PgPb_OAt2SvUGv1KPG8Hq2iwK4vdsILAzxmfDHP5bh4Dd0RtxtSc6ED1UtRAXR-2a0yMuRZxfnq-aPU6IRzGs-dsc3h-7iNPINYT4S        1\n",
       "https://qiye.aliyun.com/alimail/                                                                                                                                                                                1\n",
       "http://www.tisiwi.com/startup/toolkit                                                                                                                                                                           1\n",
       "http://www.sogou.com/bill_cpc?v=1&p=WJhHUUCo919UB0BIu1hHORuwEjugy9RF8pyTmEGrlU@AvyqsgmI6GI7770@2FJ$$OC$df9pDAzWAxfdv5nyASSy9jiqWf$6x9bCE7OcjE$S2W@56R48sMdiEKpDWUEA5gmt3PdtQeK645iEsaByWsvIq2HKKrZnDdQa@        1\n",
       "https://link.zhihu.com/?target=https%3A//www.sensorsdata.cn/index.html%3Futm_source%3Dzhihu%26utm_medium%3Danswer%26utm_campaign%3Dcaroline                                                                     1\n",
       "https://m.baidu.com/from=844b/bd_page_type=1/ssid=0/uid=0/pu=sz%401320_2001%2Cta%40iphone_1_10.2_3_602%2Cusm%400/baiduid=9941C74A85FF224A7489B9862AE7C070/w=0_10_/t=iphone/l=1/tc?ref=www_iphone&lid=915        1\n",
       "http://www.sogou.com/bill_cpc?v=1&p=WJhNUbMaVR9UJX2EHEseJfO6$u1QVXVmGiXKwZHQY$tA20BXJI5B4QSMTjBEWLr0XqPoocLjLw0VQYAwOtUJJhAAcjVYXc1oQnoKoRPBqetHaGhRETTKhDsT9H3cARbupXN5E0ddcnb4Qh@LHNbmHFITa0Cbl@0fCIq5        1\n",
       "http://cn.bing.com/search?q=%E7%A5%9E%E7%AD%96%E6%95%B0%E6%8D%AE                                                                                                                                                1\n",
       "https://m.baidu.com/?from=2001a                                                                                                                                                                                 1\n",
       "https://www.so.com/s?ie=utf-8&src=hao_360so_a&shb=1&hsid=9001afb3626892a4&q=%E7%A5%9E%E7%AD%96%E5%88%86%E6%9E%90                                                                                                1\n",
       "http://class.sanjieke.cn/online.html                                                                                                                                                                            1\n",
       "http://www.sogou.com/bill_cpc?v=1&p=WJhHUFVoV99UBKYmmbHJw03qb4g2ZvVmEm@WTHEmhopqQ3OkBe2XBMKmVHXNhDCtaIouAv61ONAaYp9rquujAw3oY9POOvHGaZAjZvaA8Io8qObnZ5ss@Kdi@ZdFgA55jmQ0$LKimYLHS@7aCzLXCKrddqtbjaEdMaeN        1\n",
       "http://www.sogou.com/bill_cpc?v=1&p=WJhHUFCoV99UBmcmhNT95fzvrzcinGF28WEn@7$xONAIAwC2XJLNsqH6KTw8OcszW2VjrtF3UkySPjxQwr9ywoJzj2IpxGVWyUsVXUCGCGa3WKjddTCsiX78F5GvmONsT0OCcG8xfNqb8@WTITKbTQmgX11xKsgH$@jW        1\n",
       "Name: referrerUrl, dtype: int64"
      ]
     },
     "execution_count": 484,
     "metadata": {},
     "output_type": "execute_result"
    }
   ],
   "source": [
    "# 38 referrerUrl\n",
    "df['referrerUrl'].value_counts()"
   ]
  },
  {
   "cell_type": "code",
   "execution_count": 485,
   "metadata": {},
   "outputs": [],
   "source": [
    "others(10, 'referrerUrl')"
   ]
  },
  {
   "cell_type": "code",
   "execution_count": 486,
   "metadata": {},
   "outputs": [
    {
     "data": {
      "text/plain": [
       "no_referrerUrl                     11493\n",
       "https://www.baidu.com/baidu.php      170\n",
       "others                                55\n",
       "https://www.baidu.com/link            26\n",
       "https://www.baidu.com/s               12\n",
       "Name: referrerUrl, dtype: int64"
      ]
     },
     "execution_count": 486,
     "metadata": {},
     "output_type": "execute_result"
    }
   ],
   "source": [
    "df['referrerUrl'].value_counts()"
   ]
  },
  {
   "cell_type": "code",
   "execution_count": 487,
   "metadata": {},
   "outputs": [
    {
     "data": {
      "text/plain": [
       "no_requestBtn    9650\n",
       "2.0              1556\n",
       "1.0               239\n",
       "3.0               144\n",
       "4.0                70\n",
       "6.0                45\n",
       "10.0               43\n",
       "7.0                 9\n",
       "Name: requestBtn, dtype: int64"
      ]
     },
     "execution_count": 487,
     "metadata": {},
     "output_type": "execute_result"
    }
   ],
   "source": [
    "# 39 requestBtn\n",
    "df['requestBtn'].value_counts()"
   ]
  },
  {
   "cell_type": "code",
   "execution_count": 488,
   "metadata": {},
   "outputs": [
    {
     "data": {
      "text/plain": [
       "False    11255\n",
       "True       501\n",
       "Name: result, dtype: int64"
      ]
     },
     "execution_count": 488,
     "metadata": {},
     "output_type": "execute_result"
    }
   ],
   "source": [
    "# 40 result\n",
    "df['result'].value_counts()"
   ]
  },
  {
   "cell_type": "code",
   "execution_count": 489,
   "metadata": {},
   "outputs": [
    {
     "data": {
      "text/plain": [
       "numpy.bool_"
      ]
     },
     "execution_count": 489,
     "metadata": {},
     "output_type": "execute_result"
    }
   ],
   "source": [
    "type(df['result'][0])"
   ]
  },
  {
   "cell_type": "code",
   "execution_count": 490,
   "metadata": {},
   "outputs": [
    {
     "data": {
      "text/plain": [
       "https://www.sensorsdata.cn/                                                                                                                                                                                                                                                                                                                                                                             1986\n",
       "no_session_page_url                                                                                                                                                                                                                                                                                                                                                                                     1240\n",
       "https://www.sensorsdata.cn/?utm_source=baidu&utm_medium=cpc&utm_term=%E7%94%A8%E6%88%B7%E7%94%BB%E5%83%8F&utm_content=%E9%80%9A%E7%94%A8%2D%E7%94%A8%E6%88%B7%E7%94%BB%E5%83%8F&utm_campaign=%E9%80%9A%E7%94%A8%E8%AF%8D                                                                                                                                                                                 893\n",
       "https://www.sensorsdata.cn/?utm_source=baidu&utm_medium=mfeed&utm_term=%E9%A6%96%E9%A1%B5-%E9%80%9A%E7%94%A8%E8%AF%8D-%E4%B8%89%E5%9B%BE-%E5%9B%BE1&utm_content=%E9%80%9A%E7%94%A8%E8%AF%8D-%E4%B8%89%E5%9B%BE&utm_campaign=%E9%A6%96%E9%A1%B5                                                                                                                                                           527\n",
       "https://www.sensorsdata.cn/?utm_source=baidu&utm_medium=cpc&utm_term=%E7%A5%9E%E7%AD%96&utm_content=%E5%93%81%E7%89%8C%2D%E7%A5%9E%E7%AD%96&utm_campaign=%E5%93%81%E7%89%8C%E8%AF%8D                                                                                                                                                                                                                     476\n",
       "https://sensorsdata.cn/                                                                                                                                                                                                                                                                                                                                                                                  428\n",
       "https://www.sensorsdata.cn/demo.html                                                                                                                                                                                                                                                                                                                                                                     312\n",
       "https://www.sensorsdata.cn/?utm_source=sogou&utm_medium=mcpc&utm_term=%e6%95%b0%e6%8d%ae%e5%88%86%e6%9e%90&utm_content=%e9%80%9a%e7%94%a8-%e6%95%b0%e6%8d%ae%e5%88%86%e6%9e%90&utm_campaign=S-%e9%80%9a%e7%94%a8%e8%af%8d                                                                                                                                                                                285\n",
       "https://www.sensorsdata.cn/?utm_source=baidu&utm_medium=cpc&utm_term=%E7%A5%9E%E7%AD%96%E6%95%B0%E6%8D%AE&utm_content=%E5%93%81%E7%89%8C%2D%E7%A5%9E%E7%AD%96&utm_campaign=%E5%93%81%E7%89%8C%E8%AF%8D                                                                                                                                                                                                   213\n",
       "https://www.sensorsdata.cn/?utm_source=baidu&utm_medium=cpc&utm_term=%E7%94%A8%E6%88%B7%E5%88%86%E6%9E%90&utm_content=%E9%80%9A%E7%94%A8%2D%E7%94%A8%E6%88%B7%E5%88%86%E6%9E%90&utm_campaign=%E9%80%9A%E7%94%A8%E8%AF%8D                                                                                                                                                                                 186\n",
       "https://www.sensorsdata.cn/?utm_source=baidu&utm_medium=cpc&utm_term=%E7%94%B5%E5%AD%90%E5%95%86%E5%8A%A1%E6%95%B0%E6%8D%AE&utm_content=%E9%80%9A%E7%94%A8%2D%E7%94%B5%E5%95%86%E8%BF%90%E8%90%A5&utm_campaign=%E9%80%9A%E7%94%A8%E8%AF%8D                                                                                                                                                               148\n",
       "https://sensorsdata.cn/b-round.html                                                                                                                                                                                                                                                                                                                                                                      147\n",
       "https://www.sensorsdata.cn/?utm_source=baidu&utm_medium=cpc&utm_term=%E5%A4%A7%E6%95%B0%E6%8D%AE%E5%88%86%E6%9E%90&utm_content=%E9%80%9A%E7%94%A8%2D%E6%95%B0%E6%8D%AE%E5%88%86%E6%9E%90&utm_campaign=%E9%80%9A%E7%94%A8%E8%AF%8D                                                                                                                                                                        124\n",
       "https://www.sensorsdata.cn/?utm_source=baidu&utm_medium=cpc&utm_term=%E4%BA%A7%E5%93%81%E6%95%B0%E6%8D%AE%E5%88%86%E6%9E%90&utm_content=%E9%80%9A%E7%94%A8%2D%E6%95%B0%E6%8D%AE%E5%88%86%E6%9E%90&utm_campaign=%E9%80%9A%E7%94%A8%E8%AF%8D                                                                                                                                                               105\n",
       "file:///D:/xampp/htdocs/%E5%BE%AE%E6%96%AF%E8%AF%BA%E7%A7%91%E6%8A%80%E6%9C%89%E9%99%90%E5%85%AC%E5%8F%B8%E5%AE%98%E7%BD%91/%E7%A8%8B%E5%BA%8F/data.html                                                                                                                                                                                                                                                  98\n",
       "https://www.sensorsdata.cn/product.html                                                                                                                                                                                                                                                                                                                                                                   93\n",
       "https://www.sensorsdata.cn/?utm_source=baidu&utm_medium=cpc&utm_term=%E8%81%9A%E7%B1%BB%E5%88%86%E6%9E%90&utm_content=%E9%80%9A%E7%94%A8%2D%E6%95%B0%E6%8D%AE%E5%88%86%E6%9E%90&utm_campaign=%E9%80%9A%E7%94%A8%E8%AF%8D                                                                                                                                                                                  93\n",
       "https://www.sensorsdata.cn/?utm_source=baidu&utm_medium=cpc&utm_term=%E7%BD%91%E7%AB%99%E6%95%B0%E6%8D%AE%E7%BB%9F%E8%AE%A1&utm_content=%E9%80%9A%E7%94%A8%2D%E6%95%B0%E6%8D%AE%E7%BB%9F%E8%AE%A1&utm_campaign=%E9%80%9A%E7%94%A8%E8%AF%8D                                                                                                                                                                91\n",
       "https://www.sensorsdata.cn/index.html                                                                                                                                                                                                                                                                                                                                                                     91\n",
       "https://www.sensorsdata.cn/?utm_source=baidu&utm_medium=cpc&utm_term=%E7%BD%91%E7%AB%99%E8%BF%90%E8%90%A5%E6%95%B0%E6%8D%AE%E5%88%86%E6%9E%90&utm_content=%E9%80%9A%E7%94%A8%2D%E6%95%B0%E6%8D%AE%E5%88%86%E6%9E%90%2D%E8%BF%90%E8%90%A5&utm_campaign=%E9%80%9A%E7%94%A8%E8%AF%8D                                                                                                                         86\n",
       "https://www.sensorsdata.cn/?utm_source=baidu&utm_medium=mcpc&utm_campaign=%e7%a5%9e%e7%ad%96-%e7%a7%bb%e5%8a%a8%e6%8e%a8%e5%b9%bf&utm_content=%e9%80%9a%e7%94%a8%e8%af%8d-M&utm_term=%e5%a4%a7%e6%95%b0%e6%8d%ae%e5%88%86%e6%9e%90                                                                                                                                                                        79\n",
       "https://www.sensorsdata.cn/?utm_source=baidu&utm_medium=cpc&utm_term=%E6%95%B0%E6%8D%AE%E5%88%86%E6%9E%90&utm_content=%E9%80%9A%E7%94%A8%2D%E6%95%B0%E6%8D%AE%E5%88%86%E6%9E%90&utm_campaign=%E9%80%9A%E7%94%A8%E8%AF%8D                                                                                                                                                                                  79\n",
       "https://www.sensorsdata.cn/?utm_source=baidu&utm_medium=cpc&utm_term=%E6%97%85%E6%B8%B8%E5%A4%A7%E6%95%B0%E6%8D%AE&utm_content=%E9%80%9A%E7%94%A8%2D%E5%A4%A7%E6%95%B0%E6%8D%AE%2D%E8%A1%8C%E4%B8%9A&utm_campaign=%E9%80%9A%E7%94%A8%E8%AF%8D                                                                                                                                                             77\n",
       "https://www.sensorsdata.cn/?utm_source=baidu&utm_medium=cpc&utm_term=app%E5%88%86%E6%9E%90&utm_content=%E9%80%9A%E7%94%A8%2DAPP%E8%BF%90%E8%90%A5&utm_campaign=%E9%80%9A%E7%94%A8%E8%AF%8D                                                                                                                                                                                                                75\n",
       "https://www.sensorsdata.cn/?utm_source=baidu&utm_medium=cpc&utm_term=app%E6%95%B0%E6%8D%AE&utm_content=%E9%80%9A%E7%94%A8%2DAPP%E8%BF%90%E8%90%A5&utm_campaign=%E9%80%9A%E7%94%A8%E8%AF%8D                                                                                                                                                                                                                73\n",
       "https://www.sensorsdata.cn/?utm_source=baidu&utm_medium=mcpc&utm_campaign=%e7%a5%9e%e7%ad%96-%e7%a7%bb%e5%8a%a8%e6%8e%a8%e5%b9%bf&utm_content=%e9%80%9a%e7%94%a8%e8%af%8d-M&utm_term=%e7%94%a8%e6%88%b7%e7%94%bb%e5%83%8f                                                                                                                                                                                 69\n",
       "https://www.sensorsdata.cn/?utm_source=baidu&utm_medium=cpc&utm_term=%E7%94%A8%E6%88%B7%E7%94%BB%E5%83%8F%E5%88%86%E6%9E%90&utm_content=%E9%80%9A%E7%94%A8%2D%E7%94%A8%E6%88%B7%E7%94%BB%E5%83%8F%2D%E4%BA%A7%E5%93%81&utm_campaign=%E9%80%9A%E7%94%A8%E8%AF%8D                                                                                                                                           60\n",
       "https://sensorsdata.cn/demo.html                                                                                                                                                                                                                                                                                                                                                                          53\n",
       "https://www.sensorsdata.cn/?utm_source=baidu&utm_medium=mcpc&utm_campaign=%e7%a5%9e%e7%ad%96-%e7%a7%bb%e5%8a%a8%e6%8e%a8%e5%b9%bf&utm_content=%e9%80%9a%e7%94%a8%e8%af%8d-M&utm_term=%e6%95%b0%e6%8d%ae%e5%88%86%e6%9e%90%e8%bd%af%e4%bb%b6%e4%b8%8b%e8%bd%bd                                                                                                                                             52\n",
       "https://www.sensorsdata.cn/?utm_source=sogou&utm_medium=mcpc&utm_term=%e5%a4%a7%e6%95%b0%e6%8d%ae%e5%88%86%e6%9e%90&utm_content=%e9%80%9a%e7%94%a8-%e6%95%b0%e6%8d%ae%e5%88%86%e6%9e%90&utm_campaign=S-%e9%80%9a%e7%94%a8%e8%af%8d                                                                                                                                                                        50\n",
       "                                                                                                                                                                                                                                                                                                                                                                                                        ... \n",
       "https://www.sensorsdata.cn/?utm_source=baidu&utm_medium=cpc&utm_term=%E6%95%B0%E6%8D%AE%E5%9F%8B%E7%82%B9&utm_content=%E9%80%9A%E7%94%A8-%E5%9F%8B%E7%82%B9&utm_campaign=%E9%80%9A%E7%94%A8%E8%AF%8D                                                                                                                                                                                                       1\n",
       "https://www.sensorsdata.cn/?utm_source=baidu&utm_medium=cpc&utm_term=%E7%94%A8%E6%88%B7%E9%87%8F%E5%88%86%E6%9E%90&utm_content=%E9%80%9A%E7%94%A8%2D%E7%94%A8%E6%88%B7%E5%88%86%E6%9E%90&utm_campaign=%E9%80%9A%E7%94%A8%E8%AF%8D                                                                                                                                                                          1\n",
       "https://www.sensorsdata.cn/?utm_source=baidu&utm_medium=cpc&utm_term=%E8%90%A5%E9%94%80%E4%B8%AA%E6%80%A7%E5%8C%96&utm_content=%E9%80%9A%E7%94%A8%2D%E4%B8%AA%E6%80%A7%E5%8C%96%E8%90%A5%E9%94%80&utm_campaign=%E9%80%9A%E7%94%A8%E8%AF%8D                                                                                                                                                                 1\n",
       "https://www.sensorsdata.cn/?utm_source=baidu&utm_medium=cpc&utm_term=%E7%94%A8%E6%88%B7%E7%94%BB%E5%83%8F%E4%BA%A7%E5%93%81&utm_content=%E9%80%9A%E7%94%A8%2D%E7%94%A8%E6%88%B7%E7%94%BB%E5%83%8F%2D%E4%BA%A7%E5%93%81&utm_campaign=%E9%80%9A%E7%94%A8%E8%AF%8D                                                                                                                                            1\n",
       "https://www.sensorsdata.cn/?utm_source=baidu&utm_medium=mcpc&utm_term=%E8%81%9A%E7%B1%BB%E5%88%86%E6%9E%90&utm_content=%E9%80%9A%E7%94%A8-%E6%95%B0%E6%8D%AE%E5%88%86%E6%9E%90&utm_campaign=%E9%80%9A%E7%94%A8%E8%AF%8D                                                                                                                                                                                    1\n",
       "https://www.sensorsdata.cn/?utm_source=baidu&utm_medium=cpc&utm_term=%E6%95%B0%E6%8D%AE%E5%BB%BA%E6%A8%A1&utm_content=%E9%80%9A%E7%94%A8-%E6%95%B0%E6%8D%AE%E5%A4%84%E7%90%86&utm_campaign=%E9%80%9A%E7%94%A8%E8%AF%8D                                                                                                                                                                                     1\n",
       "https://www.sensorsdata.cn/?utm_source=baidu&utm_medium=mcpc&utm_term=%E6%95%B0%E6%8D%AE%E5%A4%84%E7%90%86&utm_content=%E9%80%9A%E7%94%A8-%E6%95%B0%E6%8D%AE%E5%A4%84%E7%90%86&utm_campaign=%E9%80%9A%E7%94%A8%E8%AF%8D                                                                                                                                                                                    1\n",
       "https://www.sensorsdata.cn/?utm_source=baidu&utm_medium=cpc&utm_term=%E6%95%B0%E6%8D%AE%E5%88%86%E6%9E%90%E6%A8%A1%E5%9E%8B&utm_content=%E9%80%9A%E7%94%A8-%E6%95%B0%E6%8D%AE%E5%88%86%E6%9E%90-%E5%85%B6%E4%BB%96&utm_campaign=%E9%80%9A%E7%94%A8%E8%AF%8D                                                                                                                                                1\n",
       "https://sensorsdata.cn/?utm_source=qiye.36kr.com                                                                                                                                                                                                                                                                                                                                                           1\n",
       "https://www.sensorsdata.cn/?utm_source=baidu&utm_medium=cpc&utm_term=%E8%90%A5%E8%BF%90%E6%95%B0%E6%8D%AE%E5%88%86%E6%9E%90&utm_content=%E9%80%9A%E7%94%A8%2D%E6%95%B0%E6%8D%AE%E5%88%86%E6%9E%90%2D%E8%BF%90%E8%90%A5&utm_campaign=%E9%80%9A%E7%94%A8%E8%AF%8D                                                                                                                                            1\n",
       "https://www.sensorsdata.cn/?utm_source=baidu&utm_medium=cpc&utm_term=%E7%BD%91%E7%AB%99%E6%95%B0%E6%8D%AE%E7%BB%9F%E8%AE%A1&utm_content=%E9%80%9A%E7%94%A8-%E6%95%B0%E6%8D%AE%E7%BB%9F%E8%AE%A1&utm_campaign=%E9%80%9A%E7%94%A8%E8%AF%8D                                                                                                                                                                   1\n",
       "https://www.sensorsdata.cn/?utm_source=baidu&utm_medium=cpc&utm_term=%E5%9C%A8%E7%BA%BF%E6%95%B0%E6%8D%AE%E5%88%86%E6%9E%90%E5%B7%A5%E5%85%B7&utm_content=%E9%80%9A%E7%94%A8-%E6%95%B0%E6%8D%AE%E5%88%86%E6%9E%90-%E4%BA%A7%E5%93%81&utm_campaign=%E9%80%9A%E7%94%A8%E8%AF%8D                                                                                                                              1\n",
       "https://www.sensorsdata.cn/?utm_source=baidu&utm_medium=cpc&utm_term=%E5%9C%A8%E7%BA%BF%E6%95%99%E8%82%B2%E7%94%A8%E6%88%B7%E7%94%BB%E5%83%8F&utm_content=%E9%80%9A%E7%94%A8%2D%E7%94%A8%E6%88%B7%E7%94%BB%E5%83%8F%2D%E8%A1%8C%E4%B8%9A&utm_campaign=%E9%80%9A%E7%94%A8%E8%AF%8D                                                                                                                          1\n",
       "https://www.sensorsdata.cn/?from=groupmessage                                                                                                                                                                                                                                                                                                                                                              1\n",
       "https://www.sensorsdata.cn/?utm_source=baidu&utm_medium=cpc&utm_term=%E8%BF%90%E8%90%A5%20%E6%95%B0%E6%8D%AE&utm_content=%E9%80%9A%E7%94%A8-%E7%BD%91%E7%AB%99%E8%BF%90%E8%90%A5&utm_campaign=%E9%80%9A%E7%94%A8%E8%AF%8D                                                                                                                                                                                  1\n",
       "https://www.sensorsdata.cn/?utm_source=sogou&utm_medium=mcpc&utm_term=%e5%a4%a7%e6%95%b0%e6%8d%ae%e5%88%86%e6%9e%90&utm_content=%e9%80%9a%e7%94%a8-%e6%95%b0%e6%8d%ae%e5%88%86%e6%9e%90&utm_campaign=S-%e9%80%9a%e7%94%a8%e8%af%8d&from=singlemessage&isappinstalled=1                                                                                                                                     1\n",
       "https://www.sensorsdata.cn/?utm_source=baidu&utm_medium=mcpc&utm_campaign=%e7%a5%9e%e7%ad%96-%e7%a7%bb%e5%8a%a8%e6%8e%a8%e5%b9%bf&utm_content=%e9%80%9a%e7%94%a8%e8%af%8d-M&utm_term=app%e6%95%b0%e6%8d%ae%e5%88%86%e6%9e%90#|src_%E8%8B%B9%E6%9E%9Capp%E6%A0%B9%E6%8D%AE%E6%95%B0%E6%8D%AE%E7%94%9F%E6%88%90%E6%9B%B2%E7%BA%BF%E5%9B%BE%E5%BD%A2|sa_tb&word=app%E6%95%B0%E6%8D%AE%E5%88%86%E6%9E%90       1\n",
       "https://www.sensorsdata.cn/share/share.html?utm_campaign=qiyukf&utm_medium=default&utm_source=hzcaibin                                                                                                                                                                                                                                                                                                     1\n",
       "https://www.sensorsdata.cn/?utm_source=baidu&utm_medium=cpc&utm_term=%E6%95%B0%E6%8D%AE%E5%88%86%E6%9E%90%E8%A7%A3%E5%86%B3%E6%96%B9%E6%A1%88&utm_content=%E9%80%9A%E7%94%A8-%E6%95%B0%E6%8D%AE%E5%88%86%E6%9E%90-%E6%96%B9%E6%A1%88&utm_campaign=%E9%80%9A%E7%94%A8%E8%AF%8D                                                                                                                              1\n",
       "https://www.sensorsdata.cn/?utm_source=baidu&utm_medium=cpc&utm_term=%E5%A4%A7%E6%95%B0%E6%8D%AE%E5%88%86%E6%9E%90&utm_content=%E9%80%9A%E7%94%A8-%E6%95%B0%E6%8D%AE%E5%88%86%E6%9E%90&utm_campaign=%E9%80%9A%E7%94%A8%E8%AF%8D                                                                                                                                                                            1\n",
       "https://www.sensorsdata.cn/?utm_source=baidu&utm_medium=mcpc&utm_campaign=%e7%a5%9e%e7%ad%96-%e7%a7%bb%e5%8a%a8%e6%8e%a8%e5%b9%bf&utm_content=%e9%80%9a%e7%94%a8%e8%af%8d-M&utm_term=%e5%a4%a7%e6%95%b0%e6%8d%ae%e5%88%86%e6%9e%90#|src_%E4%BC%9A%E5%91%98%E8%A7%A3%E6%9E%90|sa_is_1&word=%E7%94%B5%E5%95%86%E5%A4%A7%E6%95%B0%E6%8D%AE%E5%88%86%E6%9E%90                                                  1\n",
       "https://www.sensorsdata.cn/?utm_source=baidu&utm_medium=cpc&utm_term=%E6%95%B0%E6%8D%AE%E8%AF%B4%E8%AF%9D&utm_content=%E9%80%9A%E7%94%A8%2D%E6%95%B0%E6%8D%AE%E8%BF%90%E8%90%A5&utm_campaign=%E9%80%9A%E7%94%A8%E8%AF%8D                                                                                                                                                                                   1\n",
       "https://www.sensorsdata.cn/?utm_source=baidu&utm_medium=mcpc&utm_term=%E4%BA%92%E8%81%94%E7%BD%91%E9%87%91%E8%9E%8D%E7%94%A8%E6%88%B7%E7%94%BB%E5%83%8F&utm_content=%E9%80%9A%E7%94%A8-%E7%94%A8%E6%88%B7%E7%94%BB%E5%83%8F-%E8%A1%8C%E4%B8%9A&utm_campaign=%E9%80%9A%E7%94%A8%E8%AF%8D                                                                                                                    1\n",
       "https://www.sensorsdata.cn/?utm_source=baidu&utm_medium=cpc&utm_term=%e7%95%99%e5%ad%98%e5%88%86%e6%9e%90&utm_content=%e9%80%9a%e7%94%a8-%e7%94%a8%e6%88%b7%e7%95%99%e5%ad%98&utm_campaign=%e9%80%9a%e7%94%a8%e8%af%8d                                                                                                                                                                                     1\n",
       "https://www.sensorsdata.cn/?utm_source=baidu&utm_medium=cpc&utm_term=%E4%B8%83%E6%97%A5%E7%95%99%E5%AD%98&utm_content=%E9%80%9A%E7%94%A8-%E7%94%A8%E6%88%B7%E7%95%99%E5%AD%98&utm_campaign=%E9%80%9A%E7%94%A8%E8%AF%8D                                                                                                                                                                                     1\n",
       "https://www.sensorsdata.cn/?utm_source=baidu&utm_medium=cpc&utm_term=%E5%88%86%E6%9E%90%E7%94%A8%E6%88%B7%E8%A1%8C%E4%B8%BA&utm_campaign=%E7%94%A8%E6%88%B7%E8%A1%8C%E4%B8%BA                                                                                                                                                                                                                              1\n",
       "https://www.sensorsdata.cn/?utm_source=baidu&utm_medium=cpc&utm_term=%E4%BA%92%E8%81%94%E7%BD%91%E5%B9%BF%E5%91%8A%E6%95%88%E6%9E%9C%E8%AF%84%E4%BC%B0&utm_content=%E9%80%9A%E7%94%A8%2D%E5%B9%BF%E5%91%8A%E4%BC%98%E5%8C%96&utm_campaign=%E9%80%9A%E7%94%A8%E8%AF%8D                                                                                                                                      1\n",
       "https://www.sensorsdata.cn/?utm_source=baidu&utm_medium=cpc&utm_term=%E7%94%A8%E6%88%B7%E8%A1%8C%E4%B8%BA%E6%95%B0%E6%8D%AE&utm_content=%E9%80%9A%E7%94%A8-%E7%94%A8%E6%88%B7%E8%A1%8C%E4%B8%BA%E5%88%86%E6%9E%90&utm_campaign=%E9%80%9A%E7%94%A8%E8%AF%8D                                                                                                                                                 1\n",
       "https://www.sensorsdata.cn/?utm_source=google&utm_medium=cpc&utm_term=%E7%94%A8%E6%88%B7%E5%88%86%E7%BE%A4&utm_content=%E9%80%9A%E7%94%A8%2D%E7%94%A8%E6%88%B7%E5%88%86%E7%BE%A4&utm_campaign=G%2D%E9%80%9A%E7%94%A8%E8%AF%8D                                                                                                                                                                              1\n",
       "https://www.sensorsdata.cn/?utm_source=baidu&utm_medium=cpc&utm_term=%E6%97%85%E6%B8%B8%E5%A4%A7%E6%95%B0%E6%8D%AE&utm_content=%E9%80%9A%E7%94%A8-%E5%A4%A7%E6%95%B0%E6%8D%AE-%E8%A1%8C%E4%B8%9A&utm_campaign=%E9%80%9A%E7%94%A8%E8%AF%8D                                                                                                                                                                  1\n",
       "Name: session_page_url, Length: 664, dtype: int64"
      ]
     },
     "execution_count": 490,
     "metadata": {},
     "output_type": "execute_result"
    }
   ],
   "source": [
    "# 41 session_page_url\n",
    "df['session_page_url'].value_counts()"
   ]
  },
  {
   "cell_type": "code",
   "execution_count": 491,
   "metadata": {},
   "outputs": [],
   "source": [
    "others(500, 'session_page_url')"
   ]
  },
  {
   "cell_type": "code",
   "execution_count": 492,
   "metadata": {},
   "outputs": [
    {
     "data": {
      "text/plain": [
       "others                                                                                                                                                                                                                                            7110\n",
       "https://www.sensorsdata.cn/                                                                                                                                                                                                                       1986\n",
       "no_session_page_url                                                                                                                                                                                                                               1240\n",
       "https://www.sensorsdata.cn/?utm_source=baidu&utm_medium=cpc&utm_term=%E7%94%A8%E6%88%B7%E7%94%BB%E5%83%8F&utm_content=%E9%80%9A%E7%94%A8%2D%E7%94%A8%E6%88%B7%E7%94%BB%E5%83%8F&utm_campaign=%E9%80%9A%E7%94%A8%E8%AF%8D                           893\n",
       "https://www.sensorsdata.cn/?utm_source=baidu&utm_medium=mfeed&utm_term=%E9%A6%96%E9%A1%B5-%E9%80%9A%E7%94%A8%E8%AF%8D-%E4%B8%89%E5%9B%BE-%E5%9B%BE1&utm_content=%E9%80%9A%E7%94%A8%E8%AF%8D-%E4%B8%89%E5%9B%BE&utm_campaign=%E9%A6%96%E9%A1%B5     527\n",
       "Name: session_page_url, dtype: int64"
      ]
     },
     "execution_count": 492,
     "metadata": {},
     "output_type": "execute_result"
    }
   ],
   "source": [
    "df['session_page_url'].value_counts()"
   ]
  },
  {
   "cell_type": "code",
   "execution_count": 493,
   "metadata": {},
   "outputs": [
    {
     "data": {
      "text/plain": [
       "no_siteUrl                    11299\n",
       "https://www.sensorsdata.cn      457\n",
       "Name: siteUrl, dtype: int64"
      ]
     },
     "execution_count": 493,
     "metadata": {},
     "output_type": "execute_result"
    }
   ],
   "source": [
    "# 42 siteUrl\n",
    "df['siteUrl'].value_counts()"
   ]
  },
  {
   "cell_type": "code",
   "execution_count": 494,
   "metadata": {},
   "outputs": [
    {
     "data": {
      "text/plain": [
       "no_site_url                                                                                                                                                                                                                                                                                            11295\n",
       "https://www.sensorsdata.cn/                                                                                                                                                                                                                                                                               88\n",
       "https://www.sensorsdata.cn/?utm_source=baidu&utm_medium=cpc&utm_term=%E7%94%A8%E6%88%B7%E7%94%BB%E5%83%8F&utm_content=%E9%80%9A%E7%94%A8%2D%E7%94%A8%E6%88%B7%E7%94%BB%E5%83%8F&utm_campaign=%E9%80%9A%E7%94%A8%E8%AF%8D                                                                                  61\n",
       "https://www.sensorsdata.cn/?utm_source=baidu&utm_medium=cpc&utm_term=%E7%A5%9E%E7%AD%96&utm_content=%E5%93%81%E7%89%8C%2D%E7%A5%9E%E7%AD%96&utm_campaign=%E5%93%81%E7%89%8C%E8%AF%8D                                                                                                                      44\n",
       "https://sensorsdata.cn/                                                                                                                                                                                                                                                                                   21\n",
       "https://www.sensorsdata.cn/?utm_source=baidu&utm_medium=cpc&utm_term=%E7%A5%9E%E7%AD%96%E6%95%B0%E6%8D%AE&utm_content=%E5%93%81%E7%89%8C%2D%E7%A5%9E%E7%AD%96&utm_campaign=%E5%93%81%E7%89%8C%E8%AF%8D                                                                                                    14\n",
       "https://www.sensorsdata.cn/?utm_source=baidu&utm_medium=cpc&utm_term=%E7%94%A8%E6%88%B7%E7%94%BB%E5%83%8F%E5%88%86%E6%9E%90&utm_content=%E9%80%9A%E7%94%A8%2D%E7%94%A8%E6%88%B7%E7%94%BB%E5%83%8F%2D%E4%BA%A7%E5%93%81&utm_campaign=%E9%80%9A%E7%94%A8%E8%AF%8D                                            8\n",
       "https://sensorsdata.cn/?ch=demo                                                                                                                                                                                                                                                                            8\n",
       "https://www.sensorsdata.cn/?utm_source=baidu&utm_medium=mfeed&utm_term=%E9%A6%96%E9%A1%B5-%E9%80%9A%E7%94%A8%E8%AF%8D-%E4%B8%89%E5%9B%BE-%E5%9B%BE1&utm_content=%E9%80%9A%E7%94%A8%E8%AF%8D-%E4%B8%89%E5%9B%BE&utm_campaign=%E9%A6%96%E9%A1%B5                                                             8\n",
       "https://www.sensorsdata.cn/?utm_source=baidu&utm_medium=cpc&utm_term=%E7%94%A8%E6%88%B7%E5%88%86%E6%9E%90&utm_content=%E9%80%9A%E7%94%A8%2D%E7%94%A8%E6%88%B7%E5%88%86%E6%9E%90&utm_campaign=%E9%80%9A%E7%94%A8%E8%AF%8D                                                                                   8\n",
       "https://www.sensorsdata.cn/?utm_source=sogou&utm_medium=mcpc&utm_term=%e6%95%b0%e6%8d%ae%e5%88%86%e6%9e%90&utm_content=%e9%80%9a%e7%94%a8-%e6%95%b0%e6%8d%ae%e5%88%86%e6%9e%90&utm_campaign=S-%e9%80%9a%e7%94%a8%e8%af%8d                                                                                  7\n",
       "https://www.sensorsdata.cn/?utm_source=baidu&utm_medium=cpc&utm_term=%E7%BD%91%E7%AB%99%E8%BF%90%E8%90%A5%E6%95%B0%E6%8D%AE%E5%88%86%E6%9E%90&utm_content=%E9%80%9A%E7%94%A8%2D%E6%95%B0%E6%8D%AE%E5%88%86%E6%9E%90%2D%E8%BF%90%E8%90%A5&utm_campaign=%E9%80%9A%E7%94%A8%E8%AF%8D                          7\n",
       "https://www.sensorsdata.cn/?utm_source=baidu&utm_medium=cpc&utm_term=app%E6%95%B0%E6%8D%AE&utm_content=%E9%80%9A%E7%94%A8%2DAPP%E8%BF%90%E8%90%A5&utm_campaign=%E9%80%9A%E7%94%A8%E8%AF%8D                                                                                                                 6\n",
       "https://www.sensorsdata.cn/?utm_source=baidu&utm_medium=cpc&utm_term=%E7%BD%91%E7%AB%99%E6%95%B0%E6%8D%AE%E7%BB%9F%E8%AE%A1&utm_content=%E9%80%9A%E7%94%A8%2D%E6%95%B0%E6%8D%AE%E7%BB%9F%E8%AE%A1&utm_campaign=%E9%80%9A%E7%94%A8%E8%AF%8D                                                                 6\n",
       "https://www.sensorsdata.cn/?utm_source=baidu&utm_medium=cpc&utm_term=%E6%95%B0%E6%8D%AE%E5%88%86%E6%9E%90&utm_content=%E9%80%9A%E7%94%A8%2D%E6%95%B0%E6%8D%AE%E5%88%86%E6%9E%90&utm_campaign=%E9%80%9A%E7%94%A8%E8%AF%8D                                                                                   6\n",
       "https://www.sensorsdata.cn/?utm_source=baidu&utm_medium=cpc&utm_term=%E5%AE%A2%E6%88%B7%E7%94%BB%E5%83%8F&utm_content=%E9%80%9A%E7%94%A8%2D%E7%94%A8%E6%88%B7%E7%94%BB%E5%83%8F&utm_campaign=%E9%80%9A%E7%94%A8%E8%AF%8D                                                                                   5\n",
       "https://www.sensorsdata.cn/?utm_source=baidu&utm_medium=cpc&utm_term=%E7%94%B5%E5%AD%90%E5%95%86%E5%8A%A1%E6%95%B0%E6%8D%AE&utm_content=%E9%80%9A%E7%94%A8%2D%E7%94%B5%E5%95%86%E8%BF%90%E8%90%A5&utm_campaign=%E9%80%9A%E7%94%A8%E8%AF%8D                                                                 5\n",
       "https://www.sensorsdata.cn/?utm_source=baidu&utm_medium=cpc&utm_term=%E4%BA%A7%E5%93%81%E6%95%B0%E6%8D%AE%E5%88%86%E6%9E%90&utm_content=%E9%80%9A%E7%94%A8%2D%E6%95%B0%E6%8D%AE%E5%88%86%E6%9E%90&utm_campaign=%E9%80%9A%E7%94%A8%E8%AF%8D                                                                 5\n",
       "https://www.sensorsdata.cn/index.html                                                                                                                                                                                                                                                                      4\n",
       "https://sensorsdata.cn/demo.html                                                                                                                                                                                                                                                                           4\n",
       "https://www.sensorsdata.cn/demo.html                                                                                                                                                                                                                                                                       4\n",
       "https://sensorsdata.cn/b-round.html                                                                                                                                                                                                                                                                        4\n",
       "https://www.sensorsdata.cn/?utm_source=baidu&utm_medium=cpc&utm_term=app%E6%95%B0%E6%8D%AE%E7%BB%9F%E8%AE%A1&utm_content=%E9%80%9A%E7%94%A8%2D%E6%95%B0%E6%8D%AE%E7%BB%9F%E8%AE%A1&utm_campaign=%E9%80%9A%E7%94%A8%E8%AF%8D                                                                                3\n",
       "https://www.sensorsdata.cn/?utm_source=baidu&utm_medium=cpc&utm_term=%E6%95%B0%E6%8D%AE%E7%BB%9F%E8%AE%A1%E5%B9%B3%E5%8F%B0&utm_content=%E9%80%9A%E7%94%A8%2D%E6%95%B0%E6%8D%AE%E7%BB%9F%E8%AE%A1%2D%E4%BA%A7%E5%93%81&utm_campaign=%E9%80%9A%E7%94%A8%E8%AF%8D                                            3\n",
       "https://sensorsdata.cn/?ch=zhihu                                                                                                                                                                                                                                                                           3\n",
       "https://www.sensorsdata.cn/?utm_source=baidu&utm_medium=cpc&utm_term=%E7%94%B5%E5%95%86%E6%95%B0%E6%8D%AE%E5%88%86%E6%9E%90&utm_content=%E9%80%9A%E7%94%A8%2D%E6%95%B0%E6%8D%AE%E5%88%86%E6%9E%90%2D%E8%A1%8C%E4%B8%9A&utm_campaign=%E9%80%9A%E7%94%A8%E8%AF%8D                                            3\n",
       "https://www.sensorsdata.cn/?utm_source=baidu&utm_medium=cpc&utm_term=%E7%A5%9E%E7%AD%96%E5%88%86%E6%9E%90&utm_content=%E5%93%81%E7%89%8C%2D%E7%A5%9E%E7%AD%96&utm_campaign=%E5%93%81%E7%89%8C%E8%AF%8D                                                                                                     3\n",
       "https://www.sensorsdata.cn/?utm_source=baidu&utm_medium=cpc&utm_term=%E6%B8%B8%E6%88%8F%E6%95%B0%E6%8D%AE%E5%88%86%E6%9E%90&utm_content=%E9%80%9A%E7%94%A8%2D%E6%95%B0%E6%8D%AE%E5%88%86%E6%9E%90%2D%E8%A1%8C%E4%B8%9A&utm_campaign=%E9%80%9A%E7%94%A8%E8%AF%8D                                            3\n",
       "https://www.sensorsdata.cn/?ch=zhihu                                                                                                                                                                                                                                                                       3\n",
       "https://www.sensorsdata.cn/?utm_source=baidu&utm_medium=cpc&utm_term=%E4%BA%BA%E7%BE%A4%E7%94%BB%E5%83%8F%E5%88%86%E6%9E%90&utm_content=%E9%80%9A%E7%94%A8%2D%E7%94%A8%E6%88%B7%E7%94%BB%E5%83%8F%2D%E5%8A%9F%E8%83%BD&utm_campaign=%E9%80%9A%E7%94%A8%E8%AF%8D                                            3\n",
       "                                                                                                                                                                                                                                                                                                       ...  \n",
       "https://www.sensorsdata.cn/?utm_source=sogou&utm_medium=mcpc&utm_term=%e7%94%a8%e6%88%b7%e7%94%bb%e5%83%8f&utm_content=%e9%80%9a%e7%94%a8-%e7%94%a8%e6%88%b7%e7%94%bb%e5%83%8f&utm_campaign=S-%e9%80%9a%e7%94%a8%e8%af%8d                                                                                  1\n",
       "https://www.sensorsdata.cn/?utm_source=baidu&utm_medium=cpc&utm_term=%E8%A7%86%E9%A2%91%E7%BD%91%E7%AB%99%E5%88%86%E6%9E%90&utm_content=%E9%80%9A%E7%94%A8%2D%E6%95%B0%E6%8D%AE%E5%8F%AF%E8%A7%86%E5%8C%96&utm_campaign=%E9%80%9A%E7%94%A8%E8%AF%8D                                                        1\n",
       "https://www.sensorsdata.cn/?utm_source=baidu&utm_medium=cpc&utm_term=%E6%95%B0%E6%8D%AE%E5%88%86%E6%9E%90%E5%B7%A5%E5%85%B7&utm_content=%E9%80%9A%E7%94%A8%2D%E6%95%B0%E6%8D%AE%E5%88%86%E6%9E%90%2D%E4%BA%A7%E5%93%81&utm_campaign=%E9%80%9A%E7%94%A8%E8%AF%8D                                            1\n",
       "https://www.sensorsdata.cn/?utm_source=baidu&utm_medium=cpc&utm_term=%E7%94%A8%E6%88%B7%E7%94%BB%E5%83%8F%E5%B7%A5%E5%85%B7&utm_content=%E9%80%9A%E7%94%A8%2D%E7%94%A8%E6%88%B7%E7%94%BB%E5%83%8F%2D%E4%BA%A7%E5%93%81&utm_campaign=%E9%80%9A%E7%94%A8%E8%AF%8D                                            1\n",
       "https://www.sensorsdata.cn/?utm_source=baidu&utm_medium=mcpc&utm_campaign=%e7%a5%9e%e7%ad%96-%e7%a7%bb%e5%8a%a8%e6%8e%a8%e5%b9%bf&utm_content=%e9%80%9a%e7%94%a8%e8%af%8d-M&utm_term=%e6%95%b0%e6%8d%ae%e5%88%86%e6%9e%90%e8%bd%af%e4%bb%b6%e4%b8%8b%e8%bd%bd                                              1\n",
       "https://www.sensorsdata.cn/?utm_source=baidu&utm_medium=cpc&utm_term=%E6%95%B0%E6%8D%AE%E5%8F%AF%E8%A7%86%E5%8C%96%E7%BD%91%E7%AB%99&utm_content=%E9%80%9A%E7%94%A8%2D%E6%95%B0%E6%8D%AE%E5%8F%AF%E8%A7%86%E5%8C%96&utm_campaign=%E9%80%9A%E7%94%A8%E8%AF%8D                                               1\n",
       "https://www.sensorsdata.cn/?utm_source=baidu&utm_medium=cpc&utm_term=%E7%94%A8%E6%88%B7%E6%A0%87%E7%AD%BE%E4%BD%93%E7%B3%BB&utm_content=%E9%80%9A%E7%94%A8%2D%E7%94%A8%E6%88%B7%E5%88%86%E6%9E%90&utm_campaign=%E9%80%9A%E7%94%A8%E8%AF%8D                                                                 1\n",
       "https://www.sensorsdata.cn/?utm_source=baidu&utm_medium=cpc&utm_term=%E5%B9%BF%E5%91%8A%E6%95%88%E6%9E%9C%E7%9B%91%E6%B5%8B&utm_content=%E9%80%9A%E7%94%A8%2D%E5%B9%BF%E5%91%8A%E4%BC%98%E5%8C%96&utm_campaign=%E9%80%9A%E7%94%A8%E8%AF%8D                                                                 1\n",
       "https://www.sensorsdata.cn/?utm_source=baidu&utm_medium=cpc&utm_term=dmp%20%E7%94%A8%E6%88%B7%E7%94%BB%E5%83%8F&utm_content=%E9%80%9A%E7%94%A8%2D%E7%94%A8%E6%88%B7%E7%94%BB%E5%83%8F%2D%E8%A1%8C%E4%B8%9A&utm_campaign=%E9%80%9A%E7%94%A8%E8%AF%8D                                                        1\n",
       "https://www.sensorsdata.cn/?utm_source=baidu&utm_medium=cpc&utm_term=%E6%B8%B8%E6%88%8F%E8%BF%90%E8%90%A5%E6%95%B0%E6%8D%AE%E5%88%86%E6%9E%90&utm_content=%E9%80%9A%E7%94%A8%2D%E6%95%B0%E6%8D%AE%E5%88%86%E6%9E%90%2D%E8%A1%8C%E4%B8%9A&utm_campaign=%E9%80%9A%E7%94%A8%E8%AF%8D                          1\n",
       "https://www.sensorsdata.cn/?utm_source=baidu&utm_medium=cpc&utm_term=%E7%BD%91%E7%AB%99%E6%95%B0%E6%8D%AE%E5%88%86%E6%9E%90&utm_content=%E9%80%9A%E7%94%A8%2D%E6%95%B0%E6%8D%AE%E5%88%86%E6%9E%90%2D%E8%BF%90%E8%90%A5&utm_campaign=%E9%80%9A%E7%94%A8%E8%AF%8D                                            1\n",
       "https://www.sensorsdata.cn/?utm_source=baidu&utm_medium=cpc&utm_term=%E7%94%A8%E6%88%B7%E8%A1%8C%E4%B8%BA%E5%88%86%E6%9E%90%E7%B3%BB%E7%BB%9F&utm_content=%E9%80%9A%E7%94%A8%2D%E7%94%A8%E6%88%B7%E8%A1%8C%E4%B8%BA%E5%88%86%E6%9E%90%2D%E7%B3%BB%E7%BB%9F&utm_campaign=%E9%80%9A%E7%94%A8%E8%AF%8D        1\n",
       "https://www.sensorsdata.cn/?utm_source=sales4c                                                                                                                                                                                                                                                             1\n",
       "https://www.sensorsdata.cn/?utm_source=baidu&utm_medium=cpc&utm_term=%E5%B9%B3%E5%8F%B0%E6%95%B0%E6%8D%AE%E5%88%86%E6%9E%90&utm_content=%E9%80%9A%E7%94%A8%2D%E6%95%B0%E6%8D%AE%E5%88%86%E6%9E%90&utm_campaign=%E9%80%9A%E7%94%A8%E8%AF%8D                                                                 1\n",
       "https://www.sensorsdata.cn/?utm_source=baidu&utm_medium=cpc&utm_term=%E7%94%A8%E6%88%B7%E6%95%B0%E6%8D%AE%E5%88%86%E6%9E%90&utm_content=%E9%80%9A%E7%94%A8%2D%E6%95%B0%E6%8D%AE%E5%88%86%E6%9E%90%2D%E8%BF%90%E8%90%A5&utm_campaign=%E9%80%9A%E7%94%A8%E8%AF%8D                                            1\n",
       "https://www.sensorsdata.cn/?utm_source=baidu&utm_medium=cpc&utm_term=%E7%94%A8%E6%88%B7%E8%A1%8C%E4%B8%BA%E6%95%B0%E6%8D%AE%E9%87%87%E9%9B%86&utm_content=%E9%80%9A%E7%94%A8%2D%E6%95%B0%E6%8D%AE%E9%87%87%E9%9B%86&utm_campaign=%E9%80%9A%E7%94%A8%E8%AF%8D                                               1\n",
       "https://sensorsdata.cn/demo.html?winzoom=1                                                                                                                                                                                                                                                                 1\n",
       "https://www.sensorsdata.cn/?utm_source=baidu&utm_medium=cpc&utm_term=%E7%94%A8%E6%88%B7%E7%94%BB%E5%83%8F%20%E5%A4%A7%E6%95%B0%E6%8D%AE&utm_content=%E9%80%9A%E7%94%A8%2D%E7%94%A8%E6%88%B7%E7%94%BB%E5%83%8F%2D%E5%8A%9F%E8%83%BD&utm_campaign=%E9%80%9A%E7%94%A8%E8%AF%8D                                1\n",
       "https://www.sensorsdata.cn/demo.html?winzoom=1                                                                                                                                                                                                                                                             1\n",
       "https://www.sensorsdata.cn/?utm_source=baidu&utm_medium=cpc&utm_term=%E8%BF%90%E8%90%A5%E6%95%B0%E6%8D%AE%E5%88%86%E6%9E%90%E8%BD%AF%E4%BB%B6&utm_content=%E9%80%9A%E7%94%A8%2D%E6%95%B0%E6%8D%AE%E5%88%86%E6%9E%90%2D%E4%BA%A7%E5%93%81&utm_campaign=%E9%80%9A%E7%94%A8%E8%AF%8D                          1\n",
       "https://www.sensorsdata.cn/?utm_source=wechat&utm_medium=cpc&utm_campaign=trial                                                                                                                                                                                                                            1\n",
       "https://www.sensorsdata.cn/?utm_source=baidu&utm_medium=cpc&utm_term=%E7%94%A8%E6%88%B7%E7%94%BB%E5%83%8F%E7%B3%BB%E7%BB%9F&utm_content=%E9%80%9A%E7%94%A8%2D%E7%94%A8%E6%88%B7%E7%94%BB%E5%83%8F%2D%E4%BA%A7%E5%93%81&utm_campaign=%E9%80%9A%E7%94%A8%E8%AF%8D                                            1\n",
       "https://www.sensorsdata.cn/?utm_source=baidu&utm_medium=cpc&utm_term=%E5%9C%A8%E7%BA%BF%E6%95%B0%E6%8D%AE%E5%88%86%E6%9E%90%E5%B7%A5%E5%85%B7&utm_content=%E9%80%9A%E7%94%A8%2D%E6%95%B0%E6%8D%AE%E5%88%86%E6%9E%90%2D%E4%BA%A7%E5%93%81&utm_campaign=%E9%80%9A%E7%94%A8%E8%AF%8D                          1\n",
       "https://www.sensorsdata.cn/demo.html?utm_source=wechat                                                                                                                                                                                                                                                     1\n",
       "https://www.sensorsdata.cn/?utm_source=baidu&utm_medium=cpc&utm_term=%E6%B8%B8%E6%88%8F%E7%95%99%E5%AD%98&utm_content=%E9%80%9A%E7%94%A8%2D%E7%94%A8%E6%88%B7%E7%95%99%E5%AD%98%2D%E8%A1%8C%E4%B8%9A&utm_campaign=%E9%80%9A%E7%94%A8%E8%AF%8D                                                              1\n",
       "https://www.sensorsdata.cn/?utm_source=baidu&utm_medium=cpc&utm_term=7%E6%97%A5%E7%95%99%E5%AD%98&utm_content=%E9%80%9A%E7%94%A8%2D%E7%94%A8%E6%88%B7%E7%95%99%E5%AD%98&utm_campaign=%E9%80%9A%E7%94%A8%E8%AF%8D                                                                                           1\n",
       "https://www.sensorsdata.cn/?utm_source=baidu&utm_medium=cpc&utm_term=%E7%94%A8%E6%88%B7%E8%A1%8C%E4%B8%BA%E6%95%B0%E6%8D%AE%E5%88%86%E6%9E%90&utm_content=%E9%80%9A%E7%94%A8%2D%E7%94%A8%E6%88%B7%E8%A1%8C%E4%B8%BA%E5%88%86%E6%9E%90&utm_campaign=%E9%80%9A%E7%94%A8%E8%AF%8D                             1\n",
       "https://www.sensorsdata.cn/?utm_source=baidu&utm_medium=cpc&utm_term=%E8%BF%90%E8%90%A5%20%E6%95%B0%E6%8D%AE&utm_content=%E9%80%9A%E7%94%A8%2D%E7%BD%91%E7%AB%99%E8%BF%90%E8%90%A5&utm_campaign=%E9%80%9A%E7%94%A8%E8%AF%8D                                                                                1\n",
       "https://www.sensorsdata.cn/?utm_source=sogou&utm_medium=mcpc&utm_term=%e7%94%b5%e5%ad%90%e5%95%86%e5%8a%a1%e6%95%b0%e6%8d%ae&utm_content=%e9%80%9a%e7%94%a8-%e7%94%b5%e5%95%86%e8%bf%90%e8%90%a5&utm_campaign=S-%e9%80%9a%e7%94%a8%e8%af%8d                                                                1\n",
       "https://www.sensorsdata.cn/?utm_source=baidu&utm_medium=cpc&utm_term=b2b%E7%94%A8%E6%88%B7%E7%94%BB%E5%83%8F&utm_content=%E9%80%9A%E7%94%A8%2D%E7%94%A8%E6%88%B7%E7%94%BB%E5%83%8F%2D%E8%A1%8C%E4%B8%9A&utm_campaign=%E9%80%9A%E7%94%A8%E8%AF%8D                                                           1\n",
       "Name: site_url, Length: 121, dtype: int64"
      ]
     },
     "execution_count": 494,
     "metadata": {},
     "output_type": "execute_result"
    }
   ],
   "source": [
    "# 43 site_url\n",
    "df['site_url'].value_counts()"
   ]
  },
  {
   "cell_type": "code",
   "execution_count": 495,
   "metadata": {},
   "outputs": [],
   "source": [
    "others(40, 'site_url')"
   ]
  },
  {
   "cell_type": "code",
   "execution_count": 496,
   "metadata": {},
   "outputs": [
    {
     "data": {
      "text/plain": [
       "no_site_url                                                                                                                                                                                                                 11295\n",
       "others                                                                                                                                                                                                                        268\n",
       "https://www.sensorsdata.cn/                                                                                                                                                                                                    88\n",
       "https://www.sensorsdata.cn/?utm_source=baidu&utm_medium=cpc&utm_term=%E7%94%A8%E6%88%B7%E7%94%BB%E5%83%8F&utm_content=%E9%80%9A%E7%94%A8%2D%E7%94%A8%E6%88%B7%E7%94%BB%E5%83%8F&utm_campaign=%E9%80%9A%E7%94%A8%E8%AF%8D       61\n",
       "https://www.sensorsdata.cn/?utm_source=baidu&utm_medium=cpc&utm_term=%E7%A5%9E%E7%AD%96&utm_content=%E5%93%81%E7%89%8C%2D%E7%A5%9E%E7%AD%96&utm_campaign=%E5%93%81%E7%89%8C%E8%AF%8D                                           44\n",
       "Name: site_url, dtype: int64"
      ]
     },
     "execution_count": 496,
     "metadata": {},
     "output_type": "execute_result"
    }
   ],
   "source": [
    "df['site_url'].value_counts()"
   ]
  },
  {
   "cell_type": "code",
   "execution_count": 497,
   "metadata": {},
   "outputs": [
    {
     "data": {
      "text/plain": [
       "profile_set_once    9413\n",
       "track               2343\n",
       "Name: type, dtype: int64"
      ]
     },
     "execution_count": 497,
     "metadata": {},
     "output_type": "execute_result"
    }
   ],
   "source": [
    "# 44 type\n",
    "df['type'].value_counts()"
   ]
  },
  {
   "cell_type": "markdown",
   "metadata": {},
   "source": [
    "#### Convert bool columns to int"
   ]
  },
  {
   "cell_type": "code",
   "execution_count": 498,
   "metadata": {},
   "outputs": [],
   "source": [
    "# 40 results\n",
    "df['result'] = df['result'].astype(int)"
   ]
  },
  {
   "cell_type": "code",
   "execution_count": 499,
   "metadata": {},
   "outputs": [],
   "source": [
    "# 47 is_first_day\n",
    "df['is_first_day'] = df['is_first_day'].astype(int)"
   ]
  },
  {
   "cell_type": "code",
   "execution_count": 500,
   "metadata": {},
   "outputs": [],
   "source": [
    "# 48 is_first_time\n",
    "df['is_first_time'] = df['is_first_time'].astype(int)"
   ]
  },
  {
   "cell_type": "code",
   "execution_count": 501,
   "metadata": {},
   "outputs": [],
   "source": [
    "# 49 verification_code\n",
    "df['verification_code'] = df['verification_code'].astype(int)"
   ]
  },
  {
   "cell_type": "code",
   "execution_count": 502,
   "metadata": {},
   "outputs": [],
   "source": [
    "# 50 contact\n",
    "df['contact'] = df['contact'].astype(int)"
   ]
  },
  {
   "cell_type": "code",
   "execution_count": 503,
   "metadata": {},
   "outputs": [],
   "source": [
    "# 51 email\n",
    "df['email'] = df['email'].astype(int)"
   ]
  },
  {
   "cell_type": "code",
   "execution_count": 504,
   "metadata": {},
   "outputs": [],
   "source": [
    "# 52 isMsg\n",
    "df['isMsg'] = df['isMsg'].astype(int)"
   ]
  },
  {
   "cell_type": "code",
   "execution_count": 505,
   "metadata": {},
   "outputs": [],
   "source": [
    "# 53 isSuccess\n",
    "df['isSuccess'] = df['isSuccess'].astype(int)"
   ]
  },
  {
   "cell_type": "code",
   "execution_count": 506,
   "metadata": {},
   "outputs": [],
   "source": [
    "# 54 name\n",
    "df['name'] = df['name'].astype(int)"
   ]
  },
  {
   "cell_type": "code",
   "execution_count": 507,
   "metadata": {},
   "outputs": [],
   "source": [
    "# 30 company\n",
    "df['company'] = df['company'].astype(int)"
   ]
  },
  {
   "cell_type": "code",
   "execution_count": 508,
   "metadata": {},
   "outputs": [],
   "source": [
    "# signup\n",
    "df['signup'] = df['signup'].astype(int)"
   ]
  },
  {
   "cell_type": "code",
   "execution_count": 509,
   "metadata": {},
   "outputs": [
    {
     "data": {
      "text/html": [
       "<div>\n",
       "<style scoped>\n",
       "    .dataframe tbody tr th:only-of-type {\n",
       "        vertical-align: middle;\n",
       "    }\n",
       "\n",
       "    .dataframe tbody tr th {\n",
       "        vertical-align: top;\n",
       "    }\n",
       "\n",
       "    .dataframe thead th {\n",
       "        text-align: right;\n",
       "    }\n",
       "</style>\n",
       "<table border=\"1\" class=\"dataframe\">\n",
       "  <thead>\n",
       "    <tr style=\"text-align: right;\">\n",
       "      <th></th>\n",
       "      <th>distinct_id</th>\n",
       "      <th>number_of_visit</th>\n",
       "      <th>browser</th>\n",
       "      <th>first_referrer</th>\n",
       "      <th>first_referrer_host</th>\n",
       "      <th>first_browser_language</th>\n",
       "      <th>first_visit_time</th>\n",
       "      <th>ip</th>\n",
       "      <th>is_first_day</th>\n",
       "      <th>is_first_time</th>\n",
       "      <th>...</th>\n",
       "      <th>siteUrl</th>\n",
       "      <th>site_url</th>\n",
       "      <th>verification_code</th>\n",
       "      <th>type</th>\n",
       "      <th>time</th>\n",
       "      <th>time_formatted</th>\n",
       "      <th>time_formatted_date</th>\n",
       "      <th>day_of_week</th>\n",
       "      <th>hour_of_day</th>\n",
       "      <th>signup</th>\n",
       "    </tr>\n",
       "  </thead>\n",
       "  <tbody>\n",
       "    <tr>\n",
       "      <th>0</th>\n",
       "      <td>00007ef910b6c9911f1b89d01a09aa3fc862f4a9</td>\n",
       "      <td>7</td>\n",
       "      <td>others</td>\n",
       "      <td>others</td>\n",
       "      <td>m.baidu.com</td>\n",
       "      <td>zh</td>\n",
       "      <td>2017-03-07 13:52:16.501</td>\n",
       "      <td>36.23.47.33</td>\n",
       "      <td>0</td>\n",
       "      <td>0</td>\n",
       "      <td>...</td>\n",
       "      <td>no_siteUrl</td>\n",
       "      <td>no_site_url</td>\n",
       "      <td>1</td>\n",
       "      <td>profile_set_once</td>\n",
       "      <td>1490958308420</td>\n",
       "      <td>2017-03-31 11:05:08</td>\n",
       "      <td>2017-03-31</td>\n",
       "      <td>4</td>\n",
       "      <td>11</td>\n",
       "      <td>1</td>\n",
       "    </tr>\n",
       "    <tr>\n",
       "      <th>1</th>\n",
       "      <td>000a216b72eff19bd0d5e17b9e676dd6ad9a38ac</td>\n",
       "      <td>1</td>\n",
       "      <td>chrome</td>\n",
       "      <td>no_first_referrer</td>\n",
       "      <td>no_first_referrer_host</td>\n",
       "      <td>no_first_browser_language</td>\n",
       "      <td>no_first_visit_time</td>\n",
       "      <td>111.193.183.253</td>\n",
       "      <td>1</td>\n",
       "      <td>1</td>\n",
       "      <td>...</td>\n",
       "      <td>no_siteUrl</td>\n",
       "      <td>no_site_url</td>\n",
       "      <td>0</td>\n",
       "      <td>track</td>\n",
       "      <td>1489373568278</td>\n",
       "      <td>2017-03-13 02:52:48</td>\n",
       "      <td>2017-03-13</td>\n",
       "      <td>0</td>\n",
       "      <td>2</td>\n",
       "      <td>0</td>\n",
       "    </tr>\n",
       "    <tr>\n",
       "      <th>2</th>\n",
       "      <td>000c46a27ef69fa22b56d253a9c72773338a1686</td>\n",
       "      <td>23</td>\n",
       "      <td>chrome</td>\n",
       "      <td>no_first_referrer</td>\n",
       "      <td>no_first_referrer_host</td>\n",
       "      <td>en</td>\n",
       "      <td>2017-03-07 13:48:56.25</td>\n",
       "      <td>27.38.250.222</td>\n",
       "      <td>0</td>\n",
       "      <td>0</td>\n",
       "      <td>...</td>\n",
       "      <td>no_siteUrl</td>\n",
       "      <td>no_site_url</td>\n",
       "      <td>0</td>\n",
       "      <td>profile_set_once</td>\n",
       "      <td>1490958308406</td>\n",
       "      <td>2017-03-31 11:05:08</td>\n",
       "      <td>2017-03-31</td>\n",
       "      <td>4</td>\n",
       "      <td>11</td>\n",
       "      <td>0</td>\n",
       "    </tr>\n",
       "    <tr>\n",
       "      <th>3</th>\n",
       "      <td>000ed1dcd942969b458c5b308937c6389c08f999</td>\n",
       "      <td>5</td>\n",
       "      <td>others</td>\n",
       "      <td>others</td>\n",
       "      <td>others</td>\n",
       "      <td>zh</td>\n",
       "      <td>2017-03-13 11:29:36.672</td>\n",
       "      <td>116.226.32.214</td>\n",
       "      <td>0</td>\n",
       "      <td>0</td>\n",
       "      <td>...</td>\n",
       "      <td>no_siteUrl</td>\n",
       "      <td>no_site_url</td>\n",
       "      <td>0</td>\n",
       "      <td>profile_set_once</td>\n",
       "      <td>1490958376034</td>\n",
       "      <td>2017-03-31 11:06:16</td>\n",
       "      <td>2017-03-31</td>\n",
       "      <td>4</td>\n",
       "      <td>11</td>\n",
       "      <td>0</td>\n",
       "    </tr>\n",
       "    <tr>\n",
       "      <th>4</th>\n",
       "      <td>00111feff544ef5280a4c7064a362a9ea59c9389</td>\n",
       "      <td>2</td>\n",
       "      <td>no_brower</td>\n",
       "      <td>no_first_referrer</td>\n",
       "      <td>no_first_referrer_host</td>\n",
       "      <td>zh</td>\n",
       "      <td>2017-03-09 19:34:34.925</td>\n",
       "      <td>117.136.38.216</td>\n",
       "      <td>0</td>\n",
       "      <td>0</td>\n",
       "      <td>...</td>\n",
       "      <td>no_siteUrl</td>\n",
       "      <td>no_site_url</td>\n",
       "      <td>0</td>\n",
       "      <td>profile_set_once</td>\n",
       "      <td>1490958337498</td>\n",
       "      <td>2017-03-31 11:05:37</td>\n",
       "      <td>2017-03-31</td>\n",
       "      <td>4</td>\n",
       "      <td>11</td>\n",
       "      <td>0</td>\n",
       "    </tr>\n",
       "  </tbody>\n",
       "</table>\n",
       "<p>5 rows × 62 columns</p>\n",
       "</div>"
      ],
      "text/plain": [
       "                                distinct_id  number_of_visit    browser  \\\n",
       "0  00007ef910b6c9911f1b89d01a09aa3fc862f4a9                7     others   \n",
       "1  000a216b72eff19bd0d5e17b9e676dd6ad9a38ac                1     chrome   \n",
       "2  000c46a27ef69fa22b56d253a9c72773338a1686               23     chrome   \n",
       "3  000ed1dcd942969b458c5b308937c6389c08f999                5     others   \n",
       "4  00111feff544ef5280a4c7064a362a9ea59c9389                2  no_brower   \n",
       "\n",
       "      first_referrer     first_referrer_host     first_browser_language  \\\n",
       "0             others             m.baidu.com                         zh   \n",
       "1  no_first_referrer  no_first_referrer_host  no_first_browser_language   \n",
       "2  no_first_referrer  no_first_referrer_host                         en   \n",
       "3             others                  others                         zh   \n",
       "4  no_first_referrer  no_first_referrer_host                         zh   \n",
       "\n",
       "          first_visit_time               ip  is_first_day  is_first_time  \\\n",
       "0  2017-03-07 13:52:16.501      36.23.47.33             0              0   \n",
       "1      no_first_visit_time  111.193.183.253             1              1   \n",
       "2   2017-03-07 13:48:56.25    27.38.250.222             0              0   \n",
       "3  2017-03-13 11:29:36.672   116.226.32.214             0              0   \n",
       "4  2017-03-09 19:34:34.925   117.136.38.216             0              0   \n",
       "\n",
       "   ...       siteUrl     site_url verification_code              type  \\\n",
       "0  ...    no_siteUrl  no_site_url                 1  profile_set_once   \n",
       "1  ...    no_siteUrl  no_site_url                 0             track   \n",
       "2  ...    no_siteUrl  no_site_url                 0  profile_set_once   \n",
       "3  ...    no_siteUrl  no_site_url                 0  profile_set_once   \n",
       "4  ...    no_siteUrl  no_site_url                 0  profile_set_once   \n",
       "\n",
       "            time       time_formatted time_formatted_date day_of_week  \\\n",
       "0  1490958308420  2017-03-31 11:05:08          2017-03-31           4   \n",
       "1  1489373568278  2017-03-13 02:52:48          2017-03-13           0   \n",
       "2  1490958308406  2017-03-31 11:05:08          2017-03-31           4   \n",
       "3  1490958376034  2017-03-31 11:06:16          2017-03-31           4   \n",
       "4  1490958337498  2017-03-31 11:05:37          2017-03-31           4   \n",
       "\n",
       "  hour_of_day signup  \n",
       "0          11      1  \n",
       "1           2      0  \n",
       "2          11      0  \n",
       "3          11      0  \n",
       "4          11      0  \n",
       "\n",
       "[5 rows x 62 columns]"
      ]
     },
     "execution_count": 509,
     "metadata": {},
     "output_type": "execute_result"
    }
   ],
   "source": [
    "df.head()"
   ]
  },
  {
   "cell_type": "code",
   "execution_count": 510,
   "metadata": {},
   "outputs": [
    {
     "name": "stdout",
     "output_type": "stream",
     "text": [
      "<class 'pandas.core.frame.DataFrame'>\n",
      "RangeIndex: 11756 entries, 0 to 11755\n",
      "Data columns (total 62 columns):\n",
      "distinct_id               11756 non-null object\n",
      "number_of_visit           11756 non-null int64\n",
      "browser                   11756 non-null object\n",
      "first_referrer            11756 non-null object\n",
      "first_referrer_host       11756 non-null object\n",
      "first_browser_language    11756 non-null object\n",
      "first_visit_time          11756 non-null object\n",
      "ip                        11756 non-null object\n",
      "is_first_day              11756 non-null int32\n",
      "is_first_time             11756 non-null int32\n",
      "latest_referrer           11756 non-null object\n",
      "latest_referrer_host      11756 non-null object\n",
      "latest_utm_campaign       11756 non-null object\n",
      "latest_utm_content        11756 non-null object\n",
      "latest_utm_medium         11756 non-null object\n",
      "latest_utm_source         11756 non-null object\n",
      "latest_utm_term           11756 non-null object\n",
      "model                     11756 non-null object\n",
      "os                        11756 non-null object\n",
      "referrer                  11756 non-null object\n",
      "referrer_host             11756 non-null object\n",
      "screen_height             11756 non-null float64\n",
      "screen_width              11756 non-null float64\n",
      "title                     11756 non-null object\n",
      "url                       11756 non-null object\n",
      "url_path                  11756 non-null object\n",
      "utm_campaign              11756 non-null object\n",
      "utm_content               11756 non-null object\n",
      "utm_medium                11756 non-null object\n",
      "utm_source                11756 non-null object\n",
      "utm_term                  11756 non-null object\n",
      "latest_ch                 11756 non-null object\n",
      "session_referrer          11756 non-null object\n",
      "session_referrer_host     11756 non-null object\n",
      "ch                        11756 non-null object\n",
      "company                   11756 non-null int32\n",
      "contact                   11756 non-null int32\n",
      "email                     11756 non-null int32\n",
      "from_url                  11756 non-null object\n",
      "isMsg                     11756 non-null int32\n",
      "isSuccess                 11756 non-null int32\n",
      "name                      11756 non-null int32\n",
      "page                      11756 non-null object\n",
      "pagePosition              11756 non-null object\n",
      "pageStayTime              11756 non-null float64\n",
      "pageUrl                   11756 non-null object\n",
      "project_name              11756 non-null object\n",
      "referrHostUrl             11756 non-null object\n",
      "referrerUrl               11756 non-null object\n",
      "requestBtn                11756 non-null object\n",
      "result                    11756 non-null int32\n",
      "session_page_url          11756 non-null object\n",
      "siteUrl                   11756 non-null object\n",
      "site_url                  11756 non-null object\n",
      "verification_code         11756 non-null int32\n",
      "type                      11756 non-null object\n",
      "time                      11756 non-null int64\n",
      "time_formatted            11756 non-null object\n",
      "time_formatted_date       11756 non-null object\n",
      "day_of_week               11756 non-null category\n",
      "hour_of_day               11756 non-null category\n",
      "signup                    11756 non-null int32\n",
      "dtypes: category(2), float64(3), int32(11), int64(2), object(44)\n",
      "memory usage: 4.9+ MB\n"
     ]
    }
   ],
   "source": [
    "df.info()"
   ]
  },
  {
   "cell_type": "markdown",
   "metadata": {},
   "source": [
    "#### Encode categorical columns to numeric values"
   ]
  },
  {
   "cell_type": "code",
   "execution_count": 511,
   "metadata": {},
   "outputs": [],
   "source": [
    "col_category = ['browser', 'first_referrer', 'first_referrer_host', 'first_browser_language', 'latest_referrer',\n",
    "                'latest_referrer_host', 'latest_utm_campaign', 'latest_utm_content', 'latest_utm_medium', 'latest_utm_source',\n",
    "                'latest_utm_term', 'model', 'os', 'referrer', 'referrer_host', 'title', 'url', 'url_path', 'utm_campaign',\n",
    "                'utm_content', 'utm_medium', 'utm_source', 'utm_term', 'latest_ch', 'session_referrer', 'session_referrer_host',\n",
    "                'ch', 'from_url', 'page', 'pagePosition', 'pageUrl', 'project_name', 'referrHostUrl', 'referrerUrl',\n",
    "                'requestBtn', 'session_page_url', 'siteUrl', 'site_url', 'type', 'day_of_week', 'hour_of_day', ]"
   ]
  },
  {
   "cell_type": "code",
   "execution_count": 512,
   "metadata": {},
   "outputs": [],
   "source": [
    "df_dummies = pd.get_dummies(df[col_category], columns=col_category)"
   ]
  },
  {
   "cell_type": "code",
   "execution_count": 513,
   "metadata": {},
   "outputs": [
    {
     "data": {
      "text/html": [
       "<div>\n",
       "<style scoped>\n",
       "    .dataframe tbody tr th:only-of-type {\n",
       "        vertical-align: middle;\n",
       "    }\n",
       "\n",
       "    .dataframe tbody tr th {\n",
       "        vertical-align: top;\n",
       "    }\n",
       "\n",
       "    .dataframe thead th {\n",
       "        text-align: right;\n",
       "    }\n",
       "</style>\n",
       "<table border=\"1\" class=\"dataframe\">\n",
       "  <thead>\n",
       "    <tr style=\"text-align: right;\">\n",
       "      <th></th>\n",
       "      <th>browser_chrome</th>\n",
       "      <th>browser_firefox</th>\n",
       "      <th>browser_no_brower</th>\n",
       "      <th>browser_others</th>\n",
       "      <th>browser_safari</th>\n",
       "      <th>first_referrer_https://www.baidu.com/baidu.php</th>\n",
       "      <th>first_referrer_https://www.baidu.com/link</th>\n",
       "      <th>first_referrer_https://www.baidu.com/s</th>\n",
       "      <th>first_referrer_no_first_referrer</th>\n",
       "      <th>first_referrer_others</th>\n",
       "      <th>...</th>\n",
       "      <th>hour_of_day_14</th>\n",
       "      <th>hour_of_day_15</th>\n",
       "      <th>hour_of_day_16</th>\n",
       "      <th>hour_of_day_17</th>\n",
       "      <th>hour_of_day_18</th>\n",
       "      <th>hour_of_day_19</th>\n",
       "      <th>hour_of_day_20</th>\n",
       "      <th>hour_of_day_21</th>\n",
       "      <th>hour_of_day_22</th>\n",
       "      <th>hour_of_day_23</th>\n",
       "    </tr>\n",
       "  </thead>\n",
       "  <tbody>\n",
       "    <tr>\n",
       "      <th>0</th>\n",
       "      <td>0</td>\n",
       "      <td>0</td>\n",
       "      <td>0</td>\n",
       "      <td>1</td>\n",
       "      <td>0</td>\n",
       "      <td>0</td>\n",
       "      <td>0</td>\n",
       "      <td>0</td>\n",
       "      <td>0</td>\n",
       "      <td>1</td>\n",
       "      <td>...</td>\n",
       "      <td>0</td>\n",
       "      <td>0</td>\n",
       "      <td>0</td>\n",
       "      <td>0</td>\n",
       "      <td>0</td>\n",
       "      <td>0</td>\n",
       "      <td>0</td>\n",
       "      <td>0</td>\n",
       "      <td>0</td>\n",
       "      <td>0</td>\n",
       "    </tr>\n",
       "    <tr>\n",
       "      <th>1</th>\n",
       "      <td>1</td>\n",
       "      <td>0</td>\n",
       "      <td>0</td>\n",
       "      <td>0</td>\n",
       "      <td>0</td>\n",
       "      <td>0</td>\n",
       "      <td>0</td>\n",
       "      <td>0</td>\n",
       "      <td>1</td>\n",
       "      <td>0</td>\n",
       "      <td>...</td>\n",
       "      <td>0</td>\n",
       "      <td>0</td>\n",
       "      <td>0</td>\n",
       "      <td>0</td>\n",
       "      <td>0</td>\n",
       "      <td>0</td>\n",
       "      <td>0</td>\n",
       "      <td>0</td>\n",
       "      <td>0</td>\n",
       "      <td>0</td>\n",
       "    </tr>\n",
       "    <tr>\n",
       "      <th>2</th>\n",
       "      <td>1</td>\n",
       "      <td>0</td>\n",
       "      <td>0</td>\n",
       "      <td>0</td>\n",
       "      <td>0</td>\n",
       "      <td>0</td>\n",
       "      <td>0</td>\n",
       "      <td>0</td>\n",
       "      <td>1</td>\n",
       "      <td>0</td>\n",
       "      <td>...</td>\n",
       "      <td>0</td>\n",
       "      <td>0</td>\n",
       "      <td>0</td>\n",
       "      <td>0</td>\n",
       "      <td>0</td>\n",
       "      <td>0</td>\n",
       "      <td>0</td>\n",
       "      <td>0</td>\n",
       "      <td>0</td>\n",
       "      <td>0</td>\n",
       "    </tr>\n",
       "    <tr>\n",
       "      <th>3</th>\n",
       "      <td>0</td>\n",
       "      <td>0</td>\n",
       "      <td>0</td>\n",
       "      <td>1</td>\n",
       "      <td>0</td>\n",
       "      <td>0</td>\n",
       "      <td>0</td>\n",
       "      <td>0</td>\n",
       "      <td>0</td>\n",
       "      <td>1</td>\n",
       "      <td>...</td>\n",
       "      <td>0</td>\n",
       "      <td>0</td>\n",
       "      <td>0</td>\n",
       "      <td>0</td>\n",
       "      <td>0</td>\n",
       "      <td>0</td>\n",
       "      <td>0</td>\n",
       "      <td>0</td>\n",
       "      <td>0</td>\n",
       "      <td>0</td>\n",
       "    </tr>\n",
       "    <tr>\n",
       "      <th>4</th>\n",
       "      <td>0</td>\n",
       "      <td>0</td>\n",
       "      <td>1</td>\n",
       "      <td>0</td>\n",
       "      <td>0</td>\n",
       "      <td>0</td>\n",
       "      <td>0</td>\n",
       "      <td>0</td>\n",
       "      <td>1</td>\n",
       "      <td>0</td>\n",
       "      <td>...</td>\n",
       "      <td>0</td>\n",
       "      <td>0</td>\n",
       "      <td>0</td>\n",
       "      <td>0</td>\n",
       "      <td>0</td>\n",
       "      <td>0</td>\n",
       "      <td>0</td>\n",
       "      <td>0</td>\n",
       "      <td>0</td>\n",
       "      <td>0</td>\n",
       "    </tr>\n",
       "  </tbody>\n",
       "</table>\n",
       "<p>5 rows × 225 columns</p>\n",
       "</div>"
      ],
      "text/plain": [
       "   browser_chrome  browser_firefox  browser_no_brower  browser_others  \\\n",
       "0               0                0                  0               1   \n",
       "1               1                0                  0               0   \n",
       "2               1                0                  0               0   \n",
       "3               0                0                  0               1   \n",
       "4               0                0                  1               0   \n",
       "\n",
       "   browser_safari  first_referrer_https://www.baidu.com/baidu.php  \\\n",
       "0               0                                               0   \n",
       "1               0                                               0   \n",
       "2               0                                               0   \n",
       "3               0                                               0   \n",
       "4               0                                               0   \n",
       "\n",
       "   first_referrer_https://www.baidu.com/link  \\\n",
       "0                                          0   \n",
       "1                                          0   \n",
       "2                                          0   \n",
       "3                                          0   \n",
       "4                                          0   \n",
       "\n",
       "   first_referrer_https://www.baidu.com/s  first_referrer_no_first_referrer  \\\n",
       "0                                       0                                 0   \n",
       "1                                       0                                 1   \n",
       "2                                       0                                 1   \n",
       "3                                       0                                 0   \n",
       "4                                       0                                 1   \n",
       "\n",
       "   first_referrer_others       ...        hour_of_day_14  hour_of_day_15  \\\n",
       "0                      1       ...                     0               0   \n",
       "1                      0       ...                     0               0   \n",
       "2                      0       ...                     0               0   \n",
       "3                      1       ...                     0               0   \n",
       "4                      0       ...                     0               0   \n",
       "\n",
       "   hour_of_day_16  hour_of_day_17  hour_of_day_18  hour_of_day_19  \\\n",
       "0               0               0               0               0   \n",
       "1               0               0               0               0   \n",
       "2               0               0               0               0   \n",
       "3               0               0               0               0   \n",
       "4               0               0               0               0   \n",
       "\n",
       "   hour_of_day_20  hour_of_day_21  hour_of_day_22  hour_of_day_23  \n",
       "0               0               0               0               0  \n",
       "1               0               0               0               0  \n",
       "2               0               0               0               0  \n",
       "3               0               0               0               0  \n",
       "4               0               0               0               0  \n",
       "\n",
       "[5 rows x 225 columns]"
      ]
     },
     "execution_count": 513,
     "metadata": {},
     "output_type": "execute_result"
    }
   ],
   "source": [
    "df_dummies.head()"
   ]
  },
  {
   "cell_type": "code",
   "execution_count": 514,
   "metadata": {},
   "outputs": [
    {
     "name": "stdout",
     "output_type": "stream",
     "text": [
      "<class 'pandas.core.frame.DataFrame'>\n",
      "RangeIndex: 11756 entries, 0 to 11755\n",
      "Columns: 225 entries, browser_chrome to hour_of_day_23\n",
      "dtypes: uint8(225)\n",
      "memory usage: 2.5 MB\n"
     ]
    }
   ],
   "source": [
    "df_dummies.info()"
   ]
  },
  {
   "cell_type": "code",
   "execution_count": 515,
   "metadata": {},
   "outputs": [],
   "source": [
    "df = df.join(df_dummies)"
   ]
  },
  {
   "cell_type": "code",
   "execution_count": 516,
   "metadata": {},
   "outputs": [
    {
     "name": "stdout",
     "output_type": "stream",
     "text": [
      "<class 'pandas.core.frame.DataFrame'>\n",
      "RangeIndex: 11756 entries, 0 to 11755\n",
      "Columns: 287 entries, distinct_id to hour_of_day_23\n",
      "dtypes: category(2), float64(3), int32(11), int64(2), object(44), uint8(225)\n",
      "memory usage: 7.4+ MB\n"
     ]
    }
   ],
   "source": [
    "df.info()"
   ]
  },
  {
   "cell_type": "code",
   "execution_count": 517,
   "metadata": {},
   "outputs": [
    {
     "data": {
      "text/html": [
       "<div>\n",
       "<style scoped>\n",
       "    .dataframe tbody tr th:only-of-type {\n",
       "        vertical-align: middle;\n",
       "    }\n",
       "\n",
       "    .dataframe tbody tr th {\n",
       "        vertical-align: top;\n",
       "    }\n",
       "\n",
       "    .dataframe thead th {\n",
       "        text-align: right;\n",
       "    }\n",
       "</style>\n",
       "<table border=\"1\" class=\"dataframe\">\n",
       "  <thead>\n",
       "    <tr style=\"text-align: right;\">\n",
       "      <th></th>\n",
       "      <th>distinct_id</th>\n",
       "      <th>number_of_visit</th>\n",
       "      <th>browser</th>\n",
       "      <th>first_referrer</th>\n",
       "      <th>first_referrer_host</th>\n",
       "      <th>first_browser_language</th>\n",
       "      <th>first_visit_time</th>\n",
       "      <th>ip</th>\n",
       "      <th>is_first_day</th>\n",
       "      <th>is_first_time</th>\n",
       "      <th>...</th>\n",
       "      <th>hour_of_day_14</th>\n",
       "      <th>hour_of_day_15</th>\n",
       "      <th>hour_of_day_16</th>\n",
       "      <th>hour_of_day_17</th>\n",
       "      <th>hour_of_day_18</th>\n",
       "      <th>hour_of_day_19</th>\n",
       "      <th>hour_of_day_20</th>\n",
       "      <th>hour_of_day_21</th>\n",
       "      <th>hour_of_day_22</th>\n",
       "      <th>hour_of_day_23</th>\n",
       "    </tr>\n",
       "  </thead>\n",
       "  <tbody>\n",
       "    <tr>\n",
       "      <th>0</th>\n",
       "      <td>00007ef910b6c9911f1b89d01a09aa3fc862f4a9</td>\n",
       "      <td>7</td>\n",
       "      <td>others</td>\n",
       "      <td>others</td>\n",
       "      <td>m.baidu.com</td>\n",
       "      <td>zh</td>\n",
       "      <td>2017-03-07 13:52:16.501</td>\n",
       "      <td>36.23.47.33</td>\n",
       "      <td>0</td>\n",
       "      <td>0</td>\n",
       "      <td>...</td>\n",
       "      <td>0</td>\n",
       "      <td>0</td>\n",
       "      <td>0</td>\n",
       "      <td>0</td>\n",
       "      <td>0</td>\n",
       "      <td>0</td>\n",
       "      <td>0</td>\n",
       "      <td>0</td>\n",
       "      <td>0</td>\n",
       "      <td>0</td>\n",
       "    </tr>\n",
       "    <tr>\n",
       "      <th>1</th>\n",
       "      <td>000a216b72eff19bd0d5e17b9e676dd6ad9a38ac</td>\n",
       "      <td>1</td>\n",
       "      <td>chrome</td>\n",
       "      <td>no_first_referrer</td>\n",
       "      <td>no_first_referrer_host</td>\n",
       "      <td>no_first_browser_language</td>\n",
       "      <td>no_first_visit_time</td>\n",
       "      <td>111.193.183.253</td>\n",
       "      <td>1</td>\n",
       "      <td>1</td>\n",
       "      <td>...</td>\n",
       "      <td>0</td>\n",
       "      <td>0</td>\n",
       "      <td>0</td>\n",
       "      <td>0</td>\n",
       "      <td>0</td>\n",
       "      <td>0</td>\n",
       "      <td>0</td>\n",
       "      <td>0</td>\n",
       "      <td>0</td>\n",
       "      <td>0</td>\n",
       "    </tr>\n",
       "    <tr>\n",
       "      <th>2</th>\n",
       "      <td>000c46a27ef69fa22b56d253a9c72773338a1686</td>\n",
       "      <td>23</td>\n",
       "      <td>chrome</td>\n",
       "      <td>no_first_referrer</td>\n",
       "      <td>no_first_referrer_host</td>\n",
       "      <td>en</td>\n",
       "      <td>2017-03-07 13:48:56.25</td>\n",
       "      <td>27.38.250.222</td>\n",
       "      <td>0</td>\n",
       "      <td>0</td>\n",
       "      <td>...</td>\n",
       "      <td>0</td>\n",
       "      <td>0</td>\n",
       "      <td>0</td>\n",
       "      <td>0</td>\n",
       "      <td>0</td>\n",
       "      <td>0</td>\n",
       "      <td>0</td>\n",
       "      <td>0</td>\n",
       "      <td>0</td>\n",
       "      <td>0</td>\n",
       "    </tr>\n",
       "    <tr>\n",
       "      <th>3</th>\n",
       "      <td>000ed1dcd942969b458c5b308937c6389c08f999</td>\n",
       "      <td>5</td>\n",
       "      <td>others</td>\n",
       "      <td>others</td>\n",
       "      <td>others</td>\n",
       "      <td>zh</td>\n",
       "      <td>2017-03-13 11:29:36.672</td>\n",
       "      <td>116.226.32.214</td>\n",
       "      <td>0</td>\n",
       "      <td>0</td>\n",
       "      <td>...</td>\n",
       "      <td>0</td>\n",
       "      <td>0</td>\n",
       "      <td>0</td>\n",
       "      <td>0</td>\n",
       "      <td>0</td>\n",
       "      <td>0</td>\n",
       "      <td>0</td>\n",
       "      <td>0</td>\n",
       "      <td>0</td>\n",
       "      <td>0</td>\n",
       "    </tr>\n",
       "    <tr>\n",
       "      <th>4</th>\n",
       "      <td>00111feff544ef5280a4c7064a362a9ea59c9389</td>\n",
       "      <td>2</td>\n",
       "      <td>no_brower</td>\n",
       "      <td>no_first_referrer</td>\n",
       "      <td>no_first_referrer_host</td>\n",
       "      <td>zh</td>\n",
       "      <td>2017-03-09 19:34:34.925</td>\n",
       "      <td>117.136.38.216</td>\n",
       "      <td>0</td>\n",
       "      <td>0</td>\n",
       "      <td>...</td>\n",
       "      <td>0</td>\n",
       "      <td>0</td>\n",
       "      <td>0</td>\n",
       "      <td>0</td>\n",
       "      <td>0</td>\n",
       "      <td>0</td>\n",
       "      <td>0</td>\n",
       "      <td>0</td>\n",
       "      <td>0</td>\n",
       "      <td>0</td>\n",
       "    </tr>\n",
       "  </tbody>\n",
       "</table>\n",
       "<p>5 rows × 287 columns</p>\n",
       "</div>"
      ],
      "text/plain": [
       "                                distinct_id  number_of_visit    browser  \\\n",
       "0  00007ef910b6c9911f1b89d01a09aa3fc862f4a9                7     others   \n",
       "1  000a216b72eff19bd0d5e17b9e676dd6ad9a38ac                1     chrome   \n",
       "2  000c46a27ef69fa22b56d253a9c72773338a1686               23     chrome   \n",
       "3  000ed1dcd942969b458c5b308937c6389c08f999                5     others   \n",
       "4  00111feff544ef5280a4c7064a362a9ea59c9389                2  no_brower   \n",
       "\n",
       "      first_referrer     first_referrer_host     first_browser_language  \\\n",
       "0             others             m.baidu.com                         zh   \n",
       "1  no_first_referrer  no_first_referrer_host  no_first_browser_language   \n",
       "2  no_first_referrer  no_first_referrer_host                         en   \n",
       "3             others                  others                         zh   \n",
       "4  no_first_referrer  no_first_referrer_host                         zh   \n",
       "\n",
       "          first_visit_time               ip  is_first_day  is_first_time  \\\n",
       "0  2017-03-07 13:52:16.501      36.23.47.33             0              0   \n",
       "1      no_first_visit_time  111.193.183.253             1              1   \n",
       "2   2017-03-07 13:48:56.25    27.38.250.222             0              0   \n",
       "3  2017-03-13 11:29:36.672   116.226.32.214             0              0   \n",
       "4  2017-03-09 19:34:34.925   117.136.38.216             0              0   \n",
       "\n",
       "       ...       hour_of_day_14 hour_of_day_15 hour_of_day_16 hour_of_day_17  \\\n",
       "0      ...                    0              0              0              0   \n",
       "1      ...                    0              0              0              0   \n",
       "2      ...                    0              0              0              0   \n",
       "3      ...                    0              0              0              0   \n",
       "4      ...                    0              0              0              0   \n",
       "\n",
       "  hour_of_day_18 hour_of_day_19 hour_of_day_20 hour_of_day_21 hour_of_day_22  \\\n",
       "0              0              0              0              0              0   \n",
       "1              0              0              0              0              0   \n",
       "2              0              0              0              0              0   \n",
       "3              0              0              0              0              0   \n",
       "4              0              0              0              0              0   \n",
       "\n",
       "  hour_of_day_23  \n",
       "0              0  \n",
       "1              0  \n",
       "2              0  \n",
       "3              0  \n",
       "4              0  \n",
       "\n",
       "[5 rows x 287 columns]"
      ]
     },
     "execution_count": 517,
     "metadata": {},
     "output_type": "execute_result"
    }
   ],
   "source": [
    "df.head()"
   ]
  },
  {
   "cell_type": "code",
   "execution_count": 518,
   "metadata": {},
   "outputs": [
    {
     "data": {
      "text/plain": [
       "['distinct_id',\n",
       " 'number_of_visit',\n",
       " 'browser',\n",
       " 'first_referrer',\n",
       " 'first_referrer_host',\n",
       " 'first_browser_language',\n",
       " 'first_visit_time',\n",
       " 'ip',\n",
       " 'is_first_day',\n",
       " 'is_first_time',\n",
       " 'latest_referrer',\n",
       " 'latest_referrer_host',\n",
       " 'latest_utm_campaign',\n",
       " 'latest_utm_content',\n",
       " 'latest_utm_medium',\n",
       " 'latest_utm_source',\n",
       " 'latest_utm_term',\n",
       " 'model',\n",
       " 'os',\n",
       " 'referrer',\n",
       " 'referrer_host',\n",
       " 'screen_height',\n",
       " 'screen_width',\n",
       " 'title',\n",
       " 'url',\n",
       " 'url_path',\n",
       " 'utm_campaign',\n",
       " 'utm_content',\n",
       " 'utm_medium',\n",
       " 'utm_source',\n",
       " 'utm_term',\n",
       " 'latest_ch',\n",
       " 'session_referrer',\n",
       " 'session_referrer_host',\n",
       " 'ch',\n",
       " 'company',\n",
       " 'contact',\n",
       " 'email',\n",
       " 'from_url',\n",
       " 'isMsg',\n",
       " 'isSuccess',\n",
       " 'name',\n",
       " 'page',\n",
       " 'pagePosition',\n",
       " 'pageStayTime',\n",
       " 'pageUrl',\n",
       " 'project_name',\n",
       " 'referrHostUrl',\n",
       " 'referrerUrl',\n",
       " 'requestBtn',\n",
       " 'result',\n",
       " 'session_page_url',\n",
       " 'siteUrl',\n",
       " 'site_url',\n",
       " 'verification_code',\n",
       " 'type',\n",
       " 'time',\n",
       " 'time_formatted',\n",
       " 'time_formatted_date',\n",
       " 'day_of_week',\n",
       " 'hour_of_day',\n",
       " 'signup',\n",
       " 'browser_chrome',\n",
       " 'browser_firefox',\n",
       " 'browser_no_brower',\n",
       " 'browser_others',\n",
       " 'browser_safari',\n",
       " 'first_referrer_https://www.baidu.com/baidu.php',\n",
       " 'first_referrer_https://www.baidu.com/link',\n",
       " 'first_referrer_https://www.baidu.com/s',\n",
       " 'first_referrer_no_first_referrer',\n",
       " 'first_referrer_others',\n",
       " 'first_referrer_host_m.baidu.com',\n",
       " 'first_referrer_host_no_first_referrer_host',\n",
       " 'first_referrer_host_others',\n",
       " 'first_referrer_host_www.baidu.com',\n",
       " 'first_browser_language_en',\n",
       " 'first_browser_language_no_first_browser_language',\n",
       " 'first_browser_language_others',\n",
       " 'first_browser_language_zh',\n",
       " 'latest_referrer_https://www.baidu.com/baidu.php',\n",
       " 'latest_referrer_https://www.baidu.com/link',\n",
       " 'latest_referrer_https://www.baidu.com/s',\n",
       " 'latest_referrer_no_latest_referrer',\n",
       " 'latest_referrer_others',\n",
       " 'latest_referrer_host_36kr.com',\n",
       " 'latest_referrer_host_m.baidu.com',\n",
       " 'latest_referrer_host_no_latest_referrer_host',\n",
       " 'latest_referrer_host_others',\n",
       " 'latest_referrer_host_www.baidu.com',\n",
       " 'latest_referrer_host_www.sogou.com',\n",
       " 'latest_utm_campaign_G-通用词',\n",
       " 'latest_utm_campaign_S-通用词',\n",
       " 'latest_utm_campaign_no_latest_utm_campaign',\n",
       " 'latest_utm_campaign_others',\n",
       " 'latest_utm_campaign_品牌词',\n",
       " 'latest_utm_campaign_神策-移动推广',\n",
       " 'latest_utm_campaign_通用词',\n",
       " 'latest_utm_campaign_首页',\n",
       " 'latest_utm_content_no_latest_utm_content',\n",
       " 'latest_utm_content_others',\n",
       " 'latest_utm_content_品牌-神策',\n",
       " 'latest_utm_content_通用-数据分析',\n",
       " 'latest_utm_content_通用-用户画像',\n",
       " 'latest_utm_content_通用词-M',\n",
       " 'latest_utm_content_通用词-三图',\n",
       " 'latest_utm_medium_cpc',\n",
       " 'latest_utm_medium_mcpc',\n",
       " 'latest_utm_medium_mfeed',\n",
       " 'latest_utm_medium_no_latest_utm_medium',\n",
       " 'latest_utm_medium_others',\n",
       " 'latest_utm_source_baidu',\n",
       " 'latest_utm_source_google',\n",
       " 'latest_utm_source_no_latest_utm_source',\n",
       " 'latest_utm_source_others',\n",
       " 'latest_utm_source_sogou',\n",
       " 'latest_utm_term_no_latest_utm_term',\n",
       " 'latest_utm_term_others',\n",
       " 'latest_utm_term_用户画像',\n",
       " 'latest_utm_term_神策',\n",
       " 'model_android',\n",
       " 'model_iphone',\n",
       " 'model_mac',\n",
       " 'model_no_model',\n",
       " 'model_others',\n",
       " 'model_pc',\n",
       " 'os_Android',\n",
       " 'os_iOS',\n",
       " 'os_linux',\n",
       " 'os_macosx',\n",
       " 'os_no_os',\n",
       " 'os_windows',\n",
       " 'referrer_https://www.baidu.com/baidu.php',\n",
       " 'referrer_https://www.sensorsdata.cn/',\n",
       " 'referrer_no_referrer',\n",
       " 'referrer_others',\n",
       " 'referrer_host_m.baidu.com',\n",
       " 'referrer_host_no_referrer_host',\n",
       " 'referrer_host_others',\n",
       " 'referrer_host_sensorsdata.cn',\n",
       " 'referrer_host_www.baidu.com',\n",
       " 'referrer_host_www.sensorsdata.cn',\n",
       " 'title_no_title',\n",
       " 'title_others',\n",
       " 'title_介绍 · Sensors Analytics 使用手册',\n",
       " 'title_神策分析|Sensors Analytics-帮你实现数据驱动－demo',\n",
       " 'title_神策分析|Sensors Analytics-帮你实现数据驱动－产品',\n",
       " 'title_神策数据 | Sensors Data - 国内领先的用户行为分析产品',\n",
       " 'url_https://www.sensorsdata.cn/',\n",
       " 'url_https://www.sensorsdata.cn/?utm_source=baidu&utm_medium=cpc&utm_term=%E7%94%A8%E6%88%B7%E7%94%BB%E5%83%8F&utm_content=%E9%80%9A%E7%94%A8%2D%E7%94%A8%E6%88%B7%E7%94%BB%E5%83%8F&utm_campaign=%E9%80%9A%E7%94%A8%E8%AF%8D',\n",
       " 'url_https://www.sensorsdata.cn/?utm_source=baidu&utm_medium=mfeed&utm_term=%E9%A6%96%E9%A1%B5-%E9%80%9A%E7%94%A8%E8%AF%8D-%E4%B8%89%E5%9B%BE-%E5%9B%BE1&utm_content=%E9%80%9A%E7%94%A8%E8%AF%8D-%E4%B8%89%E5%9B%BE&utm_campaign=%E9%A6%96%E9%A1%B5',\n",
       " 'url_https://www.sensorsdata.cn/demo.html',\n",
       " 'url_others',\n",
       " 'url_path_/tools/code_auto/',\n",
       " 'url_path_/tools/url_create.html',\n",
       " 'url_path_no_url_path',\n",
       " 'utm_campaign_S-通用词',\n",
       " 'utm_campaign_no_utm_compaign',\n",
       " 'utm_campaign_others',\n",
       " 'utm_campaign_神策-移动推广',\n",
       " 'utm_campaign_通用词',\n",
       " 'utm_campaign_首页',\n",
       " 'utm_content_no_utm_content',\n",
       " 'utm_content_others',\n",
       " 'utm_content_通用-数据分析',\n",
       " 'utm_content_通用-用户画像',\n",
       " 'utm_content_通用词-M',\n",
       " 'utm_content_通用词-三图',\n",
       " 'utm_medium_cpc',\n",
       " 'utm_medium_mcpc',\n",
       " 'utm_medium_mfeed',\n",
       " 'utm_medium_no_utm_medium',\n",
       " 'utm_medium_others',\n",
       " 'utm_source_baidu',\n",
       " 'utm_source_google',\n",
       " 'utm_source_no_utm_source',\n",
       " 'utm_source_others',\n",
       " 'utm_source_sogou',\n",
       " 'utm_term_no_utm_term',\n",
       " 'utm_term_others',\n",
       " 'utm_term_数据分析',\n",
       " 'utm_term_用户画像',\n",
       " 'utm_term_神策',\n",
       " 'utm_term_首页-通用词-三图-图1',\n",
       " 'latest_ch_demo',\n",
       " 'latest_ch_no_latest_ch',\n",
       " 'latest_ch_others',\n",
       " 'latest_ch_zhihu',\n",
       " 'session_referrer_https://www.baidu.com/baidu.php',\n",
       " 'session_referrer_https://www.baidu.com/link',\n",
       " 'session_referrer_https://www.baidu.com/s',\n",
       " 'session_referrer_no_session_referrer',\n",
       " 'session_referrer_others',\n",
       " 'session_referrer_host_m.baidu.com',\n",
       " 'session_referrer_host_no_session_referrer_host',\n",
       " 'session_referrer_host_others',\n",
       " 'session_referrer_host_www.baidu.com',\n",
       " 'ch_demo',\n",
       " 'ch_no_ch',\n",
       " 'ch_others',\n",
       " 'ch_zhihu',\n",
       " 'from_url_baidu',\n",
       " 'from_url_demo',\n",
       " 'from_url_no_from_url',\n",
       " 'from_url_others',\n",
       " 'page_about',\n",
       " 'page_courses_index',\n",
       " 'page_demo',\n",
       " 'page_index',\n",
       " 'page_no_page',\n",
       " 'pagePosition_1.0',\n",
       " 'pagePosition_2.0',\n",
       " 'pagePosition_3.0',\n",
       " 'pagePosition_4.0',\n",
       " 'pagePosition_no_pagePosition',\n",
       " 'pageUrl_https://www.sensorsdata.cn/',\n",
       " 'pageUrl_https://www.sensorsdata.cn/?utm_source=baidu&utm_medium=cpc&utm_term=%E7%94%A8%E6%88%B7%E7%94%BB%E5%83%8F&utm_content=%E9%80%9A%E7%94%A8%2D%E7%94%A8%E6%88%B7%E7%94%BB%E5%83%8F&utm_campaign=%E9%80%9A%E7%94%A8%E8%AF%8D',\n",
       " 'pageUrl_https://www.sensorsdata.cn/?utm_source=baidu&utm_medium=cpc&utm_term=%E7%A5%9E%E7%AD%96&utm_content=%E5%93%81%E7%89%8C%2D%E7%A5%9E%E7%AD%96&utm_campaign=%E5%93%81%E7%89%8C%E8%AF%8D',\n",
       " 'pageUrl_https://www.sensorsdata.cn/demo.html',\n",
       " 'pageUrl_no_pageUrl',\n",
       " 'pageUrl_others',\n",
       " 'project_name_default',\n",
       " 'project_name_hunter',\n",
       " 'project_name_no_project_name',\n",
       " 'project_name_production',\n",
       " 'referrHostUrl_no_referrHostUrl',\n",
       " 'referrHostUrl_others',\n",
       " 'referrHostUrl_www.baidu.com',\n",
       " 'referrHostUrl_www.sogou.com',\n",
       " 'referrerUrl_https://www.baidu.com/baidu.php',\n",
       " 'referrerUrl_https://www.baidu.com/link',\n",
       " 'referrerUrl_https://www.baidu.com/s',\n",
       " 'referrerUrl_no_referrerUrl',\n",
       " 'referrerUrl_others',\n",
       " 'requestBtn_1.0',\n",
       " 'requestBtn_10.0',\n",
       " 'requestBtn_2.0',\n",
       " 'requestBtn_3.0',\n",
       " 'requestBtn_4.0',\n",
       " 'requestBtn_6.0',\n",
       " 'requestBtn_7.0',\n",
       " 'requestBtn_no_requestBtn',\n",
       " 'session_page_url_https://www.sensorsdata.cn/',\n",
       " 'session_page_url_https://www.sensorsdata.cn/?utm_source=baidu&utm_medium=cpc&utm_term=%E7%94%A8%E6%88%B7%E7%94%BB%E5%83%8F&utm_content=%E9%80%9A%E7%94%A8%2D%E7%94%A8%E6%88%B7%E7%94%BB%E5%83%8F&utm_campaign=%E9%80%9A%E7%94%A8%E8%AF%8D',\n",
       " 'session_page_url_https://www.sensorsdata.cn/?utm_source=baidu&utm_medium=mfeed&utm_term=%E9%A6%96%E9%A1%B5-%E9%80%9A%E7%94%A8%E8%AF%8D-%E4%B8%89%E5%9B%BE-%E5%9B%BE1&utm_content=%E9%80%9A%E7%94%A8%E8%AF%8D-%E4%B8%89%E5%9B%BE&utm_campaign=%E9%A6%96%E9%A1%B5',\n",
       " 'session_page_url_no_session_page_url',\n",
       " 'session_page_url_others',\n",
       " 'siteUrl_https://www.sensorsdata.cn',\n",
       " 'siteUrl_no_siteUrl',\n",
       " 'site_url_https://www.sensorsdata.cn/',\n",
       " 'site_url_https://www.sensorsdata.cn/?utm_source=baidu&utm_medium=cpc&utm_term=%E7%94%A8%E6%88%B7%E7%94%BB%E5%83%8F&utm_content=%E9%80%9A%E7%94%A8%2D%E7%94%A8%E6%88%B7%E7%94%BB%E5%83%8F&utm_campaign=%E9%80%9A%E7%94%A8%E8%AF%8D',\n",
       " 'site_url_https://www.sensorsdata.cn/?utm_source=baidu&utm_medium=cpc&utm_term=%E7%A5%9E%E7%AD%96&utm_content=%E5%93%81%E7%89%8C%2D%E7%A5%9E%E7%AD%96&utm_campaign=%E5%93%81%E7%89%8C%E8%AF%8D',\n",
       " 'site_url_no_site_url',\n",
       " 'site_url_others',\n",
       " 'type_profile_set_once',\n",
       " 'type_track',\n",
       " 'day_of_week_0',\n",
       " 'day_of_week_1',\n",
       " 'day_of_week_2',\n",
       " 'day_of_week_3',\n",
       " 'day_of_week_4',\n",
       " 'day_of_week_5',\n",
       " 'day_of_week_6',\n",
       " 'hour_of_day_0',\n",
       " 'hour_of_day_1',\n",
       " 'hour_of_day_2',\n",
       " 'hour_of_day_3',\n",
       " 'hour_of_day_4',\n",
       " 'hour_of_day_5',\n",
       " 'hour_of_day_6',\n",
       " 'hour_of_day_7',\n",
       " 'hour_of_day_8',\n",
       " 'hour_of_day_9',\n",
       " 'hour_of_day_10',\n",
       " 'hour_of_day_11',\n",
       " 'hour_of_day_12',\n",
       " 'hour_of_day_13',\n",
       " 'hour_of_day_14',\n",
       " 'hour_of_day_15',\n",
       " 'hour_of_day_16',\n",
       " 'hour_of_day_17',\n",
       " 'hour_of_day_18',\n",
       " 'hour_of_day_19',\n",
       " 'hour_of_day_20',\n",
       " 'hour_of_day_21',\n",
       " 'hour_of_day_22',\n",
       " 'hour_of_day_23']"
      ]
     },
     "execution_count": 518,
     "metadata": {},
     "output_type": "execute_result"
    }
   ],
   "source": [
    "df.columns.tolist()"
   ]
  },
  {
   "cell_type": "markdown",
   "metadata": {},
   "source": [
    "#### Save transformed dataset to csv file"
   ]
  },
  {
   "cell_type": "code",
   "execution_count": 519,
   "metadata": {},
   "outputs": [],
   "source": [
    "# Save to ../data/sensors_cleaned_user_signup.csv for your next task\n",
    "sensors_cleaned_user_signup = '../data/sensors_cleaned_user_signup.csv'\n",
    "df.to_csv(sensors_cleaned_user_signup, index=False)"
   ]
  },
  {
   "cell_type": "code",
   "execution_count": 520,
   "metadata": {},
   "outputs": [
    {
     "data": {
      "text/plain": [
       "0.044317795168424635"
      ]
     },
     "execution_count": 520,
     "metadata": {},
     "output_type": "execute_result"
    }
   ],
   "source": [
    "df['signup'].mean()"
   ]
  },
  {
   "cell_type": "code",
   "execution_count": 521,
   "metadata": {},
   "outputs": [
    {
     "data": {
      "text/plain": [
       "<matplotlib.axes._subplots.AxesSubplot at 0x19f27928128>"
      ]
     },
     "execution_count": 521,
     "metadata": {},
     "output_type": "execute_result"
    },
    {
     "data": {
      "image/png": "[encoded data removed]",
      "text/plain": [
       "<Figure size 432x288 with 1 Axes>"
      ]
     },
     "metadata": {},
     "output_type": "display_data"
    }
   ],
   "source": [
    "df[['os', 'signup']].groupby(['os']).mean().plot.bar()"
   ]
  },
  {
   "cell_type": "code",
   "execution_count": 522,
   "metadata": {},
   "outputs": [
    {
     "data": {
      "text/plain": [
       "<matplotlib.axes._subplots.AxesSubplot at 0x19f2797e400>"
      ]
     },
     "execution_count": 522,
     "metadata": {},
     "output_type": "execute_result"
    },
    {
     "data": {
      "image/png": "[encoded data removed]",
      "text/plain": [
       "<Figure size 432x288 with 1 Axes>"
      ]
     },
     "metadata": {},
     "output_type": "display_data"
    }
   ],
   "source": [
    "df[['model', 'signup']].groupby(['model']).mean().plot.bar()"
   ]
  },
  {
   "cell_type": "code",
   "execution_count": 524,
   "metadata": {},
   "outputs": [
    {
     "data": {
      "text/plain": [
       "<matplotlib.axes._subplots.AxesSubplot at 0x19f279ee940>"
      ]
     },
     "execution_count": 524,
     "metadata": {},
     "output_type": "execute_result"
    },
    {
     "data": {
      "image/png": "[encoded data removed]",
      "text/plain": [
       "<Figure size 432x288 with 1 Axes>"
      ]
     },
     "metadata": {},
     "output_type": "display_data"
    }
   ],
   "source": [
    "df[['number_of_visit', 'signup']].groupby(['number_of_visit']).mean().plot.bar()"
   ]
  },
  {
   "cell_type": "code",
   "execution_count": 525,
   "metadata": {},
   "outputs": [
    {
     "data": {
      "text/plain": [
       "0         7\n",
       "1         1\n",
       "2        23\n",
       "3         5\n",
       "4         2\n",
       "5         7\n",
       "6         3\n",
       "7         4\n",
       "8         4\n",
       "9         2\n",
       "10        4\n",
       "11        1\n",
       "12        1\n",
       "13        2\n",
       "14        3\n",
       "15        1\n",
       "16        7\n",
       "17        5\n",
       "18       13\n",
       "19        2\n",
       "20        1\n",
       "21        3\n",
       "22        4\n",
       "23       12\n",
       "24       12\n",
       "25        3\n",
       "26       18\n",
       "27       33\n",
       "28        3\n",
       "29       35\n",
       "         ..\n",
       "11726     8\n",
       "11727     2\n",
       "11728     2\n",
       "11729     1\n",
       "11730    25\n",
       "11731     5\n",
       "11732     2\n",
       "11733     7\n",
       "11734     1\n",
       "11735     2\n",
       "11736    15\n",
       "11737     2\n",
       "11738     1\n",
       "11739     2\n",
       "11740     3\n",
       "11741     9\n",
       "11742    19\n",
       "11743     2\n",
       "11744     3\n",
       "11745     2\n",
       "11746     3\n",
       "11747     2\n",
       "11748     2\n",
       "11749     2\n",
       "11750     9\n",
       "11751     3\n",
       "11752     3\n",
       "11753     3\n",
       "11754    12\n",
       "11755     5\n",
       "Name: number_of_visit, Length: 11756, dtype: int64"
      ]
     },
     "execution_count": 525,
     "metadata": {},
     "output_type": "execute_result"
    }
   ],
   "source": [
    "df['number_of_visit']"
   ]
  },
  {
   "cell_type": "code",
   "execution_count": null,
   "metadata": {},
   "outputs": [],
   "source": []
  }
 ],
 "metadata": {
  "kernelspec": {
   "display_name": "Python 3",
   "language": "python",
   "name": "python3"
  },
  "language_info": {
   "codemirror_mode": {
    "name": "ipython",
    "version": 3
   },
   "file_extension": ".py",
   "mimetype": "text/x-python",
   "name": "python",
   "nbconvert_exporter": "python",
   "pygments_lexer": "ipython3",
   "version": "3.6.5"
  }
 },
 "nbformat": 4,
 "nbformat_minor": 2
}
