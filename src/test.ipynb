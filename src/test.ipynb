{
 "cells": [
  {
   "cell_type": "code",
   "execution_count": 3,
   "metadata": {},
   "outputs": [],
   "source": [
    "import gzip\n",
    "import shutil\n",
    "\n",
    "with gzip.open('../data/raw/sensors_raw.gz', 'rb') as f_in:\n",
    "    with open('../data/raw/file.txt', 'wb') as f_out:\n",
    "        shutil.copyfileobj(f_in, f_out)\n",
    "        \n",
    "# 这样解压之后中文都成了乱码！"
   ]
  },
  {
   "cell_type": "code",
   "execution_count": 9,
   "metadata": {},
   "outputs": [],
   "source": [
    "import json"
   ]
  },
  {
   "cell_type": "code",
   "execution_count": 10,
   "metadata": {},
   "outputs": [],
   "source": [
    "file_sensor = '../data/raw/sensorswww_data.txt'"
   ]
  },
  {
   "cell_type": "code",
   "execution_count": 11,
   "metadata": {},
   "outputs": [],
   "source": [
    "f = open(file_sensor, encoding='utf-8', mode='r')"
   ]
  },
  {
   "cell_type": "code",
   "execution_count": 12,
   "metadata": {},
   "outputs": [],
   "source": [
    "lines = f.readlines()"
   ]
  },
  {
   "cell_type": "code",
   "execution_count": 13,
   "metadata": {},
   "outputs": [
    {
     "data": {
      "text/plain": [
       "'{\"distinct_id\":\"595466e9a8e733434ce08de16e927d985e0b5d48\",\"lib\":{\"$lib\":\"js\",\"$lib_method\":\"code\",\"$lib_version\":\"1.6.20\"},\"properties\":{\"$os\":\"windows\",\"$model\":\"pc\",\"$os_version\":\"6.1\",\"$screen_height\":800,\"$screen_width\":1280,\"$lib\":\"js\",\"$lib_version\":\"1.6.20\",\"$browser\":\"chrome\",\"$browser_version\":\"56\",\"$latest_referrer\":\"\",\"$latest_referrer_host\":\"\",\"$latest_utm_source\":\"baidu\",\"$latest_utm_medium\":\"cpc\",\"$latest_utm_campaign\":\"通用词\",\"$latest_utm_content\":\"通用-用户画像\",\"$latest_utm_term\":\"用户画像\",\"_latest_ch\":\"demo\",\"_session_referrer\":\"https://www.baidu.com/baidu.php\",\"_session_referrer_host\":\"www.baidu.com\",\"session_page_url\":\"https://www.sensorsdata.cn/?utm_source=baidu&utm_medium=cpc&utm_term=%E7%94%A8%E6%88%B7%E7%94%BB%E5%83%8F&utm_content=%E9%80%9A%E7%94%A8%2D%E7%94%A8%E6%88%B7%E7%94%BB%E5%83%8F&utm_campaign=%E9%80%9A%E7%94%A8%E8%AF%8D\",\"pageUrl\":\"https://sensorsdata.cn/?ch=demo\",\"pageStayTime\":5.692,\"pagePosition\":2,\"$is_first_day\":true,\"$is_first_time\":false,\"$ip\":\"219.135.131.99\"},\"type\":\"track\",\"event\":\"index_leave\",\"_nocache\":\"0654392402996\",\"time\":1488791047953}\\n'"
      ]
     },
     "execution_count": 13,
     "metadata": {},
     "output_type": "execute_result"
    }
   ],
   "source": [
    "lines[0]"
   ]
  },
  {
   "cell_type": "code",
   "execution_count": 14,
   "metadata": {},
   "outputs": [],
   "source": [
    "first_line_json = json.loads(lines[0])"
   ]
  },
  {
   "cell_type": "code",
   "execution_count": 16,
   "metadata": {},
   "outputs": [
    {
     "name": "stdout",
     "output_type": "stream",
     "text": [
      "set()\n"
     ]
    }
   ],
   "source": [
    "main_features = set()\n",
    "print(main_features)"
   ]
  },
  {
   "cell_type": "code",
   "execution_count": 18,
   "metadata": {},
   "outputs": [],
   "source": [
    "main_features.add(\"prop\")"
   ]
  },
  {
   "cell_type": "code",
   "execution_count": 19,
   "metadata": {},
   "outputs": [
    {
     "name": "stdout",
     "output_type": "stream",
     "text": [
      "{'prop'}\n"
     ]
    }
   ],
   "source": [
    "print(main_features)"
   ]
  },
  {
   "cell_type": "code",
   "execution_count": 20,
   "metadata": {},
   "outputs": [
    {
     "name": "stdout",
     "output_type": "stream",
     "text": [
      "set()\n"
     ]
    }
   ],
   "source": [
    "main_features.clear()\n",
    "print(main_features)"
   ]
  },
  {
   "cell_type": "code",
   "execution_count": 23,
   "metadata": {},
   "outputs": [
    {
     "data": {
      "text/plain": [
       "75092"
      ]
     },
     "execution_count": 23,
     "metadata": {},
     "output_type": "execute_result"
    }
   ],
   "source": [
    "len(lines)"
   ]
  },
  {
   "cell_type": "code",
   "execution_count": 24,
   "metadata": {},
   "outputs": [
    {
     "name": "stdout",
     "output_type": "stream",
     "text": [
      "{'properties', 'distinct_id', '_nocache', 'lib', 'jssdk_error', 'event', 'type', 'time'}\n"
     ]
    }
   ],
   "source": [
    "for i in range(len(lines)):              \n",
    "    line_json = json.loads(lines[i])\n",
    "    for features, possible_values in line_json.items():\n",
    "        main_features.add(features)\n",
    "    \n",
    "print(main_features)"
   ]
  },
  {
   "cell_type": "code",
   "execution_count": 26,
   "metadata": {},
   "outputs": [
    {
     "name": "stdout",
     "output_type": "stream",
     "text": [
      "{'referrerUrl', '_session_referrer', '$url_path', 'page', '$first_referrer_host', 'verification_code', 'pageStayTime', '$latest_utm_campaign', 'session_page_url', '$first_visit_time', 'isSuccess', 'pageUrl', '$is_first_time', '$latest_utm_term', 'project_name', '$lib', '$title', '$referrer_host', 'contact', '_session_referrer_domain', '$latest_referrer_host', '$lib_version', '$latest_referrer', '$ip', '$utm_source', '$is_first_day', '$os', '$os_version', 'ch', 'site_url', 'name', '$screen_width', '$utm_medium', 'from_url', 'isMsg', 'url_path', '$latest_utm_medium', '$browser', 'company', 'referrHostUrl', '$referrer', '$latest_utm_content', '$model', '_latest_ch', '_session_referrer_host', 'siteUrl', '$first_browser_language', 'info', '$screen_height', 'pagePosition', '$browser_version', '$utm_term', '$first_referrer', '$url', '$utm_campaign', '$latest_utm_source', 'requestBtn', '$utm_content', 'email', '_session_from_url', 'result'} \n",
      "\n",
      "There are 61 sub-features in properties.\n"
     ]
    }
   ],
   "source": [
    "properties_sub_features = set()\n",
    "\n",
    "for i in range(len(lines)):              \n",
    "    line_json = json.loads(lines[i])\n",
    "    for features, possible_values in line_json[\"properties\"].items():\n",
    "        properties_sub_features.add(features)\n",
    "    \n",
    "print(properties_sub_features, \"\\n\")\n",
    "print(\"There are %d sub-features in properties.\" % len(properties_sub_features))"
   ]
  },
  {
   "cell_type": "code",
   "execution_count": null,
   "metadata": {},
   "outputs": [],
   "source": [
    "for features, possible_values in first_line_json.items():\n",
    "    main_features.add(features)\n",
    "\n",
    "print(main_features)"
   ]
  },
  {
   "cell_type": "code",
   "execution_count": null,
   "metadata": {},
   "outputs": [],
   "source": []
  },
  {
   "cell_type": "code",
   "execution_count": 6,
   "metadata": {},
   "outputs": [],
   "source": [
    "first_line = f.readline()"
   ]
  },
  {
   "cell_type": "code",
   "execution_count": 6,
   "metadata": {},
   "outputs": [
    {
     "name": "stdout",
     "output_type": "stream",
     "text": [
      "{\"distinct_id\":\"595466e9a8e733434ce08de16e927d985e0b5d48\",\"lib\":{\"$lib\":\"js\",\"$lib_method\":\"code\",\"$lib_version\":\"1.6.20\"},\"properties\":{\"$os\":\"windows\",\"$model\":\"pc\",\"$os_version\":\"6.1\",\"$screen_height\":800,\"$screen_width\":1280,\"$lib\":\"js\",\"$lib_version\":\"1.6.20\",\"$browser\":\"chrome\",\"$browser_version\":\"56\",\"$latest_referrer\":\"\",\"$latest_referrer_host\":\"\",\"$latest_utm_source\":\"baidu\",\"$latest_utm_medium\":\"cpc\",\"$latest_utm_campaign\":\"通用词\",\"$latest_utm_content\":\"通用-用户画像\",\"$latest_utm_term\":\"用户画像\",\"_latest_ch\":\"demo\",\"_session_referrer\":\"https://www.baidu.com/baidu.php\",\"_session_referrer_host\":\"www.baidu.com\",\"session_page_url\":\"https://www.sensorsdata.cn/?utm_source=baidu&utm_medium=cpc&utm_term=%E7%94%A8%E6%88%B7%E7%94%BB%E5%83%8F&utm_content=%E9%80%9A%E7%94%A8%2D%E7%94%A8%E6%88%B7%E7%94%BB%E5%83%8F&utm_campaign=%E9%80%9A%E7%94%A8%E8%AF%8D\",\"pageUrl\":\"https://sensorsdata.cn/?ch=demo\",\"pageStayTime\":5.692,\"pagePosition\":2,\"$is_first_day\":true,\"$is_first_time\":false,\"$ip\":\"219.135.131.99\"},\"type\":\"track\",\"event\":\"index_leave\",\"_nocache\":\"0654392402996\",\"time\":1488791047953}\n",
      "\n"
     ]
    }
   ],
   "source": [
    "print(first_line)"
   ]
  },
  {
   "cell_type": "code",
   "execution_count": 7,
   "metadata": {},
   "outputs": [],
   "source": [
    "first_line_json = json.loads(first_line)"
   ]
  },
  {
   "cell_type": "code",
   "execution_count": 15,
   "metadata": {},
   "outputs": [
    {
     "name": "stdout",
     "output_type": "stream",
     "text": [
      "{'distinct_id': '595466e9a8e733434ce08de16e927d985e0b5d48', 'lib': {'$lib': 'js', '$lib_method': 'code', '$lib_version': '1.6.20'}, 'properties': {'$os': 'windows', '$model': 'pc', '$os_version': '6.1', '$screen_height': 800, '$screen_width': 1280, '$lib': 'js', '$lib_version': '1.6.20', '$browser': 'chrome', '$browser_version': '56', '$latest_referrer': '', '$latest_referrer_host': '', '$latest_utm_source': 'baidu', '$latest_utm_medium': 'cpc', '$latest_utm_campaign': '通用词', '$latest_utm_content': '通用-用户画像', '$latest_utm_term': '用户画像', '_latest_ch': 'demo', '_session_referrer': 'https://www.baidu.com/baidu.php', '_session_referrer_host': 'www.baidu.com', 'session_page_url': 'https://www.sensorsdata.cn/?utm_source=baidu&utm_medium=cpc&utm_term=%E7%94%A8%E6%88%B7%E7%94%BB%E5%83%8F&utm_content=%E9%80%9A%E7%94%A8%2D%E7%94%A8%E6%88%B7%E7%94%BB%E5%83%8F&utm_campaign=%E9%80%9A%E7%94%A8%E8%AF%8D', 'pageUrl': 'https://sensorsdata.cn/?ch=demo', 'pageStayTime': 5.692, 'pagePosition': 2, '$is_first_day': True, '$is_first_time': False, '$ip': '219.135.131.99'}, 'type': 'track', 'event': 'index_leave', '_nocache': '0654392402996', 'time': 1488791047953}\n"
     ]
    }
   ],
   "source": [
    "print(first_line_json)"
   ]
  },
  {
   "cell_type": "code",
   "execution_count": 9,
   "metadata": {},
   "outputs": [
    {
     "name": "stdout",
     "output_type": "stream",
     "text": [
      "595466e9a8e733434ce08de16e927d985e0b5d48\n"
     ]
    }
   ],
   "source": [
    "print(first_line_json[\"distinct_id\"])"
   ]
  },
  {
   "cell_type": "code",
   "execution_count": 10,
   "metadata": {},
   "outputs": [
    {
     "name": "stdout",
     "output_type": "stream",
     "text": [
      "{'$lib': 'js', '$lib_method': 'code', '$lib_version': '1.6.20'}\n"
     ]
    }
   ],
   "source": [
    "print(first_line_json[\"lib\"])"
   ]
  },
  {
   "cell_type": "code",
   "execution_count": 11,
   "metadata": {},
   "outputs": [
    {
     "name": "stdout",
     "output_type": "stream",
     "text": [
      "{'$os': 'windows', '$model': 'pc', '$os_version': '6.1', '$screen_height': 800, '$screen_width': 1280, '$lib': 'js', '$lib_version': '1.6.20', '$browser': 'chrome', '$browser_version': '56', '$latest_referrer': '', '$latest_referrer_host': '', '$latest_utm_source': 'baidu', '$latest_utm_medium': 'cpc', '$latest_utm_campaign': '通用词', '$latest_utm_content': '通用-用户画像', '$latest_utm_term': '用户画像', '_latest_ch': 'demo', '_session_referrer': 'https://www.baidu.com/baidu.php', '_session_referrer_host': 'www.baidu.com', 'session_page_url': 'https://www.sensorsdata.cn/?utm_source=baidu&utm_medium=cpc&utm_term=%E7%94%A8%E6%88%B7%E7%94%BB%E5%83%8F&utm_content=%E9%80%9A%E7%94%A8%2D%E7%94%A8%E6%88%B7%E7%94%BB%E5%83%8F&utm_campaign=%E9%80%9A%E7%94%A8%E8%AF%8D', 'pageUrl': 'https://sensorsdata.cn/?ch=demo', 'pageStayTime': 5.692, 'pagePosition': 2, '$is_first_day': True, '$is_first_time': False, '$ip': '219.135.131.99'}\n"
     ]
    }
   ],
   "source": [
    "print(first_line_json[\"properties\"])"
   ]
  },
  {
   "cell_type": "code",
   "execution_count": 12,
   "metadata": {},
   "outputs": [
    {
     "name": "stdout",
     "output_type": "stream",
     "text": [
      "pc\n"
     ]
    }
   ],
   "source": [
    "print(first_line_json[\"properties\"][\"$model\"])"
   ]
  },
  {
   "cell_type": "code",
   "execution_count": 13,
   "metadata": {},
   "outputs": [
    {
     "name": "stdout",
     "output_type": "stream",
     "text": [
      "track\n",
      "index_leave\n",
      "0654392402996\n",
      "1488791047953\n"
     ]
    }
   ],
   "source": [
    "print(first_line_json[\"type\"])\n",
    "print(first_line_json[\"event\"])\n",
    "print(first_line_json[\"_nocache\"])\n",
    "print(first_line_json[\"time\"])"
   ]
  },
  {
   "cell_type": "code",
   "execution_count": 14,
   "metadata": {},
   "outputs": [
    {
     "name": "stdout",
     "output_type": "stream",
     "text": [
      "1 features:  distinct_id | value:  595466e9a8e733434ce08de16e927d985e0b5d48\n",
      "2 features:  lib | value:  {'$lib': 'js', '$lib_method': 'code', '$lib_version': '1.6.20'}\n",
      "3 features:  properties | value:  {'$os': 'windows', '$model': 'pc', '$os_version': '6.1', '$screen_height': 800, '$screen_width': 1280, '$lib': 'js', '$lib_version': '1.6.20', '$browser': 'chrome', '$browser_version': '56', '$latest_referrer': '', '$latest_referrer_host': '', '$latest_utm_source': 'baidu', '$latest_utm_medium': 'cpc', '$latest_utm_campaign': '通用词', '$latest_utm_content': '通用-用户画像', '$latest_utm_term': '用户画像', '_latest_ch': 'demo', '_session_referrer': 'https://www.baidu.com/baidu.php', '_session_referrer_host': 'www.baidu.com', 'session_page_url': 'https://www.sensorsdata.cn/?utm_source=baidu&utm_medium=cpc&utm_term=%E7%94%A8%E6%88%B7%E7%94%BB%E5%83%8F&utm_content=%E9%80%9A%E7%94%A8%2D%E7%94%A8%E6%88%B7%E7%94%BB%E5%83%8F&utm_campaign=%E9%80%9A%E7%94%A8%E8%AF%8D', 'pageUrl': 'https://sensorsdata.cn/?ch=demo', 'pageStayTime': 5.692, 'pagePosition': 2, '$is_first_day': True, '$is_first_time': False, '$ip': '219.135.131.99'}\n",
      "4 features:  type | value:  track\n",
      "5 features:  event | value:  index_leave\n",
      "6 features:  _nocache | value:  0654392402996\n",
      "7 features:  time | value:  1488791047953\n"
     ]
    }
   ],
   "source": [
    "i = 1\n",
    "for features, possible_values in first_line_json.items():\n",
    "    print(i, \"features: \", features, \"| value: \", possible_values)\n",
    "    i = i + 1"
   ]
  },
  {
   "cell_type": "code",
   "execution_count": 16,
   "metadata": {},
   "outputs": [
    {
     "name": "stdout",
     "output_type": "stream",
     "text": [
      "feature 1: distinct_id\n",
      "feature 2: lib\n",
      "feature 3: properties\n",
      "feature 4: type\n",
      "feature 5: event\n",
      "feature 6: _nocache\n",
      "feature 7: time\n"
     ]
    }
   ],
   "source": [
    "i = 1\n",
    "for features, possible_values in first_line_json.items():\n",
    "    print(\"feature %d: %s\" % (i, features))\n",
    "    i = i + 1"
   ]
  },
  {
   "cell_type": "code",
   "execution_count": 53,
   "metadata": {},
   "outputs": [
    {
     "name": "stdout",
     "output_type": "stream",
     "text": [
      "1 features:  $lib | value:  js\n",
      "2 features:  $lib_method | value:  code\n",
      "3 features:  $lib_version | value:  1.6.20\n"
     ]
    }
   ],
   "source": [
    "i = 1\n",
    "for features, possible_values in first_line_json[\"lib\"].items():\n",
    "    print(i, \"features: \", features, \"| value: \", possible_values)\n",
    "    i = i + 1"
   ]
  },
  {
   "cell_type": "code",
   "execution_count": 54,
   "metadata": {},
   "outputs": [
    {
     "name": "stdout",
     "output_type": "stream",
     "text": [
      "1 features:  $os | value:  windows\n",
      "2 features:  $model | value:  pc\n",
      "3 features:  $os_version | value:  6.1\n",
      "4 features:  $screen_height | value:  800\n",
      "5 features:  $screen_width | value:  1280\n",
      "6 features:  $lib | value:  js\n",
      "7 features:  $lib_version | value:  1.6.20\n",
      "8 features:  $browser | value:  chrome\n",
      "9 features:  $browser_version | value:  56\n",
      "10 features:  $latest_referrer | value:  \n",
      "11 features:  $latest_referrer_host | value:  \n",
      "12 features:  $latest_utm_source | value:  baidu\n",
      "13 features:  $latest_utm_medium | value:  cpc\n",
      "14 features:  $latest_utm_campaign | value:  通用词\n",
      "15 features:  $latest_utm_content | value:  通用-用户画像\n",
      "16 features:  $latest_utm_term | value:  用户画像\n",
      "17 features:  _latest_ch | value:  demo\n",
      "18 features:  _session_referrer | value:  https://www.baidu.com/baidu.php\n",
      "19 features:  _session_referrer_host | value:  www.baidu.com\n",
      "20 features:  session_page_url | value:  https://www.sensorsdata.cn/?utm_source=baidu&utm_medium=cpc&utm_term=%E7%94%A8%E6%88%B7%E7%94%BB%E5%83%8F&utm_content=%E9%80%9A%E7%94%A8%2D%E7%94%A8%E6%88%B7%E7%94%BB%E5%83%8F&utm_campaign=%E9%80%9A%E7%94%A8%E8%AF%8D\n",
      "21 features:  pageUrl | value:  https://sensorsdata.cn/?ch=demo\n",
      "22 features:  pageStayTime | value:  5.692\n",
      "23 features:  pagePosition | value:  2\n",
      "24 features:  $is_first_day | value:  True\n",
      "25 features:  $is_first_time | value:  False\n",
      "26 features:  $ip | value:  219.135.131.99\n"
     ]
    }
   ],
   "source": [
    "i = 1\n",
    "for features, possible_values in first_line_json[\"properties\"].items():\n",
    "    print(i, \"features: \", features, \"| value: \", possible_values)\n",
    "    i = i + 1"
   ]
  },
  {
   "cell_type": "code",
   "execution_count": 24,
   "metadata": {},
   "outputs": [
    {
     "name": "stdout",
     "output_type": "stream",
     "text": [
      "{\"distinct_id\":\"595466e9a8e733434ce08de16e927d985e0b5d48\",\"lib\":{\"$lib\":\"js\",\"$lib_method\":\"code\",\"$lib_version\":\"1.6.20\"},\"properties\":{\"$os\":\"windows\",\"$model\":\"pc\",\"$os_version\":\"6.1\",\"$screen_height\":800,\"$screen_width\":1280,\"$lib\":\"js\",\"$lib_version\":\"1.6.20\",\"$browser\":\"chrome\",\"$browser_version\":\"56\",\"$latest_referrer\":\"\",\"$latest_referrer_host\":\"\",\"$latest_utm_source\":\"baidu\",\"$latest_utm_medium\":\"cpc\",\"$latest_utm_campaign\":\"通用词\",\"$latest_utm_content\":\"通用-用户画像\",\"$latest_utm_term\":\"用户画像\",\"_latest_ch\":\"demo\",\"_session_referrer\":\"https://www.baidu.com/baidu.php\",\"_session_referrer_host\":\"www.baidu.com\",\"session_page_url\":\"https://www.sensorsdata.cn/?utm_source=baidu&utm_medium=cpc&utm_term=%E7%94%A8%E6%88%B7%E7%94%BB%E5%83%8F&utm_content=%E9%80%9A%E7%94%A8%2D%E7%94%A8%E6%88%B7%E7%94%BB%E5%83%8F&utm_campaign=%E9%80%9A%E7%94%A8%E8%AF%8D\",\"pageUrl\":\"https://sensorsdata.cn/?ch=demo\",\"pageStayTime\":5.692,\"pagePosition\":2,\"$is_first_day\":true,\"$is_first_time\":false,\"$ip\":\"219.135.131.99\"},\"type\":\"track\",\"event\":\"index_leave\",\"_nocache\":\"0654392402996\",\"time\":1488791047953}\n",
      "\n"
     ]
    }
   ],
   "source": [
    "print(first_line)"
   ]
  },
  {
   "cell_type": "code",
   "execution_count": 25,
   "metadata": {},
   "outputs": [],
   "source": [
    "second_line = f.readline()"
   ]
  },
  {
   "cell_type": "code",
   "execution_count": 26,
   "metadata": {},
   "outputs": [],
   "source": [
    "second_line_json = json.loads(second_line)"
   ]
  },
  {
   "cell_type": "code",
   "execution_count": 27,
   "metadata": {},
   "outputs": [
    {
     "name": "stdout",
     "output_type": "stream",
     "text": [
      "{\"distinct_id\":\"9939d3e087bca29c42334d96dccd25ca0e06652a\",\"lib\":{\"$lib\":\"js\",\"$lib_method\":\"code\",\"$lib_version\":\"1.6.20\"},\"properties\":{\"$first_visit_time\":\"2017-03-06 17:04:10.999\",\"$first_referrer\":\"\",\"$first_browser_language\":\"zh-CN\",\"$first_referrer_host\":\"\",\"ch\":\"demo\"},\"type\":\"profile_set_once\",\"_nocache\":\"3040562711955\",\"time\":1490958296645}\n",
      "\n"
     ]
    }
   ],
   "source": [
    "print(second_line)"
   ]
  },
  {
   "cell_type": "code",
   "execution_count": 28,
   "metadata": {},
   "outputs": [],
   "source": [
    "third_line = f.readline()"
   ]
  },
  {
   "cell_type": "code",
   "execution_count": 29,
   "metadata": {},
   "outputs": [
    {
     "name": "stdout",
     "output_type": "stream",
     "text": [
      "{\"distinct_id\":\"9939d3e087bca29c42334d96dccd25ca0e06652a\",\"lib\":{\"$lib\":\"js\",\"$lib_method\":\"code\",\"$lib_version\":\"1.6.20\"},\"properties\":{\"$os\":\"windows\",\"$model\":\"pc\",\"$os_version\":\"10\",\"$screen_height\":768,\"$screen_width\":1366,\"$lib\":\"js\",\"$lib_version\":\"1.6.20\",\"$browser\":\"chrome\",\"$browser_version\":\"56\",\"$latest_referrer\":\"\",\"$latest_referrer_host\":\"\",\"_latest_ch\":\"demo\",\"_session_referrer\":\"\",\"_session_referrer_host\":\"\",\"session_page_url\":\"https://sensorsdata.cn/?ch=demo\",\"$referrer\":\"\",\"$referrer_host\":\"\",\"$url\":\"https://sensorsdata.cn/?ch=demo\",\"$url_path\":\"/\",\"$title\":\"神策数据 | Sensors Data - 国内领先的用户行为分析产品\",\"ch\":\"demo\",\"$is_first_day\":true,\"$is_first_time\":true,\"$ip\":\"111.204.198.242\"},\"type\":\"track\",\"event\":\"$pageview\",\"_nocache\":\"9587552771961\",\"time\":1488791050856}\n",
      "\n"
     ]
    }
   ],
   "source": [
    "print(third_line)"
   ]
  },
  {
   "cell_type": "code",
   "execution_count": null,
   "metadata": {},
   "outputs": [],
   "source": [
    "with open(filename, encoding='utf-8', mode = ‘r') as f:\n",
    "    for line in f:\n",
    "        print(repr(line))"
   ]
  },
  {
   "cell_type": "code",
   "execution_count": 30,
   "metadata": {},
   "outputs": [],
   "source": [
    "import pandas as pd"
   ]
  },
  {
   "cell_type": "code",
   "execution_count": 32,
   "metadata": {},
   "outputs": [],
   "source": [
    "df_sensor = pd.DataFrame(json.loads(first_line))"
   ]
  },
  {
   "cell_type": "code",
   "execution_count": 34,
   "metadata": {},
   "outputs": [
    {
     "name": "stdout",
     "output_type": "stream",
     "text": [
      "<class 'pandas.core.frame.DataFrame'>\n",
      "Index: 27 entries, $browser to session_page_url\n",
      "Data columns (total 7 columns):\n",
      "distinct_id    27 non-null object\n",
      "lib            3 non-null object\n",
      "properties     26 non-null object\n",
      "type           27 non-null object\n",
      "event          27 non-null object\n",
      "_nocache       27 non-null object\n",
      "time           27 non-null int64\n",
      "dtypes: int64(1), object(6)\n",
      "memory usage: 1.7+ KB\n"
     ]
    }
   ],
   "source": [
    "df_sensor.info()"
   ]
  },
  {
   "cell_type": "code",
   "execution_count": 35,
   "metadata": {},
   "outputs": [
    {
     "data": {
      "text/html": [
       "<div>\n",
       "<style scoped>\n",
       "    .dataframe tbody tr th:only-of-type {\n",
       "        vertical-align: middle;\n",
       "    }\n",
       "\n",
       "    .dataframe tbody tr th {\n",
       "        vertical-align: top;\n",
       "    }\n",
       "\n",
       "    .dataframe thead th {\n",
       "        text-align: right;\n",
       "    }\n",
       "</style>\n",
       "<table border=\"1\" class=\"dataframe\">\n",
       "  <thead>\n",
       "    <tr style=\"text-align: right;\">\n",
       "      <th></th>\n",
       "      <th>distinct_id</th>\n",
       "      <th>lib</th>\n",
       "      <th>properties</th>\n",
       "      <th>type</th>\n",
       "      <th>event</th>\n",
       "      <th>_nocache</th>\n",
       "      <th>time</th>\n",
       "    </tr>\n",
       "  </thead>\n",
       "  <tbody>\n",
       "    <tr>\n",
       "      <th>$browser</th>\n",
       "      <td>595466e9a8e733434ce08de16e927d985e0b5d48</td>\n",
       "      <td>NaN</td>\n",
       "      <td>chrome</td>\n",
       "      <td>track</td>\n",
       "      <td>index_leave</td>\n",
       "      <td>0654392402996</td>\n",
       "      <td>1488791047953</td>\n",
       "    </tr>\n",
       "    <tr>\n",
       "      <th>$browser_version</th>\n",
       "      <td>595466e9a8e733434ce08de16e927d985e0b5d48</td>\n",
       "      <td>NaN</td>\n",
       "      <td>56</td>\n",
       "      <td>track</td>\n",
       "      <td>index_leave</td>\n",
       "      <td>0654392402996</td>\n",
       "      <td>1488791047953</td>\n",
       "    </tr>\n",
       "    <tr>\n",
       "      <th>$ip</th>\n",
       "      <td>595466e9a8e733434ce08de16e927d985e0b5d48</td>\n",
       "      <td>NaN</td>\n",
       "      <td>219.135.131.99</td>\n",
       "      <td>track</td>\n",
       "      <td>index_leave</td>\n",
       "      <td>0654392402996</td>\n",
       "      <td>1488791047953</td>\n",
       "    </tr>\n",
       "    <tr>\n",
       "      <th>$is_first_day</th>\n",
       "      <td>595466e9a8e733434ce08de16e927d985e0b5d48</td>\n",
       "      <td>NaN</td>\n",
       "      <td>True</td>\n",
       "      <td>track</td>\n",
       "      <td>index_leave</td>\n",
       "      <td>0654392402996</td>\n",
       "      <td>1488791047953</td>\n",
       "    </tr>\n",
       "    <tr>\n",
       "      <th>$is_first_time</th>\n",
       "      <td>595466e9a8e733434ce08de16e927d985e0b5d48</td>\n",
       "      <td>NaN</td>\n",
       "      <td>False</td>\n",
       "      <td>track</td>\n",
       "      <td>index_leave</td>\n",
       "      <td>0654392402996</td>\n",
       "      <td>1488791047953</td>\n",
       "    </tr>\n",
       "  </tbody>\n",
       "</table>\n",
       "</div>"
      ],
      "text/plain": [
       "                                               distinct_id  lib  \\\n",
       "$browser          595466e9a8e733434ce08de16e927d985e0b5d48  NaN   \n",
       "$browser_version  595466e9a8e733434ce08de16e927d985e0b5d48  NaN   \n",
       "$ip               595466e9a8e733434ce08de16e927d985e0b5d48  NaN   \n",
       "$is_first_day     595466e9a8e733434ce08de16e927d985e0b5d48  NaN   \n",
       "$is_first_time    595466e9a8e733434ce08de16e927d985e0b5d48  NaN   \n",
       "\n",
       "                      properties   type        event       _nocache  \\\n",
       "$browser                  chrome  track  index_leave  0654392402996   \n",
       "$browser_version              56  track  index_leave  0654392402996   \n",
       "$ip               219.135.131.99  track  index_leave  0654392402996   \n",
       "$is_first_day               True  track  index_leave  0654392402996   \n",
       "$is_first_time             False  track  index_leave  0654392402996   \n",
       "\n",
       "                           time  \n",
       "$browser          1488791047953  \n",
       "$browser_version  1488791047953  \n",
       "$ip               1488791047953  \n",
       "$is_first_day     1488791047953  \n",
       "$is_first_time    1488791047953  "
      ]
     },
     "execution_count": 35,
     "metadata": {},
     "output_type": "execute_result"
    }
   ],
   "source": [
    "df_sensor.head()"
   ]
  },
  {
   "cell_type": "code",
   "execution_count": 27,
   "metadata": {},
   "outputs": [
    {
     "name": "stdout",
     "output_type": "stream",
     "text": [
      "{\"distinct_id\":\"595466e9a8e733434ce08de16e927d985e0b5d48\",\"lib\":{\"$lib\":\"js\",\"$lib_method\":\"code\",\"$lib_version\":\"1.6.20\"},\"properties\":{\"$os\":\"windows\",\"$model\":\"pc\",\"$os_version\":\"6.1\",\"$screen_height\":800,\"$screen_width\":1280,\"$lib\":\"js\",\"$lib_version\":\"1.6.20\",\"$browser\":\"chrome\",\"$browser_version\":\"56\",\"$latest_referrer\":\"\",\"$latest_referrer_host\":\"\",\"$latest_utm_source\":\"baidu\",\"$latest_utm_medium\":\"cpc\",\"$latest_utm_campaign\":\"通用词\",\"$latest_utm_content\":\"通用-用户画像\",\"$latest_utm_term\":\"用户画像\",\"_latest_ch\":\"demo\",\"_session_referrer\":\"https://www.baidu.com/baidu.php\",\"_session_referrer_host\":\"www.baidu.com\",\"session_page_url\":\"https://www.sensorsdata.cn/?utm_source=baidu&utm_medium=cpc&utm_term=%E7%94%A8%E6%88%B7%E7%94%BB%E5%83%8F&utm_content=%E9%80%9A%E7%94%A8%2D%E7%94%A8%E6%88%B7%E7%94%BB%E5%83%8F&utm_campaign=%E9%80%9A%E7%94%A8%E8%AF%8D\",\"pageUrl\":\"https://sensorsdata.cn/?ch=demo\",\"pageStayTime\":5.692,\"pagePosition\":2,\"$is_first_day\":true,\"$is_first_time\":false,\"$ip\":\"219.135.131.99\"},\"type\":\"track\",\"event\":\"index_leave\",\"_nocache\":\"0654392402996\",\"time\":1488791047953}\n",
      "\n",
      "Main features:\n",
      "\n",
      "# 1: distinct_id\n",
      "# 2: lib\n",
      "# 3: properties\n",
      "# 4: type\n",
      "# 5: event\n",
      "# 6: _nocache\n",
      "# 7: time\n",
      "\n",
      "# 1: distinct_id\n",
      "# 2: lib\n",
      "# 3: properties\n",
      "# 4: type\n",
      "# 5: _nocache\n",
      "# 6: time\n",
      "\n",
      "# 1: distinct_id\n",
      "# 2: lib\n",
      "# 3: properties\n",
      "# 4: type\n",
      "# 5: event\n",
      "# 6: _nocache\n",
      "# 7: time\n",
      "\n",
      "# 1: distinct_id\n",
      "# 2: lib\n",
      "# 3: properties\n",
      "# 4: type\n",
      "# 5: event\n",
      "# 6: _nocache\n",
      "# 7: time\n",
      "\n",
      "# 1: distinct_id\n",
      "# 2: lib\n",
      "# 3: properties\n",
      "# 4: type\n",
      "# 5: event\n",
      "# 6: _nocache\n",
      "# 7: time\n",
      "\n"
     ]
    }
   ],
   "source": [
    "import json\n",
    "file_sensor = '../data/raw/sensorswww_data.txt'       # path of the raw data file\n",
    "f = open(file_sensor, encoding='utf-8', mode='r')     # read in data from the raw data file, consult: https://github.com/rkern/line_profiler/issues/37\n",
    "\n",
    "lines = f.readlines()  # read all line at once, avoiding reading different line each time when using .readline()\n",
    "\n",
    "# Let's have  a look at the first line.\n",
    "print(lines[0])\n",
    "\n",
    "print(\"Main features:\\n\")\n",
    "\n",
    "# I will load the first five records to see their main features, to see if they have the same amount/type/name of features.\n",
    "\n",
    "for i in range(5):              \n",
    "    line_json = json.loads(lines[i])\n",
    "    j = 1\n",
    "    for features, possible_values in line_json.items():\n",
    "        print(\"# %d: %s\" % (j, features))\n",
    "        j = j + 1\n",
    "    print()"
   ]
  },
  {
   "cell_type": "code",
   "execution_count": 28,
   "metadata": {},
   "outputs": [
    {
     "name": "stdout",
     "output_type": "stream",
     "text": [
      "# 1: $lib\n",
      "# 2: $lib_method\n",
      "# 3: $lib_version\n",
      "\n",
      "# 1: $lib\n",
      "# 2: $lib_method\n",
      "# 3: $lib_version\n",
      "\n",
      "# 1: $lib\n",
      "# 2: $lib_method\n",
      "# 3: $lib_version\n",
      "\n",
      "# 1: $lib\n",
      "# 2: $lib_method\n",
      "# 3: $lib_version\n",
      "\n",
      "# 1: $lib\n",
      "# 2: $lib_method\n",
      "# 3: $lib_version\n",
      "\n"
     ]
    }
   ],
   "source": [
    "# Let's look at the sub-features of \"lib\".\n",
    "for i in range(5):              \n",
    "    line_json = json.loads(lines[i])\n",
    "    j = 1\n",
    "    for features, possible_values in line_json[\"lib\"].items():\n",
    "        print(\"# %d: %s\" % (j, features))\n",
    "        j = j + 1\n",
    "    print()"
   ]
  },
  {
   "cell_type": "code",
   "execution_count": 29,
   "metadata": {},
   "outputs": [
    {
     "name": "stdout",
     "output_type": "stream",
     "text": [
      "# 1: $os\n",
      "# 2: $model\n",
      "# 3: $os_version\n",
      "# 4: $screen_height\n",
      "# 5: $screen_width\n",
      "# 6: $lib\n",
      "# 7: $lib_version\n",
      "# 8: $browser\n",
      "# 9: $browser_version\n",
      "# 10: $latest_referrer\n",
      "# 11: $latest_referrer_host\n",
      "# 12: $latest_utm_source\n",
      "# 13: $latest_utm_medium\n",
      "# 14: $latest_utm_campaign\n",
      "# 15: $latest_utm_content\n",
      "# 16: $latest_utm_term\n",
      "# 17: _latest_ch\n",
      "# 18: _session_referrer\n",
      "# 19: _session_referrer_host\n",
      "# 20: session_page_url\n",
      "# 21: pageUrl\n",
      "# 22: pageStayTime\n",
      "# 23: pagePosition\n",
      "# 24: $is_first_day\n",
      "# 25: $is_first_time\n",
      "# 26: $ip\n",
      "\n",
      "# 1: $first_visit_time\n",
      "# 2: $first_referrer\n",
      "# 3: $first_browser_language\n",
      "# 4: $first_referrer_host\n",
      "# 5: ch\n",
      "\n",
      "# 1: $os\n",
      "# 2: $model\n",
      "# 3: $os_version\n",
      "# 4: $screen_height\n",
      "# 5: $screen_width\n",
      "# 6: $lib\n",
      "# 7: $lib_version\n",
      "# 8: $browser\n",
      "# 9: $browser_version\n",
      "# 10: $latest_referrer\n",
      "# 11: $latest_referrer_host\n",
      "# 12: _latest_ch\n",
      "# 13: _session_referrer\n",
      "# 14: _session_referrer_host\n",
      "# 15: session_page_url\n",
      "# 16: $referrer\n",
      "# 17: $referrer_host\n",
      "# 18: $url\n",
      "# 19: $url_path\n",
      "# 20: $title\n",
      "# 21: ch\n",
      "# 22: $is_first_day\n",
      "# 23: $is_first_time\n",
      "# 24: $ip\n",
      "\n",
      "# 1: $os\n",
      "# 2: $model\n",
      "# 3: $os_version\n",
      "# 4: $screen_height\n",
      "# 5: $screen_width\n",
      "# 6: $lib\n",
      "# 7: $lib_version\n",
      "# 8: $browser\n",
      "# 9: $browser_version\n",
      "# 10: $latest_referrer\n",
      "# 11: $latest_referrer_host\n",
      "# 12: _latest_ch\n",
      "# 13: _session_referrer\n",
      "# 14: _session_referrer_host\n",
      "# 15: session_page_url\n",
      "# 16: pageUrl\n",
      "# 17: page\n",
      "# 18: name\n",
      "# 19: requestBtn\n",
      "# 20: $is_first_day\n",
      "# 21: $is_first_time\n",
      "# 22: $ip\n",
      "\n",
      "# 1: $os\n",
      "# 2: $model\n",
      "# 3: $os_version\n",
      "# 4: $screen_height\n",
      "# 5: $screen_width\n",
      "# 6: $lib\n",
      "# 7: $lib_version\n",
      "# 8: $browser\n",
      "# 9: $browser_version\n",
      "# 10: $latest_referrer\n",
      "# 11: $latest_referrer_host\n",
      "# 12: _latest_ch\n",
      "# 13: _session_referrer\n",
      "# 14: _session_referrer_host\n",
      "# 15: session_page_url\n",
      "# 16: pageUrl\n",
      "# 17: page\n",
      "# 18: name\n",
      "# 19: requestBtn\n",
      "# 20: $is_first_day\n",
      "# 21: $is_first_time\n",
      "# 22: $ip\n",
      "\n",
      "# 1: $os\n",
      "# 2: $model\n",
      "# 3: $os_version\n",
      "# 4: $screen_height\n",
      "# 5: $screen_width\n",
      "# 6: $lib\n",
      "# 7: $lib_version\n",
      "# 8: $browser\n",
      "# 9: $browser_version\n",
      "# 10: $latest_referrer\n",
      "# 11: $latest_referrer_host\n",
      "# 12: $latest_utm_source\n",
      "# 13: $latest_utm_medium\n",
      "# 14: $latest_utm_campaign\n",
      "# 15: $latest_utm_content\n",
      "# 16: $latest_utm_term\n",
      "# 17: _session_referrer\n",
      "# 18: _session_referrer_host\n",
      "# 19: session_page_url\n",
      "# 20: pageUrl\n",
      "# 21: pageStayTime\n",
      "# 22: pagePosition\n",
      "# 23: $is_first_day\n",
      "# 24: $is_first_time\n",
      "# 25: $ip\n",
      "\n",
      "# 1: $os\n",
      "# 2: $model\n",
      "# 3: $os_version\n",
      "# 4: $screen_height\n",
      "# 5: $screen_width\n",
      "# 6: $lib\n",
      "# 7: $lib_version\n",
      "# 8: $browser\n",
      "# 9: $browser_version\n",
      "# 10: $latest_referrer\n",
      "# 11: $latest_referrer_host\n",
      "# 12: $latest_utm_source\n",
      "# 13: $latest_utm_medium\n",
      "# 14: $latest_utm_campaign\n",
      "# 15: $latest_utm_content\n",
      "# 16: $latest_utm_term\n",
      "# 17: _session_referrer\n",
      "# 18: _session_referrer_host\n",
      "# 19: session_page_url\n",
      "# 20: pageUrl\n",
      "# 21: page\n",
      "# 22: name\n",
      "# 23: $is_first_day\n",
      "# 24: $is_first_time\n",
      "# 25: $ip\n",
      "\n",
      "# 1: $os\n",
      "# 2: $model\n",
      "# 3: $os_version\n",
      "# 4: $screen_height\n",
      "# 5: $screen_width\n",
      "# 6: $lib\n",
      "# 7: $lib_version\n",
      "# 8: $browser\n",
      "# 9: $browser_version\n",
      "# 10: $latest_referrer\n",
      "# 11: $latest_referrer_host\n",
      "# 12: $latest_utm_source\n",
      "# 13: $latest_utm_medium\n",
      "# 14: $latest_utm_campaign\n",
      "# 15: $latest_utm_content\n",
      "# 16: $latest_utm_term\n",
      "# 17: _session_referrer\n",
      "# 18: _session_referrer_host\n",
      "# 19: session_page_url\n",
      "# 20: $referrer\n",
      "# 21: $referrer_host\n",
      "# 22: $url\n",
      "# 23: $url_path\n",
      "# 24: $title\n",
      "# 25: $is_first_day\n",
      "# 26: $is_first_time\n",
      "# 27: $ip\n",
      "\n",
      "# 1: $os\n",
      "# 2: $model\n",
      "# 3: $os_version\n",
      "# 4: $screen_height\n",
      "# 5: $screen_width\n",
      "# 6: $lib\n",
      "# 7: $lib_version\n",
      "# 8: $browser\n",
      "# 9: $browser_version\n",
      "# 10: $latest_referrer\n",
      "# 11: $latest_referrer_host\n",
      "# 12: _latest_ch\n",
      "# 13: _session_referrer\n",
      "# 14: _session_referrer_host\n",
      "# 15: session_page_url\n",
      "# 16: pageUrl\n",
      "# 17: page\n",
      "# 18: name\n",
      "# 19: requestBtn\n",
      "# 20: $is_first_day\n",
      "# 21: $is_first_time\n",
      "# 22: $ip\n",
      "\n",
      "# 1: $os\n",
      "# 2: $model\n",
      "# 3: $os_version\n",
      "# 4: $screen_height\n",
      "# 5: $screen_width\n",
      "# 6: $lib\n",
      "# 7: $lib_version\n",
      "# 8: $browser\n",
      "# 9: $browser_version\n",
      "# 10: $latest_referrer\n",
      "# 11: $latest_referrer_host\n",
      "# 12: $latest_utm_source\n",
      "# 13: $latest_utm_medium\n",
      "# 14: $latest_utm_campaign\n",
      "# 15: $latest_utm_content\n",
      "# 16: $latest_utm_term\n",
      "# 17: _session_referrer\n",
      "# 18: _session_referrer_host\n",
      "# 19: session_page_url\n",
      "# 20: pageUrl\n",
      "# 21: name\n",
      "# 22: $is_first_day\n",
      "# 23: $is_first_time\n",
      "# 24: $ip\n",
      "\n"
     ]
    }
   ],
   "source": [
    "# Let's look at the sub-features of \"properties\".\n",
    "for i in range(10):              \n",
    "    line_json = json.loads(lines[i])\n",
    "    j = 1\n",
    "    for features, possible_values in line_json[\"properties\"].items():\n",
    "        print(\"# %d: %s\" % (j, features))\n",
    "        j = j + 1\n",
    "    print()"
   ]
  },
  {
   "cell_type": "code",
   "execution_count": 31,
   "metadata": {},
   "outputs": [
    {
     "name": "stdout",
     "output_type": "stream",
     "text": [
      "Brian\n",
      "Seattle\n"
     ]
    }
   ],
   "source": [
    "import json\n",
    " \n",
    "json_data = '{\"name\": \"Brian\", \"city\": \"Seattle\"}'\n",
    "python_obj = json.loads(json_data)\n",
    "print(python_obj[\"name\"])\n",
    "print(python_obj[\"city\"])"
   ]
  },
  {
   "cell_type": "code",
   "execution_count": 36,
   "metadata": {},
   "outputs": [
    {
     "name": "stdout",
     "output_type": "stream",
     "text": [
      "{'name': 'Brian', 'city': 'Seattle'}\n"
     ]
    }
   ],
   "source": [
    "print(python_obj)"
   ]
  },
  {
   "cell_type": "code",
   "execution_count": 32,
   "metadata": {},
   "outputs": [],
   "source": [
    "import pandas as pd"
   ]
  },
  {
   "cell_type": "code",
   "execution_count": 42,
   "metadata": {},
   "outputs": [],
   "source": [
    "df = pd.DataFrame.from_dict(python_obj, orient='index')"
   ]
  },
  {
   "cell_type": "code",
   "execution_count": 43,
   "metadata": {},
   "outputs": [
    {
     "data": {
      "text/html": [
       "<div>\n",
       "<style scoped>\n",
       "    .dataframe tbody tr th:only-of-type {\n",
       "        vertical-align: middle;\n",
       "    }\n",
       "\n",
       "    .dataframe tbody tr th {\n",
       "        vertical-align: top;\n",
       "    }\n",
       "\n",
       "    .dataframe thead th {\n",
       "        text-align: right;\n",
       "    }\n",
       "</style>\n",
       "<table border=\"1\" class=\"dataframe\">\n",
       "  <thead>\n",
       "    <tr style=\"text-align: right;\">\n",
       "      <th></th>\n",
       "      <th>0</th>\n",
       "    </tr>\n",
       "  </thead>\n",
       "  <tbody>\n",
       "    <tr>\n",
       "      <th>name</th>\n",
       "      <td>Brian</td>\n",
       "    </tr>\n",
       "    <tr>\n",
       "      <th>city</th>\n",
       "      <td>Seattle</td>\n",
       "    </tr>\n",
       "  </tbody>\n",
       "</table>\n",
       "</div>"
      ],
      "text/plain": [
       "            0\n",
       "name    Brian\n",
       "city  Seattle"
      ]
     },
     "execution_count": 43,
     "metadata": {},
     "output_type": "execute_result"
    }
   ],
   "source": [
    "df.head()"
   ]
  },
  {
   "cell_type": "code",
   "execution_count": 45,
   "metadata": {},
   "outputs": [],
   "source": [
    "df.reset_index(level=0, inplace=True)"
   ]
  },
  {
   "cell_type": "code",
   "execution_count": 46,
   "metadata": {},
   "outputs": [
    {
     "data": {
      "text/html": [
       "<div>\n",
       "<style scoped>\n",
       "    .dataframe tbody tr th:only-of-type {\n",
       "        vertical-align: middle;\n",
       "    }\n",
       "\n",
       "    .dataframe tbody tr th {\n",
       "        vertical-align: top;\n",
       "    }\n",
       "\n",
       "    .dataframe thead th {\n",
       "        text-align: right;\n",
       "    }\n",
       "</style>\n",
       "<table border=\"1\" class=\"dataframe\">\n",
       "  <thead>\n",
       "    <tr style=\"text-align: right;\">\n",
       "      <th></th>\n",
       "      <th>index</th>\n",
       "      <th>0</th>\n",
       "    </tr>\n",
       "  </thead>\n",
       "  <tbody>\n",
       "    <tr>\n",
       "      <th>0</th>\n",
       "      <td>name</td>\n",
       "      <td>Brian</td>\n",
       "    </tr>\n",
       "    <tr>\n",
       "      <th>1</th>\n",
       "      <td>city</td>\n",
       "      <td>Seattle</td>\n",
       "    </tr>\n",
       "  </tbody>\n",
       "</table>\n",
       "</div>"
      ],
      "text/plain": [
       "  index        0\n",
       "0  name    Brian\n",
       "1  city  Seattle"
      ]
     },
     "execution_count": 46,
     "metadata": {},
     "output_type": "execute_result"
    }
   ],
   "source": [
    "df.head()"
   ]
  },
  {
   "cell_type": "code",
   "execution_count": 47,
   "metadata": {},
   "outputs": [],
   "source": [
    "from pandas.io.json import json_normalize"
   ]
  },
  {
   "cell_type": "code",
   "execution_count": 49,
   "metadata": {},
   "outputs": [
    {
     "data": {
      "text/html": [
       "<div>\n",
       "<style scoped>\n",
       "    .dataframe tbody tr th:only-of-type {\n",
       "        vertical-align: middle;\n",
       "    }\n",
       "\n",
       "    .dataframe tbody tr th {\n",
       "        vertical-align: top;\n",
       "    }\n",
       "\n",
       "    .dataframe thead th {\n",
       "        text-align: right;\n",
       "    }\n",
       "</style>\n",
       "<table border=\"1\" class=\"dataframe\">\n",
       "  <thead>\n",
       "    <tr style=\"text-align: right;\">\n",
       "      <th></th>\n",
       "      <th>city</th>\n",
       "      <th>name</th>\n",
       "    </tr>\n",
       "  </thead>\n",
       "  <tbody>\n",
       "    <tr>\n",
       "      <th>0</th>\n",
       "      <td>Seattle</td>\n",
       "      <td>Brian</td>\n",
       "    </tr>\n",
       "  </tbody>\n",
       "</table>\n",
       "</div>"
      ],
      "text/plain": [
       "      city   name\n",
       "0  Seattle  Brian"
      ]
     },
     "execution_count": 49,
     "metadata": {},
     "output_type": "execute_result"
    }
   ],
   "source": [
    "json_normalize(python_obj)"
   ]
  },
  {
   "cell_type": "code",
   "execution_count": 50,
   "metadata": {},
   "outputs": [
    {
     "data": {
      "text/html": [
       "<div>\n",
       "<style scoped>\n",
       "    .dataframe tbody tr th:only-of-type {\n",
       "        vertical-align: middle;\n",
       "    }\n",
       "\n",
       "    .dataframe tbody tr th {\n",
       "        vertical-align: top;\n",
       "    }\n",
       "\n",
       "    .dataframe thead th {\n",
       "        text-align: right;\n",
       "    }\n",
       "</style>\n",
       "<table border=\"1\" class=\"dataframe\">\n",
       "  <thead>\n",
       "    <tr style=\"text-align: right;\">\n",
       "      <th></th>\n",
       "      <th>_nocache</th>\n",
       "      <th>distinct_id</th>\n",
       "      <th>event</th>\n",
       "      <th>lib.$lib</th>\n",
       "      <th>lib.$lib_method</th>\n",
       "      <th>lib.$lib_version</th>\n",
       "      <th>properties.$browser</th>\n",
       "      <th>properties.$browser_version</th>\n",
       "      <th>properties.$ip</th>\n",
       "      <th>properties.$is_first_day</th>\n",
       "      <th>...</th>\n",
       "      <th>properties.$screen_width</th>\n",
       "      <th>properties._latest_ch</th>\n",
       "      <th>properties._session_referrer</th>\n",
       "      <th>properties._session_referrer_host</th>\n",
       "      <th>properties.pagePosition</th>\n",
       "      <th>properties.pageStayTime</th>\n",
       "      <th>properties.pageUrl</th>\n",
       "      <th>properties.session_page_url</th>\n",
       "      <th>time</th>\n",
       "      <th>type</th>\n",
       "    </tr>\n",
       "  </thead>\n",
       "  <tbody>\n",
       "    <tr>\n",
       "      <th>0</th>\n",
       "      <td>0654392402996</td>\n",
       "      <td>595466e9a8e733434ce08de16e927d985e0b5d48</td>\n",
       "      <td>index_leave</td>\n",
       "      <td>js</td>\n",
       "      <td>code</td>\n",
       "      <td>1.6.20</td>\n",
       "      <td>chrome</td>\n",
       "      <td>56</td>\n",
       "      <td>219.135.131.99</td>\n",
       "      <td>True</td>\n",
       "      <td>...</td>\n",
       "      <td>1280</td>\n",
       "      <td>demo</td>\n",
       "      <td>https://www.baidu.com/baidu.php</td>\n",
       "      <td>www.baidu.com</td>\n",
       "      <td>2</td>\n",
       "      <td>5.692</td>\n",
       "      <td>https://sensorsdata.cn/?ch=demo</td>\n",
       "      <td>https://www.sensorsdata.cn/?utm_source=baidu&amp;u...</td>\n",
       "      <td>1488791047953</td>\n",
       "      <td>track</td>\n",
       "    </tr>\n",
       "  </tbody>\n",
       "</table>\n",
       "<p>1 rows × 34 columns</p>\n",
       "</div>"
      ],
      "text/plain": [
       "        _nocache                               distinct_id        event  \\\n",
       "0  0654392402996  595466e9a8e733434ce08de16e927d985e0b5d48  index_leave   \n",
       "\n",
       "  lib.$lib lib.$lib_method lib.$lib_version properties.$browser  \\\n",
       "0       js            code           1.6.20              chrome   \n",
       "\n",
       "  properties.$browser_version  properties.$ip  properties.$is_first_day  \\\n",
       "0                          56  219.135.131.99                      True   \n",
       "\n",
       "   ...    properties.$screen_width properties._latest_ch  \\\n",
       "0  ...                        1280                  demo   \n",
       "\n",
       "      properties._session_referrer properties._session_referrer_host  \\\n",
       "0  https://www.baidu.com/baidu.php                     www.baidu.com   \n",
       "\n",
       "  properties.pagePosition properties.pageStayTime  \\\n",
       "0                       2                   5.692   \n",
       "\n",
       "                properties.pageUrl  \\\n",
       "0  https://sensorsdata.cn/?ch=demo   \n",
       "\n",
       "                         properties.session_page_url           time   type  \n",
       "0  https://www.sensorsdata.cn/?utm_source=baidu&u...  1488791047953  track  \n",
       "\n",
       "[1 rows x 34 columns]"
      ]
     },
     "execution_count": 50,
     "metadata": {},
     "output_type": "execute_result"
    }
   ],
   "source": [
    "json_normalize(first_line_json)"
   ]
  },
  {
   "cell_type": "code",
   "execution_count": 51,
   "metadata": {},
   "outputs": [
    {
     "data": {
      "text/plain": [
       "dict"
      ]
     },
     "execution_count": 51,
     "metadata": {},
     "output_type": "execute_result"
    }
   ],
   "source": [
    "type(first_line_json)"
   ]
  },
  {
   "cell_type": "code",
   "execution_count": 86,
   "metadata": {},
   "outputs": [],
   "source": [
    "df = []"
   ]
  },
  {
   "cell_type": "code",
   "execution_count": 87,
   "metadata": {},
   "outputs": [],
   "source": [
    "for i in range(6):              \n",
    "    line_json = json.loads(lines[i])\n",
    "    df.append(line_json)"
   ]
  },
  {
   "cell_type": "code",
   "execution_count": 88,
   "metadata": {},
   "outputs": [
    {
     "name": "stdout",
     "output_type": "stream",
     "text": [
      "[{'distinct_id': '595466e9a8e733434ce08de16e927d985e0b5d48', 'lib': {'$lib': 'js', '$lib_method': 'code', '$lib_version': '1.6.20'}, 'properties': {'$os': 'windows', '$model': 'pc', '$os_version': '6.1', '$screen_height': 800, '$screen_width': 1280, '$lib': 'js', '$lib_version': '1.6.20', '$browser': 'chrome', '$browser_version': '56', '$latest_referrer': '', '$latest_referrer_host': '', '$latest_utm_source': 'baidu', '$latest_utm_medium': 'cpc', '$latest_utm_campaign': '通用词', '$latest_utm_content': '通用-用户画像', '$latest_utm_term': '用户画像', '_latest_ch': 'demo', '_session_referrer': 'https://www.baidu.com/baidu.php', '_session_referrer_host': 'www.baidu.com', 'session_page_url': 'https://www.sensorsdata.cn/?utm_source=baidu&utm_medium=cpc&utm_term=%E7%94%A8%E6%88%B7%E7%94%BB%E5%83%8F&utm_content=%E9%80%9A%E7%94%A8%2D%E7%94%A8%E6%88%B7%E7%94%BB%E5%83%8F&utm_campaign=%E9%80%9A%E7%94%A8%E8%AF%8D', 'pageUrl': 'https://sensorsdata.cn/?ch=demo', 'pageStayTime': 5.692, 'pagePosition': 2, '$is_first_day': True, '$is_first_time': False, '$ip': '219.135.131.99'}, 'type': 'track', 'event': 'index_leave', '_nocache': '0654392402996', 'time': 1488791047953}, {'distinct_id': '9939d3e087bca29c42334d96dccd25ca0e06652a', 'lib': {'$lib': 'js', '$lib_method': 'code', '$lib_version': '1.6.20'}, 'properties': {'$first_visit_time': '2017-03-06 17:04:10.999', '$first_referrer': '', '$first_browser_language': 'zh-CN', '$first_referrer_host': '', 'ch': 'demo'}, 'type': 'profile_set_once', '_nocache': '3040562711955', 'time': 1490958296645}, {'distinct_id': '9939d3e087bca29c42334d96dccd25ca0e06652a', 'lib': {'$lib': 'js', '$lib_method': 'code', '$lib_version': '1.6.20'}, 'properties': {'$os': 'windows', '$model': 'pc', '$os_version': '10', '$screen_height': 768, '$screen_width': 1366, '$lib': 'js', '$lib_version': '1.6.20', '$browser': 'chrome', '$browser_version': '56', '$latest_referrer': '', '$latest_referrer_host': '', '_latest_ch': 'demo', '_session_referrer': '', '_session_referrer_host': '', 'session_page_url': 'https://sensorsdata.cn/?ch=demo', '$referrer': '', '$referrer_host': '', '$url': 'https://sensorsdata.cn/?ch=demo', '$url_path': '/', '$title': '神策数据 | Sensors Data - 国内领先的用户行为分析产品', 'ch': 'demo', '$is_first_day': True, '$is_first_time': True, '$ip': '111.204.198.242'}, 'type': 'track', 'event': '$pageview', '_nocache': '9587552771961', 'time': 1488791050856}, {'distinct_id': '9939d3e087bca29c42334d96dccd25ca0e06652a', 'lib': {'$lib': 'js', '$lib_method': 'code', '$lib_version': '1.6.20'}, 'properties': {'$os': 'windows', '$model': 'pc', '$os_version': '10', '$screen_height': 768, '$screen_width': 1366, '$lib': 'js', '$lib_version': '1.6.20', '$browser': 'chrome', '$browser_version': '56', '$latest_referrer': '', '$latest_referrer_host': '', '_latest_ch': 'demo', '_session_referrer': '', '_session_referrer_host': '', 'session_page_url': 'https://sensorsdata.cn/?ch=demo', 'pageUrl': 'https://sensorsdata.cn/?ch=demo', 'page': 'index', 'name': 'request', 'requestBtn': '2', '$is_first_day': True, '$is_first_time': False, '$ip': '111.204.198.242'}, 'type': 'track', 'event': 'btnClick', '_nocache': '0652937076129', 'time': 1488791051772}, {'distinct_id': '9939d3e087bca29c42334d96dccd25ca0e06652a', 'lib': {'$lib': 'js', '$lib_method': 'code', '$lib_version': '1.6.20'}, 'properties': {'$os': 'windows', '$model': 'pc', '$os_version': '10', '$screen_height': 768, '$screen_width': 1366, '$lib': 'js', '$lib_version': '1.6.20', '$browser': 'chrome', '$browser_version': '56', '$latest_referrer': '', '$latest_referrer_host': '', '_latest_ch': 'demo', '_session_referrer': '', '_session_referrer_host': '', 'session_page_url': 'https://sensorsdata.cn/?ch=demo', 'pageUrl': 'https://sensorsdata.cn/?ch=demo', 'page': 'index', 'name': 'request', 'requestBtn': '2', '$is_first_day': True, '$is_first_time': False, '$ip': '111.204.198.242'}, 'type': 'track', 'event': 'btnClick', '_nocache': '8207407748558', 'time': 1488791056032}]\n"
     ]
    }
   ],
   "source": [
    "print(df[0:5])"
   ]
  },
  {
   "cell_type": "code",
   "execution_count": 67,
   "metadata": {},
   "outputs": [
    {
     "name": "stdout",
     "output_type": "stream",
     "text": [
      "{}\n"
     ]
    }
   ],
   "source": [
    "my_dict = {}\n",
    "# my_dict['new key'] = 'new value'\n",
    "print(my_dict)"
   ]
  },
  {
   "cell_type": "code",
   "execution_count": 79,
   "metadata": {},
   "outputs": [
    {
     "name": "stdout",
     "output_type": "stream",
     "text": [
      "{'key 2': 'value 2', 'key 3': {'key 2': 'value 2'}}\n"
     ]
    }
   ],
   "source": [
    "my_dict.update({'key 2': 'value 2', 'key 3': {'key 2': 'value 2'}})\n",
    "print(my_dict)"
   ]
  },
  {
   "cell_type": "code",
   "execution_count": 80,
   "metadata": {},
   "outputs": [
    {
     "data": {
      "text/html": [
       "<div>\n",
       "<style scoped>\n",
       "    .dataframe tbody tr th:only-of-type {\n",
       "        vertical-align: middle;\n",
       "    }\n",
       "\n",
       "    .dataframe tbody tr th {\n",
       "        vertical-align: top;\n",
       "    }\n",
       "\n",
       "    .dataframe thead th {\n",
       "        text-align: right;\n",
       "    }\n",
       "</style>\n",
       "<table border=\"1\" class=\"dataframe\">\n",
       "  <thead>\n",
       "    <tr style=\"text-align: right;\">\n",
       "      <th></th>\n",
       "      <th>key 2</th>\n",
       "      <th>key 3.key 2</th>\n",
       "    </tr>\n",
       "  </thead>\n",
       "  <tbody>\n",
       "    <tr>\n",
       "      <th>0</th>\n",
       "      <td>value 2</td>\n",
       "      <td>value 2</td>\n",
       "    </tr>\n",
       "  </tbody>\n",
       "</table>\n",
       "</div>"
      ],
      "text/plain": [
       "     key 2 key 3.key 2\n",
       "0  value 2     value 2"
      ]
     },
     "execution_count": 80,
     "metadata": {},
     "output_type": "execute_result"
    }
   ],
   "source": [
    "json_normalize(my_dict)"
   ]
  },
  {
   "cell_type": "code",
   "execution_count": 81,
   "metadata": {},
   "outputs": [
    {
     "name": "stdout",
     "output_type": "stream",
     "text": [
      "{'key 2': 'value 2', 'key 3': 'value 3', 'key 4': {'key 5': 'value 5'}}\n"
     ]
    }
   ],
   "source": [
    "my_dict.update({'key 3': 'value 3', 'key 4': {'key 5': 'value 5'}})\n",
    "print(my_dict)"
   ]
  },
  {
   "cell_type": "code",
   "execution_count": 78,
   "metadata": {},
   "outputs": [
    {
     "data": {
      "text/plain": [
       "{'distinct_id': '9939d3e087bca29c42334d96dccd25ca0e06652a',\n",
       " 'lib': {'$lib': 'js', '$lib_method': 'code', '$lib_version': '1.6.20'},\n",
       " 'properties': {'$first_visit_time': '2017-03-06 17:04:10.999',\n",
       "  '$first_referrer': '',\n",
       "  '$first_browser_language': 'zh-CN',\n",
       "  '$first_referrer_host': '',\n",
       "  'ch': 'demo'},\n",
       " 'type': 'profile_set_once',\n",
       " '_nocache': '3040562711955',\n",
       " 'time': 1490958296645}"
      ]
     },
     "execution_count": 78,
     "metadata": {},
     "output_type": "execute_result"
    }
   ],
   "source": [
    "json.loads(lines[1])"
   ]
  },
  {
   "cell_type": "code",
   "execution_count": 83,
   "metadata": {},
   "outputs": [
    {
     "name": "stdout",
     "output_type": "stream",
     "text": [
      "[{'distinct_id': '595466e9a8e733434ce08de16e927d985e0b5d48', 'lib': {'$lib': 'js', '$lib_method': 'code', '$lib_version': '1.6.20'}, 'properties': {'$os': 'windows', '$model': 'pc', '$os_version': '6.1', '$screen_height': 800, '$screen_width': 1280, '$lib': 'js', '$lib_version': '1.6.20', '$browser': 'chrome', '$browser_version': '56', '$latest_referrer': '', '$latest_referrer_host': '', '$latest_utm_source': 'baidu', '$latest_utm_medium': 'cpc', '$latest_utm_campaign': '通用词', '$latest_utm_content': '通用-用户画像', '$latest_utm_term': '用户画像', '_latest_ch': 'demo', '_session_referrer': 'https://www.baidu.com/baidu.php', '_session_referrer_host': 'www.baidu.com', 'session_page_url': 'https://www.sensorsdata.cn/?utm_source=baidu&utm_medium=cpc&utm_term=%E7%94%A8%E6%88%B7%E7%94%BB%E5%83%8F&utm_content=%E9%80%9A%E7%94%A8%2D%E7%94%A8%E6%88%B7%E7%94%BB%E5%83%8F&utm_campaign=%E9%80%9A%E7%94%A8%E8%AF%8D', 'pageUrl': 'https://sensorsdata.cn/?ch=demo', 'pageStayTime': 5.692, 'pagePosition': 2, '$is_first_day': True, '$is_first_time': False, '$ip': '219.135.131.99'}, 'type': 'track', 'event': 'index_leave', '_nocache': '0654392402996', 'time': 1488791047953}]\n"
     ]
    }
   ],
   "source": [
    "df = []\n",
    "df.append(json.loads(lines[0]))\n",
    "print(df)"
   ]
  },
  {
   "cell_type": "code",
   "execution_count": 84,
   "metadata": {},
   "outputs": [
    {
     "name": "stdout",
     "output_type": "stream",
     "text": [
      "[{'distinct_id': '595466e9a8e733434ce08de16e927d985e0b5d48', 'lib': {'$lib': 'js', '$lib_method': 'code', '$lib_version': '1.6.20'}, 'properties': {'$os': 'windows', '$model': 'pc', '$os_version': '6.1', '$screen_height': 800, '$screen_width': 1280, '$lib': 'js', '$lib_version': '1.6.20', '$browser': 'chrome', '$browser_version': '56', '$latest_referrer': '', '$latest_referrer_host': '', '$latest_utm_source': 'baidu', '$latest_utm_medium': 'cpc', '$latest_utm_campaign': '通用词', '$latest_utm_content': '通用-用户画像', '$latest_utm_term': '用户画像', '_latest_ch': 'demo', '_session_referrer': 'https://www.baidu.com/baidu.php', '_session_referrer_host': 'www.baidu.com', 'session_page_url': 'https://www.sensorsdata.cn/?utm_source=baidu&utm_medium=cpc&utm_term=%E7%94%A8%E6%88%B7%E7%94%BB%E5%83%8F&utm_content=%E9%80%9A%E7%94%A8%2D%E7%94%A8%E6%88%B7%E7%94%BB%E5%83%8F&utm_campaign=%E9%80%9A%E7%94%A8%E8%AF%8D', 'pageUrl': 'https://sensorsdata.cn/?ch=demo', 'pageStayTime': 5.692, 'pagePosition': 2, '$is_first_day': True, '$is_first_time': False, '$ip': '219.135.131.99'}, 'type': 'track', 'event': 'index_leave', '_nocache': '0654392402996', 'time': 1488791047953}, {'distinct_id': '9939d3e087bca29c42334d96dccd25ca0e06652a', 'lib': {'$lib': 'js', '$lib_method': 'code', '$lib_version': '1.6.20'}, 'properties': {'$first_visit_time': '2017-03-06 17:04:10.999', '$first_referrer': '', '$first_browser_language': 'zh-CN', '$first_referrer_host': '', 'ch': 'demo'}, 'type': 'profile_set_once', '_nocache': '3040562711955', 'time': 1490958296645}]\n"
     ]
    }
   ],
   "source": [
    "df.append(json.loads(lines[1]))\n",
    "print(df)"
   ]
  },
  {
   "cell_type": "code",
   "execution_count": 89,
   "metadata": {},
   "outputs": [
    {
     "data": {
      "text/html": [
       "<div>\n",
       "<style scoped>\n",
       "    .dataframe tbody tr th:only-of-type {\n",
       "        vertical-align: middle;\n",
       "    }\n",
       "\n",
       "    .dataframe tbody tr th {\n",
       "        vertical-align: top;\n",
       "    }\n",
       "\n",
       "    .dataframe thead th {\n",
       "        text-align: right;\n",
       "    }\n",
       "</style>\n",
       "<table border=\"1\" class=\"dataframe\">\n",
       "  <thead>\n",
       "    <tr style=\"text-align: right;\">\n",
       "      <th></th>\n",
       "      <th>_nocache</th>\n",
       "      <th>distinct_id</th>\n",
       "      <th>event</th>\n",
       "      <th>lib.$lib</th>\n",
       "      <th>lib.$lib_method</th>\n",
       "      <th>lib.$lib_version</th>\n",
       "      <th>properties.$browser</th>\n",
       "      <th>properties.$browser_version</th>\n",
       "      <th>properties.$first_browser_language</th>\n",
       "      <th>properties.$first_referrer</th>\n",
       "      <th>...</th>\n",
       "      <th>properties.ch</th>\n",
       "      <th>properties.name</th>\n",
       "      <th>properties.page</th>\n",
       "      <th>properties.pagePosition</th>\n",
       "      <th>properties.pageStayTime</th>\n",
       "      <th>properties.pageUrl</th>\n",
       "      <th>properties.requestBtn</th>\n",
       "      <th>properties.session_page_url</th>\n",
       "      <th>time</th>\n",
       "      <th>type</th>\n",
       "    </tr>\n",
       "  </thead>\n",
       "  <tbody>\n",
       "    <tr>\n",
       "      <th>0</th>\n",
       "      <td>0654392402996</td>\n",
       "      <td>595466e9a8e733434ce08de16e927d985e0b5d48</td>\n",
       "      <td>index_leave</td>\n",
       "      <td>js</td>\n",
       "      <td>code</td>\n",
       "      <td>1.6.20</td>\n",
       "      <td>chrome</td>\n",
       "      <td>56</td>\n",
       "      <td>NaN</td>\n",
       "      <td>NaN</td>\n",
       "      <td>...</td>\n",
       "      <td>NaN</td>\n",
       "      <td>NaN</td>\n",
       "      <td>NaN</td>\n",
       "      <td>2.0</td>\n",
       "      <td>5.692</td>\n",
       "      <td>https://sensorsdata.cn/?ch=demo</td>\n",
       "      <td>NaN</td>\n",
       "      <td>https://www.sensorsdata.cn/?utm_source=baidu&amp;u...</td>\n",
       "      <td>1488791047953</td>\n",
       "      <td>track</td>\n",
       "    </tr>\n",
       "    <tr>\n",
       "      <th>1</th>\n",
       "      <td>3040562711955</td>\n",
       "      <td>9939d3e087bca29c42334d96dccd25ca0e06652a</td>\n",
       "      <td>NaN</td>\n",
       "      <td>js</td>\n",
       "      <td>code</td>\n",
       "      <td>1.6.20</td>\n",
       "      <td>NaN</td>\n",
       "      <td>NaN</td>\n",
       "      <td>zh-CN</td>\n",
       "      <td></td>\n",
       "      <td>...</td>\n",
       "      <td>demo</td>\n",
       "      <td>NaN</td>\n",
       "      <td>NaN</td>\n",
       "      <td>NaN</td>\n",
       "      <td>NaN</td>\n",
       "      <td>NaN</td>\n",
       "      <td>NaN</td>\n",
       "      <td>NaN</td>\n",
       "      <td>1490958296645</td>\n",
       "      <td>profile_set_once</td>\n",
       "    </tr>\n",
       "    <tr>\n",
       "      <th>2</th>\n",
       "      <td>9587552771961</td>\n",
       "      <td>9939d3e087bca29c42334d96dccd25ca0e06652a</td>\n",
       "      <td>$pageview</td>\n",
       "      <td>js</td>\n",
       "      <td>code</td>\n",
       "      <td>1.6.20</td>\n",
       "      <td>chrome</td>\n",
       "      <td>56</td>\n",
       "      <td>NaN</td>\n",
       "      <td>NaN</td>\n",
       "      <td>...</td>\n",
       "      <td>demo</td>\n",
       "      <td>NaN</td>\n",
       "      <td>NaN</td>\n",
       "      <td>NaN</td>\n",
       "      <td>NaN</td>\n",
       "      <td>NaN</td>\n",
       "      <td>NaN</td>\n",
       "      <td>https://sensorsdata.cn/?ch=demo</td>\n",
       "      <td>1488791050856</td>\n",
       "      <td>track</td>\n",
       "    </tr>\n",
       "    <tr>\n",
       "      <th>3</th>\n",
       "      <td>0652937076129</td>\n",
       "      <td>9939d3e087bca29c42334d96dccd25ca0e06652a</td>\n",
       "      <td>btnClick</td>\n",
       "      <td>js</td>\n",
       "      <td>code</td>\n",
       "      <td>1.6.20</td>\n",
       "      <td>chrome</td>\n",
       "      <td>56</td>\n",
       "      <td>NaN</td>\n",
       "      <td>NaN</td>\n",
       "      <td>...</td>\n",
       "      <td>NaN</td>\n",
       "      <td>request</td>\n",
       "      <td>index</td>\n",
       "      <td>NaN</td>\n",
       "      <td>NaN</td>\n",
       "      <td>https://sensorsdata.cn/?ch=demo</td>\n",
       "      <td>2</td>\n",
       "      <td>https://sensorsdata.cn/?ch=demo</td>\n",
       "      <td>1488791051772</td>\n",
       "      <td>track</td>\n",
       "    </tr>\n",
       "    <tr>\n",
       "      <th>4</th>\n",
       "      <td>8207407748558</td>\n",
       "      <td>9939d3e087bca29c42334d96dccd25ca0e06652a</td>\n",
       "      <td>btnClick</td>\n",
       "      <td>js</td>\n",
       "      <td>code</td>\n",
       "      <td>1.6.20</td>\n",
       "      <td>chrome</td>\n",
       "      <td>56</td>\n",
       "      <td>NaN</td>\n",
       "      <td>NaN</td>\n",
       "      <td>...</td>\n",
       "      <td>NaN</td>\n",
       "      <td>request</td>\n",
       "      <td>index</td>\n",
       "      <td>NaN</td>\n",
       "      <td>NaN</td>\n",
       "      <td>https://sensorsdata.cn/?ch=demo</td>\n",
       "      <td>2</td>\n",
       "      <td>https://sensorsdata.cn/?ch=demo</td>\n",
       "      <td>1488791056032</td>\n",
       "      <td>track</td>\n",
       "    </tr>\n",
       "    <tr>\n",
       "      <th>5</th>\n",
       "      <td>4967393021929</td>\n",
       "      <td>595466e9a8e733434ce08de16e927d985e0b5d48</td>\n",
       "      <td>demo_leave</td>\n",
       "      <td>js</td>\n",
       "      <td>code</td>\n",
       "      <td>1.6.20</td>\n",
       "      <td>chrome</td>\n",
       "      <td>56</td>\n",
       "      <td>NaN</td>\n",
       "      <td>NaN</td>\n",
       "      <td>...</td>\n",
       "      <td>NaN</td>\n",
       "      <td>NaN</td>\n",
       "      <td>NaN</td>\n",
       "      <td>1.0</td>\n",
       "      <td>21.291</td>\n",
       "      <td>https://www.sensorsdata.cn/demo.html</td>\n",
       "      <td>NaN</td>\n",
       "      <td>https://www.sensorsdata.cn/?utm_source=baidu&amp;u...</td>\n",
       "      <td>1488791057880</td>\n",
       "      <td>track</td>\n",
       "    </tr>\n",
       "  </tbody>\n",
       "</table>\n",
       "<p>6 rows × 47 columns</p>\n",
       "</div>"
      ],
      "text/plain": [
       "        _nocache                               distinct_id        event  \\\n",
       "0  0654392402996  595466e9a8e733434ce08de16e927d985e0b5d48  index_leave   \n",
       "1  3040562711955  9939d3e087bca29c42334d96dccd25ca0e06652a          NaN   \n",
       "2  9587552771961  9939d3e087bca29c42334d96dccd25ca0e06652a    $pageview   \n",
       "3  0652937076129  9939d3e087bca29c42334d96dccd25ca0e06652a     btnClick   \n",
       "4  8207407748558  9939d3e087bca29c42334d96dccd25ca0e06652a     btnClick   \n",
       "5  4967393021929  595466e9a8e733434ce08de16e927d985e0b5d48   demo_leave   \n",
       "\n",
       "  lib.$lib lib.$lib_method lib.$lib_version properties.$browser  \\\n",
       "0       js            code           1.6.20              chrome   \n",
       "1       js            code           1.6.20                 NaN   \n",
       "2       js            code           1.6.20              chrome   \n",
       "3       js            code           1.6.20              chrome   \n",
       "4       js            code           1.6.20              chrome   \n",
       "5       js            code           1.6.20              chrome   \n",
       "\n",
       "  properties.$browser_version properties.$first_browser_language  \\\n",
       "0                          56                                NaN   \n",
       "1                         NaN                              zh-CN   \n",
       "2                          56                                NaN   \n",
       "3                          56                                NaN   \n",
       "4                          56                                NaN   \n",
       "5                          56                                NaN   \n",
       "\n",
       "  properties.$first_referrer        ...        properties.ch properties.name  \\\n",
       "0                        NaN        ...                  NaN             NaN   \n",
       "1                                   ...                 demo             NaN   \n",
       "2                        NaN        ...                 demo             NaN   \n",
       "3                        NaN        ...                  NaN         request   \n",
       "4                        NaN        ...                  NaN         request   \n",
       "5                        NaN        ...                  NaN             NaN   \n",
       "\n",
       "  properties.page properties.pagePosition properties.pageStayTime  \\\n",
       "0             NaN                     2.0                   5.692   \n",
       "1             NaN                     NaN                     NaN   \n",
       "2             NaN                     NaN                     NaN   \n",
       "3           index                     NaN                     NaN   \n",
       "4           index                     NaN                     NaN   \n",
       "5             NaN                     1.0                  21.291   \n",
       "\n",
       "                     properties.pageUrl properties.requestBtn  \\\n",
       "0       https://sensorsdata.cn/?ch=demo                   NaN   \n",
       "1                                   NaN                   NaN   \n",
       "2                                   NaN                   NaN   \n",
       "3       https://sensorsdata.cn/?ch=demo                     2   \n",
       "4       https://sensorsdata.cn/?ch=demo                     2   \n",
       "5  https://www.sensorsdata.cn/demo.html                   NaN   \n",
       "\n",
       "                         properties.session_page_url           time  \\\n",
       "0  https://www.sensorsdata.cn/?utm_source=baidu&u...  1488791047953   \n",
       "1                                                NaN  1490958296645   \n",
       "2                    https://sensorsdata.cn/?ch=demo  1488791050856   \n",
       "3                    https://sensorsdata.cn/?ch=demo  1488791051772   \n",
       "4                    https://sensorsdata.cn/?ch=demo  1488791056032   \n",
       "5  https://www.sensorsdata.cn/?utm_source=baidu&u...  1488791057880   \n",
       "\n",
       "               type  \n",
       "0             track  \n",
       "1  profile_set_once  \n",
       "2             track  \n",
       "3             track  \n",
       "4             track  \n",
       "5             track  \n",
       "\n",
       "[6 rows x 47 columns]"
      ]
     },
     "execution_count": 89,
     "metadata": {},
     "output_type": "execute_result"
    }
   ],
   "source": [
    "json_normalize(df)"
   ]
  },
  {
   "cell_type": "code",
   "execution_count": 90,
   "metadata": {},
   "outputs": [
    {
     "name": "stderr",
     "output_type": "stream",
     "text": [
      "C:\\Users\\Kangmin\\Anaconda3\\lib\\site-packages\\IPython\\core\\interactiveshell.py:2785: DtypeWarning: Columns (3,41,43,67) have mixed types. Specify dtype option on import or set low_memory=False.\n",
      "  interactivity=interactivity, compiler=compiler, result=result)\n"
     ]
    }
   ],
   "source": [
    "import pandas as pd\n",
    "\n",
    "df_sensors = pd.read_csv('../data/sensors.csv')"
   ]
  },
  {
   "cell_type": "code",
   "execution_count": 91,
   "metadata": {},
   "outputs": [
    {
     "name": "stdout",
     "output_type": "stream",
     "text": [
      "0 th event\n",
      "1 th event\n",
      "2 th event\n",
      "3 th event\n",
      "4 th event\n",
      "5 th event\n",
      "6 th event\n",
      "7 th event\n",
      "8 th event\n",
      "9 th event\n",
      "10 th event\n",
      "11 th event\n",
      "12 th event\n",
      "13 th event\n",
      "14 th event\n",
      "15 th event\n",
      "16 th event\n",
      "17 th event\n",
      "18 th event\n",
      "19 th event\n",
      "20 th event\n",
      "21 th event\n",
      "22 th event\n",
      "23 th event\n",
      "24 th event\n",
      "25 th event\n",
      "26 th event\n",
      "27 th event\n",
      "28 th event\n",
      "29 th event\n",
      "30 th event\n",
      "31 th event\n",
      "32 th event\n",
      "33 th event\n",
      "34 th event\n",
      "35 th event\n",
      "36 th event\n",
      "37 th event\n",
      "38 th event\n",
      "39 th event\n",
      "40 th event\n",
      "41 th event\n",
      "42 th event\n",
      "43 th event\n",
      "44 th event\n",
      "45 th event\n",
      "46 th event\n",
      "47 th event\n",
      "48 th event\n",
      "49 th event\n",
      "50 th event\n",
      "51 th event\n",
      "52 th event\n",
      "53 th event\n",
      "54 th event\n",
      "55 th event\n",
      "56 th event\n",
      "57 th event\n",
      "58 th event\n",
      "59 th event\n",
      "60 th event\n",
      "61 th event\n",
      "62 th event\n",
      "63 th event\n",
      "64 th event\n",
      "65 th event\n",
      "66 th event\n",
      "67 th event\n",
      "68 th event\n",
      "69 th event\n",
      "70 th event\n",
      "71 th event\n",
      "72 th event\n",
      "73 th event\n",
      "74 th event\n",
      "75 th event\n",
      "76 th event\n",
      "77 th event\n",
      "78 th event\n",
      "79 th event\n",
      "80 th event\n",
      "81 th event\n",
      "82 th event\n",
      "83 th event\n",
      "84 th event\n",
      "85 th event\n",
      "86 th event\n",
      "87 th event\n",
      "88 th event\n",
      "89 th event\n",
      "90 th event\n",
      "91 th event\n",
      "92 th event\n",
      "93 th event\n",
      "94 th event\n",
      "95 th event\n",
      "96 th event\n",
      "97 th event\n",
      "98 th event\n",
      "99 th event\n",
      "100 th event\n",
      "101 th event\n",
      "102 th event\n",
      "103 th event\n",
      "104 th event\n",
      "105 th event\n",
      "106 th event\n",
      "107 th event\n",
      "108 th event\n",
      "109 th event\n",
      "110 th event\n",
      "111 th event\n",
      "112 th event\n",
      "113 th event\n",
      "114 th event\n",
      "115 th event\n",
      "116 th event\n",
      "117 th event\n",
      "118 th event\n",
      "119 th event\n",
      "120 th event\n",
      "121 th event\n",
      "122 th event\n",
      "123 th event\n",
      "124 th event\n",
      "125 th event\n",
      "126 th event\n",
      "127 th event\n",
      "128 th event\n",
      "129 th event\n",
      "130 th event\n",
      "131 th event\n",
      "132 th event\n",
      "133 th event\n",
      "134 th event\n",
      "135 th event\n",
      "136 th event\n",
      "137 th event\n",
      "138 th event\n",
      "139 th event\n",
      "140 th event\n",
      "141 th event\n",
      "142 th event\n",
      "143 th event\n",
      "144 th event\n",
      "145 th event\n",
      "146 th event\n",
      "147 th event\n",
      "148 th event\n",
      "149 th event\n",
      "150 th event\n",
      "151 th event\n",
      "152 th event\n",
      "153 th event\n",
      "154 th event\n",
      "155 th event\n",
      "156 th event\n",
      "157 th event\n",
      "158 th event\n",
      "159 th event\n",
      "160 th event\n",
      "161 th event\n",
      "162 th event\n",
      "163 th event\n",
      "164 th event\n",
      "165 th event\n",
      "166 th event\n",
      "167 th event\n",
      "168 th event\n",
      "169 th event\n",
      "170 th event\n",
      "171 th event\n",
      "172 th event\n",
      "173 th event\n",
      "174 th event\n",
      "175 th event\n",
      "176 th event\n",
      "177 th event\n",
      "178 th event\n",
      "179 th event\n",
      "180 th event\n",
      "181 th event\n",
      "182 th event\n",
      "183 th event\n",
      "184 th event\n",
      "185 th event\n",
      "186 th event\n",
      "187 th event\n",
      "188 th event\n",
      "189 th event\n",
      "190 th event\n",
      "191 th event\n",
      "192 th event\n",
      "193 th event\n",
      "194 th event\n",
      "195 th event\n",
      "196 th event\n",
      "197 th event\n",
      "198 th event\n",
      "199 th event\n",
      "200 th event\n",
      "201 th event\n",
      "202 th event\n",
      "203 th event\n",
      "204 th event\n",
      "205 th event\n",
      "206 th event\n",
      "207 th event\n",
      "208 th event\n",
      "209 th event\n",
      "210 th event\n",
      "211 th event\n",
      "212 th event\n",
      "213 th event\n",
      "214 th event\n",
      "215 th event\n",
      "216 th event\n",
      "217 th event\n",
      "218 th event\n",
      "219 th event\n",
      "220 th event\n",
      "221 th event\n",
      "222 th event\n",
      "223 th event\n",
      "224 th event\n",
      "225 th event\n",
      "226 th event\n",
      "227 th event\n",
      "228 th event\n",
      "229 th event\n",
      "230 th event\n",
      "231 th event\n",
      "232 th event\n",
      "233 th event\n",
      "234 th event\n",
      "235 th event\n",
      "236 th event\n",
      "237 th event\n",
      "238 th event\n",
      "239 th event\n",
      "240 th event\n",
      "241 th event\n",
      "242 th event\n",
      "243 th event\n",
      "244 th event\n",
      "245 th event\n",
      "246 th event\n",
      "247 th event\n",
      "248 th event\n",
      "249 th event\n",
      "250 th event\n",
      "251 th event\n",
      "252 th event\n",
      "253 th event\n",
      "254 th event\n",
      "255 th event\n",
      "256 th event\n",
      "257 th event\n",
      "258 th event\n",
      "259 th event\n",
      "260 th event\n",
      "261 th event\n",
      "262 th event\n",
      "263 th event\n",
      "264 th event\n",
      "265 th event\n",
      "266 th event\n",
      "267 th event\n",
      "268 th event\n",
      "269 th event\n",
      "270 th event\n",
      "271 th event\n",
      "272 th event\n",
      "273 th event\n",
      "274 th event\n",
      "275 th event\n",
      "276 th event\n",
      "277 th event\n",
      "278 th event\n",
      "279 th event\n",
      "280 th event\n",
      "281 th event\n",
      "282 th event\n",
      "283 th event\n",
      "284 th event\n",
      "285 th event\n",
      "286 th event\n",
      "287 th event\n",
      "288 th event\n",
      "289 th event\n",
      "290 th event\n",
      "291 th event\n",
      "292 th event\n",
      "293 th event\n",
      "294 th event\n",
      "295 th event\n",
      "296 th event\n",
      "297 th event\n",
      "298 th event\n",
      "299 th event\n",
      "300 th event\n",
      "301 th event\n",
      "302 th event\n",
      "303 th event\n",
      "304 th event\n",
      "305 th event\n",
      "306 th event\n",
      "307 th event\n",
      "308 th event\n",
      "309 th event\n",
      "310 th event\n",
      "311 th event\n",
      "312 th event\n",
      "313 th event\n",
      "314 th event\n",
      "315 th event\n",
      "316 th event\n",
      "317 th event\n",
      "318 th event\n",
      "319 th event\n",
      "320 th event\n",
      "321 th event\n",
      "322 th event\n",
      "323 th event\n",
      "324 th event\n",
      "325 th event\n",
      "326 th event\n",
      "327 th event\n",
      "328 th event\n",
      "329 th event\n",
      "330 th event\n",
      "331 th event\n",
      "332 th event\n",
      "333 th event\n",
      "334 th event\n",
      "335 th event\n",
      "336 th event\n",
      "337 th event\n",
      "338 th event\n",
      "339 th event\n",
      "340 th event\n",
      "341 th event\n",
      "342 th event\n",
      "343 th event\n",
      "344 th event\n",
      "345 th event\n",
      "346 th event\n",
      "347 th event\n",
      "348 th event\n",
      "349 th event\n",
      "350 th event\n",
      "351 th event\n",
      "352 th event\n",
      "353 th event\n",
      "354 th event\n",
      "355 th event\n",
      "356 th event\n",
      "357 th event\n",
      "358 th event\n",
      "359 th event\n",
      "360 th event\n",
      "361 th event\n",
      "362 th event\n",
      "363 th event\n",
      "364 th event\n",
      "365 th event\n",
      "366 th event\n",
      "367 th event\n",
      "368 th event\n",
      "369 th event\n",
      "370 th event\n",
      "371 th event\n",
      "372 th event\n",
      "373 th event\n",
      "374 th event\n",
      "375 th event\n",
      "376 th event\n",
      "377 th event\n",
      "378 th event\n",
      "379 th event\n",
      "380 th event\n",
      "381 th event\n",
      "382 th event\n",
      "383 th event\n",
      "384 th event\n",
      "385 th event\n",
      "386 th event\n",
      "387 th event\n",
      "388 th event\n",
      "389 th event\n",
      "390 th event\n",
      "391 th event\n",
      "392 th event\n",
      "393 th event\n",
      "394 th event\n",
      "395 th event\n",
      "396 th event\n",
      "397 th event\n",
      "398 th event\n",
      "399 th event\n",
      "400 th event\n",
      "401 th event\n",
      "402 th event\n",
      "403 th event\n",
      "404 th event\n",
      "405 th event\n",
      "406 th event\n",
      "407 th event\n",
      "408 th event\n",
      "409 th event\n",
      "410 th event\n",
      "411 th event\n",
      "412 th event\n",
      "413 th event\n",
      "414 th event\n",
      "415 th event\n",
      "416 th event\n",
      "417 th event\n",
      "418 th event\n",
      "419 th event\n",
      "420 th event\n",
      "421 th event\n",
      "422 th event\n",
      "423 th event\n",
      "424 th event\n",
      "425 th event\n",
      "426 th event\n",
      "427 th event\n",
      "428 th event\n",
      "429 th event\n",
      "430 th event\n",
      "431 th event\n",
      "432 th event\n",
      "433 th event\n",
      "434 th event\n",
      "435 th event\n",
      "436 th event\n",
      "437 th event\n",
      "438 th event\n",
      "439 th event\n",
      "440 th event\n",
      "441 th event\n",
      "442 th event\n",
      "443 th event\n",
      "444 th event\n",
      "445 th event\n",
      "446 th event\n",
      "447 th event\n",
      "448 th event\n",
      "449 th event\n",
      "450 th event\n",
      "451 th event\n",
      "452 th event\n",
      "453 th event\n",
      "454 th event\n",
      "455 th event\n",
      "456 th event\n",
      "457 th event\n",
      "458 th event\n",
      "459 th event\n",
      "460 th event\n",
      "461 th event\n",
      "462 th event\n",
      "463 th event\n",
      "464 th event\n",
      "465 th event\n",
      "466 th event\n",
      "467 th event\n",
      "468 th event\n",
      "469 th event\n",
      "470 th event\n",
      "471 th event\n",
      "472 th event\n",
      "473 th event\n",
      "474 th event\n",
      "475 th event\n",
      "476 th event\n",
      "477 th event\n",
      "478 th event\n",
      "479 th event\n",
      "480 th event\n",
      "481 th event\n",
      "482 th event\n",
      "483 th event\n",
      "484 th event\n",
      "485 th event\n",
      "486 th event\n",
      "487 th event\n",
      "488 th event\n",
      "489 th event\n",
      "490 th event\n",
      "491 th event\n",
      "492 th event\n",
      "493 th event\n",
      "494 th event\n",
      "495 th event\n",
      "496 th event\n",
      "497 th event\n",
      "498 th event\n",
      "499 th event\n",
      "500 th event\n",
      "501 th event\n",
      "502 th event\n",
      "503 th event\n",
      "504 th event\n",
      "505 th event\n",
      "506 th event\n",
      "507 th event\n",
      "508 th event\n",
      "509 th event\n",
      "510 th event\n",
      "511 th event\n",
      "512 th event\n"
     ]
    },
    {
     "data": {
      "text/plain": [
       "70"
      ]
     },
     "execution_count": 91,
     "metadata": {},
     "output_type": "execute_result"
    }
   ],
   "source": [
    "j = 0\n",
    "for i in range(len(df_sensors)):\n",
    "    for item in df_sensors.columns:\n",
    "        if df_sensors[item][i] == \"clickSubmit\":\n",
    "            print(\"%d th %s\" % (j, item))\n",
    "            j += 1\n",
    "        \n",
    "len(df_sensors.columns)"
   ]
  },
  {
   "cell_type": "code",
   "execution_count": 92,
   "metadata": {},
   "outputs": [
    {
     "data": {
      "text/plain": [
       "75034"
      ]
     },
     "execution_count": 92,
     "metadata": {},
     "output_type": "execute_result"
    }
   ],
   "source": [
    "df_sensors[\"jssdk_error\"].isnull().sum()"
   ]
  },
  {
   "cell_type": "code",
   "execution_count": 93,
   "metadata": {},
   "outputs": [
    {
     "data": {
      "text/plain": [
       "0.8745671975709796"
      ]
     },
     "execution_count": 93,
     "metadata": {},
     "output_type": "execute_result"
    }
   ],
   "source": [
    "df_sensors[\"event\"].count() / float(len(df_sensors))"
   ]
  },
  {
   "cell_type": "code",
   "execution_count": 94,
   "metadata": {},
   "outputs": [
    {
     "data": {
      "text/plain": [
       "0.1254328024290204"
      ]
     },
     "execution_count": 94,
     "metadata": {},
     "output_type": "execute_result"
    }
   ],
   "source": [
    "df_sensors[\"event\"].isnull().sum() / float(len(df_sensors))"
   ]
  },
  {
   "cell_type": "code",
   "execution_count": 95,
   "metadata": {},
   "outputs": [
    {
     "data": {
      "text/plain": [
       "0.8745671975709796"
      ]
     },
     "execution_count": 95,
     "metadata": {},
     "output_type": "execute_result"
    }
   ],
   "source": [
    "df_sensors[\"event\"].notnull().sum() / float(len(df_sensors))"
   ]
  },
  {
   "cell_type": "code",
   "execution_count": 96,
   "metadata": {},
   "outputs": [
    {
     "name": "stdout",
     "output_type": "stream",
     "text": [
      "<class 'int'>\n"
     ]
    }
   ],
   "source": [
    "ff = df_sensors[\"time\"][1]\n",
    "int(ff)\n",
    "print(type(int(ff)))"
   ]
  },
  {
   "cell_type": "code",
   "execution_count": 97,
   "metadata": {},
   "outputs": [
    {
     "data": {
      "text/plain": [
       "1490958296645"
      ]
     },
     "execution_count": 97,
     "metadata": {},
     "output_type": "execute_result"
    }
   ],
   "source": [
    "df_sensors[\"time\"][1]"
   ]
  },
  {
   "cell_type": "code",
   "execution_count": null,
   "metadata": {},
   "outputs": [],
   "source": []
  },
  {
   "cell_type": "code",
   "execution_count": 98,
   "metadata": {},
   "outputs": [
    {
     "name": "stdout",
     "output_type": "stream",
     "text": [
      "2010-09-10 06:51:25\n"
     ]
    }
   ],
   "source": [
    "from datetime import datetime\n",
    "ts = int(\"1284101485\")\n",
    "\n",
    "# if you encounter a \"year is out of range\" error the timestamp\n",
    "# may be in milliseconds, try `ts /= 1000` in that case\n",
    "print(datetime.utcfromtimestamp(ts).strftime('%Y-%m-%d %H:%M:%S'))"
   ]
  },
  {
   "cell_type": "code",
   "execution_count": 99,
   "metadata": {},
   "outputs": [
    {
     "name": "stdout",
     "output_type": "stream",
     "text": [
      "2017-03-31 11:04:56\n"
     ]
    }
   ],
   "source": [
    "from datetime import datetime\n",
    "ts = int(df_sensors[\"time\"][1])\n",
    "ts /= 1000\n",
    "# if you encounter a \"year is out of range\" error the timestamp\n",
    "# may be in milliseconds, try `ts /= 1000` in that case\n",
    "print(datetime.utcfromtimestamp(ts).strftime('%Y-%m-%d %H:%M:%S'))"
   ]
  },
  {
   "cell_type": "code",
   "execution_count": 100,
   "metadata": {},
   "outputs": [
    {
     "data": {
      "text/plain": [
       "58"
      ]
     },
     "execution_count": 100,
     "metadata": {},
     "output_type": "execute_result"
    }
   ],
   "source": [
    "df_sensors[\"jssdk_error\"].count()"
   ]
  },
  {
   "cell_type": "code",
   "execution_count": 101,
   "metadata": {},
   "outputs": [
    {
     "data": {
      "text/plain": [
       "pandas.core.series.Series"
      ]
     },
     "execution_count": 101,
     "metadata": {},
     "output_type": "execute_result"
    }
   ],
   "source": [
    "type(df_sensors[\"jssdk_error\"])"
   ]
  },
  {
   "cell_type": "code",
   "execution_count": 103,
   "metadata": {},
   "outputs": [],
   "source": [
    "# convert the Unix time to the recongnizable time format\n",
    "\n",
    "from datetime import datetime\n",
    "\n",
    "time_formatted = []\n",
    "\n",
    "for i in range(len(df_sensors)): # len(df_sensor)\n",
    "    ds = df_sensors[\"time\"][1]\n",
    "    ds /= 1000\n",
    "    ds_new = datetime.utcfromtimestamp(ts).strftime('%Y-%m-%d %H:%M:%S')\n",
    "    time_formatted.append(ds_new)"
   ]
  },
  {
   "cell_type": "code",
   "execution_count": 104,
   "metadata": {},
   "outputs": [
    {
     "data": {
      "text/plain": [
       "75092"
      ]
     },
     "execution_count": 104,
     "metadata": {},
     "output_type": "execute_result"
    }
   ],
   "source": [
    "len(time_formatted)"
   ]
  },
  {
   "cell_type": "code",
   "execution_count": 105,
   "metadata": {},
   "outputs": [],
   "source": [
    "ds_test = df_sensors"
   ]
  },
  {
   "cell_type": "code",
   "execution_count": 106,
   "metadata": {},
   "outputs": [],
   "source": [
    "ds_test[\"time_formatted\"] = pd.Series(time_formatted)"
   ]
  },
  {
   "cell_type": "code",
   "execution_count": 107,
   "metadata": {},
   "outputs": [
    {
     "data": {
      "text/html": [
       "<div>\n",
       "<style scoped>\n",
       "    .dataframe tbody tr th:only-of-type {\n",
       "        vertical-align: middle;\n",
       "    }\n",
       "\n",
       "    .dataframe tbody tr th {\n",
       "        vertical-align: top;\n",
       "    }\n",
       "\n",
       "    .dataframe thead th {\n",
       "        text-align: right;\n",
       "    }\n",
       "</style>\n",
       "<table border=\"1\" class=\"dataframe\">\n",
       "  <thead>\n",
       "    <tr style=\"text-align: right;\">\n",
       "      <th></th>\n",
       "      <th>_nocache</th>\n",
       "      <th>distinct_id</th>\n",
       "      <th>event</th>\n",
       "      <th>jssdk_error</th>\n",
       "      <th>lib.$lib</th>\n",
       "      <th>lib.$lib_method</th>\n",
       "      <th>lib.$lib_version</th>\n",
       "      <th>properties.$browser</th>\n",
       "      <th>properties.$browser_version</th>\n",
       "      <th>properties.$first_browser_language</th>\n",
       "      <th>...</th>\n",
       "      <th>properties.requestBtn</th>\n",
       "      <th>properties.result</th>\n",
       "      <th>properties.session_page_url</th>\n",
       "      <th>properties.siteUrl</th>\n",
       "      <th>properties.site_url</th>\n",
       "      <th>properties.url_path</th>\n",
       "      <th>properties.verification_code</th>\n",
       "      <th>time</th>\n",
       "      <th>type</th>\n",
       "      <th>time_formatted</th>\n",
       "    </tr>\n",
       "  </thead>\n",
       "  <tbody>\n",
       "    <tr>\n",
       "      <th>0</th>\n",
       "      <td>654392402996</td>\n",
       "      <td>595466e9a8e733434ce08de16e927d985e0b5d48</td>\n",
       "      <td>index_leave</td>\n",
       "      <td>NaN</td>\n",
       "      <td>js</td>\n",
       "      <td>code</td>\n",
       "      <td>1.6.20</td>\n",
       "      <td>chrome</td>\n",
       "      <td>56.0</td>\n",
       "      <td>NaN</td>\n",
       "      <td>...</td>\n",
       "      <td>NaN</td>\n",
       "      <td>NaN</td>\n",
       "      <td>https://www.sensorsdata.cn/?utm_source=baidu&amp;u...</td>\n",
       "      <td>NaN</td>\n",
       "      <td>NaN</td>\n",
       "      <td>NaN</td>\n",
       "      <td>NaN</td>\n",
       "      <td>1488791047953</td>\n",
       "      <td>track</td>\n",
       "      <td>2017-03-31 11:04:56</td>\n",
       "    </tr>\n",
       "    <tr>\n",
       "      <th>1</th>\n",
       "      <td>3040562711955</td>\n",
       "      <td>9939d3e087bca29c42334d96dccd25ca0e06652a</td>\n",
       "      <td>NaN</td>\n",
       "      <td>NaN</td>\n",
       "      <td>js</td>\n",
       "      <td>code</td>\n",
       "      <td>1.6.20</td>\n",
       "      <td>NaN</td>\n",
       "      <td>NaN</td>\n",
       "      <td>zh-CN</td>\n",
       "      <td>...</td>\n",
       "      <td>NaN</td>\n",
       "      <td>NaN</td>\n",
       "      <td>NaN</td>\n",
       "      <td>NaN</td>\n",
       "      <td>NaN</td>\n",
       "      <td>NaN</td>\n",
       "      <td>NaN</td>\n",
       "      <td>1490958296645</td>\n",
       "      <td>profile_set_once</td>\n",
       "      <td>2017-03-31 11:04:56</td>\n",
       "    </tr>\n",
       "    <tr>\n",
       "      <th>2</th>\n",
       "      <td>9587552771961</td>\n",
       "      <td>9939d3e087bca29c42334d96dccd25ca0e06652a</td>\n",
       "      <td>$pageview</td>\n",
       "      <td>NaN</td>\n",
       "      <td>js</td>\n",
       "      <td>code</td>\n",
       "      <td>1.6.20</td>\n",
       "      <td>chrome</td>\n",
       "      <td>56.0</td>\n",
       "      <td>NaN</td>\n",
       "      <td>...</td>\n",
       "      <td>NaN</td>\n",
       "      <td>NaN</td>\n",
       "      <td>https://sensorsdata.cn/?ch=demo</td>\n",
       "      <td>NaN</td>\n",
       "      <td>NaN</td>\n",
       "      <td>NaN</td>\n",
       "      <td>NaN</td>\n",
       "      <td>1488791050856</td>\n",
       "      <td>track</td>\n",
       "      <td>2017-03-31 11:04:56</td>\n",
       "    </tr>\n",
       "    <tr>\n",
       "      <th>3</th>\n",
       "      <td>652937076129</td>\n",
       "      <td>9939d3e087bca29c42334d96dccd25ca0e06652a</td>\n",
       "      <td>btnClick</td>\n",
       "      <td>NaN</td>\n",
       "      <td>js</td>\n",
       "      <td>code</td>\n",
       "      <td>1.6.20</td>\n",
       "      <td>chrome</td>\n",
       "      <td>56.0</td>\n",
       "      <td>NaN</td>\n",
       "      <td>...</td>\n",
       "      <td>2.0</td>\n",
       "      <td>NaN</td>\n",
       "      <td>https://sensorsdata.cn/?ch=demo</td>\n",
       "      <td>NaN</td>\n",
       "      <td>NaN</td>\n",
       "      <td>NaN</td>\n",
       "      <td>NaN</td>\n",
       "      <td>1488791051772</td>\n",
       "      <td>track</td>\n",
       "      <td>2017-03-31 11:04:56</td>\n",
       "    </tr>\n",
       "    <tr>\n",
       "      <th>4</th>\n",
       "      <td>8207407748558</td>\n",
       "      <td>9939d3e087bca29c42334d96dccd25ca0e06652a</td>\n",
       "      <td>btnClick</td>\n",
       "      <td>NaN</td>\n",
       "      <td>js</td>\n",
       "      <td>code</td>\n",
       "      <td>1.6.20</td>\n",
       "      <td>chrome</td>\n",
       "      <td>56.0</td>\n",
       "      <td>NaN</td>\n",
       "      <td>...</td>\n",
       "      <td>2.0</td>\n",
       "      <td>NaN</td>\n",
       "      <td>https://sensorsdata.cn/?ch=demo</td>\n",
       "      <td>NaN</td>\n",
       "      <td>NaN</td>\n",
       "      <td>NaN</td>\n",
       "      <td>NaN</td>\n",
       "      <td>1488791056032</td>\n",
       "      <td>track</td>\n",
       "      <td>2017-03-31 11:04:56</td>\n",
       "    </tr>\n",
       "  </tbody>\n",
       "</table>\n",
       "<p>5 rows × 71 columns</p>\n",
       "</div>"
      ],
      "text/plain": [
       "        _nocache                               distinct_id        event  \\\n",
       "0   654392402996  595466e9a8e733434ce08de16e927d985e0b5d48  index_leave   \n",
       "1  3040562711955  9939d3e087bca29c42334d96dccd25ca0e06652a          NaN   \n",
       "2  9587552771961  9939d3e087bca29c42334d96dccd25ca0e06652a    $pageview   \n",
       "3   652937076129  9939d3e087bca29c42334d96dccd25ca0e06652a     btnClick   \n",
       "4  8207407748558  9939d3e087bca29c42334d96dccd25ca0e06652a     btnClick   \n",
       "\n",
       "  jssdk_error lib.$lib lib.$lib_method lib.$lib_version properties.$browser  \\\n",
       "0         NaN       js            code           1.6.20              chrome   \n",
       "1         NaN       js            code           1.6.20                 NaN   \n",
       "2         NaN       js            code           1.6.20              chrome   \n",
       "3         NaN       js            code           1.6.20              chrome   \n",
       "4         NaN       js            code           1.6.20              chrome   \n",
       "\n",
       "   properties.$browser_version properties.$first_browser_language  \\\n",
       "0                         56.0                                NaN   \n",
       "1                          NaN                              zh-CN   \n",
       "2                         56.0                                NaN   \n",
       "3                         56.0                                NaN   \n",
       "4                         56.0                                NaN   \n",
       "\n",
       "          ...          properties.requestBtn properties.result  \\\n",
       "0         ...                            NaN               NaN   \n",
       "1         ...                            NaN               NaN   \n",
       "2         ...                            NaN               NaN   \n",
       "3         ...                            2.0               NaN   \n",
       "4         ...                            2.0               NaN   \n",
       "\n",
       "                         properties.session_page_url properties.siteUrl  \\\n",
       "0  https://www.sensorsdata.cn/?utm_source=baidu&u...                NaN   \n",
       "1                                                NaN                NaN   \n",
       "2                    https://sensorsdata.cn/?ch=demo                NaN   \n",
       "3                    https://sensorsdata.cn/?ch=demo                NaN   \n",
       "4                    https://sensorsdata.cn/?ch=demo                NaN   \n",
       "\n",
       "  properties.site_url properties.url_path properties.verification_code  \\\n",
       "0                 NaN                 NaN                          NaN   \n",
       "1                 NaN                 NaN                          NaN   \n",
       "2                 NaN                 NaN                          NaN   \n",
       "3                 NaN                 NaN                          NaN   \n",
       "4                 NaN                 NaN                          NaN   \n",
       "\n",
       "            time              type       time_formatted  \n",
       "0  1488791047953             track  2017-03-31 11:04:56  \n",
       "1  1490958296645  profile_set_once  2017-03-31 11:04:56  \n",
       "2  1488791050856             track  2017-03-31 11:04:56  \n",
       "3  1488791051772             track  2017-03-31 11:04:56  \n",
       "4  1488791056032             track  2017-03-31 11:04:56  \n",
       "\n",
       "[5 rows x 71 columns]"
      ]
     },
     "execution_count": 107,
     "metadata": {},
     "output_type": "execute_result"
    }
   ],
   "source": [
    "ds_test.head()"
   ]
  },
  {
   "cell_type": "code",
   "execution_count": 108,
   "metadata": {},
   "outputs": [
    {
     "name": "stdout",
     "output_type": "stream",
     "text": [
      "<class 'pandas.core.frame.DataFrame'>\n",
      "RangeIndex: 75092 entries, 0 to 75091\n",
      "Data columns (total 71 columns):\n",
      "_nocache                               75092 non-null int64\n",
      "distinct_id                            75092 non-null object\n",
      "event                                  65673 non-null object\n",
      "jssdk_error                            58 non-null object\n",
      "lib.$lib                               75092 non-null object\n",
      "lib.$lib_method                        75092 non-null object\n",
      "lib.$lib_version                       75092 non-null object\n",
      "properties.$browser                    65673 non-null object\n",
      "properties.$browser_version            65673 non-null float64\n",
      "properties.$first_browser_language     9148 non-null object\n",
      "properties.$first_referrer             6732 non-null object\n",
      "properties.$first_referrer_host        6732 non-null object\n",
      "properties.$first_visit_time           9419 non-null object\n",
      "properties.$ip                         65673 non-null object\n",
      "properties.$is_first_day               65673 non-null object\n",
      "properties.$is_first_time              65673 non-null object\n",
      "properties.$latest_referrer            40374 non-null object\n",
      "properties.$latest_referrer_host       40374 non-null object\n",
      "properties.$latest_utm_campaign        39903 non-null object\n",
      "properties.$latest_utm_content         38763 non-null object\n",
      "properties.$latest_utm_medium          39691 non-null object\n",
      "properties.$latest_utm_source          40583 non-null object\n",
      "properties.$latest_utm_term            39095 non-null object\n",
      "properties.$lib                        65673 non-null object\n",
      "properties.$lib_version                65673 non-null object\n",
      "properties.$model                      65673 non-null object\n",
      "properties.$os                         65673 non-null object\n",
      "properties.$os_version                 65673 non-null float64\n",
      "properties.$referrer                   25243 non-null object\n",
      "properties.$referrer_host              25244 non-null object\n",
      "properties.$screen_height              65673 non-null float64\n",
      "properties.$screen_width               65673 non-null float64\n",
      "properties.$title                      32620 non-null object\n",
      "properties.$url                        32598 non-null object\n",
      "properties.$url_path                   32620 non-null object\n",
      "properties.$utm_campaign               13903 non-null object\n",
      "properties.$utm_content                13766 non-null object\n",
      "properties.$utm_medium                 13896 non-null object\n",
      "properties.$utm_source                 14047 non-null object\n",
      "properties.$utm_term                   13801 non-null object\n",
      "properties._latest_ch                  8537 non-null object\n",
      "properties._session_from_url           114 non-null object\n",
      "properties._session_referrer           47012 non-null object\n",
      "properties._session_referrer_domain    36 non-null object\n",
      "properties._session_referrer_host      47011 non-null object\n",
      "properties.ch                          602 non-null object\n",
      "properties.company                     1107 non-null object\n",
      "properties.contact                     1249 non-null object\n",
      "properties.email                       1097 non-null object\n",
      "properties.from_url                    828 non-null object\n",
      "properties.info                        1114 non-null object\n",
      "properties.isMsg                       469 non-null object\n",
      "properties.isSuccess                   791 non-null object\n",
      "properties.name                        15121 non-null object\n",
      "properties.page                        11716 non-null object\n",
      "properties.pagePosition                16490 non-null float64\n",
      "properties.pageStayTime                16720 non-null float64\n",
      "properties.pageUrl                     30356 non-null object\n",
      "properties.project_name                2534 non-null object\n",
      "properties.referrHostUrl               264 non-null object\n",
      "properties.referrerUrl                 264 non-null object\n",
      "properties.requestBtn                  4271 non-null float64\n",
      "properties.result                      1163 non-null object\n",
      "properties.session_page_url            62766 non-null object\n",
      "properties.siteUrl                     469 non-null object\n",
      "properties.site_url                    982 non-null object\n",
      "properties.url_path                    230 non-null object\n",
      "properties.verification_code           1221 non-null object\n",
      "time                                   75092 non-null int64\n",
      "type                                   75092 non-null object\n",
      "time_formatted                         75092 non-null object\n",
      "dtypes: float64(7), int64(2), object(62)\n",
      "memory usage: 40.7+ MB\n"
     ]
    }
   ],
   "source": [
    "ds_test.info()"
   ]
  },
  {
   "cell_type": "code",
   "execution_count": 3,
   "metadata": {},
   "outputs": [],
   "source": [
    "import pandas as pd"
   ]
  },
  {
   "cell_type": "code",
   "execution_count": 4,
   "metadata": {},
   "outputs": [],
   "source": [
    "a =[[1, 2], [3, 4]]\n",
    "b = [[9, 0], [5, 6], [7, 8]]"
   ]
  },
  {
   "cell_type": "code",
   "execution_count": 10,
   "metadata": {},
   "outputs": [],
   "source": [
    "df_a = pd.DataFrame(data=a, index=list('ab'), columns=list('AB'))\n",
    "df_b = pd.DataFrame(data=b, index=list('acd'), columns=list('BC'))"
   ]
  },
  {
   "cell_type": "code",
   "execution_count": 11,
   "metadata": {},
   "outputs": [
    {
     "data": {
      "text/html": [
       "<div>\n",
       "<style scoped>\n",
       "    .dataframe tbody tr th:only-of-type {\n",
       "        vertical-align: middle;\n",
       "    }\n",
       "\n",
       "    .dataframe tbody tr th {\n",
       "        vertical-align: top;\n",
       "    }\n",
       "\n",
       "    .dataframe thead th {\n",
       "        text-align: right;\n",
       "    }\n",
       "</style>\n",
       "<table border=\"1\" class=\"dataframe\">\n",
       "  <thead>\n",
       "    <tr style=\"text-align: right;\">\n",
       "      <th></th>\n",
       "      <th>A</th>\n",
       "      <th>B</th>\n",
       "    </tr>\n",
       "  </thead>\n",
       "  <tbody>\n",
       "    <tr>\n",
       "      <th>a</th>\n",
       "      <td>1</td>\n",
       "      <td>2</td>\n",
       "    </tr>\n",
       "    <tr>\n",
       "      <th>b</th>\n",
       "      <td>3</td>\n",
       "      <td>4</td>\n",
       "    </tr>\n",
       "  </tbody>\n",
       "</table>\n",
       "</div>"
      ],
      "text/plain": [
       "   A  B\n",
       "a  1  2\n",
       "b  3  4"
      ]
     },
     "execution_count": 11,
     "metadata": {},
     "output_type": "execute_result"
    }
   ],
   "source": [
    "df_a"
   ]
  },
  {
   "cell_type": "code",
   "execution_count": 12,
   "metadata": {},
   "outputs": [
    {
     "data": {
      "text/html": [
       "<div>\n",
       "<style scoped>\n",
       "    .dataframe tbody tr th:only-of-type {\n",
       "        vertical-align: middle;\n",
       "    }\n",
       "\n",
       "    .dataframe tbody tr th {\n",
       "        vertical-align: top;\n",
       "    }\n",
       "\n",
       "    .dataframe thead th {\n",
       "        text-align: right;\n",
       "    }\n",
       "</style>\n",
       "<table border=\"1\" class=\"dataframe\">\n",
       "  <thead>\n",
       "    <tr style=\"text-align: right;\">\n",
       "      <th></th>\n",
       "      <th>B</th>\n",
       "      <th>C</th>\n",
       "    </tr>\n",
       "  </thead>\n",
       "  <tbody>\n",
       "    <tr>\n",
       "      <th>a</th>\n",
       "      <td>9</td>\n",
       "      <td>0</td>\n",
       "    </tr>\n",
       "    <tr>\n",
       "      <th>c</th>\n",
       "      <td>5</td>\n",
       "      <td>6</td>\n",
       "    </tr>\n",
       "    <tr>\n",
       "      <th>d</th>\n",
       "      <td>7</td>\n",
       "      <td>8</td>\n",
       "    </tr>\n",
       "  </tbody>\n",
       "</table>\n",
       "</div>"
      ],
      "text/plain": [
       "   B  C\n",
       "a  9  0\n",
       "c  5  6\n",
       "d  7  8"
      ]
     },
     "execution_count": 12,
     "metadata": {},
     "output_type": "execute_result"
    }
   ],
   "source": [
    "df_b"
   ]
  },
  {
   "cell_type": "code",
   "execution_count": 13,
   "metadata": {},
   "outputs": [],
   "source": [
    "df_new = df_a + df_b"
   ]
  },
  {
   "cell_type": "code",
   "execution_count": 14,
   "metadata": {},
   "outputs": [
    {
     "data": {
      "text/html": [
       "<div>\n",
       "<style scoped>\n",
       "    .dataframe tbody tr th:only-of-type {\n",
       "        vertical-align: middle;\n",
       "    }\n",
       "\n",
       "    .dataframe tbody tr th {\n",
       "        vertical-align: top;\n",
       "    }\n",
       "\n",
       "    .dataframe thead th {\n",
       "        text-align: right;\n",
       "    }\n",
       "</style>\n",
       "<table border=\"1\" class=\"dataframe\">\n",
       "  <thead>\n",
       "    <tr style=\"text-align: right;\">\n",
       "      <th></th>\n",
       "      <th>A</th>\n",
       "      <th>B</th>\n",
       "      <th>C</th>\n",
       "    </tr>\n",
       "  </thead>\n",
       "  <tbody>\n",
       "    <tr>\n",
       "      <th>a</th>\n",
       "      <td>NaN</td>\n",
       "      <td>11.0</td>\n",
       "      <td>NaN</td>\n",
       "    </tr>\n",
       "    <tr>\n",
       "      <th>b</th>\n",
       "      <td>NaN</td>\n",
       "      <td>NaN</td>\n",
       "      <td>NaN</td>\n",
       "    </tr>\n",
       "    <tr>\n",
       "      <th>c</th>\n",
       "      <td>NaN</td>\n",
       "      <td>NaN</td>\n",
       "      <td>NaN</td>\n",
       "    </tr>\n",
       "    <tr>\n",
       "      <th>d</th>\n",
       "      <td>NaN</td>\n",
       "      <td>NaN</td>\n",
       "      <td>NaN</td>\n",
       "    </tr>\n",
       "  </tbody>\n",
       "</table>\n",
       "</div>"
      ],
      "text/plain": [
       "    A     B   C\n",
       "a NaN  11.0 NaN\n",
       "b NaN   NaN NaN\n",
       "c NaN   NaN NaN\n",
       "d NaN   NaN NaN"
      ]
     },
     "execution_count": 14,
     "metadata": {},
     "output_type": "execute_result"
    }
   ],
   "source": [
    "df_new"
   ]
  },
  {
   "cell_type": "code",
   "execution_count": 41,
   "metadata": {},
   "outputs": [
    {
     "data": {
      "text/plain": [
       "Index(['A', 'B'], dtype='object')"
      ]
     },
     "execution_count": 41,
     "metadata": {},
     "output_type": "execute_result"
    }
   ],
   "source": [
    "df_a.columns"
   ]
  },
  {
   "cell_type": "code",
   "execution_count": 42,
   "metadata": {},
   "outputs": [
    {
     "name": "stdout",
     "output_type": "stream",
     "text": [
      "A\n",
      "B\n"
     ]
    }
   ],
   "source": [
    "for a_col in df_a.columns:\n",
    "    print(a_col)"
   ]
  },
  {
   "cell_type": "code",
   "execution_count": 53,
   "metadata": {},
   "outputs": [
    {
     "data": {
      "text/plain": [
       "(2, 2)"
      ]
     },
     "execution_count": 53,
     "metadata": {},
     "output_type": "execute_result"
    }
   ],
   "source": [
    "df_a.shape"
   ]
  },
  {
   "cell_type": "code",
   "execution_count": 56,
   "metadata": {},
   "outputs": [
    {
     "data": {
      "text/plain": [
       "1"
      ]
     },
     "execution_count": 56,
     "metadata": {},
     "output_type": "execute_result"
    }
   ],
   "source": [
    "df_a.at['a','A']"
   ]
  },
  {
   "cell_type": "code",
   "execution_count": 43,
   "metadata": {},
   "outputs": [
    {
     "data": {
      "text/plain": [
       "Index(['a', 'b'], dtype='object')"
      ]
     },
     "execution_count": 43,
     "metadata": {},
     "output_type": "execute_result"
    }
   ],
   "source": [
    "df_a.index"
   ]
  },
  {
   "cell_type": "code",
   "execution_count": 57,
   "metadata": {},
   "outputs": [],
   "source": [
    "for a_index in df_a.index:\n",
    "    for b_index in df_b.index:\n",
    "        for a_col in df_a.columns:\n",
    "            for b_col in df_b.columns:\n",
    "                if a_index == b_index and a_col == b_col:\n",
    "                    df_a.at[a_index, a_col] += df_b.at[b_index, b_col]"
   ]
  },
  {
   "cell_type": "code",
   "execution_count": 58,
   "metadata": {},
   "outputs": [
    {
     "data": {
      "text/html": [
       "<div>\n",
       "<style scoped>\n",
       "    .dataframe tbody tr th:only-of-type {\n",
       "        vertical-align: middle;\n",
       "    }\n",
       "\n",
       "    .dataframe tbody tr th {\n",
       "        vertical-align: top;\n",
       "    }\n",
       "\n",
       "    .dataframe thead th {\n",
       "        text-align: right;\n",
       "    }\n",
       "</style>\n",
       "<table border=\"1\" class=\"dataframe\">\n",
       "  <thead>\n",
       "    <tr style=\"text-align: right;\">\n",
       "      <th></th>\n",
       "      <th>A</th>\n",
       "      <th>B</th>\n",
       "    </tr>\n",
       "  </thead>\n",
       "  <tbody>\n",
       "    <tr>\n",
       "      <th>a</th>\n",
       "      <td>10</td>\n",
       "      <td>2</td>\n",
       "    </tr>\n",
       "    <tr>\n",
       "      <th>b</th>\n",
       "      <td>3</td>\n",
       "      <td>4</td>\n",
       "    </tr>\n",
       "  </tbody>\n",
       "</table>\n",
       "</div>"
      ],
      "text/plain": [
       "    A  B\n",
       "a  10  2\n",
       "b   3  4"
      ]
     },
     "execution_count": 58,
     "metadata": {},
     "output_type": "execute_result"
    }
   ],
   "source": [
    "df_a"
   ]
  },
  {
   "cell_type": "code",
   "execution_count": 65,
   "metadata": {},
   "outputs": [
    {
     "name": "stdout",
     "output_type": "stream",
     "text": [
      "df_a: \n",
      "   A  B\n",
      "a  1  2\n",
      "b  3  4 \n",
      "\n",
      "df_b: \n",
      "   A  C\n",
      "a  9  0\n",
      "c  5  6\n",
      "d  7  8 \n",
      "\n",
      "new df_a: \n",
      "    A  B\n",
      "a  10  2\n",
      "b   3  4 \n",
      "\n"
     ]
    }
   ],
   "source": [
    "import pandas as pd\n",
    "a =[[1, 2], [3, 4]]\n",
    "b = [[9, 0], [5, 6], [7, 8]]\n",
    "df_a = pd.DataFrame(data=a, index=list('ab'), columns=list('AB'))\n",
    "df_b = pd.DataFrame(data=b, index=list('acd'), columns=list('AC'))\n",
    "print(\"df_a: \")\n",
    "print(df_a, \"\\n\")\n",
    "print(\"df_b: \")\n",
    "print(df_b, \"\\n\")\n",
    "\n",
    "for a_index in df_a.index:\n",
    "    for b_index in df_b.index:\n",
    "        for a_col in df_a.columns:\n",
    "            for b_col in df_b.columns:\n",
    "                if a_index == b_index and a_col == b_col:\n",
    "                    df_a.at[a_index, a_col] += df_b.at[b_index, b_col]\n",
    "print(\"new df_a: \")\n",
    "print(df_a, \"\\n\")"
   ]
  },
  {
   "cell_type": "code",
   "execution_count": 66,
   "metadata": {},
   "outputs": [
    {
     "data": {
      "text/html": [
       "<div>\n",
       "<style scoped>\n",
       "    .dataframe tbody tr th:only-of-type {\n",
       "        vertical-align: middle;\n",
       "    }\n",
       "\n",
       "    .dataframe tbody tr th {\n",
       "        vertical-align: top;\n",
       "    }\n",
       "\n",
       "    .dataframe thead th {\n",
       "        text-align: right;\n",
       "    }\n",
       "</style>\n",
       "<table border=\"1\" class=\"dataframe\">\n",
       "  <thead>\n",
       "    <tr style=\"text-align: right;\">\n",
       "      <th></th>\n",
       "      <th>A</th>\n",
       "      <th>B</th>\n",
       "    </tr>\n",
       "  </thead>\n",
       "  <tbody>\n",
       "    <tr>\n",
       "      <th>a</th>\n",
       "      <td>10</td>\n",
       "      <td>2</td>\n",
       "    </tr>\n",
       "    <tr>\n",
       "      <th>b</th>\n",
       "      <td>3</td>\n",
       "      <td>4</td>\n",
       "    </tr>\n",
       "  </tbody>\n",
       "</table>\n",
       "</div>"
      ],
      "text/plain": [
       "    A  B\n",
       "a  10  2\n",
       "b   3  4"
      ]
     },
     "execution_count": 66,
     "metadata": {},
     "output_type": "execute_result"
    }
   ],
   "source": [
    "df_a"
   ]
  },
  {
   "cell_type": "code",
   "execution_count": 67,
   "metadata": {},
   "outputs": [
    {
     "data": {
      "text/html": [
       "<div>\n",
       "<style scoped>\n",
       "    .dataframe tbody tr th:only-of-type {\n",
       "        vertical-align: middle;\n",
       "    }\n",
       "\n",
       "    .dataframe tbody tr th {\n",
       "        vertical-align: top;\n",
       "    }\n",
       "\n",
       "    .dataframe thead th {\n",
       "        text-align: right;\n",
       "    }\n",
       "</style>\n",
       "<table border=\"1\" class=\"dataframe\">\n",
       "  <thead>\n",
       "    <tr style=\"text-align: right;\">\n",
       "      <th></th>\n",
       "      <th>A</th>\n",
       "      <th>C</th>\n",
       "    </tr>\n",
       "  </thead>\n",
       "  <tbody>\n",
       "    <tr>\n",
       "      <th>a</th>\n",
       "      <td>9</td>\n",
       "      <td>0</td>\n",
       "    </tr>\n",
       "    <tr>\n",
       "      <th>c</th>\n",
       "      <td>5</td>\n",
       "      <td>6</td>\n",
       "    </tr>\n",
       "    <tr>\n",
       "      <th>d</th>\n",
       "      <td>7</td>\n",
       "      <td>8</td>\n",
       "    </tr>\n",
       "  </tbody>\n",
       "</table>\n",
       "</div>"
      ],
      "text/plain": [
       "   A  C\n",
       "a  9  0\n",
       "c  5  6\n",
       "d  7  8"
      ]
     },
     "execution_count": 67,
     "metadata": {},
     "output_type": "execute_result"
    }
   ],
   "source": [
    "df_b"
   ]
  },
  {
   "cell_type": "code",
   "execution_count": 77,
   "metadata": {},
   "outputs": [],
   "source": [
    "df1 = pd.DataFrame({'A': ['1', '1', '1', '1'],\n",
    "   ...:             'B': ['2', '2', '2', '2'],\n",
    "   ...:             'C': ['3', '3', '3', '3'],\n",
    "   ...:             'D': ['4', '4', '4', '4']},\n",
    "   ...:             index=['a', 'b', 'c', 'd'])\n",
    "   ...: "
   ]
  },
  {
   "cell_type": "code",
   "execution_count": 78,
   "metadata": {},
   "outputs": [
    {
     "data": {
      "text/html": [
       "<div>\n",
       "<style scoped>\n",
       "    .dataframe tbody tr th:only-of-type {\n",
       "        vertical-align: middle;\n",
       "    }\n",
       "\n",
       "    .dataframe tbody tr th {\n",
       "        vertical-align: top;\n",
       "    }\n",
       "\n",
       "    .dataframe thead th {\n",
       "        text-align: right;\n",
       "    }\n",
       "</style>\n",
       "<table border=\"1\" class=\"dataframe\">\n",
       "  <thead>\n",
       "    <tr style=\"text-align: right;\">\n",
       "      <th></th>\n",
       "      <th>A</th>\n",
       "      <th>B</th>\n",
       "      <th>C</th>\n",
       "      <th>D</th>\n",
       "    </tr>\n",
       "  </thead>\n",
       "  <tbody>\n",
       "    <tr>\n",
       "      <th>a</th>\n",
       "      <td>1</td>\n",
       "      <td>2</td>\n",
       "      <td>3</td>\n",
       "      <td>4</td>\n",
       "    </tr>\n",
       "    <tr>\n",
       "      <th>b</th>\n",
       "      <td>1</td>\n",
       "      <td>2</td>\n",
       "      <td>3</td>\n",
       "      <td>4</td>\n",
       "    </tr>\n",
       "    <tr>\n",
       "      <th>c</th>\n",
       "      <td>1</td>\n",
       "      <td>2</td>\n",
       "      <td>3</td>\n",
       "      <td>4</td>\n",
       "    </tr>\n",
       "    <tr>\n",
       "      <th>d</th>\n",
       "      <td>1</td>\n",
       "      <td>2</td>\n",
       "      <td>3</td>\n",
       "      <td>4</td>\n",
       "    </tr>\n",
       "  </tbody>\n",
       "</table>\n",
       "</div>"
      ],
      "text/plain": [
       "   A  B  C  D\n",
       "a  1  2  3  4\n",
       "b  1  2  3  4\n",
       "c  1  2  3  4\n",
       "d  1  2  3  4"
      ]
     },
     "execution_count": 78,
     "metadata": {},
     "output_type": "execute_result"
    }
   ],
   "source": [
    "df1"
   ]
  },
  {
   "cell_type": "code",
   "execution_count": 80,
   "metadata": {},
   "outputs": [],
   "source": [
    "df2 = pd.DataFrame({'A': ['5', '5', '5', '5'],\n",
    "   ...:             'E': ['6', '6', '6', '6'],\n",
    "   ...:             'F': ['7', '7', '7', '7'],\n",
    "   ...:             'G': ['8', '8', '8', '8']},\n",
    "   ...:             index=['a', 'e', 'f', 'g'])\n",
    "   ...: \n"
   ]
  },
  {
   "cell_type": "code",
   "execution_count": 81,
   "metadata": {},
   "outputs": [
    {
     "data": {
      "text/html": [
       "<div>\n",
       "<style scoped>\n",
       "    .dataframe tbody tr th:only-of-type {\n",
       "        vertical-align: middle;\n",
       "    }\n",
       "\n",
       "    .dataframe tbody tr th {\n",
       "        vertical-align: top;\n",
       "    }\n",
       "\n",
       "    .dataframe thead th {\n",
       "        text-align: right;\n",
       "    }\n",
       "</style>\n",
       "<table border=\"1\" class=\"dataframe\">\n",
       "  <thead>\n",
       "    <tr style=\"text-align: right;\">\n",
       "      <th></th>\n",
       "      <th>A</th>\n",
       "      <th>E</th>\n",
       "      <th>F</th>\n",
       "      <th>G</th>\n",
       "    </tr>\n",
       "  </thead>\n",
       "  <tbody>\n",
       "    <tr>\n",
       "      <th>a</th>\n",
       "      <td>5</td>\n",
       "      <td>6</td>\n",
       "      <td>7</td>\n",
       "      <td>8</td>\n",
       "    </tr>\n",
       "    <tr>\n",
       "      <th>e</th>\n",
       "      <td>5</td>\n",
       "      <td>6</td>\n",
       "      <td>7</td>\n",
       "      <td>8</td>\n",
       "    </tr>\n",
       "    <tr>\n",
       "      <th>f</th>\n",
       "      <td>5</td>\n",
       "      <td>6</td>\n",
       "      <td>7</td>\n",
       "      <td>8</td>\n",
       "    </tr>\n",
       "    <tr>\n",
       "      <th>g</th>\n",
       "      <td>5</td>\n",
       "      <td>6</td>\n",
       "      <td>7</td>\n",
       "      <td>8</td>\n",
       "    </tr>\n",
       "  </tbody>\n",
       "</table>\n",
       "</div>"
      ],
      "text/plain": [
       "   A  E  F  G\n",
       "a  5  6  7  8\n",
       "e  5  6  7  8\n",
       "f  5  6  7  8\n",
       "g  5  6  7  8"
      ]
     },
     "execution_count": 81,
     "metadata": {},
     "output_type": "execute_result"
    }
   ],
   "source": [
    "df2"
   ]
  },
  {
   "cell_type": "code",
   "execution_count": 82,
   "metadata": {},
   "outputs": [
    {
     "name": "stderr",
     "output_type": "stream",
     "text": [
      "C:\\Users\\Kangmin\\Anaconda3\\lib\\site-packages\\ipykernel_launcher.py:1: FutureWarning: Sorting because non-concatenation axis is not aligned. A future version\n",
      "of pandas will change to not sort by default.\n",
      "\n",
      "To accept the future behavior, pass 'sort=True'.\n",
      "\n",
      "To retain the current behavior and silence the warning, pass sort=False\n",
      "\n",
      "  \"\"\"Entry point for launching an IPython kernel.\n"
     ]
    }
   ],
   "source": [
    "result = pd.concat([df1,df2])"
   ]
  },
  {
   "cell_type": "code",
   "execution_count": 83,
   "metadata": {},
   "outputs": [
    {
     "data": {
      "text/html": [
       "<div>\n",
       "<style scoped>\n",
       "    .dataframe tbody tr th:only-of-type {\n",
       "        vertical-align: middle;\n",
       "    }\n",
       "\n",
       "    .dataframe tbody tr th {\n",
       "        vertical-align: top;\n",
       "    }\n",
       "\n",
       "    .dataframe thead th {\n",
       "        text-align: right;\n",
       "    }\n",
       "</style>\n",
       "<table border=\"1\" class=\"dataframe\">\n",
       "  <thead>\n",
       "    <tr style=\"text-align: right;\">\n",
       "      <th></th>\n",
       "      <th>A</th>\n",
       "      <th>B</th>\n",
       "      <th>C</th>\n",
       "      <th>D</th>\n",
       "      <th>E</th>\n",
       "      <th>F</th>\n",
       "      <th>G</th>\n",
       "    </tr>\n",
       "  </thead>\n",
       "  <tbody>\n",
       "    <tr>\n",
       "      <th>a</th>\n",
       "      <td>1</td>\n",
       "      <td>2</td>\n",
       "      <td>3</td>\n",
       "      <td>4</td>\n",
       "      <td>NaN</td>\n",
       "      <td>NaN</td>\n",
       "      <td>NaN</td>\n",
       "    </tr>\n",
       "    <tr>\n",
       "      <th>b</th>\n",
       "      <td>1</td>\n",
       "      <td>2</td>\n",
       "      <td>3</td>\n",
       "      <td>4</td>\n",
       "      <td>NaN</td>\n",
       "      <td>NaN</td>\n",
       "      <td>NaN</td>\n",
       "    </tr>\n",
       "    <tr>\n",
       "      <th>c</th>\n",
       "      <td>1</td>\n",
       "      <td>2</td>\n",
       "      <td>3</td>\n",
       "      <td>4</td>\n",
       "      <td>NaN</td>\n",
       "      <td>NaN</td>\n",
       "      <td>NaN</td>\n",
       "    </tr>\n",
       "    <tr>\n",
       "      <th>d</th>\n",
       "      <td>1</td>\n",
       "      <td>2</td>\n",
       "      <td>3</td>\n",
       "      <td>4</td>\n",
       "      <td>NaN</td>\n",
       "      <td>NaN</td>\n",
       "      <td>NaN</td>\n",
       "    </tr>\n",
       "    <tr>\n",
       "      <th>a</th>\n",
       "      <td>5</td>\n",
       "      <td>NaN</td>\n",
       "      <td>NaN</td>\n",
       "      <td>NaN</td>\n",
       "      <td>6</td>\n",
       "      <td>7</td>\n",
       "      <td>8</td>\n",
       "    </tr>\n",
       "    <tr>\n",
       "      <th>e</th>\n",
       "      <td>5</td>\n",
       "      <td>NaN</td>\n",
       "      <td>NaN</td>\n",
       "      <td>NaN</td>\n",
       "      <td>6</td>\n",
       "      <td>7</td>\n",
       "      <td>8</td>\n",
       "    </tr>\n",
       "    <tr>\n",
       "      <th>f</th>\n",
       "      <td>5</td>\n",
       "      <td>NaN</td>\n",
       "      <td>NaN</td>\n",
       "      <td>NaN</td>\n",
       "      <td>6</td>\n",
       "      <td>7</td>\n",
       "      <td>8</td>\n",
       "    </tr>\n",
       "    <tr>\n",
       "      <th>g</th>\n",
       "      <td>5</td>\n",
       "      <td>NaN</td>\n",
       "      <td>NaN</td>\n",
       "      <td>NaN</td>\n",
       "      <td>6</td>\n",
       "      <td>7</td>\n",
       "      <td>8</td>\n",
       "    </tr>\n",
       "  </tbody>\n",
       "</table>\n",
       "</div>"
      ],
      "text/plain": [
       "   A    B    C    D    E    F    G\n",
       "a  1    2    3    4  NaN  NaN  NaN\n",
       "b  1    2    3    4  NaN  NaN  NaN\n",
       "c  1    2    3    4  NaN  NaN  NaN\n",
       "d  1    2    3    4  NaN  NaN  NaN\n",
       "a  5  NaN  NaN  NaN    6    7    8\n",
       "e  5  NaN  NaN  NaN    6    7    8\n",
       "f  5  NaN  NaN  NaN    6    7    8\n",
       "g  5  NaN  NaN  NaN    6    7    8"
      ]
     },
     "execution_count": 83,
     "metadata": {},
     "output_type": "execute_result"
    }
   ],
   "source": [
    "result"
   ]
  }
 ],
 "metadata": {
  "kernelspec": {
   "display_name": "Python 3",
   "language": "python",
   "name": "python3"
  },
  "language_info": {
   "codemirror_mode": {
    "name": "ipython",
    "version": 3
   },
   "file_extension": ".py",
   "mimetype": "text/x-python",
   "name": "python",
   "nbconvert_exporter": "python",
   "pygments_lexer": "ipython3",
   "version": "3.6.5"
  }
 },
 "nbformat": 4,
 "nbformat_minor": 2
}
